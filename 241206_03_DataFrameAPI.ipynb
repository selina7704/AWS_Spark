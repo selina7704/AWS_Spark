{
 "cells": [
  {
   "cell_type": "code",
   "execution_count": 1,
   "id": "b5996689",
   "metadata": {},
   "outputs": [
    {
     "name": "stderr",
     "output_type": "stream",
     "text": [
      "24/12/06 16:50:18 WARN NativeCodeLoader: Unable to load native-hadoop library for your platform... using builtin-java classes where applicable\n",
      "Using Spark's default log4j profile: org/apache/spark/log4j-defaults.properties\n",
      "Setting default log level to \"WARN\".\n",
      "To adjust logging level use sc.setLogLevel(newLevel). For SparkR, use setLogLevel(newLevel).\n"
     ]
    },
    {
     "data": {
      "text/html": [
       "\n",
       "            <div>\n",
       "                <p><b>SparkSession - in-memory</b></p>\n",
       "                \n",
       "        <div>\n",
       "            <p><b>SparkContext</b></p>\n",
       "\n",
       "            <p><a href=\"http://ip-172-31-2-110.ap-northeast-3.compute.internal:4040\">Spark UI</a></p>\n",
       "\n",
       "            <dl>\n",
       "              <dt>Version</dt>\n",
       "                <dd><code>v3.1.2</code></dd>\n",
       "              <dt>Master</dt>\n",
       "                <dd><code>local[*]</code></dd>\n",
       "              <dt>AppName</dt>\n",
       "                <dd><code>241206_03_DataFrameAPI</code></dd>\n",
       "            </dl>\n",
       "        </div>\n",
       "        \n",
       "            </div>\n",
       "        "
      ],
      "text/plain": [
       "<pyspark.sql.session.SparkSession at 0x7f228863f5b0>"
      ]
     },
     "execution_count": 1,
     "metadata": {},
     "output_type": "execute_result"
    }
   ],
   "source": [
    "#singleton pattern object builder\n",
    "from pyspark.sql import SparkSession\n",
    "spark = SparkSession.builder.appName(\"241206_03_DataFrameAPI\").getOrCreate()\n",
    "spark"
   ]
  },
  {
   "cell_type": "code",
   "execution_count": 2,
   "id": "e45e2a5c",
   "metadata": {},
   "outputs": [
    {
     "name": "stderr",
     "output_type": "stream",
     "text": [
      "                                                                                \r"
     ]
    },
    {
     "data": {
      "text/plain": [
       "DataFrame[DEST_COUNTRY_NAME: string, ORIGIN_COUNTRY_NAME: string, count: string]"
      ]
     },
     "execution_count": 2,
     "metadata": {},
     "output_type": "execute_result"
    }
   ],
   "source": [
    "df = spark.read.format(\"csv\").load(\"data/2015-summary.csv\", interSchema=True, header=True)\n",
    "df"
   ]
  },
  {
   "cell_type": "code",
   "execution_count": 3,
   "id": "066d58cf",
   "metadata": {},
   "outputs": [
    {
     "name": "stdout",
     "output_type": "stream",
     "text": [
      "StructType(List(StructField(DEST_COUNTRY_NAME,StringType,true),StructField(ORIGIN_COUNTRY_NAME,StringType,true),StructField(count,StringType,true)))\n",
      "root\n",
      " |-- DEST_COUNTRY_NAME: string (nullable = true)\n",
      " |-- ORIGIN_COUNTRY_NAME: string (nullable = true)\n",
      " |-- count: string (nullable = true)\n",
      "\n",
      "None\n"
     ]
    }
   ],
   "source": [
    "print(df.schema)\n",
    "print(df.printSchema())"
   ]
  },
  {
   "cell_type": "code",
   "execution_count": 4,
   "id": "bc55e537",
   "metadata": {},
   "outputs": [
    {
     "data": {
      "text/plain": [
       "[Row(DEST_COUNTRY_NAME='United States', ORIGIN_COUNTRY_NAME='Romania', count='15'),\n",
       " Row(DEST_COUNTRY_NAME='United States', ORIGIN_COUNTRY_NAME='Croatia', count='1'),\n",
       " Row(DEST_COUNTRY_NAME='United States', ORIGIN_COUNTRY_NAME='Ireland', count='344'),\n",
       " Row(DEST_COUNTRY_NAME='Egypt', ORIGIN_COUNTRY_NAME='United States', count='15'),\n",
       " Row(DEST_COUNTRY_NAME='United States', ORIGIN_COUNTRY_NAME='India', count='62')]"
      ]
     },
     "execution_count": 4,
     "metadata": {},
     "output_type": "execute_result"
    }
   ],
   "source": [
    "df.take(5)"
   ]
  },
  {
   "cell_type": "code",
   "execution_count": 5,
   "id": "d0dd494f",
   "metadata": {},
   "outputs": [
    {
     "name": "stdout",
     "output_type": "stream",
     "text": [
      "+-----------------+-------------------+-----+\n",
      "|DEST_COUNTRY_NAME|ORIGIN_COUNTRY_NAME|count|\n",
      "+-----------------+-------------------+-----+\n",
      "|    United States|            Romania|   15|\n",
      "|    United States|            Croatia|    1|\n",
      "|    United States|            Ireland|  344|\n",
      "|            Egypt|      United States|   15|\n",
      "|    United States|              India|   62|\n",
      "+-----------------+-------------------+-----+\n",
      "only showing top 5 rows\n",
      "\n"
     ]
    }
   ],
   "source": [
    "df.show(5)"
   ]
  },
  {
   "cell_type": "code",
   "execution_count": 6,
   "id": "97fd7edf",
   "metadata": {},
   "outputs": [
    {
     "name": "stdout",
     "output_type": "stream",
     "text": [
      "+-----------------+\n",
      "|DEST_COUNTRY_NAME|\n",
      "+-----------------+\n",
      "|    United States|\n",
      "|    United States|\n",
      "|    United States|\n",
      "|            Egypt|\n",
      "|    United States|\n",
      "+-----------------+\n",
      "only showing top 5 rows\n",
      "\n"
     ]
    }
   ],
   "source": [
    "#spark DataTable\n",
    "df.select(\"DEST_COUNTRY_NAME\").show(5)"
   ]
  },
  {
   "cell_type": "code",
   "execution_count": 7,
   "id": "d3aa8ffc",
   "metadata": {},
   "outputs": [
    {
     "data": {
      "text/plain": [
       "256"
      ]
     },
     "execution_count": 7,
     "metadata": {},
     "output_type": "execute_result"
    }
   ],
   "source": [
    "df.count()"
   ]
  },
  {
   "cell_type": "code",
   "execution_count": 8,
   "id": "402f49ef",
   "metadata": {},
   "outputs": [
    {
     "data": {
      "text/plain": [
       "256"
      ]
     },
     "execution_count": 8,
     "metadata": {},
     "output_type": "execute_result"
    }
   ],
   "source": [
    "df.select(\"DEST_COUNTRY_NAME\").count()"
   ]
  },
  {
   "cell_type": "code",
   "execution_count": 9,
   "id": "58bc8417",
   "metadata": {
    "scrolled": true
   },
   "outputs": [
    {
     "name": "stdout",
     "output_type": "stream",
     "text": [
      "+-----------------+\n",
      "|DEST_COUNTRY_NAME|\n",
      "+-----------------+\n",
      "|         Anguilla|\n",
      "|           Russia|\n",
      "|         Paraguay|\n",
      "|          Senegal|\n",
      "|           Sweden|\n",
      "+-----------------+\n",
      "only showing top 5 rows\n",
      "\n"
     ]
    }
   ],
   "source": [
    "#중복 확인\n",
    "df_dup = df.select(\"DEST_COUNTRY_NAME\").dropDuplicates()\n",
    "df_dup.show(5)"
   ]
  },
  {
   "cell_type": "code",
   "execution_count": 10,
   "id": "6ae69e74",
   "metadata": {},
   "outputs": [
    {
     "name": "stdout",
     "output_type": "stream",
     "text": [
      "+-----------------+\n",
      "|DEST_COUNTRY_NAME|\n",
      "+-----------------+\n",
      "|         Anguilla|\n",
      "|           Russia|\n",
      "|         Paraguay|\n",
      "|          Senegal|\n",
      "|           Sweden|\n",
      "+-----------------+\n",
      "only showing top 5 rows\n",
      "\n"
     ]
    }
   ],
   "source": [
    "df_dup = df.select(\"DEST_COUNTRY_NAME\").dropDuplicates().cache()\n",
    "df_dup.show(5)"
   ]
  },
  {
   "cell_type": "code",
   "execution_count": 11,
   "id": "a7f1cace",
   "metadata": {},
   "outputs": [
    {
     "name": "stderr",
     "output_type": "stream",
     "text": [
      "                                                                                \r"
     ]
    },
    {
     "data": {
      "text/plain": [
       "132"
      ]
     },
     "execution_count": 11,
     "metadata": {},
     "output_type": "execute_result"
    }
   ],
   "source": [
    "df_dup.distinct().count()"
   ]
  },
  {
   "cell_type": "code",
   "execution_count": 12,
   "id": "0e81ff79",
   "metadata": {},
   "outputs": [
    {
     "name": "stdout",
     "output_type": "stream",
     "text": [
      "+--------------------+-------------------+-----+\n",
      "|   DEST_COUNTRY_NAME|ORIGIN_COUNTRY_NAME|count|\n",
      "+--------------------+-------------------+-----+\n",
      "|             Algeria|      United States|    4|\n",
      "|              Angola|      United States|   15|\n",
      "|            Anguilla|      United States|   41|\n",
      "| Antigua and Barbuda|      United States|  126|\n",
      "|           Argentina|      United States|  180|\n",
      "|               Aruba|      United States|  346|\n",
      "|           Australia|      United States|  329|\n",
      "|             Austria|      United States|   62|\n",
      "|          Azerbaijan|      United States|   21|\n",
      "|             Bahrain|      United States|   19|\n",
      "|            Barbados|      United States|  154|\n",
      "|             Belgium|      United States|  259|\n",
      "|              Belize|      United States|  188|\n",
      "|             Bermuda|      United States|  183|\n",
      "|             Bolivia|      United States|   30|\n",
      "|Bonaire, Sint Eus...|      United States|   58|\n",
      "|              Brazil|      United States|  853|\n",
      "|British Virgin Is...|      United States|  107|\n",
      "|            Bulgaria|      United States|    3|\n",
      "|        Burkina Faso|      United States|    1|\n",
      "+--------------------+-------------------+-----+\n",
      "only showing top 20 rows\n",
      "\n"
     ]
    }
   ],
   "source": [
    "df.sort(\"DEST_COUNTRY_NAME\").show()"
   ]
  },
  {
   "cell_type": "code",
   "execution_count": 13,
   "id": "7490062d",
   "metadata": {},
   "outputs": [
    {
     "name": "stdout",
     "output_type": "stream",
     "text": [
      "+-----------------+-------------------+-----+-------------+\n",
      "|DEST_COUNTRY_NAME|ORIGIN_COUNTRY_NAME|count|withInCountry|\n",
      "+-----------------+-------------------+-----+-------------+\n",
      "|    United States|            Romania|   15|        false|\n",
      "|    United States|            Croatia|    1|        false|\n",
      "|    United States|            Ireland|  344|        false|\n",
      "|            Egypt|      United States|   15|        false|\n",
      "|    United States|              India|   62|        false|\n",
      "+-----------------+-------------------+-----+-------------+\n",
      "only showing top 5 rows\n",
      "\n"
     ]
    }
   ],
   "source": [
    "from pyspark.sql.functions import *\n",
    "\n",
    "#새로 컬럼 추가\n",
    "df3 = df.withColumn('withInCountry',expr(\"ORIGIN_COUNTRY_NAME == DEST_COUNTRY_NAME\"))\n",
    "df3.show(5)"
   ]
  },
  {
   "cell_type": "code",
   "execution_count": 14,
   "id": "3541dd2f",
   "metadata": {},
   "outputs": [
    {
     "name": "stdout",
     "output_type": "stream",
     "text": [
      "+-----------------+-------------------+-----+--------+\n",
      "|DEST_COUNTRY_NAME|ORIGIN_COUNTRY_NAME|count|Category|\n",
      "+-----------------+-------------------+-----+--------+\n",
      "|    United States|            Romania|   15|   upper|\n",
      "|    United States|            Croatia|    1|   under|\n",
      "|    United States|            Ireland|  344|   upper|\n",
      "|            Egypt|      United States|   15|   upper|\n",
      "|    United States|              India|   62|   upper|\n",
      "+-----------------+-------------------+-----+--------+\n",
      "only showing top 5 rows\n",
      "\n"
     ]
    }
   ],
   "source": [
    "#SQL 구문 - CASE WHEN > 수치형 변수 > 명목형 변수로 변환\n",
    "\n",
    "df4 = df.withColumn('Category',expr(\"CASE WHEN count <10 THEN 'under' WHEN count >=10 THEN 'upper' END\"))\n",
    "df4.show(5)"
   ]
  },
  {
   "cell_type": "code",
   "execution_count": 15,
   "id": "85ee4bed",
   "metadata": {},
   "outputs": [
    {
     "name": "stdout",
     "output_type": "stream",
     "text": [
      "+-----------------+-------------------+-----+--------+------------+\n",
      "|DEST_COUNTRY_NAME|ORIGIN_COUNTRY_NAME|count|Category|withInColumn|\n",
      "+-----------------+-------------------+-----+--------+------------+\n",
      "|    United States|            Romania|   15|   upper|       false|\n",
      "|    United States|            Croatia|    1|   under|       false|\n",
      "|    United States|            Ireland|  344|   upper|       false|\n",
      "|            Egypt|      United States|   15|   upper|       false|\n",
      "|    United States|              India|   62|   upper|       false|\n",
      "+-----------------+-------------------+-----+--------+------------+\n",
      "only showing top 5 rows\n",
      "\n"
     ]
    }
   ],
   "source": [
    "# count * 2 \n",
    "df5 = df4.withColumn('withInColumn',expr(\"ORIGIN_COUNTRY_NAME==DEST_COUNTRY_NAME\"))\n",
    "df5.show(5)"
   ]
  },
  {
   "cell_type": "code",
   "execution_count": 16,
   "id": "9d5e5a4f",
   "metadata": {},
   "outputs": [
    {
     "name": "stdout",
     "output_type": "stream",
     "text": [
      "+------------+-----+\n",
      "|withInColumn|count|\n",
      "+------------+-----+\n",
      "|        true|    1|\n",
      "|       false|  255|\n",
      "+------------+-----+\n",
      "\n"
     ]
    }
   ],
   "source": [
    "df5.groupBy(\"withInColumn\").count().show()"
   ]
  },
  {
   "cell_type": "markdown",
   "id": "e7b11d3b",
   "metadata": {},
   "source": [
    "## Projection 과 Filter\n",
    "```\n",
    "select a,b,c from Table A # projection > column > Transformation\n",
    "where a>10 #filter > Row > Transformation\n",
    "```"
   ]
  },
  {
   "cell_type": "code",
   "execution_count": 17,
   "id": "9d9f6eea",
   "metadata": {},
   "outputs": [
    {
     "name": "stdout",
     "output_type": "stream",
     "text": [
      "+--------------------+-------------------+-----+--------+------------+\n",
      "|   DEST_COUNTRY_NAME|ORIGIN_COUNTRY_NAME|count|Category|withInColumn|\n",
      "+--------------------+-------------------+-----+--------+------------+\n",
      "|       United States|            Croatia|    1|   under|       false|\n",
      "|       United States|          Singapore|    1|   under|       false|\n",
      "|             Moldova|      United States|    1|   under|       false|\n",
      "|               Malta|      United States|    1|   under|       false|\n",
      "|             Algeria|      United States|    4|   under|       false|\n",
      "|       United States|          Gibraltar|    1|   under|       false|\n",
      "|Saint Vincent and...|      United States|    1|   under|       false|\n",
      "|            Suriname|      United States|    1|   under|       false|\n",
      "|       United States|             Cyprus|    1|   under|       false|\n",
      "|       United States|           Malaysia|    3|   under|       false|\n",
      "|            Thailand|      United States|    3|   under|       false|\n",
      "|             Liberia|      United States|    2|   under|       false|\n",
      "|             Hungary|      United States|    2|   under|       false|\n",
      "|       United States|            Vietnam|    2|   under|       false|\n",
      "|        Burkina Faso|      United States|    1|   under|       false|\n",
      "|            Djibouti|      United States|    1|   under|       false|\n",
      "|       United States|            Estonia|    1|   under|       false|\n",
      "|       United States|            Hungary|    3|   under|       false|\n",
      "|              Zambia|      United States|    1|   under|       false|\n",
      "|            Malaysia|      United States|    2|   under|       false|\n",
      "+--------------------+-------------------+-----+--------+------------+\n",
      "only showing top 20 rows\n",
      "\n"
     ]
    },
    {
     "data": {
      "text/plain": [
       "46"
      ]
     },
     "execution_count": 17,
     "metadata": {},
     "output_type": "execute_result"
    }
   ],
   "source": [
    "#filter \n",
    "df6 = df5.where('count<5')\n",
    "df6.show()\n",
    "df6.count()"
   ]
  },
  {
   "cell_type": "code",
   "execution_count": 18,
   "id": "4b963bd7",
   "metadata": {},
   "outputs": [
    {
     "name": "stdout",
     "output_type": "stream",
     "text": [
      "+-----------------+-------------------+-----+--------+------------+\n",
      "|DEST_COUNTRY_NAME|ORIGIN_COUNTRY_NAME|count|Category|withInColumn|\n",
      "+-----------------+-------------------+-----+--------+------------+\n",
      "|    United States|            Croatia|    1|   under|       false|\n",
      "|    United States|          Singapore|    1|   under|       false|\n",
      "|    United States|          Gibraltar|    1|   under|       false|\n",
      "|    United States|             Cyprus|    1|   under|       false|\n",
      "|    United States|           Malaysia|    3|   under|       false|\n",
      "|    United States|            Vietnam|    2|   under|       false|\n",
      "|    United States|            Estonia|    1|   under|       false|\n",
      "|    United States|            Hungary|    3|   under|       false|\n",
      "|    United States|           Thailand|    4|   under|       false|\n",
      "|    United States|            Liberia|    2|   under|       false|\n",
      "|    United States|              Malta|    2|   under|       false|\n",
      "|    United States|          Lithuania|    1|   under|       false|\n",
      "|    United States|           Bulgaria|    1|   under|       false|\n",
      "|    United States|            Georgia|    1|   under|       false|\n",
      "|    United States|            Bahrain|    1|   under|       false|\n",
      "|    United States|   Papua New Guinea|    1|   under|       false|\n",
      "|    United States|          Greenland|    4|   under|       false|\n",
      "|    United States|          Indonesia|    2|   under|       false|\n",
      "|    United States|         Montenegro|    1|   under|       false|\n",
      "|    United States|            Namibia|    1|   under|       false|\n",
      "+-----------------+-------------------+-----+--------+------------+\n",
      "\n"
     ]
    },
    {
     "data": {
      "text/plain": [
       "20"
      ]
     },
     "execution_count": 18,
     "metadata": {},
     "output_type": "execute_result"
    }
   ],
   "source": [
    "df6 = df5.where('count<5').where(\"ORIGIN_COUNTRY_NAME != 'United States'\")\n",
    "df6.show()\n",
    "df6.count()"
   ]
  },
  {
   "cell_type": "code",
   "execution_count": 88,
   "id": "e14a71c2",
   "metadata": {},
   "outputs": [
    {
     "name": "stdout",
     "output_type": "stream",
     "text": [
      "+-------------------+----------+\n",
      "|ORIGIN_COUNTRY_NAME|sum(count)|\n",
      "+-------------------+----------+\n",
      "|      United States|     41964|\n",
      "|             Canada|      8483|\n",
      "|             Mexico|      7187|\n",
      "|     United Kingdom|      1970|\n",
      "|              Japan|      1496|\n",
      "| Dominican Republic|      1420|\n",
      "|            Germany|      1336|\n",
      "|        The Bahamas|       986|\n",
      "|             France|       952|\n",
      "|              China|       920|\n",
      "+-------------------+----------+\n",
      "only showing top 10 rows\n",
      "\n"
     ]
    }
   ],
   "source": [
    "#프로젝션, 필터링 연습 \n",
    "df5 = df5.withColumn(\"count\", col(\"count\").cast(\"int\")) # count 가 string 이네..? int 로 변경-- cast()\n",
    "# df5.show(10)\n",
    "\n",
    "#국내 여행이 아니면서 가장 횟수가 많은 ORIGIN_COUNTRY_NAME top 10을  추출해보세요\n",
    "top10_trip = df5.where(\"ORIGIN_COUNTRY_NAME != DEST_COUNTRY_NAME\") \\\n",
    "                .groupBy(\"ORIGIN_COUNTRY_NAME\") \\\n",
    "                .sum(\"count\") \\\n",
    "                .sort(\"sum(count)\", ascending=False)\n",
    "top10_trip.show(10)"
   ]
  },
  {
   "cell_type": "code",
   "execution_count": 89,
   "id": "9b674829",
   "metadata": {},
   "outputs": [
    {
     "name": "stdout",
     "output_type": "stream",
     "text": [
      "+-------------------+-----+\n",
      "|ORIGIN_COUNTRY_NAME|count|\n",
      "+-------------------+-----+\n",
      "|            Senegal|    1|\n",
      "|           Paraguay|    1|\n",
      "|             Russia|    1|\n",
      "|           Anguilla|    1|\n",
      "|           Kiribati|    1|\n",
      "|             Guyana|    1|\n",
      "|             Sweden|    1|\n",
      "|          Singapore|    1|\n",
      "|           Malaysia|    1|\n",
      "|        Philippines|    1|\n",
      "+-------------------+-----+\n",
      "only showing top 10 rows\n",
      "\n"
     ]
    }
   ],
   "source": [
    "#국내 여행이 아니면서 가장 횟수가 적은 ORIGIN_COUNTRY_NAME top 10을  추출해보세요\n",
    "top10_trip_least = df5.where(\"ORIGIN_COUNTRY_NAME != DEST_COUNTRY_NAME\")\\\n",
    "                .groupBy(\"ORIGIN_COUNTRY_NAME\").count()\\\n",
    "                .sort(\"count\", ascending=True)\n",
    "top10_trip_least.show(10)"
   ]
  },
  {
   "cell_type": "code",
   "execution_count": 73,
   "id": "4d746b52",
   "metadata": {},
   "outputs": [
    {
     "name": "stdout",
     "output_type": "stream",
     "text": [
      "+------------------+----------+\n",
      "| DEST_COUNTRY_NAME|sum(count)|\n",
      "+------------------+----------+\n",
      "|     United States|    411352|\n",
      "|            Canada|      8399|\n",
      "|            Mexico|      7140|\n",
      "|    United Kingdom|      2025|\n",
      "|             Japan|      1548|\n",
      "|           Germany|      1468|\n",
      "|Dominican Republic|      1353|\n",
      "|       South Korea|      1048|\n",
      "|       The Bahamas|       955|\n",
      "|            France|       935|\n",
      "+------------------+----------+\n",
      "only showing top 10 rows\n",
      "\n"
     ]
    },
    {
     "name": "stderr",
     "output_type": "stream",
     "text": [
      "\r",
      "[Stage 96:==============================================>       (173 + 2) / 200]\r",
      "\r",
      "                                                                                \r"
     ]
    }
   ],
   "source": [
    "#도착국가별 count 총합이 가장 많은 top10을 추출해 보세요\n",
    "df7 = df5.groupBy(\"DEST_COUNTRY_NAME\").sum(\"count\").sort('sum(count)',ascending = False)\n",
    "df7.show(10)"
   ]
  },
  {
   "cell_type": "code",
   "execution_count": 80,
   "id": "2aef6710",
   "metadata": {},
   "outputs": [
    {
     "name": "stdout",
     "output_type": "stream",
     "text": [
      "+--------+----------+\n",
      "|Category|sum(count)|\n",
      "+--------+----------+\n",
      "|   under|        91|\n",
      "|   upper|    453225|\n",
      "+--------+----------+\n",
      "\n"
     ]
    }
   ],
   "source": [
    "#카테고리별 분석\n",
    "df6 = df5.withColumn(\"count\", col(\"count\").cast(\"int\"))\n",
    "df6.groupby(\"Category\").sum(\"count\").show()"
   ]
  },
  {
   "cell_type": "code",
   "execution_count": 85,
   "id": "48244a72",
   "metadata": {},
   "outputs": [
    {
     "name": "stdout",
     "output_type": "stream",
     "text": [
      "+------------------+-------------------+------+--------+------------+\n",
      "| DEST_COUNTRY_NAME|ORIGIN_COUNTRY_NAME| count|Category|withInColumn|\n",
      "+------------------+-------------------+------+--------+------------+\n",
      "|            Mexico|      United States|  7140|   upper|       false|\n",
      "|     United States| Dominican Republic|  1420|   upper|       false|\n",
      "|     United States|      United States|370002|   upper|        true|\n",
      "|           Germany|      United States|  1468|   upper|       false|\n",
      "|            Canada|      United States|  8399|   upper|       false|\n",
      "|Dominican Republic|      United States|  1353|   upper|       false|\n",
      "|             Japan|      United States|  1548|   upper|       false|\n",
      "|     United States|            Germany|  1336|   upper|       false|\n",
      "|     United States|             Mexico|  7187|   upper|       false|\n",
      "|    United Kingdom|      United States|  2025|   upper|       false|\n",
      "|     United States|              Japan|  1496|   upper|       false|\n",
      "|     United States|     United Kingdom|  1970|   upper|       false|\n",
      "|     United States|             Canada|  8483|   upper|       false|\n",
      "|       South Korea|      United States|  1048|   upper|       false|\n",
      "+------------------+-------------------+------+--------+------------+\n",
      "\n"
     ]
    }
   ],
   "source": [
    "#비행 횟수가 1000 이상 필터링\n",
    "df6.filter(df6['count']>=1000).show()"
   ]
  },
  {
   "cell_type": "code",
   "execution_count": 86,
   "id": "01c981df",
   "metadata": {},
   "outputs": [
    {
     "name": "stdout",
     "output_type": "stream",
     "text": [
      "+------------------+----------+\n",
      "| DEST_COUNTRY_NAME|sum(count)|\n",
      "+------------------+----------+\n",
      "|     United States|    411352|\n",
      "|            Canada|      8399|\n",
      "|            Mexico|      7140|\n",
      "|    United Kingdom|      2025|\n",
      "|             Japan|      1548|\n",
      "|           Germany|      1468|\n",
      "|Dominican Republic|      1353|\n",
      "|       South Korea|      1048|\n",
      "|       The Bahamas|       955|\n",
      "|            France|       935|\n",
      "+------------------+----------+\n",
      "only showing top 10 rows\n",
      "\n"
     ]
    }
   ],
   "source": [
    "#상위 10 목적지 국가 \n",
    "df6.groupBy(\"DEST_COUNTRY_NAME\").sum(\"count\").sort(\"sum(count)\", ascending = False).show(10)"
   ]
  },
  {
   "cell_type": "code",
   "execution_count": 90,
   "id": "10ed11c7",
   "metadata": {},
   "outputs": [
    {
     "name": "stdout",
     "output_type": "stream",
     "text": [
      "+-----------------+-------------------+-----+\n",
      "|DEST_COUNTRY_NAME|ORIGIN_COUNTRY_NAME|count|\n",
      "+-----------------+-------------------+-----+\n",
      "|    United States|            Romania|   15|\n",
      "|    United States|            Croatia|    1|\n",
      "|    United States|            Ireland|  344|\n",
      "|            Egypt|      United States|   15|\n",
      "|    United States|              India|   62|\n",
      "+-----------------+-------------------+-----+\n",
      "only showing top 5 rows\n",
      "\n"
     ]
    }
   ],
   "source": [
    "#spark SQL\n",
    "df.createOrReplaceTempView(\"mobility_data\")\n",
    "spark.sql(\"select * from mobility_data\").show(5)"
   ]
  },
  {
   "cell_type": "code",
   "execution_count": 91,
   "id": "48fc4a2b",
   "metadata": {},
   "outputs": [],
   "source": [
    "spark.stop()"
   ]
  }
 ],
 "metadata": {
  "kernelspec": {
   "display_name": "Spark_start",
   "language": "python",
   "name": "spark_start"
  },
  "language_info": {
   "codemirror_mode": {
    "name": "ipython",
    "version": 3
   },
   "file_extension": ".py",
   "mimetype": "text/x-python",
   "name": "python",
   "nbconvert_exporter": "python",
   "pygments_lexer": "ipython3",
   "version": "3.8.20"
  }
 },
 "nbformat": 4,
 "nbformat_minor": 5
}
