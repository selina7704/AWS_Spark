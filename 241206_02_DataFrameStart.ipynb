{
 "cells": [
  {
   "cell_type": "code",
   "execution_count": 4,
   "id": "21a6bc3c",
   "metadata": {},
   "outputs": [
    {
     "name": "stderr",
     "output_type": "stream",
     "text": [
      "24/12/06 13:44:18 WARN NativeCodeLoader: Unable to load native-hadoop library for your platform... using builtin-java classes where applicable\n",
      "Using Spark's default log4j profile: org/apache/spark/log4j-defaults.properties\n",
      "Setting default log level to \"WARN\".\n",
      "To adjust logging level use sc.setLogLevel(newLevel). For SparkR, use setLogLevel(newLevel).\n"
     ]
    },
    {
     "data": {
      "text/html": [
       "\n",
       "            <div>\n",
       "                <p><b>SparkSession - in-memory</b></p>\n",
       "                \n",
       "        <div>\n",
       "            <p><b>SparkContext</b></p>\n",
       "\n",
       "            <p><a href=\"http://ip-172-31-2-110.ap-northeast-3.compute.internal:4040\">Spark UI</a></p>\n",
       "\n",
       "            <dl>\n",
       "              <dt>Version</dt>\n",
       "                <dd><code>v3.1.2</code></dd>\n",
       "              <dt>Master</dt>\n",
       "                <dd><code>local[*]</code></dd>\n",
       "              <dt>AppName</dt>\n",
       "                <dd><code>FristSparkSessionApp</code></dd>\n",
       "            </dl>\n",
       "        </div>\n",
       "        \n",
       "            </div>\n",
       "        "
      ],
      "text/plain": [
       "<pyspark.sql.session.SparkSession at 0x7fd4ccf919d0>"
      ]
     },
     "execution_count": 4,
     "metadata": {},
     "output_type": "execute_result"
    }
   ],
   "source": [
    "#singleton pattern object builder\n",
    "from pyspark.sql import SparkSession\n",
    "spark = SparkSession.builder.appName(\"FristSparkSessionApp\").getOrCreate()\n",
    "spark"
   ]
  },
  {
   "cell_type": "code",
   "execution_count": 5,
   "id": "97801dd5",
   "metadata": {},
   "outputs": [
    {
     "data": {
      "text/plain": [
       "DataFrame[id: bigint]"
      ]
     },
     "execution_count": 5,
     "metadata": {},
     "output_type": "execute_result"
    }
   ],
   "source": [
    "myRange = spark.range(1000)\n",
    "myRange"
   ]
  },
  {
   "cell_type": "code",
   "execution_count": 6,
   "id": "4ed32a56",
   "metadata": {},
   "outputs": [
    {
     "name": "stdout",
     "output_type": "stream",
     "text": [
      "+---+\n",
      "| id|\n",
      "+---+\n",
      "|  0|\n",
      "|  1|\n",
      "|  2|\n",
      "|  3|\n",
      "|  4|\n",
      "|  5|\n",
      "|  6|\n",
      "|  7|\n",
      "|  8|\n",
      "|  9|\n",
      "+---+\n",
      "only showing top 10 rows\n",
      "\n"
     ]
    },
    {
     "name": "stderr",
     "output_type": "stream",
     "text": [
      "\r",
      "[Stage 0:>                                                          (0 + 1) / 1]\r",
      "\r",
      "                                                                                \r"
     ]
    }
   ],
   "source": [
    "myRange.show(10)"
   ]
  },
  {
   "cell_type": "code",
   "execution_count": 34,
   "id": "0aa18f6d",
   "metadata": {},
   "outputs": [],
   "source": [
    "data = [\n",
    "    (\"Brooke\", 20, \"Female\"),\n",
    "    (\"Denny\", 31, \"Male\"),\n",
    "    (\"Jules\", 30, \"Female\"),\n",
    "    (\"TD\", 35, \"Male\"),\n",
    "    (\"Brooke\", 25, \"Female\"),\n",
    "    (\"Alice\", 28, \"Female\"),\n",
    "    (\"Denny\", 40, \"Male\"),\n",
    "    (\"Jules\", 33, \"Female\"),\n",
    "    (\"Charlie\", 29, \"Male\"),\n",
    "    (\"TD\", 38, \"Male\"),\n",
    "    (\"Emily\", 22, \"Female\"),\n",
    "    (\"Brooke\", 27, \"Female\"),\n",
    "    (\"Frank\", 36, \"Male\"),\n",
    "    (\"Alice\", 31, \"Female\"),\n",
    "    (\"George\", 24, \"Male\"),\n",
    "]"
   ]
  },
  {
   "cell_type": "code",
   "execution_count": 35,
   "id": "cc63cf29",
   "metadata": {},
   "outputs": [
    {
     "data": {
      "text/plain": [
       "DataFrame[Name: string, Age: bigint, Gender: string]"
      ]
     },
     "execution_count": 35,
     "metadata": {},
     "output_type": "execute_result"
    }
   ],
   "source": [
    "data_df = spark.createDataFrame(data,[\"Name\",\"Age\", \"Gender\"])\n",
    "data_df"
   ]
  },
  {
   "cell_type": "code",
   "execution_count": 36,
   "id": "64ff078c",
   "metadata": {},
   "outputs": [
    {
     "name": "stdout",
     "output_type": "stream",
     "text": [
      "+-------+---+------+\n",
      "|   Name|Age|Gender|\n",
      "+-------+---+------+\n",
      "| Brooke| 20|Female|\n",
      "|  Denny| 31|  Male|\n",
      "|  Jules| 30|Female|\n",
      "|     TD| 35|  Male|\n",
      "| Brooke| 25|Female|\n",
      "|  Alice| 28|Female|\n",
      "|  Denny| 40|  Male|\n",
      "|  Jules| 33|Female|\n",
      "|Charlie| 29|  Male|\n",
      "|     TD| 38|  Male|\n",
      "|  Emily| 22|Female|\n",
      "| Brooke| 27|Female|\n",
      "|  Frank| 36|  Male|\n",
      "|  Alice| 31|Female|\n",
      "| George| 24|  Male|\n",
      "+-------+---+------+\n",
      "\n"
     ]
    }
   ],
   "source": [
    "data_df.show()"
   ]
  },
  {
   "cell_type": "code",
   "execution_count": 49,
   "id": "6b0adb93",
   "metadata": {},
   "outputs": [
    {
     "name": "stdout",
     "output_type": "stream",
     "text": [
      "+-----+------+\n",
      "| Name|AvgAge|\n",
      "+-----+------+\n",
      "|Jules|  33.0|\n",
      "|   TD|  36.5|\n",
      "|Alice|  31.0|\n",
      "|Denny|  35.5|\n",
      "|Frank|  36.0|\n",
      "+-----+------+\n",
      "\n"
     ]
    }
   ],
   "source": [
    "#평균값\n",
    "from pyspark.sql.functions import avg\n",
    "result3 = data_df.filter(data_df.Age > 30).groupBy(\"Name\").agg(avg(\"Age\").alias(\"AvgAge\"))\n",
    "result3.show()"
   ]
  },
  {
   "cell_type": "code",
   "execution_count": 38,
   "id": "34d08a35",
   "metadata": {},
   "outputs": [
    {
     "name": "stdout",
     "output_type": "stream",
     "text": [
      "root\n",
      " |-- Name: string (nullable = true)\n",
      " |-- Age: long (nullable = true)\n",
      " |-- Gender: string (nullable = true)\n",
      "\n"
     ]
    }
   ],
   "source": [
    "data_df.printSchema()"
   ]
  },
  {
   "cell_type": "code",
   "execution_count": 39,
   "id": "63e52f7c",
   "metadata": {},
   "outputs": [],
   "source": [
    "data_df.createOrReplaceTempView(\"people\")"
   ]
  },
  {
   "cell_type": "code",
   "execution_count": 40,
   "id": "0b6a8276",
   "metadata": {},
   "outputs": [
    {
     "name": "stdout",
     "output_type": "stream",
     "text": [
      "+-----+---+------+\n",
      "| Name|Age|Gender|\n",
      "+-----+---+------+\n",
      "|Denny| 31|  Male|\n",
      "|   TD| 35|  Male|\n",
      "|Denny| 40|  Male|\n",
      "|Jules| 33|Female|\n",
      "|   TD| 38|  Male|\n",
      "|Frank| 36|  Male|\n",
      "|Alice| 31|Female|\n",
      "+-----+---+------+\n",
      "\n"
     ]
    }
   ],
   "source": [
    "result = spark.sql(\"select * from people where Age >30\")\n",
    "result.show()"
   ]
  },
  {
   "cell_type": "code",
   "execution_count": 45,
   "id": "034b9e02",
   "metadata": {},
   "outputs": [
    {
     "name": "stdout",
     "output_type": "stream",
     "text": [
      "+-----+---+------+\n",
      "| Name|Age|Gender|\n",
      "+-----+---+------+\n",
      "|Denny| 31|  Male|\n",
      "|   TD| 35|  Male|\n",
      "|Denny| 40|  Male|\n",
      "|   TD| 38|  Male|\n",
      "|Frank| 36|  Male|\n",
      "+-----+---+------+\n",
      "\n"
     ]
    }
   ],
   "source": [
    "result2 = spark.sql(\"select * from people where Age >30 and Gender = 'Male'\")\n",
    "result2.show()"
   ]
  },
  {
   "cell_type": "code",
   "execution_count": 64,
   "id": "9a375ca6",
   "metadata": {},
   "outputs": [
    {
     "data": {
      "text/plain": [
       "StructType(List(StructField(Author,StringType,false),StructField(Age,IntegerType,false),StructField(Gender,StringType,false)))"
      ]
     },
     "execution_count": 64,
     "metadata": {},
     "output_type": "execute_result"
    }
   ],
   "source": [
    "# StructType 으로 구조 정의\n",
    "from pyspark.sql.types import * \n",
    "\n",
    "schema = StructType([\n",
    "    StructField(\"Author\",StringType(),False),\n",
    "    StructField(\"Age\",IntegerType(),False),\n",
    "    StructField(\"Gender\",StringType(),False),\n",
    "])\n",
    "schema"
   ]
  },
  {
   "cell_type": "code",
   "execution_count": 68,
   "id": "507753e5",
   "metadata": {},
   "outputs": [
    {
     "name": "stdout",
     "output_type": "stream",
     "text": [
      "root\n",
      " |-- Author: string (nullable = false)\n",
      " |-- Age: integer (nullable = false)\n",
      " |-- Gender: string (nullable = false)\n",
      "\n",
      "+-------+---+------+\n",
      "| Author|Age|Gender|\n",
      "+-------+---+------+\n",
      "| Brooke| 20|Female|\n",
      "|  Denny| 31|  Male|\n",
      "|  Jules| 30|Female|\n",
      "|     TD| 35|  Male|\n",
      "| Brooke| 25|Female|\n",
      "|  Alice| 28|Female|\n",
      "|  Denny| 40|  Male|\n",
      "|  Jules| 33|Female|\n",
      "|Charlie| 29|  Male|\n",
      "|     TD| 38|  Male|\n",
      "|  Emily| 22|Female|\n",
      "| Brooke| 27|Female|\n",
      "|  Frank| 36|  Male|\n",
      "|  Alice| 31|Female|\n",
      "| George| 24|  Male|\n",
      "+-------+---+------+\n",
      "\n"
     ]
    }
   ],
   "source": [
    "a_df = spark.createDataFrame(data, schema)\n",
    "a_df.printSchema()\n",
    "a_df.show()"
   ]
  },
  {
   "cell_type": "code",
   "execution_count": 70,
   "id": "60373e83",
   "metadata": {},
   "outputs": [],
   "source": [
    "# define schema for our data\n",
    "schema3 = StructType([\n",
    "   StructField(\"Id\", IntegerType(), False),\n",
    "   StructField(\"First\", StringType(), False),\n",
    "   StructField(\"Last\", StringType(), False),\n",
    "   StructField(\"Url\", StringType(), False),\n",
    "   StructField(\"Published\", StringType(), False),\n",
    "   StructField(\"Hits\", IntegerType(), False),\n",
    "   StructField(\"Campaigns\", ArrayType(StringType()), False)])\n",
    "\n",
    "#create our data\n",
    "data3 = [[1, \"Jules\", \"Damji\", \"https://tinyurl.1\", \"1/4/2016\", 4535, [\"twitter\", \"LinkedIn\"]],\n",
    "       [2, \"Brooke\",\"Wenig\",\"https://tinyurl.2\", \"5/5/2018\", 8908, [\"twitter\", \"LinkedIn\"]],\n",
    "       [3, \"Denny\", \"Lee\", \"https://tinyurl.3\",\"6/7/2019\",7659, [\"web\", \"twitter\", \"FB\", \"LinkedIn\"]],\n",
    "       [4, \"Tathagata\", \"Das\",\"https://tinyurl.4\", \"5/12/2018\", 10568, [\"twitter\", \"FB\"]],\n",
    "       [5, \"Matei\",\"Zaharia\", \"https://tinyurl.5\", \"5/14/2014\", 40578, [\"web\", \"twitter\", \"FB\", \"LinkedIn\"]],\n",
    "       [6, \"Reynold\", \"Xin\", \"https://tinyurl.6\", \"3/2/2015\", 25568, [\"twitter\", \"LinkedIn\"]]\n",
    "      ]"
   ]
  },
  {
   "cell_type": "code",
   "execution_count": 73,
   "id": "1ce66232",
   "metadata": {},
   "outputs": [],
   "source": [
    "data_df3 = spark.createDataFrame(data3, schema)"
   ]
  },
  {
   "cell_type": "code",
   "execution_count": 84,
   "id": "e32e3250",
   "metadata": {},
   "outputs": [
    {
     "name": "stdout",
     "output_type": "stream",
     "text": [
      "+---+---------+-------+-----------------+---------+-----+--------------------+\n",
      "| Id|    First|   Last|              Url|Published| Hits|           Campaigns|\n",
      "+---+---------+-------+-----------------+---------+-----+--------------------+\n",
      "|  1|    Jules|  Damji|https://tinyurl.1| 1/4/2016| 4535| [twitter, LinkedIn]|\n",
      "|  2|   Brooke|  Wenig|https://tinyurl.2| 5/5/2018| 8908| [twitter, LinkedIn]|\n",
      "|  3|    Denny|    Lee|https://tinyurl.3| 6/7/2019| 7659|[web, twitter, FB...|\n",
      "|  4|Tathagata|    Das|https://tinyurl.4|5/12/2018|10568|       [twitter, FB]|\n",
      "|  5|    Matei|Zaharia|https://tinyurl.5|5/14/2014|40578|[web, twitter, FB...|\n",
      "|  6|  Reynold|    Xin|https://tinyurl.6| 3/2/2015|25568| [twitter, LinkedIn]|\n",
      "+---+---------+-------+-----------------+---------+-----+--------------------+\n",
      "\n"
     ]
    }
   ],
   "source": [
    "#컬럼 별로 추출\n",
    "data_df3.select('*').show() #projection\n"
   ]
  },
  {
   "cell_type": "code",
   "execution_count": 87,
   "id": "25252da2",
   "metadata": {},
   "outputs": [
    {
     "name": "stdout",
     "output_type": "stream",
     "text": [
      "+---+---------+\n",
      "| Id|    First|\n",
      "+---+---------+\n",
      "|  1|    Jules|\n",
      "|  2|   Brooke|\n",
      "|  3|    Denny|\n",
      "|  4|Tathagata|\n",
      "|  5|    Matei|\n",
      "|  6|  Reynold|\n",
      "+---+---------+\n",
      "\n"
     ]
    }
   ],
   "source": [
    "data_df3.select('Id','First',).show() #projection"
   ]
  },
  {
   "cell_type": "code",
   "execution_count": 94,
   "id": "80eb6f59",
   "metadata": {},
   "outputs": [
    {
     "name": "stdout",
     "output_type": "stream",
     "text": [
      "+----------+\n",
      "|(Hits * 2)|\n",
      "+----------+\n",
      "|      9070|\n",
      "|     17816|\n",
      "|     15318|\n",
      "|     21136|\n",
      "|     81156|\n",
      "|     51136|\n",
      "+----------+\n",
      "\n"
     ]
    }
   ],
   "source": [
    "from pyspark.sql.functions import *\n",
    "data_df3.select(expr(\"Hits\")*2).show()"
   ]
  },
  {
   "cell_type": "code",
   "execution_count": 95,
   "id": "6f182597",
   "metadata": {},
   "outputs": [
    {
     "name": "stdout",
     "output_type": "stream",
     "text": [
      "+---+---------+-------+-----------------+---------+-----+--------------------+-----------+\n",
      "| Id|    First|   Last|              Url|Published| Hits|           Campaigns|Big Hitters|\n",
      "+---+---------+-------+-----------------+---------+-----+--------------------+-----------+\n",
      "|  1|    Jules|  Damji|https://tinyurl.1| 1/4/2016| 4535| [twitter, LinkedIn]|      false|\n",
      "|  2|   Brooke|  Wenig|https://tinyurl.2| 5/5/2018| 8908| [twitter, LinkedIn]|      false|\n",
      "|  3|    Denny|    Lee|https://tinyurl.3| 6/7/2019| 7659|[web, twitter, FB...|      false|\n",
      "|  4|Tathagata|    Das|https://tinyurl.4|5/12/2018|10568|       [twitter, FB]|       true|\n",
      "|  5|    Matei|Zaharia|https://tinyurl.5|5/14/2014|40578|[web, twitter, FB...|       true|\n",
      "|  6|  Reynold|    Xin|https://tinyurl.6| 3/2/2015|25568| [twitter, LinkedIn]|       true|\n",
      "+---+---------+-------+-----------------+---------+-----+--------------------+-----------+\n",
      "\n"
     ]
    }
   ],
   "source": [
    "# 새로운 컬럼 추가\n",
    "data_df3.withColumn(\"Big Hitters\", (expr(\"Hits > 10000\"))).show()"
   ]
  },
  {
   "cell_type": "code",
   "execution_count": 98,
   "id": "1e412972",
   "metadata": {},
   "outputs": [
    {
     "name": "stdout",
     "output_type": "stream",
     "text": [
      "+--------------------+\n",
      "|           Campaigns|\n",
      "+--------------------+\n",
      "| [twitter, LinkedIn]|\n",
      "| [twitter, LinkedIn]|\n",
      "|[web, twitter, FB...|\n",
      "|       [twitter, FB]|\n",
      "|[web, twitter, FB...|\n",
      "| [twitter, LinkedIn]|\n",
      "+--------------------+\n",
      "\n"
     ]
    }
   ],
   "source": [
    "data_df3.select(\"Campaigns\").show()"
   ]
  },
  {
   "cell_type": "code",
   "execution_count": 110,
   "id": "8dc1a220",
   "metadata": {
    "scrolled": true
   },
   "outputs": [
    {
     "name": "stdout",
     "output_type": "stream",
     "text": [
      "+-----+\n",
      "| Hits|\n",
      "+-----+\n",
      "|10568|\n",
      "|40578|\n",
      "|25568|\n",
      "+-----+\n",
      "\n"
     ]
    }
   ],
   "source": [
    "# Hits 10000 이상만 추출 \n",
    "data_df3.select(\"Hits\").where(col(\"Hits\")>10000).show()"
   ]
  },
  {
   "cell_type": "code",
   "execution_count": 115,
   "id": "07028b5a",
   "metadata": {},
   "outputs": [
    {
     "name": "stdout",
     "output_type": "stream",
     "text": [
      "+---+-----+-------+-----------------+---------+-----+--------------------+\n",
      "| Id|First|   Last|              Url|Published| Hits|           Campaigns|\n",
      "+---+-----+-------+-----------------+---------+-----+--------------------+\n",
      "|  5|Matei|Zaharia|https://tinyurl.5|5/14/2014|40578|[web, twitter, FB...|\n",
      "+---+-----+-------+-----------------+---------+-----+--------------------+\n",
      "\n"
     ]
    }
   ],
   "source": [
    "# First 가 Matei 추출 \n",
    "data_df3.select('*').where(col(\"First\")== 'Matei').show()"
   ]
  },
  {
   "cell_type": "code",
   "execution_count": 109,
   "id": "51bf3e80",
   "metadata": {},
   "outputs": [
    {
     "name": "stdout",
     "output_type": "stream",
     "text": [
      "+--------------------+\n",
      "|           Campaigns|\n",
      "+--------------------+\n",
      "| [twitter, LinkedIn]|\n",
      "| [twitter, LinkedIn]|\n",
      "|[web, twitter, FB...|\n",
      "|       [twitter, FB]|\n",
      "|[web, twitter, FB...|\n",
      "| [twitter, LinkedIn]|\n",
      "+--------------------+\n",
      "\n"
     ]
    }
   ],
   "source": [
    "data_df3.select(\"Campaigns\").show()"
   ]
  },
  {
   "cell_type": "code",
   "execution_count": 104,
   "id": "25066445",
   "metadata": {},
   "outputs": [
    {
     "name": "stdout",
     "output_type": "stream",
     "text": [
      "+------------------+\n",
      "|LinkedIn_Campaigns|\n",
      "+------------------+\n",
      "|        [LinkedIn]|\n",
      "|        [LinkedIn]|\n",
      "|        [LinkedIn]|\n",
      "|                []|\n",
      "|        [LinkedIn]|\n",
      "|        [LinkedIn]|\n",
      "+------------------+\n",
      "\n"
     ]
    }
   ],
   "source": [
    "#camplaigns 에서 LinkedIn 만 추출\n",
    "linkedin_only = data_df3.selectExpr(\"filter(Campaigns, x-> x=='LinkedIn') as LinkedIn_Campaigns\")\n",
    "linkedin_only.show()"
   ]
  },
  {
   "cell_type": "code",
   "execution_count": null,
   "id": "52c8fc3a",
   "metadata": {},
   "outputs": [],
   "source": [
    "# DDL 로 구조 정의 p.52\n",
    "\n",
    "schema_ddl = \"\"\" \\\n",
    "    `ID` Int NOT NUll, \\\n",
    "    `First` String, \\\n",
    "    `Last` String, \\\n",
    "    `Url` String, \\\n",
    "    `Published` String, \\\n",
    "    `Hits` Int, \\\n",
    "    `Campagins` Array<String> \\\n",
    "\"\"\"\n",
    "# '말고 ` 써야함\n",
    "# SQL DDL 대소문자 상관없음\n",
    "# nullable은 Not NUll"
   ]
  },
  {
   "cell_type": "code",
   "execution_count": 116,
   "id": "5c4ad5aa",
   "metadata": {},
   "outputs": [],
   "source": [
    "schema = \"'ID' INT, 'First' STRING, 'Last' STRING, 'Url' STRING, 'Published' STRING, 'Hits' INT, 'Campaigns' ARRAY<STRING>\""
   ]
  },
  {
   "cell_type": "code",
   "execution_count": 117,
   "id": "09060044",
   "metadata": {},
   "outputs": [],
   "source": [
    "spark.stop()"
   ]
  }
 ],
 "metadata": {
  "kernelspec": {
   "display_name": "Spark_start",
   "language": "python",
   "name": "spark_start"
  },
  "language_info": {
   "codemirror_mode": {
    "name": "ipython",
    "version": 3
   },
   "file_extension": ".py",
   "mimetype": "text/x-python",
   "name": "python",
   "nbconvert_exporter": "python",
   "pygments_lexer": "ipython3",
   "version": "3.8.20"
  }
 },
 "nbformat": 4,
 "nbformat_minor": 5
}
