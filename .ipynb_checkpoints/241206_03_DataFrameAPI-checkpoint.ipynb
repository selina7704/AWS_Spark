{
 "cells": [
  {
   "cell_type": "code",
   "execution_count": 1,
   "id": "b5996689",
   "metadata": {},
   "outputs": [
    {
     "name": "stderr",
     "output_type": "stream",
     "text": [
      "24/12/09 10:29:06 WARN NativeCodeLoader: Unable to load native-hadoop library for your platform... using builtin-java classes where applicable\n",
      "Using Spark's default log4j profile: org/apache/spark/log4j-defaults.properties\n",
      "Setting default log level to \"WARN\".\n",
      "To adjust logging level use sc.setLogLevel(newLevel). For SparkR, use setLogLevel(newLevel).\n"
     ]
    },
    {
     "data": {
      "text/html": [
       "\n",
       "            <div>\n",
       "                <p><b>SparkSession - in-memory</b></p>\n",
       "                \n",
       "        <div>\n",
       "            <p><b>SparkContext</b></p>\n",
       "\n",
       "            <p><a href=\"http://ip-172-31-2-110.ap-northeast-3.compute.internal:4040\">Spark UI</a></p>\n",
       "\n",
       "            <dl>\n",
       "              <dt>Version</dt>\n",
       "                <dd><code>v3.1.2</code></dd>\n",
       "              <dt>Master</dt>\n",
       "                <dd><code>local[*]</code></dd>\n",
       "              <dt>AppName</dt>\n",
       "                <dd><code>241206_03_DataFrameAPI</code></dd>\n",
       "            </dl>\n",
       "        </div>\n",
       "        \n",
       "            </div>\n",
       "        "
      ],
      "text/plain": [
       "<pyspark.sql.session.SparkSession at 0x7f17338cf610>"
      ]
     },
     "execution_count": 1,
     "metadata": {},
     "output_type": "execute_result"
    }
   ],
   "source": [
    "#singleton pattern object builder\n",
    "from pyspark.sql import SparkSession\n",
    "spark = SparkSession.builder.appName(\"241206_03_DataFrameAPI\").getOrCreate()\n",
    "spark"
   ]
  },
  {
   "cell_type": "code",
   "execution_count": 2,
   "id": "e45e2a5c",
   "metadata": {},
   "outputs": [
    {
     "name": "stderr",
     "output_type": "stream",
     "text": [
      "\r",
      "[Stage 0:>                                                          (0 + 1) / 1]\r",
      "\r",
      "                                                                                \r"
     ]
    },
    {
     "data": {
      "text/plain": [
       "DataFrame[DEST_COUNTRY_NAME: string, ORIGIN_COUNTRY_NAME: string, count: string]"
      ]
     },
     "execution_count": 2,
     "metadata": {},
     "output_type": "execute_result"
    }
   ],
   "source": [
    "df = spark.read.format(\"csv\").load(\"data/2015-summary.csv\", interSchema=True, header=True)\n",
    "df"
   ]
  },
  {
   "cell_type": "code",
   "execution_count": 3,
   "id": "066d58cf",
   "metadata": {},
   "outputs": [
    {
     "name": "stdout",
     "output_type": "stream",
     "text": [
      "StructType(List(StructField(DEST_COUNTRY_NAME,StringType,true),StructField(ORIGIN_COUNTRY_NAME,StringType,true),StructField(count,StringType,true)))\n",
      "root\n",
      " |-- DEST_COUNTRY_NAME: string (nullable = true)\n",
      " |-- ORIGIN_COUNTRY_NAME: string (nullable = true)\n",
      " |-- count: string (nullable = true)\n",
      "\n",
      "None\n"
     ]
    }
   ],
   "source": [
    "print(df.schema)\n",
    "print(df.printSchema())"
   ]
  },
  {
   "cell_type": "markdown",
   "id": "b072ad68",
   "metadata": {},
   "source": [
    "## Row 클래스, 단일 레코드(행)을 나타내는 객체\n",
    "\n",
    "Row(DES_COUNTRY_NAME = 'United States', ORIGIN_COUNTRY_NAME='Romania', count=15)"
   ]
  },
  {
   "cell_type": "code",
   "execution_count": 4,
   "id": "bc55e537",
   "metadata": {},
   "outputs": [
    {
     "data": {
      "text/plain": [
       "[Row(DEST_COUNTRY_NAME='United States', ORIGIN_COUNTRY_NAME='Romania', count='15'),\n",
       " Row(DEST_COUNTRY_NAME='United States', ORIGIN_COUNTRY_NAME='Croatia', count='1'),\n",
       " Row(DEST_COUNTRY_NAME='United States', ORIGIN_COUNTRY_NAME='Ireland', count='344'),\n",
       " Row(DEST_COUNTRY_NAME='Egypt', ORIGIN_COUNTRY_NAME='United States', count='15'),\n",
       " Row(DEST_COUNTRY_NAME='United States', ORIGIN_COUNTRY_NAME='India', count='62')]"
      ]
     },
     "execution_count": 4,
     "metadata": {},
     "output_type": "execute_result"
    }
   ],
   "source": [
    "df.take(5)"
   ]
  },
  {
   "cell_type": "code",
   "execution_count": 5,
   "id": "d0dd494f",
   "metadata": {},
   "outputs": [
    {
     "name": "stdout",
     "output_type": "stream",
     "text": [
      "+-----------------+-------------------+-----+\n",
      "|DEST_COUNTRY_NAME|ORIGIN_COUNTRY_NAME|count|\n",
      "+-----------------+-------------------+-----+\n",
      "|    United States|            Romania|   15|\n",
      "|    United States|            Croatia|    1|\n",
      "|    United States|            Ireland|  344|\n",
      "|            Egypt|      United States|   15|\n",
      "|    United States|              India|   62|\n",
      "+-----------------+-------------------+-----+\n",
      "only showing top 5 rows\n",
      "\n"
     ]
    }
   ],
   "source": [
    "df.show(5)"
   ]
  },
  {
   "cell_type": "code",
   "execution_count": 6,
   "id": "97fd7edf",
   "metadata": {},
   "outputs": [
    {
     "name": "stdout",
     "output_type": "stream",
     "text": [
      "+-----------------+\n",
      "|DEST_COUNTRY_NAME|\n",
      "+-----------------+\n",
      "|    United States|\n",
      "|    United States|\n",
      "|    United States|\n",
      "|            Egypt|\n",
      "|    United States|\n",
      "+-----------------+\n",
      "only showing top 5 rows\n",
      "\n"
     ]
    }
   ],
   "source": [
    "#spark DataTable\n",
    "df.select(\"DEST_COUNTRY_NAME\").show(5)"
   ]
  },
  {
   "cell_type": "code",
   "execution_count": 7,
   "id": "d3aa8ffc",
   "metadata": {},
   "outputs": [
    {
     "data": {
      "text/plain": [
       "256"
      ]
     },
     "execution_count": 7,
     "metadata": {},
     "output_type": "execute_result"
    }
   ],
   "source": [
    "df.count()"
   ]
  },
  {
   "cell_type": "code",
   "execution_count": 8,
   "id": "402f49ef",
   "metadata": {},
   "outputs": [
    {
     "data": {
      "text/plain": [
       "256"
      ]
     },
     "execution_count": 8,
     "metadata": {},
     "output_type": "execute_result"
    }
   ],
   "source": [
    "df.select(\"DEST_COUNTRY_NAME\").count()"
   ]
  },
  {
   "cell_type": "code",
   "execution_count": 9,
   "id": "58bc8417",
   "metadata": {
    "scrolled": true
   },
   "outputs": [
    {
     "name": "stdout",
     "output_type": "stream",
     "text": [
      "+-----------------+\n",
      "|DEST_COUNTRY_NAME|\n",
      "+-----------------+\n",
      "|         Anguilla|\n",
      "|           Russia|\n",
      "|         Paraguay|\n",
      "|          Senegal|\n",
      "|           Sweden|\n",
      "+-----------------+\n",
      "only showing top 5 rows\n",
      "\n"
     ]
    }
   ],
   "source": [
    "#중복 확인\n",
    "df_dup = df.select(\"DEST_COUNTRY_NAME\").dropDuplicates()\n",
    "df_dup.show(5)"
   ]
  },
  {
   "cell_type": "code",
   "execution_count": 10,
   "id": "6ae69e74",
   "metadata": {},
   "outputs": [
    {
     "name": "stdout",
     "output_type": "stream",
     "text": [
      "+-----------------+\n",
      "|DEST_COUNTRY_NAME|\n",
      "+-----------------+\n",
      "|         Anguilla|\n",
      "|           Russia|\n",
      "|         Paraguay|\n",
      "|          Senegal|\n",
      "|           Sweden|\n",
      "+-----------------+\n",
      "only showing top 5 rows\n",
      "\n"
     ]
    }
   ],
   "source": [
    "df_dup = df.select(\"DEST_COUNTRY_NAME\").dropDuplicates().cache()\n",
    "df_dup.show(5)"
   ]
  },
  {
   "cell_type": "code",
   "execution_count": 11,
   "id": "a7f1cace",
   "metadata": {},
   "outputs": [
    {
     "name": "stderr",
     "output_type": "stream",
     "text": [
      "                                                                                \r"
     ]
    },
    {
     "data": {
      "text/plain": [
       "132"
      ]
     },
     "execution_count": 11,
     "metadata": {},
     "output_type": "execute_result"
    }
   ],
   "source": [
    "df_dup.distinct().count()"
   ]
  },
  {
   "cell_type": "code",
   "execution_count": 12,
   "id": "0e81ff79",
   "metadata": {},
   "outputs": [
    {
     "name": "stdout",
     "output_type": "stream",
     "text": [
      "+--------------------+-------------------+-----+\n",
      "|   DEST_COUNTRY_NAME|ORIGIN_COUNTRY_NAME|count|\n",
      "+--------------------+-------------------+-----+\n",
      "|             Algeria|      United States|    4|\n",
      "|              Angola|      United States|   15|\n",
      "|            Anguilla|      United States|   41|\n",
      "| Antigua and Barbuda|      United States|  126|\n",
      "|           Argentina|      United States|  180|\n",
      "|               Aruba|      United States|  346|\n",
      "|           Australia|      United States|  329|\n",
      "|             Austria|      United States|   62|\n",
      "|          Azerbaijan|      United States|   21|\n",
      "|             Bahrain|      United States|   19|\n",
      "|            Barbados|      United States|  154|\n",
      "|             Belgium|      United States|  259|\n",
      "|              Belize|      United States|  188|\n",
      "|             Bermuda|      United States|  183|\n",
      "|             Bolivia|      United States|   30|\n",
      "|Bonaire, Sint Eus...|      United States|   58|\n",
      "|              Brazil|      United States|  853|\n",
      "|British Virgin Is...|      United States|  107|\n",
      "|            Bulgaria|      United States|    3|\n",
      "|        Burkina Faso|      United States|    1|\n",
      "+--------------------+-------------------+-----+\n",
      "only showing top 20 rows\n",
      "\n"
     ]
    }
   ],
   "source": [
    "df.sort(\"DEST_COUNTRY_NAME\").show()"
   ]
  },
  {
   "cell_type": "code",
   "execution_count": 13,
   "id": "7490062d",
   "metadata": {},
   "outputs": [
    {
     "name": "stdout",
     "output_type": "stream",
     "text": [
      "+-----------------+-------------------+-----+-------------+\n",
      "|DEST_COUNTRY_NAME|ORIGIN_COUNTRY_NAME|count|withInCountry|\n",
      "+-----------------+-------------------+-----+-------------+\n",
      "|    United States|            Romania|   15|        false|\n",
      "|    United States|            Croatia|    1|        false|\n",
      "|    United States|            Ireland|  344|        false|\n",
      "|            Egypt|      United States|   15|        false|\n",
      "|    United States|              India|   62|        false|\n",
      "+-----------------+-------------------+-----+-------------+\n",
      "only showing top 5 rows\n",
      "\n"
     ]
    }
   ],
   "source": [
    "from pyspark.sql.functions import *\n",
    "\n",
    "#새로 컬럼 추가\n",
    "df3 = df.withColumn('withInCountry',expr(\"ORIGIN_COUNTRY_NAME == DEST_COUNTRY_NAME\"))\n",
    "df3.show(5)"
   ]
  },
  {
   "cell_type": "code",
   "execution_count": 14,
   "id": "3541dd2f",
   "metadata": {},
   "outputs": [
    {
     "name": "stdout",
     "output_type": "stream",
     "text": [
      "+-----------------+-------------------+-----+--------+\n",
      "|DEST_COUNTRY_NAME|ORIGIN_COUNTRY_NAME|count|Category|\n",
      "+-----------------+-------------------+-----+--------+\n",
      "|    United States|            Romania|   15|   upper|\n",
      "|    United States|            Croatia|    1|   under|\n",
      "|    United States|            Ireland|  344|   upper|\n",
      "|            Egypt|      United States|   15|   upper|\n",
      "|    United States|              India|   62|   upper|\n",
      "+-----------------+-------------------+-----+--------+\n",
      "only showing top 5 rows\n",
      "\n"
     ]
    }
   ],
   "source": [
    "#SQL 구문 - CASE WHEN > 수치형 변수 > 명목형 변수로 변환\n",
    "\n",
    "df4 = df.withColumn('Category',expr(\"CASE WHEN count <10 THEN 'under' WHEN count >=10 THEN 'upper' END\"))\n",
    "df4.show(5)"
   ]
  },
  {
   "cell_type": "code",
   "execution_count": 15,
   "id": "85ee4bed",
   "metadata": {},
   "outputs": [
    {
     "name": "stdout",
     "output_type": "stream",
     "text": [
      "+-----------------+-------------------+-----+--------+------------+\n",
      "|DEST_COUNTRY_NAME|ORIGIN_COUNTRY_NAME|count|Category|withInColumn|\n",
      "+-----------------+-------------------+-----+--------+------------+\n",
      "|    United States|            Romania|   15|   upper|       false|\n",
      "|    United States|            Croatia|    1|   under|       false|\n",
      "|    United States|            Ireland|  344|   upper|       false|\n",
      "|            Egypt|      United States|   15|   upper|       false|\n",
      "|    United States|              India|   62|   upper|       false|\n",
      "+-----------------+-------------------+-----+--------+------------+\n",
      "only showing top 5 rows\n",
      "\n"
     ]
    }
   ],
   "source": [
    "df5 = df4.withColumn('withInColumn',expr(\"ORIGIN_COUNTRY_NAME==DEST_COUNTRY_NAME\"))\n",
    "df5.show(5)"
   ]
  },
  {
   "cell_type": "code",
   "execution_count": 16,
   "id": "9d5e5a4f",
   "metadata": {},
   "outputs": [
    {
     "name": "stdout",
     "output_type": "stream",
     "text": [
      "+------------+-----+\n",
      "|withInColumn|count|\n",
      "+------------+-----+\n",
      "|        true|    1|\n",
      "|       false|  255|\n",
      "+------------+-----+\n",
      "\n"
     ]
    }
   ],
   "source": [
    "df5.groupBy(\"withInColumn\").count().show()"
   ]
  },
  {
   "cell_type": "markdown",
   "id": "e7b11d3b",
   "metadata": {},
   "source": [
    "## Projection 과 Filter\n",
    "```\n",
    "SELECT a,b,c # projection > column > Transformation select('col name')\n",
    "FROM Table A \n",
    "WHERE a>10 #filter > Row > Transformation where('condition')\n",
    "```"
   ]
  },
  {
   "cell_type": "code",
   "execution_count": 17,
   "id": "9d9f6eea",
   "metadata": {},
   "outputs": [
    {
     "name": "stdout",
     "output_type": "stream",
     "text": [
      "+--------------------+-------------------+-----+--------+------------+\n",
      "|   DEST_COUNTRY_NAME|ORIGIN_COUNTRY_NAME|count|Category|withInColumn|\n",
      "+--------------------+-------------------+-----+--------+------------+\n",
      "|       United States|            Croatia|    1|   under|       false|\n",
      "|       United States|          Singapore|    1|   under|       false|\n",
      "|             Moldova|      United States|    1|   under|       false|\n",
      "|               Malta|      United States|    1|   under|       false|\n",
      "|             Algeria|      United States|    4|   under|       false|\n",
      "|       United States|          Gibraltar|    1|   under|       false|\n",
      "|Saint Vincent and...|      United States|    1|   under|       false|\n",
      "|            Suriname|      United States|    1|   under|       false|\n",
      "|       United States|             Cyprus|    1|   under|       false|\n",
      "|       United States|           Malaysia|    3|   under|       false|\n",
      "|            Thailand|      United States|    3|   under|       false|\n",
      "|             Liberia|      United States|    2|   under|       false|\n",
      "|             Hungary|      United States|    2|   under|       false|\n",
      "|       United States|            Vietnam|    2|   under|       false|\n",
      "|        Burkina Faso|      United States|    1|   under|       false|\n",
      "|            Djibouti|      United States|    1|   under|       false|\n",
      "|       United States|            Estonia|    1|   under|       false|\n",
      "|       United States|            Hungary|    3|   under|       false|\n",
      "|              Zambia|      United States|    1|   under|       false|\n",
      "|            Malaysia|      United States|    2|   under|       false|\n",
      "+--------------------+-------------------+-----+--------+------------+\n",
      "only showing top 20 rows\n",
      "\n"
     ]
    },
    {
     "data": {
      "text/plain": [
       "46"
      ]
     },
     "execution_count": 17,
     "metadata": {},
     "output_type": "execute_result"
    }
   ],
   "source": [
    "#filter \n",
    "df6 = df5.where('count<5')\n",
    "df6.show()\n",
    "df6.count()"
   ]
  },
  {
   "cell_type": "code",
   "execution_count": 18,
   "id": "4b963bd7",
   "metadata": {},
   "outputs": [
    {
     "name": "stdout",
     "output_type": "stream",
     "text": [
      "+-----------------+-------------------+-----+--------+------------+\n",
      "|DEST_COUNTRY_NAME|ORIGIN_COUNTRY_NAME|count|Category|withInColumn|\n",
      "+-----------------+-------------------+-----+--------+------------+\n",
      "|    United States|            Croatia|    1|   under|       false|\n",
      "|    United States|          Singapore|    1|   under|       false|\n",
      "|    United States|          Gibraltar|    1|   under|       false|\n",
      "|    United States|             Cyprus|    1|   under|       false|\n",
      "|    United States|           Malaysia|    3|   under|       false|\n",
      "|    United States|            Vietnam|    2|   under|       false|\n",
      "|    United States|            Estonia|    1|   under|       false|\n",
      "|    United States|            Hungary|    3|   under|       false|\n",
      "|    United States|           Thailand|    4|   under|       false|\n",
      "|    United States|            Liberia|    2|   under|       false|\n",
      "|    United States|              Malta|    2|   under|       false|\n",
      "|    United States|          Lithuania|    1|   under|       false|\n",
      "|    United States|           Bulgaria|    1|   under|       false|\n",
      "|    United States|            Georgia|    1|   under|       false|\n",
      "|    United States|            Bahrain|    1|   under|       false|\n",
      "|    United States|   Papua New Guinea|    1|   under|       false|\n",
      "|    United States|          Greenland|    4|   under|       false|\n",
      "|    United States|          Indonesia|    2|   under|       false|\n",
      "|    United States|         Montenegro|    1|   under|       false|\n",
      "|    United States|            Namibia|    1|   under|       false|\n",
      "+-----------------+-------------------+-----+--------+------------+\n",
      "\n"
     ]
    },
    {
     "data": {
      "text/plain": [
       "20"
      ]
     },
     "execution_count": 18,
     "metadata": {},
     "output_type": "execute_result"
    }
   ],
   "source": [
    "df6 = df5.where('count<5').where(\"ORIGIN_COUNTRY_NAME != 'United States'\")\n",
    "df6.show()\n",
    "df6.count()"
   ]
  },
  {
   "cell_type": "code",
   "execution_count": 19,
   "id": "e14a71c2",
   "metadata": {},
   "outputs": [
    {
     "name": "stderr",
     "output_type": "stream",
     "text": [
      "\r",
      "[Stage 44:======================>                                (82 + 3) / 200]\r",
      "\r",
      "[Stage 44:===================================>                  (130 + 2) / 200]\r"
     ]
    },
    {
     "name": "stdout",
     "output_type": "stream",
     "text": [
      "+-------------------+----------+\n",
      "|ORIGIN_COUNTRY_NAME|sum(count)|\n",
      "+-------------------+----------+\n",
      "|      United States|     41964|\n",
      "|             Canada|      8483|\n",
      "|             Mexico|      7187|\n",
      "|     United Kingdom|      1970|\n",
      "|              Japan|      1496|\n",
      "| Dominican Republic|      1420|\n",
      "|            Germany|      1336|\n",
      "|        The Bahamas|       986|\n",
      "|             France|       952|\n",
      "|              China|       920|\n",
      "+-------------------+----------+\n",
      "only showing top 10 rows\n",
      "\n"
     ]
    },
    {
     "name": "stderr",
     "output_type": "stream",
     "text": [
      "\r",
      "[Stage 44:==================================================>   (187 + 2) / 200]\r",
      "\r",
      "                                                                                \r"
     ]
    }
   ],
   "source": [
    "#프로젝션, 필터링 연습 \n",
    "df5 = df5.withColumn(\"count\", col(\"count\").cast(\"int\")) # count 가 string 이네..? int 로 변경-- cast()\n",
    "# df5.show(10)\n",
    "\n",
    "#국내 여행이 아니면서 가장 횟수가 많은 ORIGIN_COUNTRY_NAME top 10을  추출해보세요\n",
    "top10_trip = df5.where(\"ORIGIN_COUNTRY_NAME != DEST_COUNTRY_NAME\") \\\n",
    "                .groupBy(\"ORIGIN_COUNTRY_NAME\") \\\n",
    "                .sum(\"count\") \\\n",
    "                .sort(\"sum(count)\", ascending=False)\n",
    "top10_trip.show(10)"
   ]
  },
  {
   "cell_type": "code",
   "execution_count": 20,
   "id": "9b674829",
   "metadata": {},
   "outputs": [
    {
     "name": "stderr",
     "output_type": "stream",
     "text": [
      "\r",
      "[Stage 46:======================================>               (142 + 2) / 200]\r"
     ]
    },
    {
     "name": "stdout",
     "output_type": "stream",
     "text": [
      "+-------------------+-----+\n",
      "|ORIGIN_COUNTRY_NAME|count|\n",
      "+-------------------+-----+\n",
      "|            Senegal|    1|\n",
      "|             Sweden|    1|\n",
      "|           Paraguay|    1|\n",
      "|             Russia|    1|\n",
      "|           Anguilla|    1|\n",
      "|           Kiribati|    1|\n",
      "|             Guyana|    1|\n",
      "|          Singapore|    1|\n",
      "|           Malaysia|    1|\n",
      "|        Philippines|    1|\n",
      "+-------------------+-----+\n",
      "only showing top 10 rows\n",
      "\n"
     ]
    },
    {
     "name": "stderr",
     "output_type": "stream",
     "text": [
      "\r",
      "[Stage 46:================================================>     (181 + 3) / 200]\r",
      "\r",
      "                                                                                \r"
     ]
    }
   ],
   "source": [
    "#국내 여행이 아니면서 가장 횟수가 적은 ORIGIN_COUNTRY_NAME top 10을  추출해보세요\n",
    "top10_trip_least = df5.where(\"ORIGIN_COUNTRY_NAME != DEST_COUNTRY_NAME\")\\\n",
    "                .groupBy(\"ORIGIN_COUNTRY_NAME\").count()\\\n",
    "                .sort(\"count\", ascending=True)\n",
    "top10_trip_least.show(10)"
   ]
  },
  {
   "cell_type": "code",
   "execution_count": 21,
   "id": "4d746b52",
   "metadata": {},
   "outputs": [
    {
     "name": "stderr",
     "output_type": "stream",
     "text": [
      "\r",
      "[Stage 48:==================================>                   (126 + 2) / 200]\r",
      "\r",
      "[Stage 48:===============================================>      (177 + 2) / 200]\r"
     ]
    },
    {
     "name": "stdout",
     "output_type": "stream",
     "text": [
      "+------------------+----------+\n",
      "| DEST_COUNTRY_NAME|sum(count)|\n",
      "+------------------+----------+\n",
      "|     United States|    411352|\n",
      "|            Canada|      8399|\n",
      "|            Mexico|      7140|\n",
      "|    United Kingdom|      2025|\n",
      "|             Japan|      1548|\n",
      "|           Germany|      1468|\n",
      "|Dominican Republic|      1353|\n",
      "|       South Korea|      1048|\n",
      "|       The Bahamas|       955|\n",
      "|            France|       935|\n",
      "+------------------+----------+\n",
      "only showing top 10 rows\n",
      "\n"
     ]
    },
    {
     "name": "stderr",
     "output_type": "stream",
     "text": [
      "\r",
      "                                                                                \r"
     ]
    }
   ],
   "source": [
    "#도착국가별 count 총합이 가장 많은 top10을 추출해 보세요\n",
    "df7 = df5.groupBy(\"DEST_COUNTRY_NAME\").sum(\"count\").sort('sum(count)',ascending = False)\n",
    "df7.show(10)"
   ]
  },
  {
   "cell_type": "code",
   "execution_count": 22,
   "id": "2aef6710",
   "metadata": {},
   "outputs": [
    {
     "name": "stdout",
     "output_type": "stream",
     "text": [
      "+--------+----------+\n",
      "|Category|sum(count)|\n",
      "+--------+----------+\n",
      "|   under|        91|\n",
      "|   upper|    453225|\n",
      "+--------+----------+\n",
      "\n"
     ]
    }
   ],
   "source": [
    "#카테고리별 분석\n",
    "df6 = df5.withColumn(\"count\", col(\"count\").cast(\"int\"))\n",
    "df6.groupby(\"Category\").sum(\"count\").show()"
   ]
  },
  {
   "cell_type": "code",
   "execution_count": 23,
   "id": "48244a72",
   "metadata": {},
   "outputs": [
    {
     "name": "stdout",
     "output_type": "stream",
     "text": [
      "+------------------+-------------------+------+--------+------------+\n",
      "| DEST_COUNTRY_NAME|ORIGIN_COUNTRY_NAME| count|Category|withInColumn|\n",
      "+------------------+-------------------+------+--------+------------+\n",
      "|            Mexico|      United States|  7140|   upper|       false|\n",
      "|     United States| Dominican Republic|  1420|   upper|       false|\n",
      "|     United States|      United States|370002|   upper|        true|\n",
      "|           Germany|      United States|  1468|   upper|       false|\n",
      "|            Canada|      United States|  8399|   upper|       false|\n",
      "|Dominican Republic|      United States|  1353|   upper|       false|\n",
      "|             Japan|      United States|  1548|   upper|       false|\n",
      "|     United States|            Germany|  1336|   upper|       false|\n",
      "|     United States|             Mexico|  7187|   upper|       false|\n",
      "|    United Kingdom|      United States|  2025|   upper|       false|\n",
      "|     United States|              Japan|  1496|   upper|       false|\n",
      "|     United States|     United Kingdom|  1970|   upper|       false|\n",
      "|     United States|             Canada|  8483|   upper|       false|\n",
      "|       South Korea|      United States|  1048|   upper|       false|\n",
      "+------------------+-------------------+------+--------+------------+\n",
      "\n"
     ]
    }
   ],
   "source": [
    "#비행 횟수가 1000 이상 필터링\n",
    "df6.filter(df6['count']>=1000).show()"
   ]
  },
  {
   "cell_type": "code",
   "execution_count": 24,
   "id": "01c981df",
   "metadata": {},
   "outputs": [
    {
     "name": "stdout",
     "output_type": "stream",
     "text": [
      "+------------------+----------+\n",
      "| DEST_COUNTRY_NAME|sum(count)|\n",
      "+------------------+----------+\n",
      "|     United States|    411352|\n",
      "|            Canada|      8399|\n",
      "|            Mexico|      7140|\n",
      "|    United Kingdom|      2025|\n",
      "|             Japan|      1548|\n",
      "|           Germany|      1468|\n",
      "|Dominican Republic|      1353|\n",
      "|       South Korea|      1048|\n",
      "|       The Bahamas|       955|\n",
      "|            France|       935|\n",
      "+------------------+----------+\n",
      "only showing top 10 rows\n",
      "\n"
     ]
    },
    {
     "name": "stderr",
     "output_type": "stream",
     "text": [
      "\r",
      "[Stage 61:===================================================>  (190 + 2) / 200]\r",
      "\r",
      "                                                                                \r"
     ]
    }
   ],
   "source": [
    "#상위 10 목적지 국가 \n",
    "df6.groupBy(\"DEST_COUNTRY_NAME\").sum(\"count\").sort(\"sum(count)\", ascending = False).show(10)"
   ]
  },
  {
   "cell_type": "code",
   "execution_count": 25,
   "id": "10ed11c7",
   "metadata": {},
   "outputs": [
    {
     "name": "stdout",
     "output_type": "stream",
     "text": [
      "+-----------------+-------------------+-----+\n",
      "|DEST_COUNTRY_NAME|ORIGIN_COUNTRY_NAME|count|\n",
      "+-----------------+-------------------+-----+\n",
      "|    United States|            Romania|   15|\n",
      "|    United States|            Croatia|    1|\n",
      "|    United States|            Ireland|  344|\n",
      "|            Egypt|      United States|   15|\n",
      "|    United States|              India|   62|\n",
      "+-----------------+-------------------+-----+\n",
      "only showing top 5 rows\n",
      "\n"
     ]
    }
   ],
   "source": [
    "#spark SQL\n",
    "df.createOrReplaceTempView(\"mobility_data\")\n",
    "spark.sql(\"select * from mobility_data\").show(5)"
   ]
  },
  {
   "cell_type": "code",
   "execution_count": 27,
   "id": "48fc4a2b",
   "metadata": {},
   "outputs": [],
   "source": [
    "spark.stop()"
   ]
  },
  {
   "cell_type": "markdown",
   "id": "322eb817",
   "metadata": {},
   "source": [
    "# 집계 함수"
   ]
  },
  {
   "cell_type": "code",
   "execution_count": 28,
   "id": "089f5c1d",
   "metadata": {},
   "outputs": [
    {
     "data": {
      "text/html": [
       "\n",
       "            <div>\n",
       "                <p><b>SparkSession - in-memory</b></p>\n",
       "                \n",
       "        <div>\n",
       "            <p><b>SparkContext</b></p>\n",
       "\n",
       "            <p><a href=\"http://ip-172-31-2-110.ap-northeast-3.compute.internal:4040\">Spark UI</a></p>\n",
       "\n",
       "            <dl>\n",
       "              <dt>Version</dt>\n",
       "                <dd><code>v3.1.2</code></dd>\n",
       "              <dt>Master</dt>\n",
       "                <dd><code>local[*]</code></dd>\n",
       "              <dt>AppName</dt>\n",
       "                <dd><code>SecondSparkSessionApp</code></dd>\n",
       "            </dl>\n",
       "        </div>\n",
       "        \n",
       "            </div>\n",
       "        "
      ],
      "text/plain": [
       "<pyspark.sql.session.SparkSession at 0x7f17338f3b50>"
      ]
     },
     "execution_count": 28,
     "metadata": {},
     "output_type": "execute_result"
    }
   ],
   "source": [
    "from pyspark.sql import SparkSession\n",
    "spark = SparkSession.builder.appName(\"SecondSparkSessionApp\").getOrCreate()\n",
    "spark"
   ]
  },
  {
   "cell_type": "code",
   "execution_count": 37,
   "id": "4878bb29",
   "metadata": {},
   "outputs": [],
   "source": [
    "df = spark.read.format(\"csv\")\\\n",
    "    .option(\"header\",'true')\\\n",
    "    .option('inferSchema', 'true')\\\n",
    "    .load(\"data/emp.csv\")"
   ]
  },
  {
   "cell_type": "code",
   "execution_count": 40,
   "id": "99728e94",
   "metadata": {},
   "outputs": [
    {
     "name": "stdout",
     "output_type": "stream",
     "text": [
      "root\n",
      " |-- empno: integer (nullable = true)\n",
      " |-- ename: string (nullable = true)\n",
      " |-- job: string (nullable = true)\n",
      " |-- mgr: integer (nullable = true)\n",
      " |-- hiredate: string (nullable = true)\n",
      " |-- sal: integer (nullable = true)\n",
      " |-- comm: integer (nullable = true)\n",
      " |-- deptno: integer (nullable = true)\n",
      "\n"
     ]
    }
   ],
   "source": [
    "df.printSchema()"
   ]
  },
  {
   "cell_type": "code",
   "execution_count": 41,
   "id": "ffdca63f",
   "metadata": {},
   "outputs": [
    {
     "name": "stdout",
     "output_type": "stream",
     "text": [
      "+-----+------+---------+----+----------+----+----+------+\n",
      "|empno| ename|      job| mgr|  hiredate| sal|comm|deptno|\n",
      "+-----+------+---------+----+----------+----+----+------+\n",
      "| 7369| SMITH|    CLERK|7902|1980-12-17| 800|null|    20|\n",
      "| 7499| ALLEN| SALESMAN|7698|1981-02-20|1600| 300|    30|\n",
      "| 7521|  WARD| SALESMAN|7698|1981-02-22|1250| 500|    30|\n",
      "| 7566| JONES|  MANAGER|7839|1981-04-02|2975|null|    20|\n",
      "| 7654|MARTIN| SALESMAN|7698|1981-09-28|1250|1400|    30|\n",
      "| 7698| BLAKE|  MANAGER|7839|1981-05-01|2850|null|    30|\n",
      "| 7782| CLARK|  MANAGER|7839|1981-06-09|2450|null|    10|\n",
      "| 7788| SCOTT|  ANALYST|7566|1987-04-19|3000|null|    20|\n",
      "| 7839|  KING|PRESIDENT|null|1981-11-17|5000|null|    10|\n",
      "| 7844|TURNER| SALESMAN|7698|1981-09-08|1500|   0|    30|\n",
      "| 7876| ADAMS|    CLERK|7788|1987-05-23|1100|null|    20|\n",
      "| 7900| JAMES|    CLERK|7698|1981-12-03| 950|null|    30|\n",
      "| 7902|  FORD|  ANALYST|7566|1981-12-03|3000|null|    20|\n",
      "| 7934|MILLER|    CLERK|7782|1982-01-23|1300|null|    10|\n",
      "| 9292|  JACK|    CLERK|7782|1982-01-23|3200|null|    70|\n",
      "+-----+------+---------+----+----------+----+----+------+\n",
      "\n"
     ]
    }
   ],
   "source": [
    "df.show()"
   ]
  },
  {
   "cell_type": "code",
   "execution_count": 39,
   "id": "e31ed51a",
   "metadata": {},
   "outputs": [
    {
     "name": "stdout",
     "output_type": "stream",
     "text": [
      "+------+------+\n",
      "| ename|deptno|\n",
      "+------+------+\n",
      "| SMITH|    20|\n",
      "| ALLEN|    30|\n",
      "|  WARD|    30|\n",
      "| JONES|    20|\n",
      "|MARTIN|    30|\n",
      "| BLAKE|    30|\n",
      "| CLARK|    10|\n",
      "| SCOTT|    20|\n",
      "|  KING|    10|\n",
      "|TURNER|    30|\n",
      "| ADAMS|    20|\n",
      "| JAMES|    30|\n",
      "|  FORD|    20|\n",
      "|MILLER|    10|\n",
      "|  JACK|    70|\n",
      "+------+------+\n",
      "\n"
     ]
    }
   ],
   "source": [
    "df.select('ename','deptno').show()"
   ]
  },
  {
   "cell_type": "code",
   "execution_count": 42,
   "id": "7ea6b04c",
   "metadata": {},
   "outputs": [
    {
     "name": "stdout",
     "output_type": "stream",
     "text": [
      "+-----+------+\n",
      "|ename|deptno|\n",
      "+-----+------+\n",
      "|SMITH|    20|\n",
      "|JONES|    20|\n",
      "|SCOTT|    20|\n",
      "|ADAMS|    20|\n",
      "| FORD|    20|\n",
      "+-----+------+\n",
      "\n"
     ]
    }
   ],
   "source": [
    "df.select('ename','deptno').where('deptno=20').show()"
   ]
  },
  {
   "cell_type": "code",
   "execution_count": 79,
   "id": "ef2c2d2d",
   "metadata": {},
   "outputs": [
    {
     "name": "stdout",
     "output_type": "stream",
     "text": [
      "+----------+\n",
      "|count(job)|\n",
      "+----------+\n",
      "|        15|\n",
      "+----------+\n",
      "\n"
     ]
    }
   ],
   "source": [
    "# 카운트 집계\n",
    "#null 값이 제외\n",
    "from pyspark.sql.functions import count, countDistinct, approx_count_distinct\n",
    "df.select(count('job')).show()"
   ]
  },
  {
   "cell_type": "code",
   "execution_count": 80,
   "id": "f8c5bafe",
   "metadata": {},
   "outputs": [
    {
     "name": "stdout",
     "output_type": "stream",
     "text": [
      "+-----------+\n",
      "|count(comm)|\n",
      "+-----------+\n",
      "|          4|\n",
      "+-----------+\n",
      "\n"
     ]
    }
   ],
   "source": [
    "#null 값이 포함\n",
    "df.selectExpr('count(comm)').show()"
   ]
  },
  {
   "cell_type": "code",
   "execution_count": 81,
   "id": "9f1ecca5",
   "metadata": {},
   "outputs": [
    {
     "name": "stdout",
     "output_type": "stream",
     "text": [
      "+---------+\n",
      "|      job|\n",
      "+---------+\n",
      "|  ANALYST|\n",
      "| SALESMAN|\n",
      "|    CLERK|\n",
      "|  MANAGER|\n",
      "|PRESIDENT|\n",
      "+---------+\n",
      "\n"
     ]
    }
   ],
   "source": [
    "df.select('job').distinct().show()"
   ]
  },
  {
   "cell_type": "code",
   "execution_count": 82,
   "id": "b79ad77e",
   "metadata": {},
   "outputs": [
    {
     "name": "stderr",
     "output_type": "stream",
     "text": [
      "\r",
      "[Stage 97:=============================================>        (167 + 2) / 200]\r",
      "\r",
      "                                                                                \r"
     ]
    },
    {
     "data": {
      "text/plain": [
       "5"
      ]
     },
     "execution_count": 82,
     "metadata": {},
     "output_type": "execute_result"
    }
   ],
   "source": [
    "df.select('job').distinct().count() #정확도 "
   ]
  },
  {
   "cell_type": "code",
   "execution_count": 83,
   "id": "f1009460",
   "metadata": {},
   "outputs": [
    {
     "name": "stdout",
     "output_type": "stream",
     "text": [
      "+-------------------+\n",
      "|count(DISTINCT job)|\n",
      "+-------------------+\n",
      "|                  5|\n",
      "+-------------------+\n",
      "\n"
     ]
    },
    {
     "name": "stderr",
     "output_type": "stream",
     "text": [
      "\r",
      "[Stage 100:==========================================>          (162 + 2) / 200]\r",
      "\r",
      "                                                                                \r"
     ]
    }
   ],
   "source": [
    "df.select(countDistinct('job')).show() #근사치"
   ]
  },
  {
   "cell_type": "code",
   "execution_count": 84,
   "id": "dac86882",
   "metadata": {},
   "outputs": [
    {
     "name": "stdout",
     "output_type": "stream",
     "text": [
      "+--------------------------+\n",
      "|approx_count_distinct(job)|\n",
      "+--------------------------+\n",
      "|                         5|\n",
      "+--------------------------+\n",
      "\n"
     ]
    }
   ],
   "source": [
    "df.select(approx_count_distinct('job', 0.1)).show() #지정한 오차가 있어도 성능면에서 유리한 연산 "
   ]
  },
  {
   "cell_type": "code",
   "execution_count": 122,
   "id": "c83b8f33",
   "metadata": {},
   "outputs": [],
   "source": [
    "from pyspark.sql.functions import *"
   ]
  },
  {
   "cell_type": "code",
   "execution_count": 123,
   "id": "36d03ea5",
   "metadata": {},
   "outputs": [
    {
     "name": "stdout",
     "output_type": "stream",
     "text": [
      "+------------+-----------+\n",
      "|first(ename)|last(ename)|\n",
      "+------------+-----------+\n",
      "|       SMITH|       JACK|\n",
      "+------------+-----------+\n",
      "\n"
     ]
    }
   ],
   "source": [
    "df.select(first('ename'),last('ename')).show()"
   ]
  },
  {
   "cell_type": "code",
   "execution_count": 124,
   "id": "1042b7cc",
   "metadata": {},
   "outputs": [
    {
     "name": "stdout",
     "output_type": "stream",
     "text": [
      "+--------+--------+\n",
      "|min(mgr)|max(mgr)|\n",
      "+--------+--------+\n",
      "|    7566|    7902|\n",
      "+--------+--------+\n",
      "\n"
     ]
    }
   ],
   "source": [
    "# min, max\n",
    "df.select(min('mgr'), max('mgr')).show()"
   ]
  },
  {
   "cell_type": "code",
   "execution_count": 125,
   "id": "bba5a063",
   "metadata": {},
   "outputs": [
    {
     "name": "stdout",
     "output_type": "stream",
     "text": [
      "+-------------+-------------+\n",
      "|min(hiredate)|max(hiredate)|\n",
      "+-------------+-------------+\n",
      "|   1980-12-17|   1987-05-23|\n",
      "+-------------+-------------+\n",
      "\n"
     ]
    }
   ],
   "source": [
    "df.select(min('hiredate'), max('hiredate')).show()"
   ]
  },
  {
   "cell_type": "code",
   "execution_count": 126,
   "id": "ad7f446d",
   "metadata": {},
   "outputs": [
    {
     "name": "stdout",
     "output_type": "stream",
     "text": [
      "+------------+--------+----------+----------+\n",
      "|count(empno)|count(1)|max(ename)|min(ename)|\n",
      "+------------+--------+----------+----------+\n",
      "|          15|      15|      WARD|     ADAMS|\n",
      "+------------+--------+----------+----------+\n",
      "\n"
     ]
    }
   ],
   "source": [
    "df.select(count(\"empno\"), count(\"*\"), max(\"ename\"), min(\"ename\")).show()"
   ]
  },
  {
   "cell_type": "code",
   "execution_count": 127,
   "id": "67f929f3",
   "metadata": {},
   "outputs": [
    {
     "name": "stdout",
     "output_type": "stream",
     "text": [
      "+--------+\n",
      "|sum(sal)|\n",
      "+--------+\n",
      "|   32225|\n",
      "+--------+\n",
      "\n"
     ]
    }
   ],
   "source": [
    "df.select(sum(\"sal\")).show() #sal 컬럽의 총합 "
   ]
  },
  {
   "cell_type": "code",
   "execution_count": 128,
   "id": "b4ce89e8",
   "metadata": {},
   "outputs": [
    {
     "name": "stderr",
     "output_type": "stream",
     "text": [
      "\r",
      "[Stage 172:=================================>                   (127 + 2) / 200]\r",
      "\r",
      "[Stage 172:==============================================>      (174 + 2) / 200]\r"
     ]
    },
    {
     "name": "stdout",
     "output_type": "stream",
     "text": [
      "+-----------------+\n",
      "|sum(DISTINCT sal)|\n",
      "+-----------------+\n",
      "|            27975|\n",
      "+-----------------+\n",
      "\n"
     ]
    },
    {
     "name": "stderr",
     "output_type": "stream",
     "text": [
      "\r",
      "                                                                                \r"
     ]
    }
   ],
   "source": [
    "# sal 컬럼값의 중복을 제거하고 합산 \n",
    "\n",
    "df.selectExpr('sum(distinct sal)').show()"
   ]
  },
  {
   "cell_type": "code",
   "execution_count": 141,
   "id": "0374b647",
   "metadata": {},
   "outputs": [
    {
     "name": "stdout",
     "output_type": "stream",
     "text": [
      "+--------+------------+------------------+------------------+\n",
      "|total_tx|total_salary|        avg_salary|       mean_salary|\n",
      "+--------+------------+------------------+------------------+\n",
      "|      15|       32225|2148.3333333333335|2148.3333333333335|\n",
      "+--------+------------+------------------+------------------+\n",
      "\n"
     ]
    }
   ],
   "source": [
    "#alias \n",
    "dfs = df.select(\n",
    "                count('sal').alias('total_tx'),\n",
    "                sum('sal').alias('total_salary'),\n",
    "                avg('sal').alias('avg_salary'),\n",
    "                expr('mean(sal)').alias('mean_salary')\n",
    ")\n",
    "dfs.show()"
   ]
  },
  {
   "cell_type": "code",
   "execution_count": 146,
   "id": "e781a37e",
   "metadata": {},
   "outputs": [
    {
     "name": "stdout",
     "output_type": "stream",
     "text": [
      "+--------+------------+----------+-----------+\n",
      "|total_tx|total_salary|avg_salary|mean_salary|\n",
      "+--------+------------+----------+-----------+\n",
      "|      15|       32225|   2148.33|    2148.33|\n",
      "+--------+------------+----------+-----------+\n",
      "\n"
     ]
    }
   ],
   "source": [
    "#round (data, 자릿수)\n",
    "dfs = df.select(\n",
    "                count('sal').alias('total_tx'),\n",
    "                sum('sal').alias('total_salary'),\n",
    "                round(avg('sal'),2).alias('avg_salary'),\n",
    "                round(expr('mean(sal)'),2).alias('mean_salary'),\n",
    "        )\n",
    "dfs.show()"
   ]
  },
  {
   "cell_type": "markdown",
   "id": "600e1b2c",
   "metadata": {},
   "source": [
    "# 그룹화"
   ]
  },
  {
   "cell_type": "code",
   "execution_count": 142,
   "id": "ae04de89",
   "metadata": {},
   "outputs": [
    {
     "name": "stdout",
     "output_type": "stream",
     "text": [
      "+---------+-----+\n",
      "|      job|count|\n",
      "+---------+-----+\n",
      "|  ANALYST|    2|\n",
      "| SALESMAN|    4|\n",
      "|    CLERK|    5|\n",
      "|  MANAGER|    3|\n",
      "|PRESIDENT|    1|\n",
      "+---------+-----+\n",
      "\n"
     ]
    }
   ],
   "source": [
    "df.groupBy('job').count().show()"
   ]
  },
  {
   "cell_type": "code",
   "execution_count": 150,
   "id": "4011a7c1",
   "metadata": {},
   "outputs": [
    {
     "name": "stdout",
     "output_type": "stream",
     "text": [
      "+---------+------------------+\n",
      "|      job|           SAL_AVG|\n",
      "+---------+------------------+\n",
      "|  ANALYST|            3000.0|\n",
      "| SALESMAN|            1400.0|\n",
      "|    CLERK|            1470.0|\n",
      "|  MANAGER|2758.3333333333335|\n",
      "|PRESIDENT|            5000.0|\n",
      "+---------+------------------+\n",
      "\n"
     ]
    }
   ],
   "source": [
    "#agg() 집계 함수 적용\n",
    "\n",
    "dfs = df.groupBy('job').agg(expr('avg(sal) as SAL_AVG'))\n",
    "dfs.show()"
   ]
  },
  {
   "cell_type": "code",
   "execution_count": 166,
   "id": "0fc953fd",
   "metadata": {},
   "outputs": [
    {
     "name": "stdout",
     "output_type": "stream",
     "text": [
      "+---------+-------------------------+\n",
      "|      job|round(stddev_pop(sal), 2)|\n",
      "+---------+-------------------------+\n",
      "|  ANALYST|                      0.0|\n",
      "| SALESMAN|                   154.11|\n",
      "|    CLERK|                   880.68|\n",
      "|  MANAGER|                   223.92|\n",
      "|PRESIDENT|                      0.0|\n",
      "+---------+-------------------------+\n",
      "\n"
     ]
    }
   ],
   "source": [
    "#표준편차 구하기 \n",
    "# 1. sql.function stddev\n",
    "# 2.sql expression\n",
    "\n",
    "#1번째 방법\n",
    "dfs=df.groupBy('job').agg(round(stddev_pop('sal'),2)).alias('SAL_STDDEV')\n",
    "dfs.show()"
   ]
  },
  {
   "cell_type": "code",
   "execution_count": 167,
   "id": "b645c610",
   "metadata": {},
   "outputs": [
    {
     "name": "stdout",
     "output_type": "stream",
     "text": [
      "+---------+-----------------------------------------+\n",
      "|      job|round(stddev_pop(sal) AS `SAL_STDDEV`, 2)|\n",
      "+---------+-----------------------------------------+\n",
      "|  ANALYST|                                      0.0|\n",
      "| SALESMAN|                                   154.11|\n",
      "|    CLERK|                                   880.68|\n",
      "|  MANAGER|                                   223.92|\n",
      "|PRESIDENT|                                      0.0|\n",
      "+---------+-----------------------------------------+\n",
      "\n"
     ]
    }
   ],
   "source": [
    "#2번째 방법\n",
    "dfs = df.groupBy('job').agg(round(expr('stddev_pop(sal) as SAL_STDDEV'),2))\n",
    "dfs.show()"
   ]
  },
  {
   "cell_type": "code",
   "execution_count": null,
   "id": "bf696e5b",
   "metadata": {},
   "outputs": [],
   "source": []
  },
  {
   "cell_type": "code",
   "execution_count": null,
   "id": "b349da92",
   "metadata": {},
   "outputs": [],
   "source": []
  }
 ],
 "metadata": {
  "kernelspec": {
   "display_name": "Spark_start",
   "language": "python",
   "name": "spark_start"
  },
  "language_info": {
   "codemirror_mode": {
    "name": "ipython",
    "version": 3
   },
   "file_extension": ".py",
   "mimetype": "text/x-python",
   "name": "python",
   "nbconvert_exporter": "python",
   "pygments_lexer": "ipython3",
   "version": "3.8.20"
  }
 },
 "nbformat": 4,
 "nbformat_minor": 5
}
