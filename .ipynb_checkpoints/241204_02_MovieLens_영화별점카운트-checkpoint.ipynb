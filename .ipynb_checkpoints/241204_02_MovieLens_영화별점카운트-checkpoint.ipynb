{
 "cells": [
  {
   "cell_type": "markdown",
   "id": "a9f5144b",
   "metadata": {},
   "source": [
    "user_id: 사용자의 고유 ID.\n",
    "movie_id: 영화의 고유 ID.\n",
    "rating: 사용자가 영화에 준 평점.\n",
    "timestamp: 평점이 기록된 시간."
   ]
  },
  {
   "cell_type": "code",
   "execution_count": null,
   "id": "e6748439",
   "metadata": {},
   "outputs": [],
   "source": [
    "#별점 1,2,3, 별로 카운트"
   ]
  },
  {
   "cell_type": "code",
   "execution_count": null,
   "id": "42dd94cd",
   "metadata": {},
   "outputs": [],
   "source": [
    "from pyspark import SparkConf, SparkContext\n",
    "from collections import OrderedDict\n",
    "conf = SparkConf().setMaster(\"local\").setAppName(\"241204_02_MovieLens\")\n",
    "sc = SparkContext(conf=conf)"
   ]
  },
  {
   "cell_type": "code",
   "execution_count": null,
   "id": "0e37bf59",
   "metadata": {},
   "outputs": [],
   "source": [
    "import os\n",
    "directory = os.path.join(os.getcwd(), \"data\")  # 현재 디렉토리의 data 폴더\n",
    "filename  = \"u.data\"\n",
    "file_path = os.path.join(directory, filename)"
   ]
  },
  {
   "cell_type": "code",
   "execution_count": null,
   "id": "c12a8010",
   "metadata": {},
   "outputs": [],
   "source": [
    "lines = sc.textFile(\"file:///\" + file_path.replace(\"\\\\\", \"/\"))"
   ]
  },
  {
   "cell_type": "code",
   "execution_count": null,
   "id": "da748e03",
   "metadata": {},
   "outputs": [],
   "source": [
    "lines.collect()[:5]"
   ]
  },
  {
   "cell_type": "code",
   "execution_count": null,
   "id": "883464f4",
   "metadata": {},
   "outputs": [],
   "source": [
    "ratings = lines.map(lambda x: x.split('\\t')[2])\n",
    "ratings.collect()[:5]"
   ]
  },
  {
   "cell_type": "code",
   "execution_count": null,
   "id": "b71551ab",
   "metadata": {},
   "outputs": [],
   "source": [
    "result = ratings.countByValue()\n",
    "result"
   ]
  },
  {
   "cell_type": "code",
   "execution_count": 1,
   "id": "3815e2a9",
   "metadata": {},
   "outputs": [],
   "source": [
    "#3점이상인 영화의 평균 평점 계산하기"
   ]
  },
  {
   "cell_type": "code",
   "execution_count": null,
   "id": "4a9e5a0c",
   "metadata": {},
   "outputs": [],
   "source": [
    "#전체 파싱 > 3점이상 데이터 추출\n",
    "high_rating_rdd = lines.map(lambda x:x.split()).filter(lambda row: int(row[2]) >= 3)\n",
    "high_rating_rdd.take(5)\n"
   ]
  },
  {
   "cell_type": "code",
   "execution_count": null,
   "id": "56f3f8c6",
   "metadata": {},
   "outputs": [],
   "source": [
    "#영화별 평균 평점 계산"
   ]
  },
  {
   "cell_type": "code",
   "execution_count": null,
   "id": "fce7c07d",
   "metadata": {},
   "outputs": [],
   "source": [
    "movie_ratings = high_rating_rdd.map(lambda x: (x[1], (int(x[2]), 1)))\n",
    "movie_ratings.take(3)"
   ]
  },
  {
   "cell_type": "code",
   "execution_count": null,
   "id": "63d07896",
   "metadata": {},
   "outputs": [],
   "source": [
    "#key(id) 별로 3점,4점,5점 합산, 카운트 누적\n",
    "movie_total = movie_ratings.reduceByKey(lambda a,b: (a[0]+b[0], a[1]+b[1]))\n",
    "movie_total.take(3)"
   ]
  },
  {
   "cell_type": "code",
   "execution_count": null,
   "id": "0bb87834",
   "metadata": {},
   "outputs": [],
   "source": [
    "#평균\n",
    "movie_avg = movie_total.mapValues(lambda x: x[0]/x[1])\n",
    "movie_avg.take(3)"
   ]
  },
  {
   "cell_type": "code",
   "execution_count": null,
   "id": "a56f8dfe",
   "metadata": {},
   "outputs": [],
   "source": []
  },
  {
   "cell_type": "code",
   "execution_count": null,
   "id": "b145d391",
   "metadata": {},
   "outputs": [],
   "source": []
  },
  {
   "cell_type": "code",
   "execution_count": null,
   "id": "01420b2c",
   "metadata": {},
   "outputs": [],
   "source": [
    "sc.stop()"
   ]
  },
  {
   "cell_type": "code",
   "execution_count": null,
   "id": "b352aa2f",
   "metadata": {},
   "outputs": [],
   "source": []
  },
  {
   "cell_type": "code",
   "execution_count": null,
   "id": "f67b34ab",
   "metadata": {},
   "outputs": [],
   "source": []
  },
  {
   "cell_type": "code",
   "execution_count": null,
   "id": "af9a8ff5",
   "metadata": {},
   "outputs": [],
   "source": []
  },
  {
   "cell_type": "code",
   "execution_count": null,
   "id": "02b1f493",
   "metadata": {},
   "outputs": [],
   "source": []
  }
 ],
 "metadata": {
  "kernelspec": {
   "display_name": "Spark_start",
   "language": "python",
   "name": "spark_start"
  },
  "language_info": {
   "codemirror_mode": {
    "name": "ipython",
    "version": 3
   },
   "file_extension": ".py",
   "mimetype": "text/x-python",
   "name": "python",
   "nbconvert_exporter": "python",
   "pygments_lexer": "ipython3",
   "version": "3.8.20"
  }
 },
 "nbformat": 4,
 "nbformat_minor": 5
}
