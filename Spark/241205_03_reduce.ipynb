{
 "cells": [
  {
   "cell_type": "code",
   "execution_count": 1,
   "metadata": {},
   "outputs": [
    {
     "name": "stderr",
     "output_type": "stream",
     "text": [
      "24/12/06 18:06:18 WARN NativeCodeLoader: Unable to load native-hadoop library for your platform... using builtin-java classes where applicable\n",
      "Using Spark's default log4j profile: org/apache/spark/log4j-defaults.properties\n",
      "Setting default log level to \"WARN\".\n",
      "To adjust logging level use sc.setLogLevel(newLevel). For SparkR, use setLogLevel(newLevel).\n"
     ]
    },
    {
     "data": {
      "text/html": [
       "\n",
       "        <div>\n",
       "            <p><b>SparkContext</b></p>\n",
       "\n",
       "            <p><a href=\"http://ip-172-31-2-110.ap-northeast-3.compute.internal:4040\">Spark UI</a></p>\n",
       "\n",
       "            <dl>\n",
       "              <dt>Version</dt>\n",
       "                <dd><code>v3.1.2</code></dd>\n",
       "              <dt>Master</dt>\n",
       "                <dd><code>local</code></dd>\n",
       "              <dt>AppName</dt>\n",
       "                <dd><code>241205_03_reduce</code></dd>\n",
       "            </dl>\n",
       "        </div>\n",
       "        "
      ],
      "text/plain": [
       "<SparkContext master=local appName=241205_03_reduce>"
      ]
     },
     "execution_count": 1,
     "metadata": {},
     "output_type": "execute_result"
    }
   ],
   "source": [
    "from pyspark import SparkConf, SparkContext\n",
    "#스파크 환경 설정 객체 생성\n",
    "conf = SparkConf().setMaster(\"local\").setAppName(\"241205_03_reduce\")\n",
    "spark = SparkContext(conf=conf).getOrCreate()\n",
    "spark"
   ]
  },
  {
   "cell_type": "code",
   "execution_count": 2,
   "metadata": {},
   "outputs": [
    {
     "data": {
      "text/plain": [
       "ParallelCollectionRDD[0] at readRDDFromFile at PythonRDD.scala:274"
      ]
     },
     "execution_count": 2,
     "metadata": {},
     "output_type": "execute_result"
    }
   ],
   "source": [
    "sample_rdd = spark.parallelize([1,2,3,4,5])\n",
    "sample_rdd"
   ]
  },
  {
   "cell_type": "code",
   "execution_count": 3,
   "metadata": {},
   "outputs": [
    {
     "name": "stderr",
     "output_type": "stream",
     "text": [
      "                                                                                \r"
     ]
    },
    {
     "data": {
      "text/plain": [
       "15"
      ]
     },
     "execution_count": 3,
     "metadata": {},
     "output_type": "execute_result"
    }
   ],
   "source": [
    "from operator import add\n",
    "sample_rdd.reduce(add)"
   ]
  },
  {
   "cell_type": "markdown",
   "metadata": {},
   "source": [
    "# partition 이 나누어져 있을 때\n",
    "```\n",
    "lambda x,y : (x*2) + y\n",
    "```\n",
    "\n",
    "1. 1=1, y=2 >> (1*2) + 2 = 4\n",
    "2. x=4, y=3 >> (4*2) + 3 = 11\n",
    "3. x = 11, y=4 >> (11*2) + 4 = 26"
   ]
  },
  {
   "cell_type": "code",
   "execution_count": 4,
   "metadata": {},
   "outputs": [
    {
     "data": {
      "text/plain": [
       "26"
      ]
     },
     "execution_count": 4,
     "metadata": {},
     "output_type": "execute_result"
    }
   ],
   "source": [
    "#파티션이 1개일 때\n",
    "sample_rdd1 = spark.parallelize([1,2,3,4])\n",
    "sample_rdd1.reduce(lambda x,y: (x*2)+y)"
   ]
  },
  {
   "cell_type": "code",
   "execution_count": 5,
   "metadata": {},
   "outputs": [
    {
     "data": {
      "text/plain": [
       "[[1, 2, 3, 4]]"
      ]
     },
     "execution_count": 5,
     "metadata": {},
     "output_type": "execute_result"
    }
   ],
   "source": [
    "sample_rdd1.glom().collect()"
   ]
  },
  {
   "cell_type": "code",
   "execution_count": 6,
   "metadata": {},
   "outputs": [
    {
     "data": {
      "text/plain": [
       "[[1, 2], [3, 4]]"
      ]
     },
     "execution_count": 6,
     "metadata": {},
     "output_type": "execute_result"
    }
   ],
   "source": [
    "#파티션 2개일 때 계산 결과 \n",
    "sample_rdd2 = spark.parallelize([1,2,3,4],2)\n",
    "sample_rdd2.glom().collect()"
   ]
  },
  {
   "cell_type": "code",
   "execution_count": 7,
   "metadata": {},
   "outputs": [
    {
     "data": {
      "text/plain": [
       "18"
      ]
     },
     "execution_count": 7,
     "metadata": {},
     "output_type": "execute_result"
    }
   ],
   "source": [
    "sample_rdd2.reduce(lambda x,y: (x*2)+y)"
   ]
  },
  {
   "cell_type": "markdown",
   "metadata": {},
   "source": [
    "## 파티션\n",
    "1. 1=1, y=2 >> (1*2) + 2 = 4\n",
    "2. x=3, y=4 >> (3*2) + 4 = 10\n",
    "3. x = 4, y=10 >> (4*2) + 10 = 18"
   ]
  },
  {
   "cell_type": "code",
   "execution_count": 8,
   "metadata": {},
   "outputs": [
    {
     "data": {
      "text/plain": [
       "[[1], [2], [3, 4]]"
      ]
     },
     "execution_count": 8,
     "metadata": {},
     "output_type": "execute_result"
    }
   ],
   "source": [
    "#파티션 3개일 때 계산 결과 \n",
    "sample_rdd3 = spark.parallelize([1,2,3,4],3)\n",
    "sample_rdd3.glom().collect()"
   ]
  },
  {
   "cell_type": "code",
   "execution_count": 9,
   "metadata": {},
   "outputs": [
    {
     "data": {
      "text/plain": [
       "18"
      ]
     },
     "execution_count": 9,
     "metadata": {},
     "output_type": "execute_result"
    }
   ],
   "source": [
    "sample_rdd3.reduce(lambda x,y: (x*2)+y)"
   ]
  },
  {
   "cell_type": "markdown",
   "metadata": {},
   "source": [
    "#### 파티션3 정리 \n",
    "\n",
    "p1: 1 <br>\n",
    "p2: 2 <br>\n",
    "p3: x=3, y=4 > 10 <br>\n",
    "<br>\n",
    "p1, p2 결합 <br>\n",
    "x=1, y=2 > 4 <br>\n",
    "\n",
    "최종 <br>\n",
    "x=4, y=10 > 18 <br>"
   ]
  },
  {
   "cell_type": "markdown",
   "metadata": {},
   "source": [
    "# 리듀스 연산은 순서 의존적\n",
    "\n",
    "각 파티션 내에서 연산은 독립적으로 실행, 최종 결과는 파티션 간의 결과가 결합"
   ]
  },
  {
   "cell_type": "markdown",
   "metadata": {},
   "source": [
    "### fold 연산의 활용\n",
    "```\n",
    "fold(zeroValue, <func>)\n",
    "```\n",
    "\n",
    "zeroValue: 시작값, 항등원 *일때 1, +일 경우 0\n"
   ]
  },
  {
   "cell_type": "code",
   "execution_count": 10,
   "metadata": {},
   "outputs": [
    {
     "data": {
      "text/plain": [
       "[[1], [2], [3], [4]]"
      ]
     },
     "execution_count": 10,
     "metadata": {},
     "output_type": "execute_result"
    }
   ],
   "source": [
    "sample_rdd4 = spark.parallelize([1, 2, 3, 4], 4)\n",
    "sample_rdd4.glom().collect()"
   ]
  },
  {
   "cell_type": "code",
   "execution_count": 11,
   "metadata": {},
   "outputs": [
    {
     "data": {
      "text/plain": [
       "24"
      ]
     },
     "execution_count": 11,
     "metadata": {},
     "output_type": "execute_result"
    }
   ],
   "source": [
    "sample_rdd4.reduce(lambda x,y: x*y)"
   ]
  },
  {
   "cell_type": "markdown",
   "metadata": {},
   "source": [
    "- 시뮬레이션 <br>\n",
    "p1: 1, p2: 2 = 2<br>\n",
    "p3: 3, p4: 4 = 12<br>\n",
    "2*12 = 24<br>"
   ]
  },
  {
   "cell_type": "code",
   "execution_count": 13,
   "metadata": {},
   "outputs": [
    {
     "data": {
      "text/plain": [
       "24"
      ]
     },
     "execution_count": 13,
     "metadata": {},
     "output_type": "execute_result"
    }
   ],
   "source": [
    "sample_rdd4.fold(1, lambda x,y:x*y)"
   ]
  },
  {
   "cell_type": "code",
   "execution_count": 14,
   "metadata": {},
   "outputs": [
    {
     "data": {
      "text/plain": [
       "[[]]"
      ]
     },
     "execution_count": 14,
     "metadata": {},
     "output_type": "execute_result"
    }
   ],
   "source": [
    "#빈 RDD의 예외처리\n",
    "sample_rdd5 = spark.parallelize([])\n",
    "sample_rdd5.glom().collect()"
   ]
  },
  {
   "cell_type": "code",
   "execution_count": 15,
   "metadata": {},
   "outputs": [
    {
     "name": "stdout",
     "output_type": "stream",
     "text": [
      "Reduce Error:Can not reduce() empty RDD\n"
     ]
    }
   ],
   "source": [
    "try:\n",
    "    sample_rdd5.reduce(lambda x,y: x+y)\n",
    "except ValueError as e:\n",
    "    print(f'Reduce Error:{e}')"
   ]
  },
  {
   "cell_type": "code",
   "execution_count": 16,
   "metadata": {},
   "outputs": [
    {
     "data": {
      "text/plain": [
       "4"
      ]
     },
     "execution_count": 16,
     "metadata": {},
     "output_type": "execute_result"
    }
   ],
   "source": [
    "sample_rdd5.fold(2,lambda x,y: x+y)"
   ]
  },
  {
   "cell_type": "markdown",
   "metadata": {},
   "source": [
    "## reduce(), fold() 비슷한 처리를 합니다. \n",
    "\n",
    "1. reduce() 는 단순한 RDD 축약 연산, 비어있지 않은 RDD 의 경우\n",
    "2. fold()는 일반적이고 오류가 없는 연산, 초기값을 적용해서 비어있는 RDD, 파티션의 경우에도 적용할 수 있음."
   ]
  },
  {
   "cell_type": "code",
   "execution_count": 17,
   "metadata": {},
   "outputs": [
    {
     "data": {
      "text/plain": [
       "[1, 'a', 2]"
      ]
     },
     "execution_count": 17,
     "metadata": {},
     "output_type": "execute_result"
    }
   ],
   "source": [
    "rdd6 = spark.parallelize([1,\"a\",2])\n",
    "rdd6.collect()"
   ]
  },
  {
   "cell_type": "code",
   "execution_count": 18,
   "metadata": {},
   "outputs": [
    {
     "name": "stdout",
     "output_type": "stream",
     "text": [
      "1a2\n"
     ]
    }
   ],
   "source": [
    "try:\n",
    "    print(rdd6.reduce(lambda x,y: str(x)+str(y)))\n",
    "except Py4JJavaError as e :\n",
    "    print(f'Reduce Error: {e}')"
   ]
  },
  {
   "cell_type": "code",
   "execution_count": 19,
   "metadata": {},
   "outputs": [
    {
     "data": {
      "text/plain": [
       "'1a2'"
      ]
     },
     "execution_count": 19,
     "metadata": {},
     "output_type": "execute_result"
    }
   ],
   "source": [
    "rdd6.fold(\"\", lambda x,y: str(x)+str(y))"
   ]
  },
  {
   "cell_type": "markdown",
   "metadata": {},
   "source": [
    "## groupby(), aggregate()\n",
    "\n",
    "\n",
    "RDD.groupBy(lambda x:x%2).collect() <br>\n",
    "RDD.aggregate(zeroValue,func1_partion, func2_combine)"
   ]
  },
  {
   "cell_type": "code",
   "execution_count": 20,
   "metadata": {},
   "outputs": [
    {
     "data": {
      "text/plain": [
       "ParallelCollectionRDD[22] at readRDDFromFile at PythonRDD.scala:274"
      ]
     },
     "execution_count": 20,
     "metadata": {},
     "output_type": "execute_result"
    }
   ],
   "source": [
    "# RDD 생성\n",
    "rdd7 = spark.parallelize([1,2,1,1,3,5,5,8])\n",
    "rdd7"
   ]
  },
  {
   "cell_type": "code",
   "execution_count": 21,
   "metadata": {},
   "outputs": [
    {
     "name": "stderr",
     "output_type": "stream",
     "text": [
      "\r",
      "[Stage 16:>                                                         (0 + 1) / 1]\r",
      "\r",
      "                                                                                \r"
     ]
    },
    {
     "data": {
      "text/plain": [
       "[(1, <pyspark.resultiterable.ResultIterable at 0x7f578755bb50>),\n",
       " (0, <pyspark.resultiterable.ResultIterable at 0x7f577cc43850>)]"
      ]
     },
     "execution_count": 21,
     "metadata": {},
     "output_type": "execute_result"
    }
   ],
   "source": [
    " # groupBy 함수 적용\n",
    "result = rdd7.groupBy(lambda x:x%2).collect() #각 요소를 2로 나눈 나머지를 기준으로 그룹화\n",
    "result"
   ]
  },
  {
   "cell_type": "code",
   "execution_count": 22,
   "metadata": {},
   "outputs": [
    {
     "data": {
      "text/plain": [
       "[(1, [1, 1, 1, 3, 5, 5]), (0, [2, 8])]"
      ]
     },
     "execution_count": 22,
     "metadata": {},
     "output_type": "execute_result"
    }
   ],
   "source": [
    "[(x,sorted(y)) for (x,y) in result]"
   ]
  },
  {
   "cell_type": "code",
   "execution_count": 23,
   "metadata": {},
   "outputs": [],
   "source": [
    "# RDD.aggregate(zeroValue,func1_partion, func2_combine)\n",
    "func1 = lambda x,y : (x[0] + y, x[1] +1)\n",
    "func2 = lambda x,y : (x[0] + y[0], x[1] +y[1])"
   ]
  },
  {
   "cell_type": "code",
   "execution_count": 24,
   "metadata": {},
   "outputs": [
    {
     "data": {
      "text/plain": [
       "[[1, 2], [3, 4]]"
      ]
     },
     "execution_count": 24,
     "metadata": {},
     "output_type": "execute_result"
    }
   ],
   "source": [
    "rdd8 = spark.parallelize([1,2,3,4], 2)\n",
    "rdd8.glom().collect()"
   ]
  },
  {
   "cell_type": "code",
   "execution_count": 25,
   "metadata": {},
   "outputs": [
    {
     "data": {
      "text/plain": [
       "(10, 4)"
      ]
     },
     "execution_count": 25,
     "metadata": {},
     "output_type": "execute_result"
    }
   ],
   "source": [
    "rdd8.aggregate((0,0),func1, func2)"
   ]
  },
  {
   "cell_type": "code",
   "execution_count": null,
   "metadata": {},
   "outputs": [],
   "source": [
    "#simulation\n",
    "\n",
    "p1: 파티션 1처리 [1,2]\n",
    "1) 초기값: zeroValue = [0,0]\n",
    "x=(0,0), y = 1 ([1,2] 에 1)\n",
    "\n",
    "2) 첫번째 요소 1 처리 \n",
    "func1(x, y) = (x[0] + y, x[1] + 1)\n",
    "# x = (0, 0), y = 1\n",
    "# 계산: (0 + 1, 0 + 1) → (1, 1)\n",
    "\n",
    "3) 두번째 요소 2 처리 # 누적 (1,1)을 가져옴\n",
    "func1(x, y) = (x[0] + y, x[1] + 1)\n",
    "# x = (1, 1), y = 2\n",
    "# 계산: (1 + 2, 1 + 1) → (3, 2)\n",
    ">> 최종 (3,2)\n",
    "\n",
    "p2: 파티션 2 처리: [3, 4]\n",
    "1) 초기값: zeroValue = [0,0]\n",
    "x=(0,0), y = 3 ([3,4] 에 1)\n",
    "\n",
    "2) 첫번째 요소 3 처리\n",
    "func1(x, y) = (x[0] + y, x[1] + 1)\n",
    "# x = (0, 0), y = 3\n",
    "# 계산: (0 + 3, 0 + 1) → (3, 1)\n",
    "\n",
    "3) 첫번째 요소 4 처리 # 누적 (3,1)을 가져옴\n",
    "func1(x, y) = (x[0] + y, x[1] + 1)\n",
    "# x = (3, 1), y = 4\n",
    "# 계산: (3 + 4, 1 + 1) → (7, 2)\n",
    ">> 최종 (7,2)\n",
    "\n",
    "\n",
    "p1, p2 파티션 결합 \n",
    "func2(x, y) = (x[0] + y[0], x[1] + y[1])\n",
    "# x = (3, 2), y = (7, 2)\n",
    "# 계산: (3 + 7, 2 + 2) → (10, 4)\n",
    "\n",
    ">> (10,4)"
   ]
  },
  {
   "cell_type": "markdown",
   "metadata": {},
   "source": [
    "## key-value RDD(Paired RDD)\n",
    "\n",
    "groupByKey(), mapValues() <br> \n",
    "reduceByKey() <br> \n",
    "countByKey(), keys(), values() <br>\n",
    "\n",
    "\n",
    "\n",
    "그룹핑 한 후에 특정 트랜스포메이션을 수행, 키가 필요함. \n"
   ]
  },
  {
   "cell_type": "code",
   "execution_count": 26,
   "metadata": {},
   "outputs": [
    {
     "data": {
      "text/plain": [
       "[('짜장면', 15), ('짬뽕', 10), ('짜장면', 5), ('짬뽕', 20)]"
      ]
     },
     "execution_count": 26,
     "metadata": {},
     "output_type": "execute_result"
    }
   ],
   "source": [
    "rdd9 = spark.parallelize([\n",
    "    (\"짜장면\", 15),\n",
    "    (\"짬뽕\", 10),\n",
    "    (\"짜장면\", 5),\n",
    "    (\"짬뽕\", 20),\n",
    "])\n",
    "rdd9.collect()"
   ]
  },
  {
   "cell_type": "code",
   "execution_count": 27,
   "metadata": {},
   "outputs": [
    {
     "data": {
      "text/plain": [
       "[('짜장면', <pyspark.resultiterable.ResultIterable at 0x7f577cc4fc70>),\n",
       " ('짬뽕', <pyspark.resultiterable.ResultIterable at 0x7f577cbf7520>)]"
      ]
     },
     "execution_count": 27,
     "metadata": {},
     "output_type": "execute_result"
    }
   ],
   "source": [
    "#groupByKey()\n",
    "rdd9_g = rdd9.groupByKey()\n",
    "rdd9_g.collect()"
   ]
  },
  {
   "cell_type": "code",
   "execution_count": 28,
   "metadata": {},
   "outputs": [
    {
     "data": {
      "text/plain": [
       "[('짜장면', 2), ('짬뽕', 2)]"
      ]
     },
     "execution_count": 28,
     "metadata": {},
     "output_type": "execute_result"
    }
   ],
   "source": [
    "rdd9_g.mapValues(len).collect() #len 대신 max, min 가능 "
   ]
  },
  {
   "cell_type": "code",
   "execution_count": 29,
   "metadata": {},
   "outputs": [
    {
     "data": {
      "text/plain": [
       "[('짜장면', [15, 5]), ('짬뽕', [10, 20])]"
      ]
     },
     "execution_count": 29,
     "metadata": {},
     "output_type": "execute_result"
    }
   ],
   "source": [
    "rdd9_g.mapValues(list).collect() "
   ]
  },
  {
   "cell_type": "code",
   "execution_count": 30,
   "metadata": {},
   "outputs": [
    {
     "data": {
      "text/plain": [
       "[('짜장면', 10.0), ('짬뽕', 15.0)]"
      ]
     },
     "execution_count": 30,
     "metadata": {},
     "output_type": "execute_result"
    }
   ],
   "source": [
    "rdd9_g.mapValues(lambda x:sum(x)/len(x)).collect() #집계형 연산들"
   ]
  },
  {
   "cell_type": "code",
   "execution_count": 31,
   "metadata": {},
   "outputs": [
    {
     "data": {
      "text/plain": [
       "[('짜장면', 20), ('짬뽕', 30)]"
      ]
     },
     "execution_count": 31,
     "metadata": {},
     "output_type": "execute_result"
    }
   ],
   "source": [
    "#reduceByKey()\n",
    "rdd9.reduceByKey(add).collect() # add 대신 max,min 쓸수있음, len은 안됨"
   ]
  },
  {
   "cell_type": "code",
   "execution_count": 32,
   "metadata": {},
   "outputs": [
    {
     "data": {
      "text/plain": [
       "[('짜장면', 20), ('짬뽕', 30)]"
      ]
     },
     "execution_count": 32,
     "metadata": {},
     "output_type": "execute_result"
    }
   ],
   "source": [
    "rdd9.reduceByKey(lambda x,y: x+y).collect() "
   ]
  },
  {
   "cell_type": "code",
   "execution_count": 33,
   "metadata": {},
   "outputs": [
    {
     "data": {
      "text/plain": [
       "defaultdict(int, {'짜장면': 2, '짬뽕': 2})"
      ]
     },
     "execution_count": 33,
     "metadata": {},
     "output_type": "execute_result"
    }
   ],
   "source": [
    "#countByKey() 각 키 별로 요소들의 갯수를 카운트 > Action\n",
    "rdd9.countByKey()"
   ]
  },
  {
   "cell_type": "code",
   "execution_count": 34,
   "metadata": {},
   "outputs": [
    {
     "data": {
      "text/plain": [
       "['짜장면', '짬뽕', '짜장면', '짬뽕']"
      ]
     },
     "execution_count": 34,
     "metadata": {},
     "output_type": "execute_result"
    }
   ],
   "source": [
    "#keys() 키만 가진 RDD > Transformation\n",
    "rdd9.keys().collect()"
   ]
  },
  {
   "cell_type": "code",
   "execution_count": 35,
   "metadata": {},
   "outputs": [
    {
     "data": {
      "text/plain": [
       "[15, 10, 5, 20]"
      ]
     },
     "execution_count": 35,
     "metadata": {},
     "output_type": "execute_result"
    }
   ],
   "source": [
    "#values() valud만 가진 RDD > Transformation\n",
    "rdd9.values().collect()"
   ]
  },
  {
   "cell_type": "markdown",
   "metadata": {},
   "source": [
    "## join - outer, inner - transformation\n",
    "\n",
    "inner-join : 두개의 집합에서 함께 존재하는 요소(key)의 집합 (Default) <br>\n",
    "outer-join: 한쪽에있고, 다른쪽에 없을 때 - leftOuterJoin, rightOuterJoin, fullOuterJoin"
   ]
  },
  {
   "cell_type": "code",
   "execution_count": 36,
   "metadata": {},
   "outputs": [],
   "source": [
    "join_rdd1 = spark.parallelize(\n",
    "[\n",
    "    (\"a\",10),\n",
    "    (\"b\",20),\n",
    "    (\"c\",30),\n",
    "])\n",
    "\n",
    "join_rdd2 = spark.parallelize(\n",
    "[\n",
    "    (\"a\",20),\n",
    "    (\"b\",20),\n",
    "    (\"b\",10),\n",
    "    (\"d\",5),\n",
    "])"
   ]
  },
  {
   "cell_type": "code",
   "execution_count": 37,
   "metadata": {},
   "outputs": [
    {
     "data": {
      "text/plain": [
       "[('b', (20, 20)), ('b', (20, 10)), ('a', (10, 20))]"
      ]
     },
     "execution_count": 37,
     "metadata": {},
     "output_type": "execute_result"
    }
   ],
   "source": [
    "#join - innerjoin, default\n",
    "join_rdd1.join(join_rdd2).collect() #key를 기준으로 같이 있는 걸 추출 - c는 2번째에 없으니 추출이 안됨"
   ]
  },
  {
   "cell_type": "code",
   "execution_count": 38,
   "metadata": {},
   "outputs": [
    {
     "data": {
      "text/plain": [
       "[('b', (20, 20)), ('b', (20, 10)), ('c', (30, None)), ('a', (10, 20))]"
      ]
     },
     "execution_count": 38,
     "metadata": {},
     "output_type": "execute_result"
    }
   ],
   "source": [
    "#leftOuterJoin\n",
    "join_rdd1.leftOuterJoin(join_rdd2).collect()"
   ]
  },
  {
   "cell_type": "code",
   "execution_count": 39,
   "metadata": {},
   "outputs": [
    {
     "data": {
      "text/plain": [
       "[('b', (20, 20)), ('b', (20, 10)), ('d', (None, 5)), ('a', (10, 20))]"
      ]
     },
     "execution_count": 39,
     "metadata": {},
     "output_type": "execute_result"
    }
   ],
   "source": [
    "#rightOuterJoin\n",
    "join_rdd1.rightOuterJoin(join_rdd2).collect()"
   ]
  },
  {
   "cell_type": "code",
   "execution_count": 40,
   "metadata": {},
   "outputs": [
    {
     "data": {
      "text/plain": [
       "[('b', (20, 20)),\n",
       " ('b', (20, 10)),\n",
       " ('c', (30, None)),\n",
       " ('d', (None, 5)),\n",
       " ('a', (10, 20))]"
      ]
     },
     "execution_count": 40,
     "metadata": {},
     "output_type": "execute_result"
    }
   ],
   "source": [
    "#fullOuterJoin\n",
    "join_rdd1.fullOuterJoin(join_rdd2).collect()"
   ]
  },
  {
   "cell_type": "code",
   "execution_count": 41,
   "metadata": {},
   "outputs": [],
   "source": [
    "spark.stop()"
   ]
  }
 ],
 "metadata": {
  "kernelspec": {
   "display_name": "Spark_start",
   "language": "python",
   "name": "spark_start"
  },
  "language_info": {
   "codemirror_mode": {
    "name": "ipython",
    "version": 3
   },
   "file_extension": ".py",
   "mimetype": "text/x-python",
   "name": "python",
   "nbconvert_exporter": "python",
   "pygments_lexer": "ipython3",
   "version": "3.8.20"
  }
 },
 "nbformat": 4,
 "nbformat_minor": 2
}
