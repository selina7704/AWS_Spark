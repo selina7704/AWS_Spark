{
 "cells": [
  {
   "cell_type": "markdown",
   "id": "a9f5144b",
   "metadata": {},
   "source": [
    "user_id: 사용자의 고유 ID <br>\n",
    "movie_id: 영화의 고유 ID<br>\n",
    "rating: 사용자가 영화에 준 평점<br>\n",
    "timestamp: 평점이 기록된 시간<br>"
   ]
  },
  {
   "cell_type": "code",
   "execution_count": 1,
   "id": "e6748439",
   "metadata": {},
   "outputs": [],
   "source": [
    "#별점 1,2,3, 별로 카운트"
   ]
  },
  {
   "cell_type": "code",
   "execution_count": 2,
   "id": "42dd94cd",
   "metadata": {},
   "outputs": [
    {
     "name": "stderr",
     "output_type": "stream",
     "text": [
      "24/12/06 18:04:05 WARN NativeCodeLoader: Unable to load native-hadoop library for your platform... using builtin-java classes where applicable\n",
      "Using Spark's default log4j profile: org/apache/spark/log4j-defaults.properties\n",
      "Setting default log level to \"WARN\".\n",
      "To adjust logging level use sc.setLogLevel(newLevel). For SparkR, use setLogLevel(newLevel).\n"
     ]
    }
   ],
   "source": [
    "from pyspark import SparkConf, SparkContext\n",
    "from collections import OrderedDict\n",
    "conf = SparkConf().setMaster(\"local\").setAppName(\"241204_02_MovieLens\")\n",
    "sc = SparkContext(conf=conf)"
   ]
  },
  {
   "cell_type": "code",
   "execution_count": 3,
   "id": "0e37bf59",
   "metadata": {},
   "outputs": [],
   "source": [
    "import os\n",
    "directory = os.path.join(os.getcwd(), \"data\")  # 현재 디렉토리의 data 폴더\n",
    "filename  = \"u.data\"\n",
    "file_path = os.path.join(directory, filename)"
   ]
  },
  {
   "cell_type": "code",
   "execution_count": 4,
   "id": "c12a8010",
   "metadata": {},
   "outputs": [],
   "source": [
    "lines = sc.textFile(\"file:///\" + file_path.replace(\"\\\\\", \"/\"))"
   ]
  },
  {
   "cell_type": "code",
   "execution_count": 5,
   "id": "da748e03",
   "metadata": {},
   "outputs": [
    {
     "name": "stderr",
     "output_type": "stream",
     "text": [
      "                                                                                \r"
     ]
    },
    {
     "data": {
      "text/plain": [
       "['196\\t242\\t3\\t881250949',\n",
       " '186\\t302\\t3\\t891717742',\n",
       " '22\\t377\\t1\\t878887116',\n",
       " '244\\t51\\t2\\t880606923',\n",
       " '166\\t346\\t1\\t886397596']"
      ]
     },
     "execution_count": 5,
     "metadata": {},
     "output_type": "execute_result"
    }
   ],
   "source": [
    "lines.collect()[:5]"
   ]
  },
  {
   "cell_type": "code",
   "execution_count": 6,
   "id": "883464f4",
   "metadata": {},
   "outputs": [
    {
     "name": "stderr",
     "output_type": "stream",
     "text": [
      "                                                                                \r"
     ]
    },
    {
     "data": {
      "text/plain": [
       "['3', '3', '1', '2', '1']"
      ]
     },
     "execution_count": 6,
     "metadata": {},
     "output_type": "execute_result"
    }
   ],
   "source": [
    "ratings = lines.map(lambda x: x.split('\\t')[2])\n",
    "ratings.collect()[:5]"
   ]
  },
  {
   "cell_type": "code",
   "execution_count": 7,
   "id": "b71551ab",
   "metadata": {},
   "outputs": [
    {
     "data": {
      "text/plain": [
       "defaultdict(int, {'3': 27145, '1': 6110, '2': 11370, '4': 34174, '5': 21201})"
      ]
     },
     "execution_count": 7,
     "metadata": {},
     "output_type": "execute_result"
    }
   ],
   "source": [
    "result = ratings.countByValue()\n",
    "result"
   ]
  },
  {
   "cell_type": "code",
   "execution_count": 8,
   "id": "3815e2a9",
   "metadata": {},
   "outputs": [],
   "source": [
    "#3점이상인 영화의 평균 평점 계산하기"
   ]
  },
  {
   "cell_type": "code",
   "execution_count": 9,
   "id": "4a9e5a0c",
   "metadata": {},
   "outputs": [
    {
     "data": {
      "text/plain": [
       "[['196', '242', '3', '881250949'],\n",
       " ['186', '302', '3', '891717742'],\n",
       " ['298', '474', '4', '884182806'],\n",
       " ['253', '465', '5', '891628467'],\n",
       " ['305', '451', '3', '886324817']]"
      ]
     },
     "execution_count": 9,
     "metadata": {},
     "output_type": "execute_result"
    }
   ],
   "source": [
    "#전체 파싱 > 3점이상 데이터 추출\n",
    "high_rating_rdd = lines.map(lambda x:x.split()).filter(lambda row: int(row[2]) >= 3)\n",
    "high_rating_rdd.take(5)\n"
   ]
  },
  {
   "cell_type": "code",
   "execution_count": 10,
   "id": "56f3f8c6",
   "metadata": {},
   "outputs": [],
   "source": [
    "#영화별 평균 평점 계산"
   ]
  },
  {
   "cell_type": "code",
   "execution_count": 11,
   "id": "fce7c07d",
   "metadata": {},
   "outputs": [
    {
     "data": {
      "text/plain": [
       "[('242', (3, 1)), ('302', (3, 1)), ('474', (4, 1))]"
      ]
     },
     "execution_count": 11,
     "metadata": {},
     "output_type": "execute_result"
    }
   ],
   "source": [
    "movie_ratings = high_rating_rdd.map(lambda x: (x[1], (int(x[2]), 1)))\n",
    "movie_ratings.take(3)"
   ]
  },
  {
   "cell_type": "code",
   "execution_count": 12,
   "id": "63d07896",
   "metadata": {},
   "outputs": [
    {
     "data": {
      "text/plain": [
       "[('242', (453, 108)), ('302', (1214, 285)), ('474', (813, 188))]"
      ]
     },
     "execution_count": 12,
     "metadata": {},
     "output_type": "execute_result"
    }
   ],
   "source": [
    "#key(id) 별로 3점,4점,5점 합산, 카운트 누적\n",
    "movie_total = movie_ratings.reduceByKey(lambda a,b: (a[0]+b[0], a[1]+b[1]))\n",
    "movie_total.take(3)"
   ]
  },
  {
   "cell_type": "code",
   "execution_count": 13,
   "id": "0bb87834",
   "metadata": {},
   "outputs": [
    {
     "data": {
      "text/plain": [
       "[('242', 4.194444444444445),\n",
       " ('302', 4.2596491228070175),\n",
       " ('474', 4.324468085106383)]"
      ]
     },
     "execution_count": 13,
     "metadata": {},
     "output_type": "execute_result"
    }
   ],
   "source": [
    "#평균\n",
    "movie_avg = movie_total.mapValues(lambda x: x[0]/x[1])\n",
    "movie_avg.take(3)"
   ]
  },
  {
   "cell_type": "code",
   "execution_count": 14,
   "id": "01420b2c",
   "metadata": {},
   "outputs": [],
   "source": [
    "sc.stop()"
   ]
  }
 ],
 "metadata": {
  "kernelspec": {
   "display_name": "Spark_start",
   "language": "python",
   "name": "spark_start"
  },
  "language_info": {
   "codemirror_mode": {
    "name": "ipython",
    "version": 3
   },
   "file_extension": ".py",
   "mimetype": "text/x-python",
   "name": "python",
   "nbconvert_exporter": "python",
   "pygments_lexer": "ipython3",
   "version": "3.8.20"
  }
 },
 "nbformat": 4,
 "nbformat_minor": 5
}
