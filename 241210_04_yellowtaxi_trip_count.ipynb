{
 "cells": [
  {
   "cell_type": "markdown",
   "id": "d197fd1a",
   "metadata": {},
   "source": [
    "# YellowTaxi Tirp Data Analysis "
   ]
  },
  {
   "cell_type": "code",
   "execution_count": 1,
   "id": "9f805a69",
   "metadata": {
    "scrolled": false
   },
   "outputs": [
    {
     "name": "stderr",
     "output_type": "stream",
     "text": [
      "24/12/12 11:21:21 WARN NativeCodeLoader: Unable to load native-hadoop library for your platform... using builtin-java classes where applicable\n",
      "Using Spark's default log4j profile: org/apache/spark/log4j-defaults.properties\n",
      "Setting default log level to \"WARN\".\n",
      "To adjust logging level use sc.setLogLevel(newLevel). For SparkR, use setLogLevel(newLevel).\n",
      "24/12/12 11:21:22 WARN Utils: Service 'SparkUI' could not bind on port 4040. Attempting port 4041.\n"
     ]
    },
    {
     "data": {
      "text/html": [
       "\n",
       "            <div>\n",
       "                <p><b>SparkSession - in-memory</b></p>\n",
       "                \n",
       "        <div>\n",
       "            <p><b>SparkContext</b></p>\n",
       "\n",
       "            <p><a href=\"http://ip-172-31-2-110.ap-northeast-3.compute.internal:4041\">Spark UI</a></p>\n",
       "\n",
       "            <dl>\n",
       "              <dt>Version</dt>\n",
       "                <dd><code>v3.1.2</code></dd>\n",
       "              <dt>Master</dt>\n",
       "                <dd><code>local[*]</code></dd>\n",
       "              <dt>AppName</dt>\n",
       "                <dd><code>241210_04_yellowtaxi_trip_count</code></dd>\n",
       "            </dl>\n",
       "        </div>\n",
       "        \n",
       "            </div>\n",
       "        "
      ],
      "text/plain": [
       "<pyspark.sql.session.SparkSession at 0x7f61a8589610>"
      ]
     },
     "execution_count": 1,
     "metadata": {},
     "output_type": "execute_result"
    }
   ],
   "source": [
    "from pyspark.sql import SparkSession\n",
    "spark = SparkSession.builder.appName(\"241210_04_yellowtaxi_trip_count\").getOrCreate()\n",
    "spark"
   ]
  },
  {
   "cell_type": "code",
   "execution_count": 2,
   "id": "a2fae6f5",
   "metadata": {},
   "outputs": [],
   "source": [
    "# 파일 불러오기 \n",
    "\n",
    "import os\n",
    "\n",
    "trip_files = '/trips/*'\n",
    "zone_file = 'taxi+_zone_lookup.csv'\n",
    "directory = os.path.join(os.getcwd(), 'data')"
   ]
  },
  {
   "cell_type": "code",
   "execution_count": 3,
   "id": "6d46982c",
   "metadata": {},
   "outputs": [
    {
     "name": "stderr",
     "output_type": "stream",
     "text": [
      "                                                                                \r"
     ]
    }
   ],
   "source": [
    "trips_df = spark.read.csv(f'file:///{directory}/{trip_files}', inferSchema=True, header=True)"
   ]
  },
  {
   "cell_type": "code",
   "execution_count": 4,
   "id": "c009f1eb",
   "metadata": {},
   "outputs": [],
   "source": [
    "zone_df = spark.read.csv(f'file:///{directory}/{zone_file}', inferSchema=True, header=True)"
   ]
  },
  {
   "cell_type": "markdown",
   "id": "161da79d",
   "metadata": {},
   "source": [
    "## 데이터 자료 조사"
   ]
  },
  {
   "cell_type": "code",
   "execution_count": 5,
   "id": "2fa9847f",
   "metadata": {},
   "outputs": [
    {
     "name": "stdout",
     "output_type": "stream",
     "text": [
      "root\n",
      " |-- VendorID: integer (nullable = true)\n",
      " |-- tpep_pickup_datetime: string (nullable = true)\n",
      " |-- tpep_dropoff_datetime: string (nullable = true)\n",
      " |-- passenger_count: integer (nullable = true)\n",
      " |-- trip_distance: double (nullable = true)\n",
      " |-- RatecodeID: integer (nullable = true)\n",
      " |-- store_and_fwd_flag: string (nullable = true)\n",
      " |-- PULocationID: integer (nullable = true)\n",
      " |-- DOLocationID: integer (nullable = true)\n",
      " |-- payment_type: integer (nullable = true)\n",
      " |-- fare_amount: double (nullable = true)\n",
      " |-- extra: double (nullable = true)\n",
      " |-- mta_tax: double (nullable = true)\n",
      " |-- tip_amount: double (nullable = true)\n",
      " |-- tolls_amount: double (nullable = true)\n",
      " |-- improvement_surcharge: double (nullable = true)\n",
      " |-- total_amount: double (nullable = true)\n",
      " |-- congestion_surcharge: double (nullable = true)\n",
      "\n",
      "root\n",
      " |-- LocationID: integer (nullable = true)\n",
      " |-- Borough: string (nullable = true)\n",
      " |-- Zone: string (nullable = true)\n",
      " |-- service_zone: string (nullable = true)\n",
      "\n"
     ]
    }
   ],
   "source": [
    "trips_df.printSchema()\n",
    "zone_df.printSchema()"
   ]
  },
  {
   "cell_type": "code",
   "execution_count": 6,
   "id": "1707ca3c",
   "metadata": {},
   "outputs": [
    {
     "name": "stdout",
     "output_type": "stream",
     "text": [
      "+--------+--------------------+---------------------+---------------+-------------+----------+------------------+------------+------------+------------+-----------+-----+-------+----------+------------+---------------------+------------+--------------------+\n",
      "|VendorID|tpep_pickup_datetime|tpep_dropoff_datetime|passenger_count|trip_distance|RatecodeID|store_and_fwd_flag|PULocationID|DOLocationID|payment_type|fare_amount|extra|mta_tax|tip_amount|tolls_amount|improvement_surcharge|total_amount|congestion_surcharge|\n",
      "+--------+--------------------+---------------------+---------------+-------------+----------+------------------+------------+------------+------------+-----------+-----+-------+----------+------------+---------------------+------------+--------------------+\n",
      "|       2| 2021-03-01 00:22:02|  2021-03-01 00:23:22|              1|          0.0|         1|                 N|         264|         264|           2|        3.0|  0.5|    0.5|       0.0|         0.0|                  0.3|         4.3|                 0.0|\n",
      "|       2| 2021-03-01 00:24:48|  2021-03-01 00:24:56|              1|          0.0|         1|                 N|         152|         152|           2|        2.5|  0.5|    0.5|       0.0|         0.0|                  0.3|         3.8|                 0.0|\n",
      "|       2| 2021-03-01 00:25:17|  2021-03-01 00:31:01|              1|          0.0|         1|                 N|         152|         152|           2|        3.5|  0.5|    0.5|       0.0|         0.0|                  0.3|         4.8|                 0.0|\n",
      "|       1| 2021-03-01 00:07:40|  2021-03-01 00:31:23|              0|         16.5|         4|                 N|         138|         265|           1|       51.0|  0.5|    0.5|     11.65|        6.12|                  0.3|       70.07|                 0.0|\n",
      "|       2| 2021-03-01 00:02:13|  2021-03-01 00:06:01|              1|         1.13|         1|                 N|          68|         264|           1|        5.5|  0.5|    0.5|      1.86|         0.0|                  0.3|       11.16|                 2.5|\n",
      "+--------+--------------------+---------------------+---------------+-------------+----------+------------------+------------+------------+------------+-----------+-----+-------+----------+------------+---------------------+------------+--------------------+\n",
      "only showing top 5 rows\n",
      "\n",
      "+----------+-------------+--------------------+------------+\n",
      "|LocationID|      Borough|                Zone|service_zone|\n",
      "+----------+-------------+--------------------+------------+\n",
      "|         1|          EWR|      Newark Airport|         EWR|\n",
      "|         2|       Queens|         Jamaica Bay|   Boro Zone|\n",
      "|         3|        Bronx|Allerton/Pelham G...|   Boro Zone|\n",
      "|         4|    Manhattan|       Alphabet City| Yellow Zone|\n",
      "|         5|Staten Island|       Arden Heights|   Boro Zone|\n",
      "+----------+-------------+--------------------+------------+\n",
      "only showing top 5 rows\n",
      "\n"
     ]
    }
   ],
   "source": [
    "trips_df.show(5)\n",
    "zone_df.show(5)"
   ]
  },
  {
   "cell_type": "code",
   "execution_count": 7,
   "id": "cfb741f1",
   "metadata": {},
   "outputs": [],
   "source": [
    "# 뷰 만들기\n",
    "\n",
    "trips_df.createOrReplaceTempView('trips')\n",
    "zone_df.createOrReplaceTempView('zone')"
   ]
  },
  {
   "cell_type": "code",
   "execution_count": 8,
   "id": "71118d7a",
   "metadata": {},
   "outputs": [
    {
     "name": "stdout",
     "output_type": "stream",
     "text": [
      "+--------+-----------+------------+-----------+------------+---------------+-------------+----------+------------+------------+--------------------+--------------------+--------------------+\n",
      "|VendorID|pickup_date|dropoff_date|pickup_time|dropoff_time|passenger_count|trip_distance|tip_amount|total_amount|payment_type|         pickup_zone|        dropoff_zone|congestion_surcharge|\n",
      "+--------+-----------+------------+-----------+------------+---------------+-------------+----------+------------+------------+--------------------+--------------------+--------------------+\n",
      "|       2| 2021-03-01|  2021-03-01|          0|           0|              1|          0.0|       0.0|         4.3|           2|                  NV|                  NV|                 0.0|\n",
      "|       2| 2021-03-01|  2021-03-01|          0|           0|              1|          0.0|       0.0|         3.8|           2|      Manhattanville|      Manhattanville|                 0.0|\n",
      "|       2| 2021-03-01|  2021-03-01|          0|           0|              1|          0.0|       0.0|         4.8|           2|      Manhattanville|      Manhattanville|                 0.0|\n",
      "|       1| 2021-03-01|  2021-03-01|          0|           0|              0|         16.5|     11.65|       70.07|           1|   LaGuardia Airport|                  NA|                 0.0|\n",
      "|       2| 2021-03-01|  2021-03-01|          0|           0|              1|         1.13|      1.86|       11.16|           1|        East Chelsea|                  NV|                 2.5|\n",
      "|       2| 2021-03-01|  2021-03-01|          0|           0|              1|         2.68|      4.29|       18.59|           1|Upper West Side S...|      Yorkville East|                 2.5|\n",
      "|       1| 2021-03-01|  2021-03-01|          0|           0|              1|         12.4|       0.0|        43.8|           1|Penn Station/Madi...|           Flatlands|                 2.5|\n",
      "|       1| 2021-03-01|  2021-03-01|          0|           1|              2|          9.7|       0.0|        32.3|           2|         JFK Airport|                  NA|                 0.0|\n",
      "|       1| 2021-03-01|  2021-03-01|          0|           0|              1|          9.3|      7.25|       43.67|           1|   LaGuardia Airport|     Lenox Hill West|                 2.5|\n",
      "|       2| 2021-03-01|  2021-03-01|          0|           0|              1|         9.58|      7.68|        46.1|           1|   LaGuardia Airport|        Clinton West|                 2.5|\n",
      "|       1| 2021-03-01|  2021-03-01|          0|           0|              1|         16.2|       0.0|        45.3|           2|         JFK Airport|           Homecrest|                 0.0|\n",
      "|       2| 2021-03-01|  2021-03-01|          0|           0|              1|         3.58|       2.0|        19.3|           1|     Lenox Hill East|             Astoria|                 2.5|\n",
      "|       2| 2021-03-01|  2021-03-01|          0|           0|              1|         0.91|       5.0|        14.8|           1|Upper West Side S...|Upper West Side N...|                 2.5|\n",
      "|       2| 2021-03-01|  2021-03-01|          0|           0|              2|         2.57|       0.0|        12.8|           2|    Hamilton Heights|      Central Harlem|                 0.0|\n",
      "|       2| 2021-03-01|  2021-03-01|          0|           0|              1|          0.4|       0.0|         5.3|           2|   East Harlem North|      Central Harlem|                 0.0|\n",
      "|       2| 2021-03-01|  2021-03-01|          0|           0|              1|         3.26|       0.0|        17.3|           2|Upper West Side S...| Little Italy/NoLiTa|                 2.5|\n",
      "|       2| 2021-03-01|  2021-03-01|          0|           0|              1|        13.41|      9.45|       47.25|           1|         JFK Airport|           Flatlands|                 0.0|\n",
      "|       2| 2021-03-01|  2021-03-01|          0|           0|              5|         2.35|       0.0|        12.8|           2|Upper West Side S...|        Clinton West|                 2.5|\n",
      "|       1| 2021-03-01|  2021-03-01|          0|           0|              2|         18.3|       0.0|       61.42|           1|         JFK Airport|Times Sq/Theatre ...|                 2.5|\n",
      "|       2| 2021-03-01|  2021-03-01|          0|           0|              1|         1.53|      2.36|       14.16|           1|Sutton Place/Turt...|        Clinton East|                 2.5|\n",
      "+--------+-----------+------------+-----------+------------+---------------+-------------+----------+------------+------------+--------------------+--------------------+--------------------+\n",
      "only showing top 20 rows\n",
      "\n"
     ]
    }
   ],
   "source": [
    "# 쿼리 생성\n",
    "\n",
    "query = '''\n",
    "SELECT\n",
    "t.VendorID,\n",
    "To_DATE(t.tpep_pickup_datetime) as pickup_date,\n",
    "To_DATE(t.tpep_dropoff_datetime) as dropoff_date,\n",
    "HOUR(t.tpep_pickup_datetime) as pickup_time,\n",
    "HOUR(t.tpep_dropoff_datetime) as dropoff_time,\n",
    "t.passenger_count,\n",
    "t.trip_distance,\n",
    "t.tip_amount,\n",
    "t.total_amount,\n",
    "t.payment_type,\n",
    "pz.Zone as pickup_zone,\n",
    "dz.Zone as dropoff_zone,\n",
    "T.congestion_surcharge  \n",
    "\n",
    "FROM trips t\n",
    "\n",
    "LEFT JOIN zone pz ON t.PULocationID = pz.LocationID\n",
    "LEFT JOIN zone dz ON t.DOLocationID = dz.LocationID\n",
    "'''\n",
    "comb_df = spark.sql(query)\n",
    "comb_df.show()"
   ]
  },
  {
   "cell_type": "code",
   "execution_count": 9,
   "id": "3ce33589",
   "metadata": {},
   "outputs": [],
   "source": [
    "# comb_df를 view 생성\n",
    "\n",
    "comb_df.createOrReplaceTempView(\"comb\")"
   ]
  },
  {
   "cell_type": "code",
   "execution_count": 10,
   "id": "6092f462",
   "metadata": {},
   "outputs": [
    {
     "name": "stderr",
     "output_type": "stream",
     "text": [
      "                                                                                \r"
     ]
    },
    {
     "data": {
      "text/plain": [
       "DataFrame[summary: string, VendorID: string, pickup_time: string, dropoff_time: string, passenger_count: string, trip_distance: string, tip_amount: string, total_amount: string, payment_type: string, pickup_zone: string, dropoff_zone: string, congestion_surcharge: string]"
      ]
     },
     "execution_count": 10,
     "metadata": {},
     "output_type": "execute_result"
    }
   ],
   "source": [
    "comb_df.describe()"
   ]
  },
  {
   "cell_type": "code",
   "execution_count": 11,
   "id": "2fd7c096",
   "metadata": {},
   "outputs": [
    {
     "name": "stdout",
     "output_type": "stream",
     "text": [
      "== Physical Plan ==\n",
      "*(3) Project [VendorID#16, cast(tpep_pickup_datetime#17 as date) AS pickup_date#877, cast(tpep_dropoff_datetime#18 as date) AS dropoff_date#878, hour(cast(tpep_pickup_datetime#17 as timestamp), Some(Asia/Seoul)) AS pickup_time#879, hour(cast(tpep_dropoff_datetime#18 as timestamp), Some(Asia/Seoul)) AS dropoff_time#880, passenger_count#19, trip_distance#20, tip_amount#29, total_amount#32, payment_type#25, Zone#70 AS pickup_zone#881, Zone#885 AS dropoff_zone#882, congestion_surcharge#33]\n",
      "+- *(3) BroadcastHashJoin [DOLocationID#24], [LocationID#883], LeftOuter, BuildRight, false\n",
      "   :- *(3) Project [VendorID#16, tpep_pickup_datetime#17, tpep_dropoff_datetime#18, passenger_count#19, trip_distance#20, DOLocationID#24, payment_type#25, tip_amount#29, total_amount#32, congestion_surcharge#33, Zone#70]\n",
      "   :  +- *(3) BroadcastHashJoin [PULocationID#23], [LocationID#68], LeftOuter, BuildRight, false\n",
      "   :     :- FileScan csv [VendorID#16,tpep_pickup_datetime#17,tpep_dropoff_datetime#18,passenger_count#19,trip_distance#20,PULocationID#23,DOLocationID#24,payment_type#25,tip_amount#29,total_amount#32,congestion_surcharge#33] Batched: false, DataFilters: [], Format: CSV, Location: InMemoryFileIndex[file:/home/lab05/src/data/trips/yellow_tripdata_2021-01.csv, file:/home/lab05/s..., PartitionFilters: [], PushedFilters: [], ReadSchema: struct<VendorID:int,tpep_pickup_datetime:string,tpep_dropoff_datetime:string,passenger_count:int,...\n",
      "   :     +- BroadcastExchange HashedRelationBroadcastMode(List(cast(input[0, int, false] as bigint)),false), [id=#305]\n",
      "   :        +- *(1) Filter isnotnull(LocationID#68)\n",
      "   :           +- FileScan csv [LocationID#68,Zone#70] Batched: false, DataFilters: [isnotnull(LocationID#68)], Format: CSV, Location: InMemoryFileIndex[file:/home/lab05/src/data/taxi+_zone_lookup.csv], PartitionFilters: [], PushedFilters: [IsNotNull(LocationID)], ReadSchema: struct<LocationID:int,Zone:string>\n",
      "   +- ReusedExchange [LocationID#883, Zone#885], BroadcastExchange HashedRelationBroadcastMode(List(cast(input[0, int, false] as bigint)),false), [id=#305]\n",
      "\n",
      "\n"
     ]
    }
   ],
   "source": [
    "spark.sql(query).explain()"
   ]
  },
  {
   "cell_type": "code",
   "execution_count": 12,
   "id": "a60186d9",
   "metadata": {
    "scrolled": true
   },
   "outputs": [
    {
     "name": "stdout",
     "output_type": "stream",
     "text": [
      "+-----------+-----------+\n",
      "|pickup_date|pickup_time|\n",
      "+-----------+-----------+\n",
      "| 2021-02-28|         23|\n",
      "| 2021-02-28|         23|\n",
      "| 2021-02-28|         23|\n",
      "| 2021-02-28|         23|\n",
      "| 2021-02-28|         23|\n",
      "| 2021-02-28|         23|\n",
      "| 2021-02-28|         23|\n",
      "| 2021-03-01|         22|\n",
      "| 2021-03-01|          1|\n",
      "| 2021-03-01|          1|\n",
      "| 2021-03-01|          1|\n",
      "| 2021-03-01|          1|\n",
      "| 2021-03-01|          1|\n",
      "| 2021-03-01|          1|\n",
      "| 2021-03-01|          1|\n",
      "| 2021-03-01|          1|\n",
      "| 2021-03-01|          1|\n",
      "| 2021-03-01|          1|\n",
      "| 2021-03-01|          1|\n",
      "| 2021-03-01|          1|\n",
      "+-----------+-----------+\n",
      "only showing top 20 rows\n",
      "\n"
     ]
    }
   ],
   "source": [
    "# 테스트 - 픽업타임이 0 이상인 픽업날짜와 픽업타입 추출\n",
    "\n",
    "query = '''\n",
    "SELECT pickup_date, pickup_time\n",
    "FROM comb\n",
    "WHERE pickup_time > 0 \n",
    "'''\n",
    "\n",
    "spark.sql(query).show()"
   ]
  },
  {
   "cell_type": "code",
   "execution_count": 13,
   "id": "9da2c562",
   "metadata": {},
   "outputs": [
    {
     "name": "stderr",
     "output_type": "stream",
     "text": [
      "[Stage 16:=============================>                            (1 + 1) / 2]\r"
     ]
    },
    {
     "name": "stdout",
     "output_type": "stream",
     "text": [
      "+-----------+-----------+\n",
      "|pickup_date|pickup_time|\n",
      "+-----------+-----------+\n",
      "| 2009-01-01|          0|\n",
      "| 2008-12-31|         23|\n",
      "| 2009-01-01|          0|\n",
      "| 2009-01-01|          0|\n",
      "| 2009-01-01|          0|\n",
      "| 2009-01-01|          0|\n",
      "| 2009-01-01|          0|\n",
      "| 2009-01-01|          1|\n",
      "| 2009-01-01|          0|\n",
      "| 2008-12-31|         23|\n",
      "| 2008-12-31|         23|\n",
      "| 2008-12-31|         23|\n",
      "| 2008-12-31|         23|\n",
      "| 2009-01-01|          0|\n",
      "| 2009-01-01|          0|\n",
      "| 2009-01-01|          0|\n",
      "| 2009-01-01|         16|\n",
      "| 2009-01-01|         16|\n",
      "| 2009-01-01|          0|\n",
      "| 2009-01-01|          0|\n",
      "+-----------+-----------+\n",
      "only showing top 20 rows\n",
      "\n"
     ]
    },
    {
     "name": "stderr",
     "output_type": "stream",
     "text": [
      "\r",
      "                                                                                \r"
     ]
    }
   ],
   "source": [
    "# 테스트2 - 픽업 날짜가 2020년 12월 31일 이전 픽업날짜와 픽업타입 추출\n",
    "\n",
    "query = '''\n",
    "SELECT pickup_date, pickup_time\n",
    "FROM comb\n",
    "WHERE pickup_date < '2020-12-31' \n",
    "'''\n",
    "\n",
    "spark.sql(query).show()"
   ]
  },
  {
   "cell_type": "code",
   "execution_count": 15,
   "id": "1590db75",
   "metadata": {},
   "outputs": [
    {
     "name": "stdout",
     "output_type": "stream",
     "text": [
      "+-----------+-----------+\n",
      "|pickup_date|pickup_time|\n",
      "+-----------+-----------+\n",
      "| 2021-03-01|          1|\n",
      "| 2021-03-01|          1|\n",
      "| 2021-03-01|          1|\n",
      "| 2021-03-01|          1|\n",
      "| 2021-03-01|          1|\n",
      "| 2021-03-01|          1|\n",
      "| 2021-03-01|          1|\n",
      "| 2021-03-01|          1|\n",
      "| 2021-03-01|          1|\n",
      "| 2021-03-01|          1|\n",
      "| 2021-03-01|          1|\n",
      "| 2021-03-01|          1|\n",
      "| 2021-03-01|          1|\n",
      "| 2021-03-01|          1|\n",
      "| 2021-03-01|          1|\n",
      "| 2021-03-01|          1|\n",
      "| 2021-03-01|          1|\n",
      "| 2021-03-01|          1|\n",
      "| 2021-03-01|          1|\n",
      "| 2021-03-01|          1|\n",
      "+-----------+-----------+\n",
      "only showing top 20 rows\n",
      "\n"
     ]
    }
   ],
   "source": [
    "#실행 계획, 실행 결과 (4040)\n",
    "query2 = '''\n",
    "SELECT pickup_date, pickup_time\n",
    "FROM comb\n",
    "WHERE pickup_time > 0 and pickup_time <= 12\n",
    "'''\n",
    "spark.sql(query2).show()"
   ]
  },
  {
   "cell_type": "code",
   "execution_count": 16,
   "id": "6832346f",
   "metadata": {},
   "outputs": [
    {
     "name": "stderr",
     "output_type": "stream",
     "text": [
      "[Stage 21:============================================>         (164 + 2) / 200]\r"
     ]
    },
    {
     "name": "stdout",
     "output_type": "stream",
     "text": [
      "+-----------+----------+\n",
      "|pickup_date|trip_count|\n",
      "+-----------+----------+\n",
      "| 2002-12-31|         1|\n",
      "| 2003-01-05|         1|\n",
      "| 2004-04-04|         1|\n",
      "| 2008-12-31|        26|\n",
      "| 2009-01-01|        46|\n",
      "| 2020-12-31|        16|\n",
      "| 2021-01-01|     23649|\n",
      "| 2021-01-02|     34045|\n",
      "| 2021-01-03|     25881|\n",
      "| 2021-01-04|     44210|\n",
      "| 2021-01-05|     46539|\n",
      "| 2021-01-06|     49210|\n",
      "| 2021-01-07|     50013|\n",
      "| 2021-01-08|     50122|\n",
      "| 2021-01-09|     39407|\n",
      "| 2021-01-10|     29275|\n",
      "| 2021-01-11|     46568|\n",
      "| 2021-01-12|     49878|\n",
      "| 2021-01-13|     51045|\n",
      "| 2021-01-14|     52763|\n",
      "+-----------+----------+\n",
      "only showing top 20 rows\n",
      "\n"
     ]
    },
    {
     "name": "stderr",
     "output_type": "stream",
     "text": [
      "\r",
      "                                                                                \r"
     ]
    }
   ],
   "source": [
    "#실행 계획, 실행 결과 (4040)\n",
    "query3 = '''\n",
    "select pickup_date , count(*) as trip_count\n",
    "from comb \n",
    "where pickup_time > 0\n",
    "group by pickup_date\n",
    "order by pickup_date\n",
    "'''\n",
    "spark.sql(query3).show()"
   ]
  },
  {
   "cell_type": "markdown",
   "id": "2636584f",
   "metadata": {},
   "source": [
    "### 1. 운행 거리와 요금의 상관 관계 분석"
   ]
  },
  {
   "cell_type": "code",
   "execution_count": 34,
   "id": "518e5560",
   "metadata": {},
   "outputs": [
    {
     "name": "stderr",
     "output_type": "stream",
     "text": [
      "[Stage 36:==========================================>           (156 + 2) / 200]\r"
     ]
    },
    {
     "name": "stdout",
     "output_type": "stream",
     "text": [
      "+-------------+----------------+\n",
      "|trip_distance|avg_total_amount|\n",
      "+-------------+----------------+\n",
      "|       964.27|          2413.8|\n",
      "|        427.7|          2292.4|\n",
      "|       821.54|          2059.3|\n",
      "|        267.7|          1108.2|\n",
      "|        260.5|           894.2|\n",
      "|        271.4|          872.54|\n",
      "|       344.88|           865.3|\n",
      "|        323.0|          838.05|\n",
      "|       215.95|          832.54|\n",
      "|        282.1|          736.85|\n",
      "|        270.2|           715.3|\n",
      "|       161.38|          682.48|\n",
      "|       258.98|           654.8|\n",
      "|       170.26|           653.1|\n",
      "|        99.48|          645.21|\n",
      "|        220.4|          631.42|\n",
      "|       247.37|           621.3|\n",
      "|       224.16|           602.3|\n",
      "|       103.98|           601.8|\n",
      "|       277.74|           600.3|\n",
      "+-------------+----------------+\n",
      "only showing top 20 rows\n",
      "\n"
     ]
    },
    {
     "name": "stderr",
     "output_type": "stream",
     "text": [
      "\r",
      "[Stage 36:=====================================================>(197 + 2) / 200]\r",
      "\r",
      "                                                                                \r"
     ]
    }
   ],
   "source": [
    "query_1 = '''\n",
    "SELECT trip_distance, ROUND(AVG(total_amount),2) as avg_total_amount\n",
    "FROM comb\n",
    "GROUP BY trip_distance\n",
    "ORDER BY avg_total_amount DESC\n",
    "'''\n",
    "data = spark.sql(query_1) \n",
    "data.show()"
   ]
  },
  {
   "cell_type": "code",
   "execution_count": 35,
   "id": "3754b886",
   "metadata": {},
   "outputs": [
    {
     "name": "stdout",
     "output_type": "stream",
     "text": [
      "root\n",
      " |-- trip_distance: double (nullable = true)\n",
      " |-- avg_total_amount: double (nullable = true)\n",
      "\n"
     ]
    }
   ],
   "source": [
    "data.printSchema()"
   ]
  },
  {
   "cell_type": "code",
   "execution_count": 36,
   "id": "a5aa51b0",
   "metadata": {},
   "outputs": [
    {
     "name": "stderr",
     "output_type": "stream",
     "text": [
      "[Stage 42:=========================================>            (155 + 2) / 200]\r"
     ]
    },
    {
     "name": "stdout",
     "output_type": "stream",
     "text": [
      "-0.15085739557073535\n"
     ]
    },
    {
     "name": "stderr",
     "output_type": "stream",
     "text": [
      "\r",
      "                                                                                \r"
     ]
    }
   ],
   "source": [
    "# 상관관계?\n",
    "\n",
    "#from pyspark.ml.feature import *\n",
    "#from pyspark.ml.stat import *\n",
    "# assembler = VectorAssembler(inputCols=[\"trip_distance\", \"avg_total_amount\"], outputCol=\"features\", handleInvalid=\"skip\")\n",
    "# df_assembled = assembler.transform(data)\n",
    "\n",
    "# # Corr()\n",
    "# corr = Correlation.corr(df_assembled, \"features\", method=\"pearson\").head()[0]\n",
    "# print(corr)\n",
    "# corr_array = corr.toArray()\n",
    "# result = corr_array[0,1]\n",
    "# print(result)\n",
    "\n",
    "import pandas as pd\n",
    "\n",
    "data = data.toPandas()\n",
    "\n",
    "corr = data['trip_distance'].corr(data['avg_total_amount'])\n",
    "print(corr)"
   ]
  },
  {
   "cell_type": "code",
   "execution_count": 40,
   "id": "74a949cb",
   "metadata": {},
   "outputs": [
    {
     "data": {
      "image/png": "[encoded data removed]",
      "text/plain": [
       "<Figure size 400x400 with 1 Axes>"
      ]
     },
     "metadata": {},
     "output_type": "display_data"
    }
   ],
   "source": [
    "# 시각화\n",
    "import matplotlib.pyplot as plt\n",
    "import seaborn as sns\n",
    "\n",
    "plt.figure(figsize=(4, 4))\n",
    "sns.scatterplot(x='trip_distance', y='avg_total_amount', data=data)\n",
    "plt.title(\"Trip Distance vs Average Total Amount, and Call_count\")\n",
    "plt.xlabel('Trip Distance')\n",
    "plt.ylabel('Average Total Amount')\n",
    "plt.show()"
   ]
  },
  {
   "cell_type": "markdown",
   "id": "ca70ca42",
   "metadata": {},
   "source": [
    "### 2. 피크 시간대 요금 분석 - 가장 운행 기록이 많은 시간 대"
   ]
  },
  {
   "cell_type": "code",
   "execution_count": 41,
   "id": "0561d46c",
   "metadata": {},
   "outputs": [
    {
     "name": "stderr",
     "output_type": "stream",
     "text": [
      "                                                                                \r"
     ]
    },
    {
     "name": "stdout",
     "output_type": "stream",
     "text": [
      "+-----------+----------+-------------+\n",
      "|pickup_time|trip_count| Total_amount|\n",
      "+-----------+----------+-------------+\n",
      "|         15|   1091871|2.034362246E7|\n",
      "|         18|   1087217|2.020262881E7|\n",
      "|         17|   1085226|2.093609435E7|\n",
      "|         14|   1084111|1.970667334E7|\n",
      "|         16|   1043498|2.056582042E7|\n",
      "+-----------+----------+-------------+\n",
      "only showing top 5 rows\n",
      "\n"
     ]
    }
   ],
   "source": [
    "query_2 = '''\n",
    "SELECT pickup_time, count(*) as trip_count, Round(SUM(total_amount),2) as Total_amount\n",
    "FROM comb\n",
    "GROUP BY pickup_time\n",
    "ORDER BY trip_count DESC\n",
    "'''\n",
    "spark.sql(query_2).show(5) "
   ]
  },
  {
   "cell_type": "markdown",
   "id": "b8c58b0a",
   "metadata": {},
   "source": [
    "### 3. 지불 유형별 요금, 팁 분석"
   ]
  },
  {
   "cell_type": "code",
   "execution_count": null,
   "id": "a4a8d3a3",
   "metadata": {},
   "outputs": [],
   "source": [
    "query_3 = '''\n",
    "SELECT payment_type, count(*) AS payment_count,SUM(tip_amount) as total_tips, SUM(total_amount) AS total_amount\n",
    "FROM comb\n",
    "GROUP BY payment_type\n",
    "ORDER BY payment_type\n",
    "'''\n",
    "spark.sql(query_3).show()"
   ]
  },
  {
   "cell_type": "markdown",
   "id": "70974352",
   "metadata": {},
   "source": [
    "### 4. 승차지역/하차지역별 평균 거리, 요금"
   ]
  },
  {
   "cell_type": "code",
   "execution_count": null,
   "id": "07a458a2",
   "metadata": {},
   "outputs": [],
   "source": [
    "query_4 = '''\n",
    "SELECT pickup_zone, dropoff_zone, avg(trip_distance) as avg_trip_distance, sum(total_amount) as total_amount\n",
    "FROM comb\n",
    "GROUP BY pickup_zone,dropoff_zone\n",
    "ORDER BY avg_trip_distance DESC\n",
    "'''\n",
    "spark.sql(query_4).show()"
   ]
  },
  {
   "cell_type": "markdown",
   "id": "b690f518",
   "metadata": {},
   "source": [
    "### 5. 팁의 비율에 따른 거리"
   ]
  },
  {
   "cell_type": "code",
   "execution_count": null,
   "id": "b3f218dc",
   "metadata": {},
   "outputs": [],
   "source": [
    "query_5 = '''\n",
    "SELECT \n",
    "    (tip_amount/total_amount)*100 as tips_percentage,\n",
    "    AVG(trip_distance) AS avg_trip_distance\n",
    "FROM comb\n",
    "GROUP BY tips_percentage\n",
    "ORDER BY avg_trip_distance DESC\n",
    "'''\n",
    "spark.sql(query_5).show()"
   ]
  },
  {
   "cell_type": "code",
   "execution_count": null,
   "id": "52f15c26",
   "metadata": {},
   "outputs": [],
   "source": [
    "# 팁 카테고리 지정 \n",
    "\n",
    "query_5 = '''\n",
    "SELECT \n",
    "    CASE \n",
    "        WHEN tips_percentage < 20 THEN \"0~20%\"\n",
    "        WHEN tips_percentage < 40 THEN \"20~40%\"\n",
    "        WHEN tips_percentage < 60 THEN \"40~60%\"\n",
    "        WHEN tips_percentage < 80 THEN \"60~80%\"\n",
    "        ELSE \"80% 이상\"\n",
    "    END as tip_category,\n",
    "    AVG(trip_distance) AS avg_trip_distance\n",
    "FROM (\n",
    "    SELECT \n",
    "        (tip_amount / total_amount) * 100 as tips_percentage,\n",
    "        trip_distance\n",
    "    FROM comb\n",
    ") AS subquery\n",
    "GROUP BY tip_category\n",
    "ORDER BY tip_category\n",
    "'''\n",
    "\n",
    "spark.sql(query_5).show()\n"
   ]
  },
  {
   "cell_type": "markdown",
   "id": "9b4cbd0a",
   "metadata": {},
   "source": [
    "### 6. 지역별 혼잡도 추가 요금 확인"
   ]
  },
  {
   "cell_type": "code",
   "execution_count": null,
   "id": "94a8b17c",
   "metadata": {
    "scrolled": true
   },
   "outputs": [],
   "source": [
    "query_6 = '''\n",
    "SELECT pickup_zone, dropoff_zone, avg(congestion_surcharge) as avg_congestion_surcharge\n",
    "FROM comb\n",
    "GROUP BY pickup_zone, dropoff_zone\n",
    "ORDER BY avg_congestion_surcharge DESC\n",
    "'''\n",
    "spark.sql(query_6).show()"
   ]
  },
  {
   "cell_type": "code",
   "execution_count": null,
   "id": "a004e103",
   "metadata": {},
   "outputs": [],
   "source": [
    "#spark.stop()"
   ]
  }
 ],
 "metadata": {
  "kernelspec": {
   "display_name": "Spark_start",
   "language": "python",
   "name": "spark_start"
  },
  "language_info": {
   "codemirror_mode": {
    "name": "ipython",
    "version": 3
   },
   "file_extension": ".py",
   "mimetype": "text/x-python",
   "name": "python",
   "nbconvert_exporter": "python",
   "pygments_lexer": "ipython3",
   "version": "3.8.20"
  }
 },
 "nbformat": 4,
 "nbformat_minor": 5
}
