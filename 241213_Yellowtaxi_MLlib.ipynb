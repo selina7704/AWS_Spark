{
 "cells": [
  {
   "cell_type": "markdown",
   "id": "53159118",
   "metadata": {},
   "source": [
    "# YellowTaxi ALS\n",
    "\n",
    "1. 필요한 라이브러리 불러오기 \n",
    "2. 데이터 준비하기 \n",
    "    - 2.1 데이터 파일 불러오기\n",
    "    - 2.2 데이터 전처리\n",
    "    - 2.3 컬럼 변경 if needed\n",
    "3. 데이터 분할\n",
    "4. ALS 모델 생성 및 설정\n",
    "5. 예측\n",
    "6. 평가\n",
    "7. 추천"
   ]
  },
  {
   "cell_type": "markdown",
   "id": "47cec5f8",
   "metadata": {},
   "source": [
    "# 목표 정의 \n",
    "\n",
    "- ALS 적용시 요소 준비 - 어떠한 컬럼을 추출하고, 어떠한 것을 추천받고 싶은지?\n",
    "- 내가 택시 기사라면, 회사라면, 사용자라면? \n",
    "\n",
    "1. 택시 승하차 지역에 대한 예상 요금 예측 추천 \n",
    "- 사용자(user): PULocationID\n",
    "- 아이템(item): DOLocationID\n",
    "- 평점(rating): total_amount "
   ]
  },
  {
   "cell_type": "markdown",
   "id": "3361ed25",
   "metadata": {},
   "source": [
    "# 1. 필요한 라이브러리 불러오기"
   ]
  },
  {
   "cell_type": "code",
   "execution_count": 1,
   "id": "0cddcedd",
   "metadata": {},
   "outputs": [
    {
     "name": "stderr",
     "output_type": "stream",
     "text": [
      "24/12/16 11:18:06 WARN NativeCodeLoader: Unable to load native-hadoop library for your platform... using builtin-java classes where applicable\n",
      "Using Spark's default log4j profile: org/apache/spark/log4j-defaults.properties\n",
      "Setting default log level to \"WARN\".\n",
      "To adjust logging level use sc.setLogLevel(newLevel). For SparkR, use setLogLevel(newLevel).\n"
     ]
    },
    {
     "data": {
      "text/html": [
       "\n",
       "            <div>\n",
       "                <p><b>SparkSession - in-memory</b></p>\n",
       "                \n",
       "        <div>\n",
       "            <p><b>SparkContext</b></p>\n",
       "\n",
       "            <p><a href=\"http://ip-172-31-2-110.ap-northeast-3.compute.internal:4040\">Spark UI</a></p>\n",
       "\n",
       "            <dl>\n",
       "              <dt>Version</dt>\n",
       "                <dd><code>v3.1.2</code></dd>\n",
       "              <dt>Master</dt>\n",
       "                <dd><code>local[*]</code></dd>\n",
       "              <dt>AppName</dt>\n",
       "                <dd><code>241213_Yellowtaxi_MLlib</code></dd>\n",
       "            </dl>\n",
       "        </div>\n",
       "        \n",
       "            </div>\n",
       "        "
      ],
      "text/plain": [
       "<pyspark.sql.session.SparkSession at 0x7fb524d27670>"
      ]
     },
     "execution_count": 1,
     "metadata": {},
     "output_type": "execute_result"
    }
   ],
   "source": [
    "from pyspark.sql import SparkSession\n",
    "spark = SparkSession.builder.appName(\"241213_Yellowtaxi_MLlib\").getOrCreate()\n",
    "spark"
   ]
  },
  {
   "cell_type": "code",
   "execution_count": 2,
   "id": "c124913c",
   "metadata": {},
   "outputs": [],
   "source": [
    "from pyspark.sql.functions import *\n",
    "from pyspark.ml.recommendation import ALS\n",
    "from pyspark.ml.evaluation import RegressionEvaluator\n",
    "from pyspark.sql.types import IntegerType"
   ]
  },
  {
   "cell_type": "markdown",
   "id": "1de2b436",
   "metadata": {},
   "source": [
    "# 2. 데이터 준비하기 "
   ]
  },
  {
   "cell_type": "markdown",
   "id": "d0d67f97",
   "metadata": {},
   "source": [
    "## 2.1 데이터 불러오기 "
   ]
  },
  {
   "cell_type": "code",
   "execution_count": 3,
   "id": "89b8122d",
   "metadata": {},
   "outputs": [],
   "source": [
    "import os\n",
    "\n",
    "trip_files = '/trips/*'\n",
    "zone_file = 'taxi+_zone_lookup.csv'\n",
    "directory = os.path.join(os.getcwd(), 'data')"
   ]
  },
  {
   "cell_type": "code",
   "execution_count": 4,
   "id": "243425a7",
   "metadata": {},
   "outputs": [
    {
     "name": "stderr",
     "output_type": "stream",
     "text": [
      "                                                                                \r"
     ]
    }
   ],
   "source": [
    "trips_df = spark.read.csv(f'file:///{directory}/{trip_files}', inferSchema=True, header=True)\n",
    "zone_df = spark.read.csv(f'file:///{directory}/{zone_file}', inferSchema=True, header=True)"
   ]
  },
  {
   "cell_type": "code",
   "execution_count": 5,
   "id": "1885a1ef",
   "metadata": {},
   "outputs": [
    {
     "name": "stdout",
     "output_type": "stream",
     "text": [
      "root\n",
      " |-- VendorID: integer (nullable = true)\n",
      " |-- tpep_pickup_datetime: string (nullable = true)\n",
      " |-- tpep_dropoff_datetime: string (nullable = true)\n",
      " |-- passenger_count: integer (nullable = true)\n",
      " |-- trip_distance: double (nullable = true)\n",
      " |-- RatecodeID: integer (nullable = true)\n",
      " |-- store_and_fwd_flag: string (nullable = true)\n",
      " |-- PULocationID: integer (nullable = true)\n",
      " |-- DOLocationID: integer (nullable = true)\n",
      " |-- payment_type: integer (nullable = true)\n",
      " |-- fare_amount: double (nullable = true)\n",
      " |-- extra: double (nullable = true)\n",
      " |-- mta_tax: double (nullable = true)\n",
      " |-- tip_amount: double (nullable = true)\n",
      " |-- tolls_amount: double (nullable = true)\n",
      " |-- improvement_surcharge: double (nullable = true)\n",
      " |-- total_amount: double (nullable = true)\n",
      " |-- congestion_surcharge: double (nullable = true)\n",
      "\n",
      "root\n",
      " |-- LocationID: integer (nullable = true)\n",
      " |-- Borough: string (nullable = true)\n",
      " |-- Zone: string (nullable = true)\n",
      " |-- service_zone: string (nullable = true)\n",
      "\n"
     ]
    }
   ],
   "source": [
    "trips_df.printSchema()\n",
    "zone_df.printSchema()"
   ]
  },
  {
   "cell_type": "code",
   "execution_count": 6,
   "id": "e7e77064",
   "metadata": {},
   "outputs": [
    {
     "name": "stdout",
     "output_type": "stream",
     "text": [
      "+--------+--------------------+---------------------+---------------+-------------+----------+------------------+------------+------------+------------+-----------+-----+-------+----------+------------+---------------------+------------+--------------------+\n",
      "|VendorID|tpep_pickup_datetime|tpep_dropoff_datetime|passenger_count|trip_distance|RatecodeID|store_and_fwd_flag|PULocationID|DOLocationID|payment_type|fare_amount|extra|mta_tax|tip_amount|tolls_amount|improvement_surcharge|total_amount|congestion_surcharge|\n",
      "+--------+--------------------+---------------------+---------------+-------------+----------+------------------+------------+------------+------------+-----------+-----+-------+----------+------------+---------------------+------------+--------------------+\n",
      "|       2| 2021-03-01 00:22:02|  2021-03-01 00:23:22|              1|          0.0|         1|                 N|         264|         264|           2|        3.0|  0.5|    0.5|       0.0|         0.0|                  0.3|         4.3|                 0.0|\n",
      "|       2| 2021-03-01 00:24:48|  2021-03-01 00:24:56|              1|          0.0|         1|                 N|         152|         152|           2|        2.5|  0.5|    0.5|       0.0|         0.0|                  0.3|         3.8|                 0.0|\n",
      "|       2| 2021-03-01 00:25:17|  2021-03-01 00:31:01|              1|          0.0|         1|                 N|         152|         152|           2|        3.5|  0.5|    0.5|       0.0|         0.0|                  0.3|         4.8|                 0.0|\n",
      "+--------+--------------------+---------------------+---------------+-------------+----------+------------------+------------+------------+------------+-----------+-----+-------+----------+------------+---------------------+------------+--------------------+\n",
      "only showing top 3 rows\n",
      "\n",
      "+----------+-------+--------------------+------------+\n",
      "|LocationID|Borough|                Zone|service_zone|\n",
      "+----------+-------+--------------------+------------+\n",
      "|         1|    EWR|      Newark Airport|         EWR|\n",
      "|         2| Queens|         Jamaica Bay|   Boro Zone|\n",
      "|         3|  Bronx|Allerton/Pelham G...|   Boro Zone|\n",
      "+----------+-------+--------------------+------------+\n",
      "only showing top 3 rows\n",
      "\n"
     ]
    }
   ],
   "source": [
    "trips_df.show(3)\n",
    "zone_df.show(3)"
   ]
  },
  {
   "cell_type": "markdown",
   "id": "7a18a3cf",
   "metadata": {},
   "source": [
    "## 2.2 데이터 전처리"
   ]
  },
  {
   "cell_type": "code",
   "execution_count": 7,
   "id": "2798d09f",
   "metadata": {},
   "outputs": [
    {
     "name": "stdout",
     "output_type": "stream",
     "text": [
      "+------------+------------+------------+\n",
      "|PULocationID|DOLocationID|total_amount|\n",
      "+------------+------------+------------+\n",
      "|         264|         264|         4.3|\n",
      "|         152|         152|         3.8|\n",
      "|         152|         152|         4.8|\n",
      "|         138|         265|       70.07|\n",
      "|          68|         264|       11.16|\n",
      "|         239|         262|       18.59|\n",
      "|         186|          91|        43.8|\n",
      "|         132|         265|        32.3|\n",
      "|         138|         141|       43.67|\n",
      "|         138|          50|        46.1|\n",
      "|         132|         123|        45.3|\n",
      "|         140|           7|        19.3|\n",
      "|         239|         238|        14.8|\n",
      "|         116|          41|        12.8|\n",
      "|          74|          41|         5.3|\n",
      "|         239|         144|        17.3|\n",
      "|         132|          91|       47.25|\n",
      "|         239|          50|        12.8|\n",
      "|         132|         230|       61.42|\n",
      "|         229|          48|       14.16|\n",
      "+------------+------------+------------+\n",
      "only showing top 20 rows\n",
      "\n"
     ]
    }
   ],
   "source": [
    "# 필요한 컬럼만 추출 \n",
    "\n",
    "trips_df = trips_df.select([\"PULocationID\", \"DOLocationID\", \"total_amount\"])\n",
    "trips_df.show()"
   ]
  },
  {
   "cell_type": "code",
   "execution_count": 8,
   "id": "5cf12f9f",
   "metadata": {},
   "outputs": [
    {
     "name": "stderr",
     "output_type": "stream",
     "text": [
      "[Stage 7:===================================================>     (10 + 1) / 11]\r"
     ]
    },
    {
     "name": "stdout",
     "output_type": "stream",
     "text": [
      "+------------+------------+------------+\n",
      "|PULocationID|DOLocationID|total_amount|\n",
      "+------------+------------+------------+\n",
      "|           0|           0|           0|\n",
      "+------------+------------+------------+\n",
      "\n"
     ]
    },
    {
     "name": "stderr",
     "output_type": "stream",
     "text": [
      "\r",
      "                                                                                \r"
     ]
    }
   ],
   "source": [
    "# null 값 체크\n",
    "null_counts = trips_df.select(\n",
    "    [\n",
    "    sum(when(col(c).isNull() | isnan(c),1).otherwise(0)).alias(c) for c in trips_df.columns\n",
    "    ]\n",
    ")\n",
    "\n",
    "null_counts.show()\n",
    "\n",
    "#trips_df = trips_df.na.drop()"
   ]
  },
  {
   "cell_type": "code",
   "execution_count": 9,
   "id": "dcb6c865",
   "metadata": {},
   "outputs": [
    {
     "name": "stderr",
     "output_type": "stream",
     "text": [
      "[Stage 9:===================================================>     (10 + 1) / 11]\r"
     ]
    },
    {
     "name": "stdout",
     "output_type": "stream",
     "text": [
      "+-------+------------------+------------------+-------------------+\n",
      "|summary|      PULocationID|      DOLocationID|       total_amount|\n",
      "+-------+------------------+------------------+-------------------+\n",
      "|  count|             68820|             68820|              68820|\n",
      "|   mean|163.31117407730312|161.17672188317349|-14.490561464692082|\n",
      "| stddev| 66.81615783677348| 70.65807406291414| 17.161514139828355|\n",
      "|    min|                 1|                 1|             -647.8|\n",
      "|    max|               265|               265|               -0.3|\n",
      "+-------+------------------+------------------+-------------------+\n",
      "\n"
     ]
    },
    {
     "name": "stderr",
     "output_type": "stream",
     "text": [
      "\r",
      "                                                                                \r"
     ]
    }
   ],
   "source": [
    "# total_amount 마이너스 값이 있나 확인 -- 48820 개? \n",
    "negative_amount = trips_df.filter(col(\"total_amount\") < 0)\n",
    "negative_amount.describe().show()"
   ]
  },
  {
   "cell_type": "code",
   "execution_count": 10,
   "id": "1b51a70f",
   "metadata": {},
   "outputs": [
    {
     "name": "stderr",
     "output_type": "stream",
     "text": [
      "[Stage 11:==================================================>     (10 + 1) / 11]\r"
     ]
    },
    {
     "name": "stdout",
     "output_type": "stream",
     "text": [
      "+-------+------------------+------------------+------------------+\n",
      "|summary|      PULocationID|      DOLocationID|      total_amount|\n",
      "+-------+------------------+------------------+------------------+\n",
      "|  count|          15000700|          15000700|          15000700|\n",
      "|   mean|165.42381935509675|162.36693754291466|18.821931650708898|\n",
      "| stddev| 66.98886568099608| 71.19726238663675|145.72773384755425|\n",
      "|    min|                 1|                 1|               0.0|\n",
      "|    max|               265|               265|          398469.2|\n",
      "+-------+------------------+------------------+------------------+\n",
      "\n"
     ]
    },
    {
     "name": "stderr",
     "output_type": "stream",
     "text": [
      "\r",
      "                                                                                \r"
     ]
    }
   ],
   "source": [
    "# 마이너스인 금액을 0으로 대체\n",
    "trips_df = trips_df.withColumn(\\\n",
    "                    \"total_amount\", \\\n",
    "                    when(col(\"total_amount\")<0, 0)\\\n",
    "                    .otherwise(col(\"total_amount\")))\n",
    "trips_df.describe().show()"
   ]
  },
  {
   "cell_type": "code",
   "execution_count": 11,
   "id": "b99729f4",
   "metadata": {},
   "outputs": [],
   "source": [
    "# # 이상치 처리? \n",
    "# from pyspark.sql.functions import col\n",
    "\n",
    "# # IQR 방식으로 이상치 제거\n",
    "# quantiles = trips_df.approxQuantile(\"total_amount\", [0.25, 0.75], 0.05)\n",
    "# Q1, Q3 = quantiles[0], quantiles[1]\n",
    "# IQR = Q3 - Q1\n",
    "# lower_bound = Q1 - 1.5 * IQR\n",
    "# upper_bound = Q3 + 1.5 * IQR\n",
    "\n",
    "# # 이상치 데이터 제거\n",
    "# cleaned_trips_df = trips_df.filter((col(\"total_amount\") >= lower_bound) & (col(\"total_amount\") <= upper_bound))\n"
   ]
  },
  {
   "cell_type": "markdown",
   "id": "5f3fa7d7",
   "metadata": {},
   "source": [
    "## 2.3 컬럼 변경"
   ]
  },
  {
   "cell_type": "code",
   "execution_count": 12,
   "id": "015dfe07",
   "metadata": {},
   "outputs": [
    {
     "name": "stdout",
     "output_type": "stream",
     "text": [
      "+------+------+------+\n",
      "|userId|itemId|rating|\n",
      "+------+------+------+\n",
      "|   264|   264|   4.3|\n",
      "|   152|   152|   3.8|\n",
      "|   152|   152|   4.8|\n",
      "|   138|   265| 70.07|\n",
      "|    68|   264| 11.16|\n",
      "+------+------+------+\n",
      "only showing top 5 rows\n",
      "\n"
     ]
    }
   ],
   "source": [
    "trips_df = trips_df.withColumnRenamed(\"PULocationID\", \"userId\") \\\n",
    "                   .withColumnRenamed(\"DOLocationID\", \"itemId\") \\\n",
    "                   .withColumnRenamed(\"total_amount\", \"rating\")\n",
    "trips_df.show(5)"
   ]
  },
  {
   "cell_type": "markdown",
   "id": "a4cb8ced",
   "metadata": {},
   "source": [
    "# 3. 데이터 분할"
   ]
  },
  {
   "cell_type": "code",
   "execution_count": 13,
   "id": "050f8c73",
   "metadata": {},
   "outputs": [],
   "source": [
    "train_ratio = 0.8\n",
    "test_ratio = 0.2\n",
    "\n",
    "train_df,test_df =trips_df.randomSplit([train_ratio, test_ratio], seed=42)"
   ]
  },
  {
   "cell_type": "markdown",
   "id": "5fbd523a",
   "metadata": {},
   "source": [
    "# 4. ALS 모델 생성 및 설정"
   ]
  },
  {
   "cell_type": "code",
   "execution_count": 14,
   "id": "01a84780",
   "metadata": {},
   "outputs": [
    {
     "name": "stderr",
     "output_type": "stream",
     "text": [
      "24/12/16 11:20:24 WARN BLAS: Failed to load implementation from: com.github.fommil.netlib.NativeSystemBLAS\n",
      "24/12/16 11:20:24 WARN BLAS: Failed to load implementation from: com.github.fommil.netlib.NativeRefBLAS\n",
      "24/12/16 11:20:25 WARN LAPACK: Failed to load implementation from: com.github.fommil.netlib.NativeSystemLAPACK\n",
      "24/12/16 11:20:25 WARN LAPACK: Failed to load implementation from: com.github.fommil.netlib.NativeRefLAPACK\n",
      "                                                                                \r"
     ]
    }
   ],
   "source": [
    "# ALS 모델 생성\n",
    "als = ALS(\n",
    "    maxIter=5,\n",
    "    regParam=0.1,\n",
    "    userCol=\"userId\",\n",
    "    itemCol=\"itemId\",\n",
    "    ratingCol=\"rating\",\n",
    "    coldStartStrategy='drop' # 결측값 방지\n",
    ")\n",
    "\n",
    "als_model =als.fit(trips_df)"
   ]
  },
  {
   "cell_type": "markdown",
   "id": "e15f8a02",
   "metadata": {},
   "source": [
    "# 5. 예측"
   ]
  },
  {
   "cell_type": "code",
   "execution_count": 15,
   "id": "64e2c5a5",
   "metadata": {},
   "outputs": [
    {
     "name": "stderr",
     "output_type": "stream",
     "text": [
      "[Stage 64:===================================================>  (189 + 2) / 200]\r"
     ]
    },
    {
     "name": "stdout",
     "output_type": "stream",
     "text": [
      "+------+------+------+----------+\n",
      "|userId|itemId|rating|prediction|\n",
      "+------+------+------+----------+\n",
      "|   148|   148|   0.0| 12.024168|\n",
      "|   148|   148|   0.0| 12.024168|\n",
      "|   148|   148|   0.3| 12.024168|\n",
      "|   148|   148|   5.8| 12.024168|\n",
      "|   148|   148|   5.8| 12.024168|\n",
      "+------+------+------+----------+\n",
      "only showing top 5 rows\n",
      "\n"
     ]
    },
    {
     "name": "stderr",
     "output_type": "stream",
     "text": [
      "\r",
      "                                                                                \r"
     ]
    }
   ],
   "source": [
    "# 예측\n",
    "predictions = als_model.transform(test_df)\n",
    "predictions.show(5)"
   ]
  },
  {
   "cell_type": "code",
   "execution_count": 16,
   "id": "be40f242",
   "metadata": {},
   "outputs": [
    {
     "name": "stderr",
     "output_type": "stream",
     "text": [
      "[Stage 83:===========================================>          (161 + 2) / 200]\r"
     ]
    },
    {
     "name": "stdout",
     "output_type": "stream",
     "text": [
      "+-------+------------------+------------------+\n",
      "|summary|            rating|        prediction|\n",
      "+-------+------------------+------------------+\n",
      "|  count|           3000671|           3000671|\n",
      "|   mean|18.775539527664378|18.797164819267316|\n",
      "| stddev|14.806227867984497|13.485676661022245|\n",
      "|    min|               0.0|        -0.5454178|\n",
      "|    max|           7661.28|          1876.989|\n",
      "+-------+------------------+------------------+\n",
      "\n"
     ]
    },
    {
     "name": "stderr",
     "output_type": "stream",
     "text": [
      "\r",
      "[Stage 83:=================================================>    (183 + 2) / 200]\r",
      "\r",
      "                                                                                \r"
     ]
    }
   ],
   "source": [
    "predictions.select(\"rating\",\"prediction\").describe().show()"
   ]
  },
  {
   "cell_type": "markdown",
   "id": "e8e8768a",
   "metadata": {},
   "source": [
    "# 6. 평가"
   ]
  },
  {
   "cell_type": "code",
   "execution_count": 17,
   "id": "ebf3b3cb",
   "metadata": {},
   "outputs": [],
   "source": [
    "evaluator = RegressionEvaluator(metricName='rmse', labelCol='rating', predictionCol='prediction')"
   ]
  },
  {
   "cell_type": "code",
   "execution_count": 18,
   "id": "0f50a779",
   "metadata": {},
   "outputs": [
    {
     "name": "stderr",
     "output_type": "stream",
     "text": [
      "                                                                                \r"
     ]
    },
    {
     "data": {
      "text/plain": [
       "10.088585455658048"
      ]
     },
     "execution_count": 18,
     "metadata": {},
     "output_type": "execute_result"
    }
   ],
   "source": [
    "rmse = evaluator.evaluate(predictions)\n",
    "rmse"
   ]
  },
  {
   "cell_type": "markdown",
   "id": "7298bc97",
   "metadata": {},
   "source": [
    "### 평가 값의 해석:\n",
    "- 실제 값과 평균적으로 약 10.09 만큼 차이가 난다는 의미\n",
    "- RMSE 가 낮을수록 모델이 잘 예측한다고 평가 -> 실제 값 사이에 상당한 차이가 있음 ;;\n",
    "- 고려사항: 모델 성능이 좋지 않음 -> 전처리 개선(이상치 처리, 정규화 등)이나 하이퍼파라미터 튜닝 "
   ]
  },
  {
   "cell_type": "markdown",
   "id": "102c37c6",
   "metadata": {},
   "source": [
    "# 7. 추천 생성"
   ]
  },
  {
   "cell_type": "code",
   "execution_count": 19,
   "id": "df03befb",
   "metadata": {},
   "outputs": [],
   "source": [
    "# 5. 추천 생성 (예: 승차 지역에 대한 하차 지역 추천)\n",
    "user_df = trips_df.select(\"userId\").distinct() # 사용자 데이터 (승차 지역)\n",
    "recommendations = als_model.recommendForUserSubset(user_df, 10) # 각 사용자에 대해 상위 3개의 하차 지역 추천 "
   ]
  },
  {
   "cell_type": "code",
   "execution_count": 20,
   "id": "cc41aecf",
   "metadata": {},
   "outputs": [
    {
     "name": "stderr",
     "output_type": "stream",
     "text": [
      "                                                                                \r"
     ]
    },
    {
     "name": "stdout",
     "output_type": "stream",
     "text": [
      "+------+--------------------+\n",
      "|userId|     recommendations|\n",
      "+------+--------------------+\n",
      "|   148|[{1, 88.199486}, ...|\n",
      "|   243|[{44, 145.48804},...|\n",
      "|    31|[{84, 144.77588},...|\n",
      "|    85|[{1, 88.69849}, {...|\n",
      "|   137|[{84, 96.748985},...|\n",
      "|   251|[{109, 288.4514},...|\n",
      "|    65|[{99, 97.20358}, ...|\n",
      "|    53|[{189, 219.95505}...|\n",
      "|   255|[{99, 112.070755}...|\n",
      "|   133|[{1, 96.08605}, {...|\n",
      "|    78|[{84, 133.27359},...|\n",
      "|   108|[{1, 95.205154}, ...|\n",
      "|   155|[{1, 108.899796},...|\n",
      "|    34|[{84, 95.48577}, ...|\n",
      "|   193|[{99, 133.82979},...|\n",
      "|   211|[{84, 89.8666}, {...|\n",
      "|   101|[{44, 132.96501},...|\n",
      "|   115|[{109, 114.85258}...|\n",
      "|   126|[{84, 121.04209},...|\n",
      "|    81|[{189, 281.12207}...|\n",
      "+------+--------------------+\n",
      "only showing top 20 rows\n",
      "\n"
     ]
    }
   ],
   "source": [
    "# 추천 결과 출력\n",
    "recommendations.show(truncate=True)"
   ]
  },
  {
   "cell_type": "code",
   "execution_count": null,
   "id": "132f244d",
   "metadata": {},
   "outputs": [
    {
     "name": "stderr",
     "output_type": "stream",
     "text": [
      "[Stage 168:========>       (6 + 2) / 11][Stage 169:>               (0 + 0) / 10]\r"
     ]
    }
   ],
   "source": [
    "location_list = recommendations.collect()[0].recommendations\n",
    "location_list"
   ]
  },
  {
   "cell_type": "code",
   "execution_count": null,
   "id": "e6526065",
   "metadata": {},
   "outputs": [],
   "source": [
    "rec_df = spark.createDataFrame(location_list)\n",
    "rec_df.show()"
   ]
  },
  {
   "cell_type": "markdown",
   "id": "af069978",
   "metadata": {},
   "source": [
    "## df join"
   ]
  },
  {
   "cell_type": "code",
   "execution_count": null,
   "id": "8b57a476",
   "metadata": {},
   "outputs": [],
   "source": [
    "# 임시 뷰로 등록\n",
    "rec_df.createOrReplaceTempView('recommend')\n",
    "zone_df.createOrReplaceTempView('zone')"
   ]
  },
  {
   "cell_type": "code",
   "execution_count": null,
   "id": "37265bea",
   "metadata": {},
   "outputs": [],
   "source": [
    "rec_df.show(3)\n",
    "zone_df.show(3)"
   ]
  },
  {
   "cell_type": "code",
   "execution_count": null,
   "id": "715ce809",
   "metadata": {},
   "outputs": [],
   "source": [
    "query = '''\n",
    "SELECT \n",
    "    pz.Zone AS pickup_zone,\n",
    "    dz.Zone AS dropoff_zone,\n",
    "    t.rating\n",
    "\n",
    "FROM recommend t\n",
    "\n",
    "LEFT JOIN zone pz ON t.itemId = pz.LocationID  -- 승차 지역(PULocationID) 조인\n",
    "LEFT JOIN zone dz ON t.itemId = dz.LocationID  -- 하차 지역(DOLocationID) 조인\n",
    "'''\n",
    "recommended = spark.sql(query)\n",
    "recommended.show()"
   ]
  },
  {
   "cell_type": "code",
   "execution_count": null,
   "id": "c99f012a",
   "metadata": {},
   "outputs": [],
   "source": [
    "spark.stop()"
   ]
  },
  {
   "cell_type": "code",
   "execution_count": null,
   "id": "f9800483",
   "metadata": {},
   "outputs": [],
   "source": []
  }
 ],
 "metadata": {
  "kernelspec": {
   "display_name": "Spark_start",
   "language": "python",
   "name": "spark_start"
  },
  "language_info": {
   "codemirror_mode": {
    "name": "ipython",
    "version": 3
   },
   "file_extension": ".py",
   "mimetype": "text/x-python",
   "name": "python",
   "nbconvert_exporter": "python",
   "pygments_lexer": "ipython3",
   "version": "3.8.20"
  }
 },
 "nbformat": 4,
 "nbformat_minor": 5
}
