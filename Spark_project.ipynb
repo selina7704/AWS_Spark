{
 "cells": [
  {
   "cell_type": "markdown",
   "id": "9c3ff393",
   "metadata": {},
   "source": [
    "# IBM HR Analytics Employee Attrition & Performance "
   ]
  },
  {
   "cell_type": "markdown",
   "id": "4c34feda",
   "metadata": {},
   "source": [
    "- 목표: 직원 이직 여부를 예측하는 모델을 구축하고, 직원의 이직 원인과 관련된 인사이트를 도출\n",
    "- 예상 결과: 향후 예측 모델을 통해 이직할 가능성이 있는 직원을 예측하고 조직의 인사 전략을 대응 및 개선 방향\n",
    "- 아키텍처 정의: 데이터 수집, 데이터 저장 및 처리, 데이터분석 및 모델링, 결과 시각화 및 대시보드\n",
    "- 개발 및 환경 구축: \n",
    "     - PySpark 의한 데이터 처리,Python 데이터 분석 및 머신모델을 위한 언어\n",
    "     - Jupyter Notebook 코드 실행 및 결과 확인을 위한 인터페이스\n",
    "     - AWS EC2 클라우드 환경 사용\n",
    "     - GitHub: 코드 백업\n",
    "- 계발 계획: \n",
    "    1. 데이터수집\n",
    "    2. 데이터 전처리\n",
    "    3. 탐색적 데이터 분석 (EDA)\n",
    "    4. 머신러닝 모델링\n",
    "    5. 모델 평가\n",
    "    6. 시각화 및 대시보드\n",
    "- 테스트 계획: 훈련 데이터와 테스트 데이터를 나누어 모델 성능 테스트 \n",
    "- 데이터 출처: https://www.kaggle.com/datasets/pavansubhasht/ibm-hr-analytics-attrition-dataset/data\n"
   ]
  },
  {
   "cell_type": "markdown",
   "id": "6c53507c",
   "metadata": {},
   "source": [
    "# 1. 데이터수집"
   ]
  },
  {
   "cell_type": "code",
   "execution_count": 1,
   "id": "b8c6bc78",
   "metadata": {},
   "outputs": [
    {
     "name": "stderr",
     "output_type": "stream",
     "text": [
      "24/12/18 15:13:36 WARN NativeCodeLoader: Unable to load native-hadoop library for your platform... using builtin-java classes where applicable\n",
      "Using Spark's default log4j profile: org/apache/spark/log4j-defaults.properties\n",
      "Setting default log level to \"WARN\".\n",
      "To adjust logging level use sc.setLogLevel(newLevel). For SparkR, use setLogLevel(newLevel).\n"
     ]
    },
    {
     "data": {
      "text/html": [
       "\n",
       "            <div>\n",
       "                <p><b>SparkSession - in-memory</b></p>\n",
       "                \n",
       "        <div>\n",
       "            <p><b>SparkContext</b></p>\n",
       "\n",
       "            <p><a href=\"http://ip-172-31-2-110.ap-northeast-3.compute.internal:4040\">Spark UI</a></p>\n",
       "\n",
       "            <dl>\n",
       "              <dt>Version</dt>\n",
       "                <dd><code>v3.1.2</code></dd>\n",
       "              <dt>Master</dt>\n",
       "                <dd><code>local[*]</code></dd>\n",
       "              <dt>AppName</dt>\n",
       "                <dd><code>Employee_Attrition</code></dd>\n",
       "            </dl>\n",
       "        </div>\n",
       "        \n",
       "            </div>\n",
       "        "
      ],
      "text/plain": [
       "<pyspark.sql.session.SparkSession at 0x7f2b64585730>"
      ]
     },
     "execution_count": 1,
     "metadata": {},
     "output_type": "execute_result"
    }
   ],
   "source": [
    "from pyspark.sql import SparkSession\n",
    "spark = SparkSession.builder.appName(\"Employee_Attrition\").getOrCreate()\n",
    "spark"
   ]
  },
  {
   "cell_type": "code",
   "execution_count": 2,
   "id": "c8e622a6",
   "metadata": {},
   "outputs": [
    {
     "name": "stderr",
     "output_type": "stream",
     "text": [
      "\r",
      "[Stage 0:>                                                          (0 + 1) / 1]\r",
      "\r",
      "                                                                                \r"
     ]
    }
   ],
   "source": [
    "df = spark.read.format(\"csv\")\\\n",
    "    .option(\"header\",'true')\\\n",
    "    .option('inferSchema', 'true')\\\n",
    "    .load(\"data/HR-Employee-Attrition.csv\")"
   ]
  },
  {
   "cell_type": "code",
   "execution_count": 11,
   "id": "c03d3c95",
   "metadata": {},
   "outputs": [],
   "source": [
    "#필요한 라이브러리 불러오기 \n",
    "\n",
    "from pyspark.sql.functions import *\n",
    "from pyspark.ml.feature import *\n",
    "from pyspark.ml.recommendation import *\n",
    "from pyspark.ml.evaluation import *\n",
    "from pyspark.ml.classification import *\n",
    "from pyspark.sql.types import *\n",
    "import pandas as pd\n",
    "import numpy as np\n",
    "import seaborn as sns\n",
    "import matplotlib.pyplot as plt"
   ]
  },
  {
   "cell_type": "markdown",
   "id": "8cbe5d1e",
   "metadata": {},
   "source": [
    "## 데이터 구조 확인"
   ]
  },
  {
   "cell_type": "code",
   "execution_count": 4,
   "id": "e51845cd",
   "metadata": {},
   "outputs": [
    {
     "data": {
      "text/plain": [
       "1470"
      ]
     },
     "execution_count": 4,
     "metadata": {},
     "output_type": "execute_result"
    }
   ],
   "source": [
    "df.count()"
   ]
  },
  {
   "cell_type": "code",
   "execution_count": 5,
   "id": "47b2106e",
   "metadata": {},
   "outputs": [
    {
     "name": "stdout",
     "output_type": "stream",
     "text": [
      "root\n",
      " |-- Age: integer (nullable = true)\n",
      " |-- Attrition: string (nullable = true)\n",
      " |-- BusinessTravel: string (nullable = true)\n",
      " |-- DailyRate: integer (nullable = true)\n",
      " |-- Department: string (nullable = true)\n",
      " |-- DistanceFromHome: integer (nullable = true)\n",
      " |-- Education: integer (nullable = true)\n",
      " |-- EducationField: string (nullable = true)\n",
      " |-- EmployeeCount: integer (nullable = true)\n",
      " |-- EmployeeNumber: integer (nullable = true)\n",
      " |-- EnvironmentSatisfaction: integer (nullable = true)\n",
      " |-- Gender: string (nullable = true)\n",
      " |-- HourlyRate: integer (nullable = true)\n",
      " |-- JobInvolvement: integer (nullable = true)\n",
      " |-- JobLevel: integer (nullable = true)\n",
      " |-- JobRole: string (nullable = true)\n",
      " |-- JobSatisfaction: integer (nullable = true)\n",
      " |-- MaritalStatus: string (nullable = true)\n",
      " |-- MonthlyIncome: integer (nullable = true)\n",
      " |-- MonthlyRate: integer (nullable = true)\n",
      " |-- NumCompaniesWorked: integer (nullable = true)\n",
      " |-- Over18: string (nullable = true)\n",
      " |-- OverTime: string (nullable = true)\n",
      " |-- PercentSalaryHike: integer (nullable = true)\n",
      " |-- PerformanceRating: integer (nullable = true)\n",
      " |-- RelationshipSatisfaction: integer (nullable = true)\n",
      " |-- StandardHours: integer (nullable = true)\n",
      " |-- StockOptionLevel: integer (nullable = true)\n",
      " |-- TotalWorkingYears: integer (nullable = true)\n",
      " |-- TrainingTimesLastYear: integer (nullable = true)\n",
      " |-- WorkLifeBalance: integer (nullable = true)\n",
      " |-- YearsAtCompany: integer (nullable = true)\n",
      " |-- YearsInCurrentRole: integer (nullable = true)\n",
      " |-- YearsSinceLastPromotion: integer (nullable = true)\n",
      " |-- YearsWithCurrManager: integer (nullable = true)\n",
      "\n"
     ]
    }
   ],
   "source": [
    "df.printSchema()"
   ]
  },
  {
   "cell_type": "markdown",
   "id": "f9d55220",
   "metadata": {},
   "source": [
    "## 컬럼 설명\n",
    "\n",
    "- Age: 직원의 나이\n",
    "- Attrition: 직원의 이직 여부 (Yes or No)\n",
    "- BusinessTravel: 직원의 출장 빈도 (Non-Travel, Travel_Rarely, Travel_Frequently)\n",
    "- DailyRate: 직원의 일일 급여\n",
    "- Department: 직원이 속한 부서 (Research & Development, Sales, Human Resources)\n",
    "- DistanceFromHome: 직원의 집으로부터 회사까지의 거리\n",
    "- Education: 직원의 학력 수준 (1: Below College, 2: College, 3: Bachelor, 4: Master, 5: Doctor)\n",
    "- EducationField: 직원의 전공 분야\n",
    "- EmployeeCount: 직원 수 (모든 값이 1로 동일)\n",
    "- EmployeeNumber: 직원의 고유 번호\n",
    "- EnvironmentSatisfaction: 직원의 업무 환경 만족도 (1: Low, 2: Medium, 3: High, 4: Very High)\n",
    "- Gender: 직원의 성별 (Male, Female)\n",
    "- HourlyRate: 직원의 시간당 급여\n",
    "- JobInvolvement: 직원의 직무 참여도 (1: Low, 2: Medium, 3: High, 4: Very High)\n",
    "- JobLevel: 직원의 직급\n",
    "- JobRole: 직원의 직무\n",
    "- JobSatisfaction: 직원의 직무 만족도 (1: Low, 2: Medium, 3: High, 4: Very High)\n",
    "- MaritalStatus: 직원의 결혼 여부 (Single, Married, Divorced)\n",
    "- MonthlyIncome: 직원의 월급\n",
    "- MonthlyRate: 직원의 월별 급여 총액\n",
    "- NumCompaniesWorked: 직원이 근무한 회사 수\n",
    "- Over18: 직원이 18세 이상인지 여부 (모든 값이 Y로 동일)\n",
    "- OverTime: 직원의 초과 근무 여부 (Yes, No)\n",
    "- PercentSalaryHike: 직원의 급여 인상 비율\n",
    "- PerformanceRating: 직원의 성과 평가 등급 (1: Low, 2: Good, 3: Excellent, 4: Outstanding)\n",
    "- RelationshipSatisfaction: 직원의 동료와의 관계 만족도 (1: Low, 2: Medium, 3: High, 4: Very High)\n",
    "- StandardHours: 직원의 표준 근무 시간 (모든 값이 80으로 동일)\n",
    "- StockOptionLevel: 직원의 주식 옵션 수준 (0, 1, 2, 3)\n",
    "- TotalWorkingYears: 직원의 총 근무 연수\n",
    "- TrainingTimesLastYear: 지난해 직원이 받은 교육 횟수\n",
    "- WorkLifeBalance: 직원의 일-생활 균형 만족도 (1: Bad, 2: Good, 3: Better, 4: Best)\n",
    "- YearsAtCompany: 직원이 현재 회사에서 근무한 기간\n",
    "- YearsInCurrentRole: 직원이 현재 역할에서 근무한 기간\n",
    "- YearsSinceLastPromotion: 직원의 마지막 승진 이후 경과된 기간\n",
    "- YearsWithCurrManager: 직원이 현재 관리자와 함께 일한 기간"
   ]
  },
  {
   "cell_type": "code",
   "execution_count": 6,
   "id": "9f4737a5",
   "metadata": {},
   "outputs": [
    {
     "name": "stderr",
     "output_type": "stream",
     "text": [
      "24/12/18 15:13:46 WARN package: Truncated the string representation of a plan since it was too large. This behavior can be adjusted by setting 'spark.sql.debug.maxToStringFields'.\n"
     ]
    },
    {
     "name": "stdout",
     "output_type": "stream",
     "text": [
      "+---+---------+-----------------+---------+--------------------+----------------+---------+--------------+-------------+--------------+-----------------------+------+----------+--------------+--------+--------------------+---------------+-------------+-------------+-----------+------------------+------+--------+-----------------+-----------------+------------------------+-------------+----------------+-----------------+---------------------+---------------+--------------+------------------+-----------------------+--------------------+\n",
      "|Age|Attrition|   BusinessTravel|DailyRate|          Department|DistanceFromHome|Education|EducationField|EmployeeCount|EmployeeNumber|EnvironmentSatisfaction|Gender|HourlyRate|JobInvolvement|JobLevel|             JobRole|JobSatisfaction|MaritalStatus|MonthlyIncome|MonthlyRate|NumCompaniesWorked|Over18|OverTime|PercentSalaryHike|PerformanceRating|RelationshipSatisfaction|StandardHours|StockOptionLevel|TotalWorkingYears|TrainingTimesLastYear|WorkLifeBalance|YearsAtCompany|YearsInCurrentRole|YearsSinceLastPromotion|YearsWithCurrManager|\n",
      "+---+---------+-----------------+---------+--------------------+----------------+---------+--------------+-------------+--------------+-----------------------+------+----------+--------------+--------+--------------------+---------------+-------------+-------------+-----------+------------------+------+--------+-----------------+-----------------+------------------------+-------------+----------------+-----------------+---------------------+---------------+--------------+------------------+-----------------------+--------------------+\n",
      "| 41|      Yes|    Travel_Rarely|     1102|               Sales|               1|        2| Life Sciences|            1|             1|                      2|Female|        94|             3|       2|     Sales Executive|              4|       Single|         5993|      19479|                 8|     Y|     Yes|               11|                3|                       1|           80|               0|                8|                    0|              1|             6|                 4|                      0|                   5|\n",
      "| 49|       No|Travel_Frequently|      279|Research & Develo...|               8|        1| Life Sciences|            1|             2|                      3|  Male|        61|             2|       2|  Research Scientist|              2|      Married|         5130|      24907|                 1|     Y|      No|               23|                4|                       4|           80|               1|               10|                    3|              3|            10|                 7|                      1|                   7|\n",
      "| 37|      Yes|    Travel_Rarely|     1373|Research & Develo...|               2|        2|         Other|            1|             4|                      4|  Male|        92|             2|       1|Laboratory Techni...|              3|       Single|         2090|       2396|                 6|     Y|     Yes|               15|                3|                       2|           80|               0|                7|                    3|              3|             0|                 0|                      0|                   0|\n",
      "| 33|       No|Travel_Frequently|     1392|Research & Develo...|               3|        4| Life Sciences|            1|             5|                      4|Female|        56|             3|       1|  Research Scientist|              3|      Married|         2909|      23159|                 1|     Y|     Yes|               11|                3|                       3|           80|               0|                8|                    3|              3|             8|                 7|                      3|                   0|\n",
      "| 27|       No|    Travel_Rarely|      591|Research & Develo...|               2|        1|       Medical|            1|             7|                      1|  Male|        40|             3|       1|Laboratory Techni...|              2|      Married|         3468|      16632|                 9|     Y|      No|               12|                3|                       4|           80|               1|                6|                    3|              3|             2|                 2|                      2|                   2|\n",
      "+---+---------+-----------------+---------+--------------------+----------------+---------+--------------+-------------+--------------+-----------------------+------+----------+--------------+--------+--------------------+---------------+-------------+-------------+-----------+------------------+------+--------+-----------------+-----------------+------------------------+-------------+----------------+-----------------+---------------------+---------------+--------------+------------------+-----------------------+--------------------+\n",
      "only showing top 5 rows\n",
      "\n"
     ]
    }
   ],
   "source": [
    "df.show(5)"
   ]
  },
  {
   "cell_type": "code",
   "execution_count": 7,
   "id": "e7f51f6e",
   "metadata": {
    "scrolled": true
   },
   "outputs": [
    {
     "name": "stderr",
     "output_type": "stream",
     "text": [
      "\r",
      "[Stage 5:>                                                          (0 + 1) / 1]\r"
     ]
    },
    {
     "name": "stdout",
     "output_type": "stream",
     "text": [
      "+-------+------------------+---------+--------------+------------------+---------------+----------------+------------------+----------------+-------------+-----------------+-----------------------+------+------------------+------------------+------------------+--------------------+------------------+-------------+-----------------+------------------+------------------+------+--------+------------------+-------------------+------------------------+-------------+------------------+------------------+---------------------+------------------+------------------+------------------+-----------------------+--------------------+\n",
      "|summary|               Age|Attrition|BusinessTravel|         DailyRate|     Department|DistanceFromHome|         Education|  EducationField|EmployeeCount|   EmployeeNumber|EnvironmentSatisfaction|Gender|        HourlyRate|    JobInvolvement|          JobLevel|             JobRole|   JobSatisfaction|MaritalStatus|    MonthlyIncome|       MonthlyRate|NumCompaniesWorked|Over18|OverTime| PercentSalaryHike|  PerformanceRating|RelationshipSatisfaction|StandardHours|  StockOptionLevel| TotalWorkingYears|TrainingTimesLastYear|   WorkLifeBalance|    YearsAtCompany|YearsInCurrentRole|YearsSinceLastPromotion|YearsWithCurrManager|\n",
      "+-------+------------------+---------+--------------+------------------+---------------+----------------+------------------+----------------+-------------+-----------------+-----------------------+------+------------------+------------------+------------------+--------------------+------------------+-------------+-----------------+------------------+------------------+------+--------+------------------+-------------------+------------------------+-------------+------------------+------------------+---------------------+------------------+------------------+------------------+-----------------------+--------------------+\n",
      "|  count|              1470|     1470|          1470|              1470|           1470|            1470|              1470|            1470|         1470|             1470|                   1470|  1470|              1470|              1470|              1470|                1470|              1470|         1470|             1470|              1470|              1470|  1470|    1470|              1470|               1470|                    1470|         1470|              1470|              1470|                 1470|              1470|              1470|              1470|                   1470|                1470|\n",
      "|   mean|36.923809523809524|     null|          null| 802.4857142857143|           null|9.19251700680272| 2.912925170068027|            null|          1.0|1024.865306122449|      2.721768707482993|  null| 65.89115646258503|2.7299319727891156|2.0639455782312925|                null|2.7285714285714286|         null|6502.931292517007|14313.103401360544|2.6931972789115646|  null|    null|15.209523809523809| 3.1537414965986397|      2.7122448979591836|         80.0|0.7938775510204081|11.279591836734694|   2.7993197278911564|2.7612244897959184|7.0081632653061225| 4.229251700680272|     2.1877551020408164|    4.12312925170068|\n",
      "| stddev| 9.135373489136729|     null|          null|403.50909994352804|           null|8.10686443566608|1.0241649445978718|            null|          0.0|602.0243348474752|     1.0930822146350003|  null|20.329427593996176|0.7115611429632297|1.1069398989351202|                null|1.1028461230547213|         null|4707.956783097992| 7117.786044059972|2.4980090060707463|  null|    null|3.6599377165396385|0.36082352460434397|      1.0812088864403517|          0.0|0.8520766679308381| 7.780781675514995|   1.2892706207958466|0.7064758297141507| 6.126525152403571| 3.623137034670627|     3.2224302791379693|  3.5681361205404363|\n",
      "|    min|                18|       No|    Non-Travel|               102|Human Resources|               1|                 1| Human Resources|            1|                1|                      1|Female|                30|                 1|                 1|Healthcare Repres...|                 1|     Divorced|             1009|              2094|                 0|     Y|      No|                11|                  3|                       1|           80|                 0|                 0|                    0|                 1|                 0|                 0|                      0|                   0|\n",
      "|    max|                60|      Yes| Travel_Rarely|              1499|          Sales|              29|                 5|Technical Degree|            1|             2068|                      4|  Male|               100|                 4|                 5|Sales Representative|                 4|       Single|            19999|             26999|                 9|     Y|     Yes|                25|                  4|                       4|           80|                 3|                40|                    6|                 4|                40|                18|                     15|                  17|\n",
      "+-------+------------------+---------+--------------+------------------+---------------+----------------+------------------+----------------+-------------+-----------------+-----------------------+------+------------------+------------------+------------------+--------------------+------------------+-------------+-----------------+------------------+------------------+------+--------+------------------+-------------------+------------------------+-------------+------------------+------------------+---------------------+------------------+------------------+------------------+-----------------------+--------------------+\n",
      "\n"
     ]
    },
    {
     "name": "stderr",
     "output_type": "stream",
     "text": [
      "\r",
      "[Stage 6:>                                                          (0 + 1) / 1]\r",
      "\r",
      "                                                                                \r"
     ]
    }
   ],
   "source": [
    "# 통계 정보 확인\n",
    "df.describe().show()"
   ]
  },
  {
   "cell_type": "code",
   "execution_count": 8,
   "id": "5cfd9df2",
   "metadata": {},
   "outputs": [
    {
     "name": "stderr",
     "output_type": "stream",
     "text": [
      "\r",
      "[Stage 14:=================================================>      (66 + 2) / 75]\r",
      "\r",
      "                                                                                \r"
     ]
    },
    {
     "name": "stdout",
     "output_type": "stream",
     "text": [
      "+---+-----+\n",
      "|Age|count|\n",
      "+---+-----+\n",
      "| 31|   69|\n",
      "| 53|   19|\n",
      "| 34|   77|\n",
      "| 28|   48|\n",
      "| 27|   48|\n",
      "| 26|   39|\n",
      "| 44|   33|\n",
      "| 22|   16|\n",
      "| 47|   24|\n",
      "| 52|   18|\n",
      "| 40|   57|\n",
      "| 20|   11|\n",
      "| 57|    4|\n",
      "| 54|   18|\n",
      "| 48|   19|\n",
      "| 19|    9|\n",
      "| 41|   40|\n",
      "| 43|   32|\n",
      "| 37|   50|\n",
      "| 35|   78|\n",
      "+---+-----+\n",
      "only showing top 20 rows\n",
      "\n",
      "+---------+-----+\n",
      "|DailyRate|count|\n",
      "+---------+-----+\n",
      "|      833|    2|\n",
      "|      496|    1|\n",
      "|      471|    3|\n",
      "|     1342|    1|\n",
      "|      148|    1|\n",
      "|     1238|    1|\n",
      "|     1127|    1|\n",
      "|     1395|    3|\n",
      "|     1084|    2|\n",
      "|      243|    1|\n",
      "|      737|    1|\n",
      "|      392|    1|\n",
      "|      897|    1|\n",
      "|     1339|    2|\n",
      "|     1303|    2|\n",
      "|     1322|    2|\n",
      "|      516|    1|\n",
      "|      580|    2|\n",
      "|     1265|    1|\n",
      "|      251|    1|\n",
      "+---------+-----+\n",
      "only showing top 20 rows\n",
      "\n"
     ]
    },
    {
     "name": "stderr",
     "output_type": "stream",
     "text": [
      "\r",
      "[Stage 28:=================================================>     (90 + 2) / 100]\r",
      "\r",
      "                                                                                \r"
     ]
    },
    {
     "name": "stdout",
     "output_type": "stream",
     "text": [
      "+----------------+-----+\n",
      "|DistanceFromHome|count|\n",
      "+----------------+-----+\n",
      "|              28|   23|\n",
      "|              27|   12|\n",
      "|              26|   25|\n",
      "|              12|   20|\n",
      "|              22|   19|\n",
      "|               1|  208|\n",
      "|              13|   19|\n",
      "|              16|   32|\n",
      "|               6|   59|\n",
      "|               3|   84|\n",
      "|              20|   25|\n",
      "|               5|   65|\n",
      "|              19|   22|\n",
      "|              15|   26|\n",
      "|               9|   85|\n",
      "|              17|   20|\n",
      "|               4|   64|\n",
      "|               8|   80|\n",
      "|              23|   27|\n",
      "|               7|   84|\n",
      "+----------------+-----+\n",
      "only showing top 20 rows\n",
      "\n",
      "+---------+-----+\n",
      "|Education|count|\n",
      "+---------+-----+\n",
      "|        1|  170|\n",
      "|        3|  572|\n",
      "|        5|   48|\n",
      "|        4|  398|\n",
      "|        2|  282|\n",
      "+---------+-----+\n",
      "\n",
      "+-----------------------+-----+\n",
      "|EnvironmentSatisfaction|count|\n",
      "+-----------------------+-----+\n",
      "|                      1|  284|\n",
      "|                      3|  453|\n",
      "|                      4|  446|\n",
      "|                      2|  287|\n",
      "+-----------------------+-----+\n",
      "\n",
      "+----------+-----+\n",
      "|HourlyRate|count|\n",
      "+----------+-----+\n",
      "|        31|   15|\n",
      "|        85|   18|\n",
      "|        65|   19|\n",
      "|        53|   14|\n",
      "|        78|   23|\n",
      "|        34|   12|\n",
      "|        81|   22|\n",
      "|        76|   19|\n",
      "|        44|   18|\n",
      "|        91|   18|\n",
      "|        93|   16|\n",
      "|        47|   16|\n",
      "|        52|   26|\n",
      "|        86|   22|\n",
      "|        40|   18|\n",
      "|        94|   22|\n",
      "|        57|   27|\n",
      "|        54|   26|\n",
      "|        96|   27|\n",
      "|        48|   28|\n",
      "+----------+-----+\n",
      "only showing top 20 rows\n",
      "\n",
      "+--------------+-----+\n",
      "|JobInvolvement|count|\n",
      "+--------------+-----+\n",
      "|             1|   83|\n",
      "|             3|  868|\n",
      "|             4|  144|\n",
      "|             2|  375|\n",
      "+--------------+-----+\n",
      "\n",
      "+--------+-----+\n",
      "|JobLevel|count|\n",
      "+--------+-----+\n",
      "|       1|  543|\n",
      "|       3|  218|\n",
      "|       5|   69|\n",
      "|       4|  106|\n",
      "|       2|  534|\n",
      "+--------+-----+\n",
      "\n",
      "+---------------+-----+\n",
      "|JobSatisfaction|count|\n",
      "+---------------+-----+\n",
      "|              1|  289|\n",
      "|              3|  442|\n",
      "|              4|  459|\n",
      "|              2|  280|\n",
      "+---------------+-----+\n",
      "\n",
      "+-------------+-----+\n",
      "|MonthlyIncome|count|\n",
      "+-------------+-----+\n",
      "|         6397|    2|\n",
      "|         2659|    1|\n",
      "|         2366|    1|\n",
      "|         7880|    1|\n",
      "|         9852|    1|\n",
      "|         4900|    1|\n",
      "|         1483|    1|\n",
      "|         2811|    1|\n",
      "|         2235|    1|\n",
      "|         6623|    1|\n",
      "|         2387|    1|\n",
      "|         2580|    1|\n",
      "|         6825|    1|\n",
      "|         2572|    1|\n",
      "|         3761|    1|\n",
      "|         2821|    1|\n",
      "|        10798|    1|\n",
      "|         5071|    1|\n",
      "|         2996|    2|\n",
      "|         7879|    1|\n",
      "+-------------+-----+\n",
      "only showing top 20 rows\n",
      "\n",
      "+-----------+-----+\n",
      "|MonthlyRate|count|\n",
      "+-----------+-----+\n",
      "|      23364|    1|\n",
      "|       5518|    1|\n",
      "|      11141|    1|\n",
      "|      20497|    1|\n",
      "|       2122|    1|\n",
      "|      18024|    1|\n",
      "|      22021|    1|\n",
      "|      26767|    1|\n",
      "|       3698|    1|\n",
      "|       4161|    1|\n",
      "|      14075|    1|\n",
      "|       6393|    1|\n",
      "|      25150|    1|\n",
      "|       9558|    2|\n",
      "|      17783|    1|\n",
      "|      14377|    1|\n",
      "|      26619|    1|\n",
      "|      20467|    1|\n",
      "|      22107|    1|\n",
      "|       7530|    1|\n",
      "+-----------+-----+\n",
      "only showing top 20 rows\n",
      "\n",
      "+------------------+-----+\n",
      "|NumCompaniesWorked|count|\n",
      "+------------------+-----+\n",
      "|                 1|  521|\n",
      "|                 6|   70|\n",
      "|                 3|  159|\n",
      "|                 5|   63|\n",
      "|                 9|   52|\n",
      "|                 4|  139|\n",
      "|                 8|   49|\n",
      "|                 7|   74|\n",
      "|                 2|  146|\n",
      "|                 0|  197|\n",
      "+------------------+-----+\n",
      "\n",
      "+-----------------+-----+\n",
      "|PercentSalaryHike|count|\n",
      "+-----------------+-----+\n",
      "|               12|  198|\n",
      "|               22|   56|\n",
      "|               13|  209|\n",
      "|               16|   78|\n",
      "|               20|   55|\n",
      "|               19|   76|\n",
      "|               15|  101|\n",
      "|               17|   82|\n",
      "|               23|   28|\n",
      "|               25|   18|\n",
      "|               24|   21|\n",
      "|               21|   48|\n",
      "|               11|  210|\n",
      "|               14|  201|\n",
      "|               18|   89|\n",
      "+-----------------+-----+\n",
      "\n",
      "+-----------------+-----+\n",
      "|PerformanceRating|count|\n",
      "+-----------------+-----+\n",
      "|                3| 1244|\n",
      "|                4|  226|\n",
      "+-----------------+-----+\n",
      "\n",
      "+------------------------+-----+\n",
      "|RelationshipSatisfaction|count|\n",
      "+------------------------+-----+\n",
      "|                       1|  276|\n",
      "|                       3|  459|\n",
      "|                       4|  432|\n",
      "|                       2|  303|\n",
      "+------------------------+-----+\n",
      "\n",
      "+----------------+-----+\n",
      "|StockOptionLevel|count|\n",
      "+----------------+-----+\n",
      "|               1|  596|\n",
      "|               3|   85|\n",
      "|               2|  158|\n",
      "|               0|  631|\n",
      "+----------------+-----+\n",
      "\n",
      "+--------------+-----+\n",
      "|EmployeeNumber|count|\n",
      "+--------------+-----+\n",
      "|           148|    1|\n",
      "|           463|    1|\n",
      "|           471|    1|\n",
      "|           496|    1|\n",
      "|           833|    1|\n",
      "|          1088|    1|\n",
      "|          1238|    1|\n",
      "|          1580|    1|\n",
      "|          1591|    1|\n",
      "|          1645|    1|\n",
      "|          1829|    1|\n",
      "|           243|    1|\n",
      "|           392|    1|\n",
      "|           623|    1|\n",
      "|           897|    1|\n",
      "|          1025|    1|\n",
      "|          1084|    1|\n",
      "|          1127|    1|\n",
      "|          1395|    1|\n",
      "|          1460|    1|\n",
      "+--------------+-----+\n",
      "only showing top 20 rows\n",
      "\n",
      "+-------------+-----+\n",
      "|EmployeeCount|count|\n",
      "+-------------+-----+\n",
      "|            1| 1470|\n",
      "+-------------+-----+\n",
      "\n",
      "+-------------+-----+\n",
      "|StandardHours|count|\n",
      "+-------------+-----+\n",
      "|           80| 1470|\n",
      "+-------------+-----+\n",
      "\n"
     ]
    }
   ],
   "source": [
    "#numeric_cols (Integer) - for 문으로 변경 \n",
    "numeric_cols = [\n",
    "    \"Age\", \"DailyRate\", \"DistanceFromHome\", \"Education\", \"EnvironmentSatisfaction\",\n",
    "    \"HourlyRate\", \"JobInvolvement\", \"JobLevel\", \"JobSatisfaction\", \"MonthlyIncome\",\n",
    "    \"MonthlyRate\", \"NumCompaniesWorked\", \"PercentSalaryHike\", \"PerformanceRating\",\n",
    "    \"RelationshipSatisfaction\", \"StockOptionLevel\", \"EmployeeNumber\", \n",
    "    \"EmployeeCount\", \"StandardHours\"\n",
    "]\n",
    "\n",
    "for col in numeric_cols:\n",
    "    df.groupBy(col).count().show()"
   ]
  },
  {
   "cell_type": "code",
   "execution_count": 9,
   "id": "152b06d7",
   "metadata": {},
   "outputs": [
    {
     "name": "stdout",
     "output_type": "stream",
     "text": [
      "+---------+-----+\n",
      "|Attrition|count|\n",
      "+---------+-----+\n",
      "|       No| 1233|\n",
      "|      Yes|  237|\n",
      "+---------+-----+\n",
      "\n",
      "+-----------------+-----+\n",
      "|   BusinessTravel|count|\n",
      "+-----------------+-----+\n",
      "|Travel_Frequently|  277|\n",
      "|       Non-Travel|  150|\n",
      "|    Travel_Rarely| 1043|\n",
      "+-----------------+-----+\n",
      "\n",
      "+----------------+-----+\n",
      "|  EducationField|count|\n",
      "+----------------+-----+\n",
      "|Technical Degree|  132|\n",
      "|           Other|   82|\n",
      "|       Marketing|  159|\n",
      "|         Medical|  464|\n",
      "|   Life Sciences|  606|\n",
      "| Human Resources|   27|\n",
      "+----------------+-----+\n",
      "\n",
      "+------+-----+\n",
      "|Gender|count|\n",
      "+------+-----+\n",
      "|Female|  588|\n",
      "|  Male|  882|\n",
      "+------+-----+\n",
      "\n",
      "+--------------------+-----+\n",
      "|             JobRole|count|\n",
      "+--------------------+-----+\n",
      "|     Sales Executive|  326|\n",
      "|Manufacturing Dir...|  145|\n",
      "|Laboratory Techni...|  259|\n",
      "|Sales Representative|   83|\n",
      "|Healthcare Repres...|  131|\n",
      "|  Research Scientist|  292|\n",
      "|             Manager|  102|\n",
      "|   Research Director|   80|\n",
      "|     Human Resources|   52|\n",
      "+--------------------+-----+\n",
      "\n",
      "+-------------+-----+\n",
      "|MaritalStatus|count|\n",
      "+-------------+-----+\n",
      "|      Married|  673|\n",
      "|     Divorced|  327|\n",
      "|       Single|  470|\n",
      "+-------------+-----+\n",
      "\n",
      "+------+-----+\n",
      "|Over18|count|\n",
      "+------+-----+\n",
      "|     Y| 1470|\n",
      "+------+-----+\n",
      "\n",
      "+--------+-----+\n",
      "|OverTime|count|\n",
      "+--------+-----+\n",
      "|      No| 1054|\n",
      "|     Yes|  416|\n",
      "+--------+-----+\n",
      "\n"
     ]
    }
   ],
   "source": [
    "# String 인 데이터 보기\n",
    "string_cols = [\n",
    "    \"Attrition\", \"BusinessTravel\", \"EducationField\", \"Gender\", \n",
    "    \"JobRole\", \"MaritalStatus\", \"Over18\", \"OverTime\"\n",
    "]\n",
    "for col in string_cols:\n",
    "    df.groupBy(col).count().show()"
   ]
  },
  {
   "cell_type": "markdown",
   "id": "1e5be1a5",
   "metadata": {},
   "source": [
    "# 2. 데이터 전처리"
   ]
  },
  {
   "cell_type": "code",
   "execution_count": 12,
   "id": "1144b23e",
   "metadata": {},
   "outputs": [
    {
     "name": "stdout",
     "output_type": "stream",
     "text": [
      "+---+---------+--------------+---------+----------+----------------+---------+--------------+-------------+--------------+-----------------------+------+----------+--------------+--------+-------+---------------+-------------+-------------+-----------+------------------+------+--------+-----------------+-----------------+------------------------+-------------+----------------+-----------------+---------------------+---------------+--------------+------------------+-----------------------+--------------------+\n",
      "|Age|Attrition|BusinessTravel|DailyRate|Department|DistanceFromHome|Education|EducationField|EmployeeCount|EmployeeNumber|EnvironmentSatisfaction|Gender|HourlyRate|JobInvolvement|JobLevel|JobRole|JobSatisfaction|MaritalStatus|MonthlyIncome|MonthlyRate|NumCompaniesWorked|Over18|OverTime|PercentSalaryHike|PerformanceRating|RelationshipSatisfaction|StandardHours|StockOptionLevel|TotalWorkingYears|TrainingTimesLastYear|WorkLifeBalance|YearsAtCompany|YearsInCurrentRole|YearsSinceLastPromotion|YearsWithCurrManager|\n",
      "+---+---------+--------------+---------+----------+----------------+---------+--------------+-------------+--------------+-----------------------+------+----------+--------------+--------+-------+---------------+-------------+-------------+-----------+------------------+------+--------+-----------------+-----------------+------------------------+-------------+----------------+-----------------+---------------------+---------------+--------------+------------------+-----------------------+--------------------+\n",
      "|  0|        0|             0|        0|         0|               0|        0|             0|            0|             0|                      0|     0|         0|             0|       0|      0|              0|            0|            0|          0|                 0|     0|       0|                0|                0|                       0|            0|               0|                0|                    0|              0|             0|                 0|                      0|                   0|\n",
      "+---+---------+--------------+---------+----------+----------------+---------+--------------+-------------+--------------+-----------------------+------+----------+--------------+--------+-------+---------------+-------------+-------------+-----------+------------------+------+--------+-----------------+-----------------+------------------------+-------------+----------------+-----------------+---------------------+---------------+--------------+------------------+-----------------------+--------------------+\n",
      "\n"
     ]
    }
   ],
   "source": [
    "#각 컬럼별 null 값 개수 확인\n",
    "\n",
    "null_counts = df.select(\n",
    "    [\n",
    "    sum(when(col(c).isNull() | isnan(c),1).otherwise(0)).alias(c) for c in df.columns\n",
    "    ]\n",
    ")\n",
    "\n",
    "null_counts.show()"
   ]
  },
  {
   "cell_type": "code",
   "execution_count": 13,
   "id": "6552b391",
   "metadata": {},
   "outputs": [
    {
     "name": "stderr",
     "output_type": "stream",
     "text": [
      "\r",
      "[Stage 258:=================================================>    (92 + 3) / 100]\r",
      "\r",
      "                                                                                \r"
     ]
    },
    {
     "name": "stdout",
     "output_type": "stream",
     "text": [
      "+---+---------+--------------+---------+----------+----------------+---------+--------------+-------------+--------------+-----------------------+------+----------+--------------+--------+-------+---------------+-------------+-------------+-----------+------------------+------+--------+-----------------+-----------------+------------------------+-------------+----------------+-----------------+---------------------+---------------+--------------+------------------+-----------------------+--------------------+-----+\n",
      "|Age|Attrition|BusinessTravel|DailyRate|Department|DistanceFromHome|Education|EducationField|EmployeeCount|EmployeeNumber|EnvironmentSatisfaction|Gender|HourlyRate|JobInvolvement|JobLevel|JobRole|JobSatisfaction|MaritalStatus|MonthlyIncome|MonthlyRate|NumCompaniesWorked|Over18|OverTime|PercentSalaryHike|PerformanceRating|RelationshipSatisfaction|StandardHours|StockOptionLevel|TotalWorkingYears|TrainingTimesLastYear|WorkLifeBalance|YearsAtCompany|YearsInCurrentRole|YearsSinceLastPromotion|YearsWithCurrManager|count|\n",
      "+---+---------+--------------+---------+----------+----------------+---------+--------------+-------------+--------------+-----------------------+------+----------+--------------+--------+-------+---------------+-------------+-------------+-----------+------------------+------+--------+-----------------+-----------------+------------------------+-------------+----------------+-----------------+---------------------+---------------+--------------+------------------+-----------------------+--------------------+-----+\n",
      "+---+---------+--------------+---------+----------+----------------+---------+--------------+-------------+--------------+-----------------------+------+----------+--------------+--------+-------+---------------+-------------+-------------+-----------+------------------+------+--------+-----------------+-----------------+------------------------+-------------+----------------+-----------------+---------------------+---------------+--------------+------------------+-----------------------+--------------------+-----+\n",
      "\n"
     ]
    }
   ],
   "source": [
    "# 중복 데이터 확인 (중복 행의 개수 확인)\n",
    "df.groupBy(df.columns).count().filter(col(\"count\") > 1).show()"
   ]
  },
  {
   "cell_type": "code",
   "execution_count": 14,
   "id": "b2f2cc13",
   "metadata": {
    "scrolled": true
   },
   "outputs": [
    {
     "name": "stdout",
     "output_type": "stream",
     "text": [
      "+---+---------+-----------------+---------+--------------------+----------------+---------+--------------+-----------------------+------+----------+--------------+--------+--------------------+---------------+-------------+-------------+-----------+------------------+--------+-----------------+-----------------+------------------------+----------------+-----------------+---------------------+---------------+--------------+------------------+-----------------------+--------------------+\n",
      "|Age|Attrition|   BusinessTravel|DailyRate|          Department|DistanceFromHome|Education|EducationField|EnvironmentSatisfaction|Gender|HourlyRate|JobInvolvement|JobLevel|             JobRole|JobSatisfaction|MaritalStatus|MonthlyIncome|MonthlyRate|NumCompaniesWorked|OverTime|PercentSalaryHike|PerformanceRating|RelationshipSatisfaction|StockOptionLevel|TotalWorkingYears|TrainingTimesLastYear|WorkLifeBalance|YearsAtCompany|YearsInCurrentRole|YearsSinceLastPromotion|YearsWithCurrManager|\n",
      "+---+---------+-----------------+---------+--------------------+----------------+---------+--------------+-----------------------+------+----------+--------------+--------+--------------------+---------------+-------------+-------------+-----------+------------------+--------+-----------------+-----------------+------------------------+----------------+-----------------+---------------------+---------------+--------------+------------------+-----------------------+--------------------+\n",
      "| 41|      Yes|    Travel_Rarely|     1102|               Sales|               1|        2| Life Sciences|                      2|Female|        94|             3|       2|     Sales Executive|              4|       Single|         5993|      19479|                 8|     Yes|               11|                3|                       1|               0|                8|                    0|              1|             6|                 4|                      0|                   5|\n",
      "| 49|       No|Travel_Frequently|      279|Research & Develo...|               8|        1| Life Sciences|                      3|  Male|        61|             2|       2|  Research Scientist|              2|      Married|         5130|      24907|                 1|      No|               23|                4|                       4|               1|               10|                    3|              3|            10|                 7|                      1|                   7|\n",
      "| 37|      Yes|    Travel_Rarely|     1373|Research & Develo...|               2|        2|         Other|                      4|  Male|        92|             2|       1|Laboratory Techni...|              3|       Single|         2090|       2396|                 6|     Yes|               15|                3|                       2|               0|                7|                    3|              3|             0|                 0|                      0|                   0|\n",
      "| 33|       No|Travel_Frequently|     1392|Research & Develo...|               3|        4| Life Sciences|                      4|Female|        56|             3|       1|  Research Scientist|              3|      Married|         2909|      23159|                 1|     Yes|               11|                3|                       3|               0|                8|                    3|              3|             8|                 7|                      3|                   0|\n",
      "| 27|       No|    Travel_Rarely|      591|Research & Develo...|               2|        1|       Medical|                      1|  Male|        40|             3|       1|Laboratory Techni...|              2|      Married|         3468|      16632|                 9|      No|               12|                3|                       4|               1|                6|                    3|              3|             2|                 2|                      2|                   2|\n",
      "+---+---------+-----------------+---------+--------------------+----------------+---------+--------------+-----------------------+------+----------+--------------+--------+--------------------+---------------+-------------+-------------+-----------+------------------+--------+-----------------+-----------------+------------------------+----------------+-----------------+---------------------+---------------+--------------+------------------+-----------------------+--------------------+\n",
      "only showing top 5 rows\n",
      "\n"
     ]
    }
   ],
   "source": [
    "# 불필요한 컬럼 제거 (하나의 값만 존재)\n",
    "# EmployeeNumber, EmployeeCount, Over18, StandardHours\n",
    "df = df.drop(\"EmployeeNumber\",\"EmployeeCount\", \"Over18\", \"StandardHours\")\n",
    "df.show(5)"
   ]
  },
  {
   "cell_type": "code",
   "execution_count": 15,
   "id": "35a16912",
   "metadata": {},
   "outputs": [],
   "source": [
    "# 이상치 확인"
   ]
  },
  {
   "cell_type": "markdown",
   "id": "468c6b47",
   "metadata": {},
   "source": [
    "# 3. 탐색적 데이터 분석 (EDA)"
   ]
  },
  {
   "cell_type": "code",
   "execution_count": 16,
   "id": "278190c9",
   "metadata": {
    "scrolled": true
   },
   "outputs": [
    {
     "name": "stderr",
     "output_type": "stream",
     "text": [
      "\r",
      "[Stage 263:===========================>                         (105 + 2) / 200]\r",
      "\r",
      "[Stage 263:============================================>        (167 + 2) / 200]\r"
     ]
    },
    {
     "name": "stdout",
     "output_type": "stream",
     "text": [
      "+---+---------+-----+\n",
      "|Age|Attrition|count|\n",
      "+---+---------+-----+\n",
      "| 18|       No|    4|\n",
      "| 18|      Yes|    4|\n",
      "| 19|       No|    3|\n",
      "| 19|      Yes|    6|\n",
      "| 20|       No|    5|\n",
      "| 20|      Yes|    6|\n",
      "| 21|      Yes|    6|\n",
      "| 21|       No|    7|\n",
      "| 22|      Yes|    5|\n",
      "| 22|       No|   11|\n",
      "| 23|      Yes|    4|\n",
      "| 23|       No|   10|\n",
      "| 24|       No|   19|\n",
      "| 24|      Yes|    7|\n",
      "| 25|      Yes|    6|\n",
      "| 25|       No|   20|\n",
      "| 26|      Yes|   12|\n",
      "| 26|       No|   27|\n",
      "| 27|       No|   45|\n",
      "| 27|      Yes|    3|\n",
      "+---+---------+-----+\n",
      "only showing top 20 rows\n",
      "\n"
     ]
    },
    {
     "name": "stderr",
     "output_type": "stream",
     "text": [
      "\r",
      "                                                                                \r"
     ]
    }
   ],
   "source": [
    "age_attrition = df.groupby(\"Age\", \"Attrition\").count()\n",
    "age_attrition.orderBy(\"Age\").show()"
   ]
  },
  {
   "cell_type": "code",
   "execution_count": 17,
   "id": "38361d44",
   "metadata": {},
   "outputs": [
    {
     "name": "stdout",
     "output_type": "stream",
     "text": [
      "+-------+------------------+------------------+----------------+-----------------+\n",
      "|summary|               Age|         DailyRate|DistanceFromHome|    MonthlyIncome|\n",
      "+-------+------------------+------------------+----------------+-----------------+\n",
      "|  count|              1470|              1470|            1470|             1470|\n",
      "|   mean|36.923809523809524| 802.4857142857143|9.19251700680272|6502.931292517007|\n",
      "| stddev| 9.135373489136729|403.50909994352804|8.10686443566608|4707.956783097992|\n",
      "|    min|                18|               102|               1|             1009|\n",
      "|    max|                60|              1499|              29|            19999|\n",
      "+-------+------------------+------------------+----------------+-----------------+\n",
      "\n"
     ]
    }
   ],
   "source": [
    "# 수치형 변수 통계 요약 확인\n",
    "df.describe([\"Age\", \"DailyRate\",\"DistanceFromHome\", \"MonthlyIncome\"]).show()"
   ]
  },
  {
   "cell_type": "code",
   "execution_count": 18,
   "id": "bb9c389a",
   "metadata": {},
   "outputs": [],
   "source": [
    "# 수치형 변수에 대한 히스토그램을 통해 분포 확인 (단, PySpark는 matplotlib을 사용하여 시각화를 하기에 pandas로 변환 후 시각화 가능)\n",
    "pandas_df = df.select('Age', 'DailyRate', 'DistanceFromHome', 'MonthlyIncome').toPandas()"
   ]
  },
  {
   "cell_type": "code",
   "execution_count": 19,
   "id": "ff3aebaf",
   "metadata": {},
   "outputs": [
    {
     "data": {
      "image/png": "[encoded data removed]",
      "text/plain": [
       "<Figure size 1000x600 with 1 Axes>"
      ]
     },
     "metadata": {},
     "output_type": "display_data"
    }
   ],
   "source": [
    "import matplotlib.pyplot as plt\n",
    "\n",
    "# Age 분포 히스토그램\n",
    "plt.figure(figsize=(10, 6))\n",
    "pandas_df['Age'].hist(bins=20)\n",
    "plt.title('Age Distribution')\n",
    "plt.xlabel('Age')\n",
    "plt.ylabel('Frequency')\n",
    "plt.show()"
   ]
  },
  {
   "cell_type": "code",
   "execution_count": null,
   "id": "8cbe0d02",
   "metadata": {},
   "outputs": [],
   "source": [
    "# 상관관계 분석 (Numeric 컬럼에 대해)\n",
    "numeric_cols = [\"Age\", \"DailyRate\", \"DistanceFromHome\", \"HourlyRate\", \"MonthlyIncome\"]\n",
    "corr_matrix = df.select(numeric_cols).corr()\n",
    "corr_matrix.show()"
   ]
  },
  {
   "cell_type": "code",
   "execution_count": 20,
   "id": "3362fc14",
   "metadata": {},
   "outputs": [
    {
     "name": "stdout",
     "output_type": "stream",
     "text": [
      "+---+---------+-----+\n",
      "|Age|Attrition|count|\n",
      "+---+---------+-----+\n",
      "| 46|      Yes|    4|\n",
      "| 27|       No|   45|\n",
      "| 60|       No|    5|\n",
      "| 33|       No|   46|\n",
      "| 46|       No|   29|\n",
      "| 47|       No|   21|\n",
      "| 52|      Yes|    3|\n",
      "| 41|       No|   34|\n",
      "| 39|      Yes|    6|\n",
      "| 19|      Yes|    6|\n",
      "| 31|       No|   51|\n",
      "| 21|       No|    7|\n",
      "| 31|      Yes|   18|\n",
      "| 18|       No|    4|\n",
      "| 40|       No|   52|\n",
      "| 43|      Yes|    2|\n",
      "| 36|       No|   63|\n",
      "| 29|      Yes|   18|\n",
      "| 51|      Yes|    2|\n",
      "| 21|      Yes|    6|\n",
      "+---+---------+-----+\n",
      "only showing top 20 rows\n",
      "\n",
      "+--------------------+---------+-----+\n",
      "|          Department|Attrition|count|\n",
      "+--------------------+---------+-----+\n",
      "|Research & Develo...|       No|  828|\n",
      "|     Human Resources|       No|   51|\n",
      "|               Sales|      Yes|   92|\n",
      "|               Sales|       No|  354|\n",
      "|Research & Develo...|      Yes|  133|\n",
      "|     Human Resources|      Yes|   12|\n",
      "+--------------------+---------+-----+\n",
      "\n",
      "+-----------------------+---------+-----+\n",
      "|EnvironmentSatisfaction|Attrition|count|\n",
      "+-----------------------+---------+-----+\n",
      "|                      3|      Yes|   62|\n",
      "|                      2|       No|  244|\n",
      "|                      2|      Yes|   43|\n",
      "|                      1|       No|  212|\n",
      "|                      3|       No|  391|\n",
      "|                      4|       No|  386|\n",
      "|                      4|      Yes|   60|\n",
      "|                      1|      Yes|   72|\n",
      "+-----------------------+---------+-----+\n",
      "\n",
      "+------+---------+-----+\n",
      "|Gender|Attrition|count|\n",
      "+------+---------+-----+\n",
      "|  Male|       No|  732|\n",
      "|  Male|      Yes|  150|\n",
      "|Female|       No|  501|\n",
      "|Female|      Yes|   87|\n",
      "+------+---------+-----+\n",
      "\n"
     ]
    }
   ],
   "source": [
    "# 이직여부와 다른 변수 관계분석\n",
    "df.groupBy(\"Age\",\"Attrition\").count().show()\n",
    "df.groupBy(\"Department\",\"Attrition\").count().show()\n",
    "df.groupBy(\"EnvironmentSatisfaction\",\"Attrition\").count().show()\n",
    "df.groupBy(\"Gender\",\"Attrition\").count().show()"
   ]
  },
  {
   "cell_type": "markdown",
   "id": "1a25b9ae",
   "metadata": {},
   "source": [
    "# 시각화"
   ]
  },
  {
   "cell_type": "code",
   "execution_count": null,
   "id": "2f073c9b",
   "metadata": {},
   "outputs": [],
   "source": []
  },
  {
   "cell_type": "code",
   "execution_count": null,
   "id": "d73877ed",
   "metadata": {},
   "outputs": [],
   "source": []
  },
  {
   "cell_type": "markdown",
   "id": "75c95b22",
   "metadata": {},
   "source": [
    "# Feature selection"
   ]
  },
  {
   "cell_type": "code",
   "execution_count": null,
   "id": "1482c5dd",
   "metadata": {},
   "outputs": [],
   "source": []
  },
  {
   "cell_type": "code",
   "execution_count": null,
   "id": "f55f84f0",
   "metadata": {},
   "outputs": [],
   "source": []
  },
  {
   "cell_type": "markdown",
   "id": "22c68576",
   "metadata": {},
   "source": [
    "# 머신러닝 모델 생성 및 예측"
   ]
  },
  {
   "cell_type": "code",
   "execution_count": 24,
   "id": "88a6c7b7",
   "metadata": {},
   "outputs": [],
   "source": [
    "numeric_cols = [\n",
    "    \"Age\", \"DailyRate\", \"DistanceFromHome\", \"Education\", \"EnvironmentSatisfaction\",\n",
    "    \"HourlyRate\", \"JobInvolvement\", \"JobLevel\", \"JobSatisfaction\", \"MonthlyIncome\",\n",
    "    \"MonthlyRate\", \"NumCompaniesWorked\", \"PercentSalaryHike\", \"PerformanceRating\",\n",
    "    \"RelationshipSatisfaction\", \"StockOptionLevel\"\n",
    "]"
   ]
  },
  {
   "cell_type": "code",
   "execution_count": 22,
   "id": "1deb1080",
   "metadata": {},
   "outputs": [],
   "source": [
    "# 범주형 데이터 인코딩 - Attrition 0.0 = \"No\", 1.0 = \"Yes\"\n",
    "indexer = StringIndexer(inputCol=\"Attrition\", outputCol=\"Attrition_Index\") \n",
    "df = indexer.fit(df).transform(df)"
   ]
  },
  {
   "cell_type": "code",
   "execution_count": 25,
   "id": "d139d17e",
   "metadata": {},
   "outputs": [],
   "source": [
    "# 특성과 레이블 정의\n",
    "\n",
    "#numeric_cols = ['Age', 'DailyRate', 'DistanceFromHome', 'HourlyRate', 'MonthlyIncome']\n",
    "assembler = VectorAssembler(inputCols=numeric_cols, outputCol='features')\n",
    "df = assembler.transform(df)"
   ]
  },
  {
   "cell_type": "code",
   "execution_count": 26,
   "id": "f4314bc9",
   "metadata": {},
   "outputs": [],
   "source": [
    "# 로지스틱 회귀 모델\n",
    "lr = LogisticRegression(featuresCol='features', labelCol='Attrition_Index')"
   ]
  },
  {
   "cell_type": "code",
   "execution_count": 27,
   "id": "985313ba",
   "metadata": {},
   "outputs": [],
   "source": [
    "# 훈련 데이터와 테스트 데이터 분리\n",
    "train_data, test_data = df.randomSplit([0.7, 0.3], seed=42)"
   ]
  },
  {
   "cell_type": "code",
   "execution_count": 28,
   "id": "23fdda2b",
   "metadata": {},
   "outputs": [
    {
     "name": "stderr",
     "output_type": "stream",
     "text": [
      "24/12/18 15:16:09 WARN BLAS: Failed to load implementation from: com.github.fommil.netlib.NativeSystemBLAS\n",
      "24/12/18 15:16:09 WARN BLAS: Failed to load implementation from: com.github.fommil.netlib.NativeRefBLAS\n"
     ]
    }
   ],
   "source": [
    "# 모델 훈련\n",
    "model = lr.fit(train_data)"
   ]
  },
  {
   "cell_type": "code",
   "execution_count": 29,
   "id": "0159690c",
   "metadata": {},
   "outputs": [],
   "source": [
    "# 예측 수행\n",
    "predictions = model.transform(test_data)"
   ]
  },
  {
   "cell_type": "code",
   "execution_count": 30,
   "id": "7985dc76",
   "metadata": {},
   "outputs": [
    {
     "data": {
      "text/plain": [
       "0.7301564027370495"
      ]
     },
     "execution_count": 30,
     "metadata": {},
     "output_type": "execute_result"
    }
   ],
   "source": [
    "# 예측 성능 평가\n",
    "evaluator = BinaryClassificationEvaluator(labelCol='Attrition_Index')\n",
    "auc = evaluator.evaluate(predictions)\n",
    "auc # 결과값 = 0.6718963831867062 - 기본 예측보다는 나은 성능이지만 개선의 여지가 많음 - 아직 최적화디지 않음"
   ]
  },
  {
   "cell_type": "code",
   "execution_count": 31,
   "id": "cbe93ae5",
   "metadata": {},
   "outputs": [
    {
     "name": "stdout",
     "output_type": "stream",
     "text": [
      "+---------+---------------+----------+----------------------------------------+\n",
      "|Attrition|Attrition_Index|prediction|probability                             |\n",
      "+---------+---------------+----------+----------------------------------------+\n",
      "|No       |0.0            |0.0       |[0.6891300062903215,0.3108699937096785] |\n",
      "|Yes      |1.0            |0.0       |[0.6955506021043387,0.3044493978956613] |\n",
      "|No       |0.0            |0.0       |[0.7222602454071366,0.2777397545928634] |\n",
      "|No       |0.0            |0.0       |[0.6452153909680143,0.3547846090319857] |\n",
      "|Yes      |1.0            |0.0       |[0.6415738213714391,0.35842617862856085]|\n",
      "|Yes      |1.0            |0.0       |[0.5156342011348694,0.48436579886513065]|\n",
      "|Yes      |1.0            |1.0       |[0.49674144548994287,0.5032585545100572]|\n",
      "|No       |0.0            |1.0       |[0.45055177586786616,0.5494482241321339]|\n",
      "|No       |0.0            |0.0       |[0.7394704442743075,0.2605295557256925] |\n",
      "|Yes      |1.0            |0.0       |[0.7404365067809492,0.2595634932190508] |\n",
      "|Yes      |1.0            |1.0       |[0.44496536916869645,0.5550346308313036]|\n",
      "|No       |0.0            |0.0       |[0.7126961512831411,0.2873038487168589] |\n",
      "|No       |0.0            |0.0       |[0.7626462069433407,0.23735379305665927]|\n",
      "|No       |0.0            |0.0       |[0.5796358038518606,0.42036419614813936]|\n",
      "|No       |0.0            |0.0       |[0.6290194940774592,0.37098050592254084]|\n",
      "|No       |0.0            |0.0       |[0.654805920490537,0.345194079509463]   |\n",
      "|Yes      |1.0            |1.0       |[0.398511671692829,0.601488328307171]   |\n",
      "|Yes      |1.0            |1.0       |[0.45972799807265674,0.5402720019273433]|\n",
      "|No       |0.0            |0.0       |[0.949871538090008,0.050128461909991984]|\n",
      "|No       |0.0            |1.0       |[0.3382864078069999,0.6617135921930001] |\n",
      "+---------+---------------+----------+----------------------------------------+\n",
      "only showing top 20 rows\n",
      "\n"
     ]
    }
   ],
   "source": [
    "predictions.select('Attrition','Attrition_Index', 'prediction', 'probability').show(truncate=False)"
   ]
  },
  {
   "cell_type": "markdown",
   "id": "1f29b673",
   "metadata": {},
   "source": [
    "- Attrition, Attrition_Index: 실제 레이블 (No 0, Yes 1)\n",
    "- prediction: 모델의 예츨 결과 (No 0, Yes 1)\n",
    "- probability: 예측 확률 - 첫번째 No 일 확률, 두번째 Yes 일 확률"
   ]
  },
  {
   "cell_type": "code",
   "execution_count": null,
   "id": "972a4d1f",
   "metadata": {},
   "outputs": [],
   "source": []
  }
 ],
 "metadata": {
  "kernelspec": {
   "display_name": "Spark_start",
   "language": "python",
   "name": "spark_start"
  },
  "language_info": {
   "codemirror_mode": {
    "name": "ipython",
    "version": 3
   },
   "file_extension": ".py",
   "mimetype": "text/x-python",
   "name": "python",
   "nbconvert_exporter": "python",
   "pygments_lexer": "ipython3",
   "version": "3.8.20"
  }
 },
 "nbformat": 4,
 "nbformat_minor": 5
}
