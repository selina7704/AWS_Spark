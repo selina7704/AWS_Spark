{
 "cells": [
  {
   "cell_type": "markdown",
   "metadata": {},
   "source": [
    "## fakefriends.csv\n",
    "\n",
    "1. user_id: 사용자ID \n",
    "2. name:사용자 이름\n",
    "3. age: 사용자 나이\n",
    "4. num_friends: 친구 수 "
   ]
  },
  {
   "cell_type": "code",
   "execution_count": 1,
   "metadata": {},
   "outputs": [
    {
     "name": "stderr",
     "output_type": "stream",
     "text": [
      "24/12/06 18:08:01 WARN NativeCodeLoader: Unable to load native-hadoop library for your platform... using builtin-java classes where applicable\n",
      "Using Spark's default log4j profile: org/apache/spark/log4j-defaults.properties\n",
      "Setting default log level to \"WARN\".\n",
      "To adjust logging level use sc.setLogLevel(newLevel). For SparkR, use setLogLevel(newLevel).\n"
     ]
    },
    {
     "data": {
      "text/html": [
       "\n",
       "        <div>\n",
       "            <p><b>SparkContext</b></p>\n",
       "\n",
       "            <p><a href=\"http://ip-172-31-2-110.ap-northeast-3.compute.internal:4040\">Spark UI</a></p>\n",
       "\n",
       "            <dl>\n",
       "              <dt>Version</dt>\n",
       "                <dd><code>v3.1.2</code></dd>\n",
       "              <dt>Master</dt>\n",
       "                <dd><code>local</code></dd>\n",
       "              <dt>AppName</dt>\n",
       "                <dd><code>241205_04_RDDEXAM</code></dd>\n",
       "            </dl>\n",
       "        </div>\n",
       "        "
      ],
      "text/plain": [
       "<SparkContext master=local appName=241205_04_RDDEXAM>"
      ]
     },
     "execution_count": 1,
     "metadata": {},
     "output_type": "execute_result"
    }
   ],
   "source": [
    "from pyspark import SparkConf, SparkContext\n",
    "#스파크 환경 설정 객체 생성\n",
    "conf = SparkConf().setMaster(\"local\").setAppName(\"241205_04_RDDEXAM\")\n",
    "spark = SparkContext(conf=conf).getOrCreate()\n",
    "spark"
   ]
  },
  {
   "cell_type": "code",
   "execution_count": 2,
   "metadata": {},
   "outputs": [
    {
     "name": "stdout",
     "output_type": "stream",
     "text": [
      "Current working directory: /home/lab05/src\n",
      "File path: /home/lab05/src/data/fakefriends.csv\n",
      "Does the file exist? True\n"
     ]
    }
   ],
   "source": [
    "import os\n",
    "directory = os.path.join(os.getcwd(), \"data\")\n",
    "filename = \"fakefriends.csv\"\n",
    "filepath = os.path.join(directory, filename)\n",
    "filepath_spark = \"file:///\"+filepath.replace(\"\\\\\",\"/\")\n",
    "lines = spark.textFile(filepath_spark)\n",
    "\n",
    "# 경로가 올바른지 확인\n",
    "print(\"Current working directory:\", os.getcwd())\n",
    "print(\"File path:\", filepath)\n",
    "print(\"Does the file exist?\", os.path.exists(filepath))"
   ]
  },
  {
   "cell_type": "code",
   "execution_count": 3,
   "metadata": {},
   "outputs": [
    {
     "name": "stderr",
     "output_type": "stream",
     "text": [
      "                                                                                \r"
     ]
    },
    {
     "data": {
      "text/plain": [
       "[['0', 'Will', '33', '385'],\n",
       " ['1', 'Jean-Luc', '26', '2'],\n",
       " ['2', 'Hugh', '55', '221'],\n",
       " ['3', 'Deanna', '40', '465'],\n",
       " ['4', 'Quark', '68', '21']]"
      ]
     },
     "execution_count": 3,
     "metadata": {},
     "output_type": "execute_result"
    }
   ],
   "source": [
    "# RDD 생성\n",
    "rdd = lines.map(lambda x: x.split(','))\n",
    "rdd.take(5)"
   ]
  },
  {
   "cell_type": "code",
   "execution_count": 4,
   "metadata": {},
   "outputs": [
    {
     "name": "stdout",
     "output_type": "stream",
     "text": [
      "평균 친구 수: 248.532\n"
     ]
    }
   ],
   "source": [
    "#평균 친구수 구하기\n",
    "\n",
    "# 1. 친구 수 RDD \n",
    "rdd_friends = rdd.map(lambda x:int(x[3]))\n",
    "\n",
    "# 2. 총 친구 수 \n",
    "total_friends = rdd_friends.reduce(lambda x,y: x+y) #124266\n",
    "\n",
    "# 3. 전체 이용자 수 \n",
    "num_friends = rdd_friends.count() #500\n",
    "\n",
    "# 4. 평균 친구 수\n",
    "print(f'평균 친구 수: {total_friends/num_friends}') #다들 친구가 많네..? "
   ]
  },
  {
   "cell_type": "code",
   "execution_count": 5,
   "metadata": {},
   "outputs": [
    {
     "name": "stdout",
     "output_type": "stream",
     "text": [
      "가장 많은, 499 명의 친구를 가진 사용자는 Beverly 입니다!!\n",
      "가장 많은, 499 명의 친구를 가진 사용자는 Data 입니다!!\n",
      "가장 많은, 499 명의 친구를 가진 사용자는 Julian 입니다!!\n",
      "가장 적은, 1 명의 친구를 가진 사용자는 Julian 입니다!!\n",
      "가장 적은, 1 명의 친구를 가진 사용자는 Nog 입니다!!\n"
     ]
    }
   ],
   "source": [
    "# 가장 친구가 많은/적은 사용자 찾기\n",
    "\n",
    "#1. user& 친구수 RDD\n",
    "rdd_user_friends = rdd.map(lambda x: (x[1], int(x[3])))\n",
    "\n",
    "#2. 가장 많은/적은 친구 수는 몇명인지 \n",
    "max_friends = rdd_user_friends.map(lambda x: x[1]).max()\n",
    "min_friends = rdd_user_friends.map(lambda x: x[1]).min()\n",
    "\n",
    "#3. 그 수와 같은 이름들 필터링\n",
    "max_users = rdd_user_friends.filter(lambda x: x[1] == max_friends).collect()\n",
    "min_users = rdd_user_friends.filter(lambda x: x[1] == min_friends).collect()\n",
    "\n",
    "for (k,v) in max_users:\n",
    "    print(f'가장 많은, {v} 명의 친구를 가진 사용자는 {k} 입니다!!')\n",
    "for (k,v) in min_users:\n",
    "    print(f'가장 적은, {v} 명의 친구를 가진 사용자는 {k} 입니다!!')"
   ]
  },
  {
   "cell_type": "code",
   "execution_count": 6,
   "metadata": {},
   "outputs": [
    {
     "data": {
      "text/plain": [
       "[('Beverly', 499),\n",
       " ('Data', 493),\n",
       " ('Data', 499),\n",
       " ('Dukat', 496),\n",
       " ('Geordi', 493),\n",
       " ('Jadzia', 497),\n",
       " ('Jean-Luc', 490),\n",
       " ('Jean-Luc', 496),\n",
       " ('Julian', 499),\n",
       " ('Keiko', 491),\n",
       " ('Keiko', 492),\n",
       " ('Nerys', 492),\n",
       " ('Will', 491),\n",
       " ('Worf', 492)]"
      ]
     },
     "execution_count": 6,
     "metadata": {},
     "output_type": "execute_result"
    }
   ],
   "source": [
    "# 친구 수가 100 이상인 사용자 필터링\n",
    "filtered_num_friends = rdd_user_friends.filter(lambda x: x[1]>=100)\n",
    "filtered_num_friends.count() #394명 \n",
    "\n",
    "# 친구 수가 490 이상인 사용자 필터링 - 100명이상 너무 많아서 490명으로 필터링\n",
    "filtered_num_friends = rdd_user_friends.filter(lambda x: x[1]>=490)\n",
    "sorted(filtered_num_friends.collect()) #14명"
   ]
  },
  {
   "cell_type": "code",
   "execution_count": 7,
   "metadata": {},
   "outputs": [
    {
     "name": "stdout",
     "output_type": "stream",
     "text": [
      "10대: 5093 명\n",
      "20대: 21503 명\n",
      "30대: 22887 명\n",
      "40대: 26455 명\n",
      "50대: 24360 명\n",
      "60대: 23968 명\n"
     ]
    }
   ],
   "source": [
    "# 특정 나이에 속한 사람들의 친구 수 합계\n",
    "\n",
    "#1. RDD 연령대별 그룹화\n",
    "rdd_user_age = rdd.map(lambda x: ((int(x[2]) // 10) * 10, int(x[3]))) # 10대, 20대, 30대,... \n",
    "grouping = rdd_user_age.groupByKey()\n",
    "\n",
    "#연령대별 친구 수 합\n",
    "sum_friends = grouping.mapValues(lambda x:sum(x)) #or rdd_user_age3.reduceByKey(lambda x, y: x + y)\n",
    "result_sum = sorted(sum_friends.collect())\n",
    "\n",
    "min_age_group = min(result_sum, key = lambda x:x[1])\n",
    "max_age_group = max(result_sum, key = lambda x:x[1])\n",
    "\n",
    "for (k,v) in result_sum:\n",
    "    print(f'{k}대: {v} 명')"
   ]
  },
  {
   "cell_type": "code",
   "execution_count": 8,
   "metadata": {},
   "outputs": [
    {
     "data": {
      "text/html": [
       "<div>\n",
       "<style scoped>\n",
       "    .dataframe tbody tr th:only-of-type {\n",
       "        vertical-align: middle;\n",
       "    }\n",
       "\n",
       "    .dataframe tbody tr th {\n",
       "        vertical-align: top;\n",
       "    }\n",
       "\n",
       "    .dataframe thead th {\n",
       "        text-align: right;\n",
       "    }\n",
       "</style>\n",
       "<table border=\"1\" class=\"dataframe\">\n",
       "  <thead>\n",
       "    <tr style=\"text-align: right;\">\n",
       "      <th></th>\n",
       "      <th>Age</th>\n",
       "      <th>Number of friends</th>\n",
       "    </tr>\n",
       "  </thead>\n",
       "  <tbody>\n",
       "    <tr>\n",
       "      <th>0</th>\n",
       "      <td>10</td>\n",
       "      <td>5093</td>\n",
       "    </tr>\n",
       "    <tr>\n",
       "      <th>1</th>\n",
       "      <td>20</td>\n",
       "      <td>21503</td>\n",
       "    </tr>\n",
       "    <tr>\n",
       "      <th>2</th>\n",
       "      <td>30</td>\n",
       "      <td>22887</td>\n",
       "    </tr>\n",
       "    <tr>\n",
       "      <th>3</th>\n",
       "      <td>40</td>\n",
       "      <td>26455</td>\n",
       "    </tr>\n",
       "    <tr>\n",
       "      <th>4</th>\n",
       "      <td>50</td>\n",
       "      <td>24360</td>\n",
       "    </tr>\n",
       "    <tr>\n",
       "      <th>5</th>\n",
       "      <td>60</td>\n",
       "      <td>23968</td>\n",
       "    </tr>\n",
       "  </tbody>\n",
       "</table>\n",
       "</div>"
      ],
      "text/plain": [
       "   Age  Number of friends\n",
       "0   10               5093\n",
       "1   20              21503\n",
       "2   30              22887\n",
       "3   40              26455\n",
       "4   50              24360\n",
       "5   60              23968"
      ]
     },
     "execution_count": 8,
     "metadata": {},
     "output_type": "execute_result"
    }
   ],
   "source": [
    "#데이터 프레임 & 시각화\n",
    "\n",
    "import pandas as pd\n",
    "import matplotlib.pyplot as plt\n",
    "\n",
    "df = pd.DataFrame(result_sum, columns =['Age', 'Number of friends'])\n",
    "df"
   ]
  },
  {
   "cell_type": "code",
   "execution_count": 9,
   "metadata": {},
   "outputs": [
    {
     "data": {
      "image/png": "[encoded data removed]",
      "text/plain": [
       "<Figure size 800x400 with 1 Axes>"
      ]
     },
     "metadata": {},
     "output_type": "display_data"
    },
    {
     "name": "stdout",
     "output_type": "stream",
     "text": [
      "친구 합계가 가장 적은 연령대는 5093 명의 10대 입니다!\n",
      "친구 합계가 가장 많은 연령대는 26455 명의 40 대 입니다!\n"
     ]
    }
   ],
   "source": [
    "plt.figure(figsize=(8,4))\n",
    "x = df['Age']\n",
    "y = df['Number of friends']\n",
    "plt.bar(x,y, width=5)\n",
    "plt.title(\"Total Number of Friends by Age Group\")\n",
    "plt.xlabel(\"Age Group\")\n",
    "plt.ylabel(\"Total Number of Friends\")\n",
    "plt.tight_layout()\n",
    "plt.show()\n",
    "\n",
    "    \n",
    "print(f'친구 합계가 가장 적은 연령대는 {min_age_group[1]} 명의 {min_age_group[0]}대 입니다!')\n",
    "print(f'친구 합계가 가장 많은 연령대는 {max_age_group[1]} 명의 {max_age_group[0]} 대 입니다!')"
   ]
  },
  {
   "cell_type": "code",
   "execution_count": 10,
   "metadata": {
    "scrolled": true
   },
   "outputs": [
    {
     "data": {
      "text/plain": [
       "[(('Hugh', '55'), 2),\n",
       " (('Jadzia', '38'), 2),\n",
       " (('Ben', '57'), 2),\n",
       " (('Keiko', '54'), 4),\n",
       " (('Jean-Luc', '56'), 2),\n",
       " (('Odo', '35'), 2),\n",
       " (('Geordi', '60'), 2),\n",
       " (('Quark', '30'), 2),\n",
       " (('Keiko', '51'), 2),\n",
       " (('Nog', '48'), 2),\n",
       " (('Nog', '26'), 2),\n",
       " (('Deanna', '64'), 2),\n",
       " (('Morn', '25'), 3),\n",
       " (('Ezri', '40'), 2),\n",
       " (('Keiko', '41'), 2),\n",
       " (('Morn', '59'), 2),\n",
       " (('Keiko', '69'), 2),\n",
       " (('Brunt', '52'), 2),\n",
       " (('Dukat', '67'), 2),\n",
       " (('Hugh', '57'), 2),\n",
       " (('Geordi', '32'), 3),\n",
       " (('Ben', '28'), 2),\n",
       " (('Ezri', '31'), 2),\n",
       " (('Worf', '24'), 2),\n",
       " (('Will', '44'), 2),\n",
       " (('Dukat', '32'), 2),\n",
       " (('Beverly', '18'), 2),\n",
       " (('Jean-Luc', '68'), 2),\n",
       " (('Deanna', '35'), 2),\n",
       " (('Jadzia', '45'), 2),\n",
       " (('Brunt', '26'), 2),\n",
       " (('Gowron', '67'), 2),\n",
       " (('Quark', '19'), 2),\n",
       " (('Ben', '45'), 2),\n",
       " (('Will', '19'), 2),\n",
       " (('Martok', '28'), 2),\n",
       " (('Miles', '36'), 2),\n",
       " (('Guinan', '59'), 2),\n",
       " (('Data', '60'), 2),\n",
       " (('Nerys', '39'), 2),\n",
       " (('Beverly', '49'), 2),\n",
       " (('Ezri', '59'), 2),\n",
       " (('Quark', '48'), 2),\n",
       " (('Kasidy', '55'), 2),\n",
       " (('Julian', '44'), 2),\n",
       " (('Data', '38'), 2),\n",
       " (('Leeta', '38'), 2),\n",
       " (('Ezri', '46'), 2),\n",
       " (('Lwaxana', '26'), 2),\n",
       " (('Worf', '68'), 3),\n",
       " (('Brunt', '62'), 2),\n",
       " (('Deanna', '46'), 2),\n",
       " (('Dukat', '21'), 2),\n",
       " (('Jean-Luc', '28'), 2),\n",
       " (('Data', '51'), 2),\n",
       " (('Data', '44'), 3),\n",
       " (('Quark', '29'), 2),\n",
       " (('Julian', '64'), 2),\n",
       " (('Beverly', '23'), 2),\n",
       " (('Geordi', '36'), 2),\n",
       " (('Data', '18'), 2),\n",
       " (('Dukat', '41'), 2),\n",
       " (('Jadzia', '53'), 2),\n",
       " (('Kasidy', '18'), 2)]"
      ]
     },
     "execution_count": 10,
     "metadata": {},
     "output_type": "execute_result"
    }
   ],
   "source": [
    "# 분석 주제 추가\n",
    "\n",
    "#같은 이름, 같은 나이 잃어버린 쌍둥이 찾아주기 :) \n",
    "\n",
    "# 1.이름과 나이 유저 페어링\n",
    "pairs_name_age = rdd.map(lambda x: (x[1],x[2]))\n",
    "#pairs_name_age.collect()\n",
    "\n",
    "#2. 카운트 \n",
    "counts = pairs_name_age.map(lambda x: (x,1))\n",
    "#counts.collect()\n",
    "\n",
    "#3. 같은 이름 찾기\n",
    "same_name_age = counts.reduceByKey(lambda x,y: x+y)\n",
    "#same_name_age.collect()\n",
    "\n",
    "# 중복 찾기\n",
    "find_lost_twins = same_name_age.filter(lambda x: x[1] > 1)\n",
    "find_lost_twins.collect() "
   ]
  },
  {
   "cell_type": "code",
   "execution_count": 11,
   "metadata": {},
   "outputs": [
    {
     "data": {
      "text/plain": [
       "[]"
      ]
     },
     "execution_count": 11,
     "metadata": {},
     "output_type": "execute_result"
    }
   ],
   "source": [
    "# 아이디 중복은 없음! - 동일 인물 없음! \n",
    "duplicated_userid = rdd.map(lambda x: (x[0],1))\n",
    "result = duplicated_userid.reduceByKey(lambda x,y:x+y)\n",
    "result2 = result.filter(lambda x: x[1] > 1)\n",
    "result2.collect()"
   ]
  },
  {
   "cell_type": "code",
   "execution_count": 12,
   "metadata": {},
   "outputs": [],
   "source": [
    "spark.stop()"
   ]
  }
 ],
 "metadata": {
  "kernelspec": {
   "display_name": "Spark_start",
   "language": "python",
   "name": "spark_start"
  },
  "language_info": {
   "codemirror_mode": {
    "name": "ipython",
    "version": 3
   },
   "file_extension": ".py",
   "mimetype": "text/x-python",
   "name": "python",
   "nbconvert_exporter": "python",
   "pygments_lexer": "ipython3",
   "version": "3.8.20"
  }
 },
 "nbformat": 4,
 "nbformat_minor": 2
}
