{
 "cells": [
  {
   "cell_type": "code",
   "execution_count": 1,
   "id": "61679300",
   "metadata": {},
   "outputs": [
    {
     "name": "stderr",
     "output_type": "stream",
     "text": [
      "24/12/10 14:50:54 WARN NativeCodeLoader: Unable to load native-hadoop library for your platform... using builtin-java classes where applicable\n",
      "Using Spark's default log4j profile: org/apache/spark/log4j-defaults.properties\n",
      "Setting default log level to \"WARN\".\n",
      "To adjust logging level use sc.setLogLevel(newLevel). For SparkR, use setLogLevel(newLevel).\n"
     ]
    }
   ],
   "source": [
    "from pyspark import SparkConf, SparkContext\n",
    "conf = SparkConf().setMaster(\"local\").setAppName(\"241210_01_SparkSQL_basic1\")\n",
    "sc   = SparkContext(conf=conf)"
   ]
  },
  {
   "cell_type": "code",
   "execution_count": 2,
   "id": "4fac329b",
   "metadata": {},
   "outputs": [],
   "source": [
    "movies_rdd = sc.parallelize([\n",
    "    (1, (\"어벤져스\", \"마블\")),\n",
    "    (2, (\"슈퍼맨\", \"DC\")),\n",
    "    (3, (\"배트맨\", \"DC\")),\n",
    "    (4, (\"겨울왕국\", \"디즈니\")),\n",
    "    (5, (\"아이언맨\", \"마블\"))\n",
    "])\n",
    "\n",
    "\n",
    "attendances_rdd = sc.parallelize([\n",
    "    (1, (13934592, \"KR\")),\n",
    "    (2, (2182227,\"KR\")),\n",
    "    (3, (4226242, \"KR\")),\n",
    "    (4, (10303058, \"KR\")),\n",
    "    (5, (4300365, \"KR\"))\n",
    "])"
   ]
  },
  {
   "cell_type": "code",
   "execution_count": 3,
   "id": "417d6232",
   "metadata": {},
   "outputs": [],
   "source": [
    "# # 관객수가 500만 이상인 영화를 가져오기\n",
    "\n",
    "# 1. 조인 > 필터 > 영화정보\n",
    "# 2. 필터 > 조인 > 영화정보"
   ]
  },
  {
   "cell_type": "code",
   "execution_count": 4,
   "id": "91e8bbee",
   "metadata": {},
   "outputs": [
    {
     "name": "stderr",
     "output_type": "stream",
     "text": [
      "                                                                                \r"
     ]
    },
    {
     "data": {
      "text/plain": [
       "[(4, (('겨울왕국', '디즈니'), (10303058, 'KR'))),\n",
       " (1, (('어벤져스', '마블'), (13934592, 'KR')))]"
      ]
     },
     "execution_count": 4,
     "metadata": {},
     "output_type": "execute_result"
    }
   ],
   "source": [
    "# 1. 조인 먼저 \n",
    "movies_att = movies_rdd.join(attendances_rdd)\n",
    "movies_att.filter(\n",
    "    lambda x:x[1][1][0] > 5000000\n",
    ").collect()"
   ]
  },
  {
   "cell_type": "code",
   "execution_count": 5,
   "id": "2a8bcbf1",
   "metadata": {},
   "outputs": [
    {
     "data": {
      "text/plain": [
       "[(4, (('겨울왕국', '디즈니'), (10303058, 'KR'))),\n",
       " (1, (('어벤져스', '마블'), (13934592, 'KR')))]"
      ]
     },
     "execution_count": 5,
     "metadata": {},
     "output_type": "execute_result"
    }
   ],
   "source": [
    "# 2. 필터 먼저\n",
    "filtered_att = attendances_rdd.filter(lambda x:x[1][0] > 5000000)\n",
    "movies_rdd.join(filtered_att).collect()"
   ]
  },
  {
   "cell_type": "code",
   "execution_count": 6,
   "id": "bb04eb90",
   "metadata": {},
   "outputs": [],
   "source": [
    "sc.stop()"
   ]
  },
  {
   "cell_type": "code",
   "execution_count": 7,
   "id": "c4938d30",
   "metadata": {},
   "outputs": [
    {
     "data": {
      "text/html": [
       "\n",
       "            <div>\n",
       "                <p><b>SparkSession - in-memory</b></p>\n",
       "                \n",
       "        <div>\n",
       "            <p><b>SparkContext</b></p>\n",
       "\n",
       "            <p><a href=\"http://ip-172-31-2-110.ap-northeast-3.compute.internal:4040\">Spark UI</a></p>\n",
       "\n",
       "            <dl>\n",
       "              <dt>Version</dt>\n",
       "                <dd><code>v3.1.2</code></dd>\n",
       "              <dt>Master</dt>\n",
       "                <dd><code>local</code></dd>\n",
       "              <dt>AppName</dt>\n",
       "                <dd><code>spark_sql_basic</code></dd>\n",
       "            </dl>\n",
       "        </div>\n",
       "        \n",
       "            </div>\n",
       "        "
      ],
      "text/plain": [
       "<pyspark.sql.session.SparkSession at 0x7f33d9c16070>"
      ]
     },
     "execution_count": 7,
     "metadata": {},
     "output_type": "execute_result"
    }
   ],
   "source": [
    "from pyspark.sql import SparkSession\n",
    "spark = SparkSession.builder.appName(\"spark_sql_basic\").getOrCreate()\n",
    "spark"
   ]
  },
  {
   "cell_type": "code",
   "execution_count": 8,
   "id": "bcbdfda8",
   "metadata": {},
   "outputs": [],
   "source": [
    "movies = [\n",
    "    (1, \"어벤져스\", \"마블\", 2012, 4, 26),\n",
    "    (2, \"슈퍼맨\", \"DC\", 2013, 6, 13),\n",
    "    (3, \"배트맨\", \"DC\", 2008, 8, 6),\n",
    "    (4, \"겨울왕국\", \"디즈니\", 2014, 1, 16),\n",
    "    (5, \"아이언맨\", \"마블\", 2008, 4, 30)\n",
    "]"
   ]
  },
  {
   "cell_type": "code",
   "execution_count": 9,
   "id": "b902ecfc",
   "metadata": {},
   "outputs": [],
   "source": [
    "movie_schema = ['id','name','company','year','month','day']"
   ]
  },
  {
   "cell_type": "markdown",
   "id": "3ed366fa",
   "metadata": {},
   "source": [
    "## 1. DataFrame 만들기"
   ]
  },
  {
   "cell_type": "code",
   "execution_count": 10,
   "id": "f1cf9bc0",
   "metadata": {},
   "outputs": [],
   "source": [
    "df= spark.createDataFrame(data= movies, schema = movie_schema)"
   ]
  },
  {
   "cell_type": "code",
   "execution_count": 11,
   "id": "377328b3",
   "metadata": {},
   "outputs": [
    {
     "data": {
      "text/plain": [
       "[('id', 'bigint'),\n",
       " ('name', 'string'),\n",
       " ('company', 'string'),\n",
       " ('year', 'bigint'),\n",
       " ('month', 'bigint'),\n",
       " ('day', 'bigint')]"
      ]
     },
     "execution_count": 11,
     "metadata": {},
     "output_type": "execute_result"
    }
   ],
   "source": [
    "df.dtypes"
   ]
  },
  {
   "cell_type": "code",
   "execution_count": 12,
   "id": "7f7e16b6",
   "metadata": {},
   "outputs": [
    {
     "name": "stdout",
     "output_type": "stream",
     "text": [
      "+---+--------+-------+----+-----+---+\n",
      "| id|    name|company|year|month|day|\n",
      "+---+--------+-------+----+-----+---+\n",
      "|  1|어벤져스|   마블|2012|    4| 26|\n",
      "|  2|  슈퍼맨|     DC|2013|    6| 13|\n",
      "|  3|  배트맨|     DC|2008|    8|  6|\n",
      "|  4|겨울왕국| 디즈니|2014|    1| 16|\n",
      "|  5|아이언맨|   마블|2008|    4| 30|\n",
      "+---+--------+-------+----+-----+---+\n",
      "\n"
     ]
    },
    {
     "name": "stderr",
     "output_type": "stream",
     "text": [
      "\r",
      "[Stage 0:>                                                          (0 + 1) / 1]\r",
      "\r",
      "                                                                                \r"
     ]
    }
   ],
   "source": [
    "df.show()"
   ]
  },
  {
   "cell_type": "code",
   "execution_count": 13,
   "id": "303b23d9",
   "metadata": {},
   "outputs": [
    {
     "name": "stdout",
     "output_type": "stream",
     "text": [
      "+--------+\n",
      "|    name|\n",
      "+--------+\n",
      "|어벤져스|\n",
      "|  슈퍼맨|\n",
      "|  배트맨|\n",
      "|겨울왕국|\n",
      "|아이언맨|\n",
      "+--------+\n",
      "\n"
     ]
    }
   ],
   "source": [
    "#projection\n",
    "df.select(\"name\").show()"
   ]
  },
  {
   "cell_type": "code",
   "execution_count": 14,
   "id": "9419c370",
   "metadata": {},
   "outputs": [
    {
     "name": "stdout",
     "output_type": "stream",
     "text": [
      "+---+--------+-------+----+-----+---+\n",
      "| id|    name|company|year|month|day|\n",
      "+---+--------+-------+----+-----+---+\n",
      "|  1|어벤져스|   마블|2012|    4| 26|\n",
      "|  2|  슈퍼맨|     DC|2013|    6| 13|\n",
      "|  4|겨울왕국| 디즈니|2014|    1| 16|\n",
      "+---+--------+-------+----+-----+---+\n",
      "\n"
     ]
    }
   ],
   "source": [
    "df.filter(df.year >=2010).show() #column 객체"
   ]
  },
  {
   "cell_type": "markdown",
   "id": "678d9b29",
   "metadata": {},
   "source": [
    "# SQL 을 사용하기 위해서 View 에 등록"
   ]
  },
  {
   "cell_type": "code",
   "execution_count": 15,
   "id": "fb7d3c2a",
   "metadata": {},
   "outputs": [],
   "source": [
    "df.createOrReplaceTempView(\"movies\") #View Name, Table Name"
   ]
  },
  {
   "cell_type": "code",
   "execution_count": 16,
   "id": "b845317d",
   "metadata": {},
   "outputs": [
    {
     "name": "stdout",
     "output_type": "stream",
     "text": [
      "+---+--------+-------+----+-----+---+\n",
      "| id|    name|company|year|month|day|\n",
      "+---+--------+-------+----+-----+---+\n",
      "|  1|어벤져스|   마블|2012|    4| 26|\n",
      "|  2|  슈퍼맨|     DC|2013|    6| 13|\n",
      "|  3|  배트맨|     DC|2008|    8|  6|\n",
      "|  4|겨울왕국| 디즈니|2014|    1| 16|\n",
      "|  5|아이언맨|   마블|2008|    4| 30|\n",
      "+---+--------+-------+----+-----+---+\n",
      "\n"
     ]
    }
   ],
   "source": [
    "# view 를 select하는 문장\n",
    "\n",
    "query = '''\n",
    "SELECT * FROM movies\n",
    "'''\n",
    "spark.sql(query).show()"
   ]
  },
  {
   "cell_type": "code",
   "execution_count": 17,
   "id": "7fdd3c3e",
   "metadata": {},
   "outputs": [
    {
     "name": "stdout",
     "output_type": "stream",
     "text": [
      "+--------+\n",
      "|    name|\n",
      "+--------+\n",
      "|어벤져스|\n",
      "|  슈퍼맨|\n",
      "|겨울왕국|\n",
      "+--------+\n",
      "\n"
     ]
    }
   ],
   "source": [
    "# 2010 년 이후 개봉한 영화 조회\n",
    "\n",
    "query = '''\n",
    "SELECT name \n",
    "FROM movies\n",
    "WHERE year >= 2010\n",
    "'''\n",
    "spark.sql(query).show()"
   ]
  },
  {
   "cell_type": "code",
   "execution_count": 18,
   "id": "1051e80d",
   "metadata": {},
   "outputs": [
    {
     "name": "stdout",
     "output_type": "stream",
     "text": [
      "+--------+\n",
      "|    name|\n",
      "+--------+\n",
      "|어벤져스|\n",
      "|아이언맨|\n",
      "+--------+\n",
      "\n"
     ]
    }
   ],
   "source": [
    "# 컴퍼니가 마블인 영화 목록\n",
    "\n",
    "query = '''\n",
    "SELECT name \n",
    "FROM movies\n",
    "WHERE company = '마블'\n",
    "'''\n",
    "spark.sql(query).show()"
   ]
  },
  {
   "cell_type": "code",
   "execution_count": 19,
   "id": "08ee2fc9",
   "metadata": {},
   "outputs": [
    {
     "name": "stdout",
     "output_type": "stream",
     "text": [
      "+--------+\n",
      "|    name|\n",
      "+--------+\n",
      "|  슈퍼맨|\n",
      "|  배트맨|\n",
      "|아이언맨|\n",
      "+--------+\n",
      "\n"
     ]
    }
   ],
   "source": [
    "#-맨인 영화 추출\n",
    "\n",
    "query = '''\n",
    "SELECT name \n",
    "FROM movies\n",
    "WHERE name like '%맨'\n",
    "'''\n",
    "spark.sql(query).show()"
   ]
  },
  {
   "cell_type": "code",
   "execution_count": 20,
   "id": "61b60218",
   "metadata": {},
   "outputs": [
    {
     "name": "stdout",
     "output_type": "stream",
     "text": [
      "+--------+\n",
      "|    name|\n",
      "+--------+\n",
      "|아이언맨|\n",
      "+--------+\n",
      "\n"
     ]
    }
   ],
   "source": [
    "#-이-인 영화 추출\n",
    "\n",
    "query = '''\n",
    "SELECT name \n",
    "FROM movies\n",
    "WHERE name like '%이%'\n",
    "'''\n",
    "spark.sql(query).show()"
   ]
  },
  {
   "cell_type": "code",
   "execution_count": 21,
   "id": "53e47fca",
   "metadata": {},
   "outputs": [
    {
     "name": "stdout",
     "output_type": "stream",
     "text": [
      "+--------+\n",
      "|    name|\n",
      "+--------+\n",
      "|어벤져스|\n",
      "|  슈퍼맨|\n",
      "|  배트맨|\n",
      "|아이언맨|\n",
      "+--------+\n",
      "\n"
     ]
    }
   ],
   "source": [
    "#개봉 월이 4~8월 사이\n",
    "\n",
    "query = '''\n",
    "SELECT name \n",
    "FROM movies\n",
    "WHERE month between 4 and 8\n",
    "'''\n",
    "spark.sql(query).show()"
   ]
  },
  {
   "cell_type": "code",
   "execution_count": 22,
   "id": "51e13763",
   "metadata": {},
   "outputs": [
    {
     "name": "stdout",
     "output_type": "stream",
     "text": [
      "+--------+\n",
      "|    name|\n",
      "+--------+\n",
      "|  배트맨|\n",
      "|아이언맨|\n",
      "+--------+\n",
      "\n"
     ]
    }
   ],
   "source": [
    "# 2가지 조건 - 1. 영화 이름 -맨, 개봉 연도가 2010년 이하\n",
    "\n",
    "query = '''\n",
    "SELECT name \n",
    "FROM movies\n",
    "WHERE name like '%맨' and year <= 2010\n",
    "'''\n",
    "spark.sql(query).show()"
   ]
  },
  {
   "cell_type": "code",
   "execution_count": 23,
   "id": "cbaefb4b",
   "metadata": {},
   "outputs": [
    {
     "name": "stdout",
     "output_type": "stream",
     "text": [
      "+--------+\n",
      "|    name|\n",
      "+--------+\n",
      "|어벤져스|\n",
      "|  슈퍼맨|\n",
      "|  배트맨|\n",
      "|아이언맨|\n",
      "+--------+\n",
      "\n",
      "+--------+\n",
      "|    name|\n",
      "+--------+\n",
      "|어벤져스|\n",
      "|  슈퍼맨|\n",
      "|  배트맨|\n",
      "|아이언맨|\n",
      "+--------+\n",
      "\n"
     ]
    }
   ],
   "source": [
    "# 2가지 조건 - 1. 영화 이름 -맨, 개봉 연도가 2010년 이하\n",
    "\n",
    "query = '''\n",
    "SELECT name \n",
    "FROM movies\n",
    "WHERE company in ('마블','DC') \n",
    "'''\n",
    "spark.sql(query).show()\n",
    "\n",
    "#OR \n",
    "query = '''\n",
    "SELECT name \n",
    "FROM movies\n",
    "WHERE company= '마블' or company='DC'\n",
    "'''\n",
    "spark.sql(query).show()"
   ]
  },
  {
   "cell_type": "code",
   "execution_count": 24,
   "id": "fdec1d1e",
   "metadata": {},
   "outputs": [
    {
     "name": "stdout",
     "output_type": "stream",
     "text": [
      "+--------+\n",
      "|    name|\n",
      "+--------+\n",
      "|어벤져스|\n",
      "|아이언맨|\n",
      "+--------+\n",
      "\n"
     ]
    }
   ],
   "source": [
    "# 회사가 \"마\"로 시작을 하거나, \"나\"로 끝나는 영화\n",
    "\n",
    "query = '''\n",
    "SELECT name \n",
    "FROM movies\n",
    "WHERE company like '마%' or company like'%나'\n",
    "'''\n",
    "spark.sql(query).show()"
   ]
  },
  {
   "cell_type": "code",
   "execution_count": 25,
   "id": "9f6701dd",
   "metadata": {},
   "outputs": [
    {
     "name": "stdout",
     "output_type": "stream",
     "text": [
      "+--------+\n",
      "|    name|\n",
      "+--------+\n",
      "|어벤져스|\n",
      "|아이언맨|\n",
      "+--------+\n",
      "\n"
     ]
    }
   ],
   "source": [
    "# 회사가 \"마\"로 시작을 하거나, \"나\"로 끝나는 영화 중, 2010년 이후로 개봉한 영화\n",
    "\n",
    "query = '''\n",
    "SELECT name \n",
    "FROM movies\n",
    "WHERE company like '마%' or company like'%나' and year >= 2010\n",
    "'''\n",
    "spark.sql(query).show()"
   ]
  },
  {
   "cell_type": "code",
   "execution_count": 26,
   "id": "7b9e5906",
   "metadata": {},
   "outputs": [
    {
     "name": "stdout",
     "output_type": "stream",
     "text": [
      "+--------+----+\n",
      "|    name|year|\n",
      "+--------+----+\n",
      "|  배트맨|2008|\n",
      "|아이언맨|2008|\n",
      "|어벤져스|2012|\n",
      "|  슈퍼맨|2013|\n",
      "|겨울왕국|2014|\n",
      "+--------+----+\n",
      "\n"
     ]
    }
   ],
   "source": [
    "# 개봉 연도 오름차순으로 확인\n",
    "\n",
    "query = '''\n",
    "SELECT name, year \n",
    "FROM movies\n",
    "ORDER BY year ASC\n",
    "'''\n",
    "#ASC : ascending 오름차순, default <-> DECS: descending 내림차순\n",
    "\n",
    "spark.sql(query).show()"
   ]
  },
  {
   "cell_type": "code",
   "execution_count": 27,
   "id": "cfe54c51",
   "metadata": {},
   "outputs": [
    {
     "name": "stdout",
     "output_type": "stream",
     "text": [
      "+--------+\n",
      "|count(1)|\n",
      "+--------+\n",
      "|       2|\n",
      "+--------+\n",
      "\n"
     ]
    }
   ],
   "source": [
    "# count(*), count(name)\n",
    "#mean, sum\n",
    "\n",
    "query = '''\n",
    "SELECT count(*) \n",
    "FROM movies\n",
    "WHERE company like '마%' or company like'%나'\n",
    "'''\n",
    "spark.sql(query).show()"
   ]
  },
  {
   "cell_type": "code",
   "execution_count": 31,
   "id": "941139e0",
   "metadata": {},
   "outputs": [],
   "source": [
    "attendances = [\n",
    "    [1, 13934592., \"KR\"],\n",
    "    (2, 2182227.,\"KR\"),\n",
    "    (3, 4226242., \"KR\"),\n",
    "    (4, 10303058., \"KR\"),\n",
    "    (5, 4300365., \"KR\")\n",
    "]"
   ]
  },
  {
   "cell_type": "code",
   "execution_count": 32,
   "id": "5db8aba5",
   "metadata": {},
   "outputs": [],
   "source": [
    "from pyspark.sql.types import StringType, IntegerType, FloatType, StructType, StructField\n",
    "\n",
    "att_schema = StructType([ # 모든 컬럼의 타입을 통칭 - 컬럼 데이터의 집합\n",
    "    StructField(\"id\", IntegerType(), True), # StructField : 컬럼\n",
    "    StructField(\"att\", FloatType(), True),\n",
    "    StructField(\"theater_country\", StringType(), True)\n",
    "])"
   ]
  },
  {
   "cell_type": "code",
   "execution_count": 33,
   "id": "cc090cd7",
   "metadata": {},
   "outputs": [
    {
     "data": {
      "text/plain": [
       "[('id', 'int'), ('att', 'float'), ('theater_country', 'string')]"
      ]
     },
     "execution_count": 33,
     "metadata": {},
     "output_type": "execute_result"
    }
   ],
   "source": [
    "# 카운트 \n",
    "att_df = spark.createDataFrame( data=attendances, schema = att_schema )\n",
    "att_df.dtypes"
   ]
  },
  {
   "cell_type": "code",
   "execution_count": 34,
   "id": "a298dc43",
   "metadata": {},
   "outputs": [
    {
     "name": "stdout",
     "output_type": "stream",
     "text": [
      "+---+-----------+---------------+\n",
      "| id|        att|theater_country|\n",
      "+---+-----------+---------------+\n",
      "|  1|1.3934592E7|             KR|\n",
      "|  2|  2182227.0|             KR|\n",
      "|  3|  4226242.0|             KR|\n",
      "|  4|1.0303058E7|             KR|\n",
      "|  5|  4300365.0|             KR|\n",
      "+---+-----------+---------------+\n",
      "\n"
     ]
    }
   ],
   "source": [
    "att_df.show()"
   ]
  },
  {
   "cell_type": "code",
   "execution_count": 47,
   "id": "46a24538",
   "metadata": {},
   "outputs": [
    {
     "name": "stderr",
     "output_type": "stream",
     "text": [
      "\r",
      "[Stage 44:============================================>          (81 + 1) / 100]\r",
      "\r",
      "                                                                                \r"
     ]
    },
    {
     "name": "stdout",
     "output_type": "stream",
     "text": [
      "+---+--------+-------+-----------+---------------+\n",
      "| id|    name|company|        att|theater_country|\n",
      "+---+--------+-------+-----------+---------------+\n",
      "|  5|아이언맨|   마블|  4300365.0|             KR|\n",
      "|  1|어벤져스|   마블|1.3934592E7|             KR|\n",
      "|  3|  배트맨|     DC|  4226242.0|             KR|\n",
      "|  2|  슈퍼맨|     DC|  2182227.0|             KR|\n",
      "|  4|겨울왕국| 디즈니|1.0303058E7|             KR|\n",
      "+---+--------+-------+-----------+---------------+\n",
      "\n"
     ]
    }
   ],
   "source": [
    "att_df.createOrReplaceTempView(\"att\")\n",
    "\n",
    "query = '''\n",
    "SELECT movies.id, movies.name, movies.company, att.att, att.theater_country\n",
    "FROM movies JOIN att ON  movies.id = att.id\n",
    "'''\n",
    "movies_views = spark.sql(query)\n",
    "movies_views.show()"
   ]
  },
  {
   "cell_type": "code",
   "execution_count": 49,
   "id": "ef82aff5",
   "metadata": {},
   "outputs": [
    {
     "name": "stdout",
     "output_type": "stream",
     "text": [
      "+---+--------+-------+-----------+---------------+\n",
      "| id|    name|company|        att|theater_country|\n",
      "+---+--------+-------+-----------+---------------+\n",
      "|  5|아이언맨|   마블|  4300365.0|             KR|\n",
      "|  1|어벤져스|   마블|1.3934592E7|             KR|\n",
      "|  3|  배트맨|     DC|  4226242.0|             KR|\n",
      "|  2|  슈퍼맨|     DC|  2182227.0|             KR|\n",
      "|  4|겨울왕국| 디즈니|1.0303058E7|             KR|\n",
      "+---+--------+-------+-----------+---------------+\n",
      "\n"
     ]
    }
   ],
   "source": [
    "# VIEW 만들기\n",
    "movies_views.createOrReplaceTempView(\"movies_views\")\n",
    "\n",
    "query = '''\n",
    "select *\n",
    "from movies_views\n",
    "'''\n",
    "\n",
    "spark.sql(query).show()"
   ]
  },
  {
   "cell_type": "code",
   "execution_count": 53,
   "id": "2245947a",
   "metadata": {},
   "outputs": [
    {
     "name": "stderr",
     "output_type": "stream",
     "text": [
      "[Stage 95:=========================================>            (153 + 1) / 200]\r"
     ]
    },
    {
     "name": "stdout",
     "output_type": "stream",
     "text": [
      "+---+--------+-------+-----------+---------------+\n",
      "| id|    name|company|        att|theater_country|\n",
      "+---+--------+-------+-----------+---------------+\n",
      "|  1|어벤져스|   마블|1.3934592E7|             KR|\n",
      "|  5|아이언맨|   마블|  4300365.0|             KR|\n",
      "+---+--------+-------+-----------+---------------+\n",
      "\n"
     ]
    },
    {
     "name": "stderr",
     "output_type": "stream",
     "text": [
      "\r",
      "[Stage 95:==================================================>   (186 + 1) / 200]\r",
      "\r",
      "                                                                                \r"
     ]
    }
   ],
   "source": [
    "query = '''\n",
    "select * \n",
    "from movies_views\n",
    "where company = '마블'\n",
    "order by id\n",
    "'''\n",
    "spark.sql(query).show()"
   ]
  },
  {
   "cell_type": "code",
   "execution_count": 55,
   "id": "e7d3ba43",
   "metadata": {},
   "outputs": [],
   "source": [
    "spark.stop()\n",
    "sc.stop()"
   ]
  }
 ],
 "metadata": {
  "kernelspec": {
   "display_name": "Spark_start",
   "language": "python",
   "name": "spark_start"
  },
  "language_info": {
   "codemirror_mode": {
    "name": "ipython",
    "version": 3
   },
   "file_extension": ".py",
   "mimetype": "text/x-python",
   "name": "python",
   "nbconvert_exporter": "python",
   "pygments_lexer": "ipython3",
   "version": "3.8.20"
  }
 },
 "nbformat": 4,
 "nbformat_minor": 5
}
