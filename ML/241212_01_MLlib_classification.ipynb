{
 "cells": [
  {
   "cell_type": "markdown",
   "id": "aa18aba7",
   "metadata": {},
   "source": [
    "# 타이타닉 데이터 분석 \n",
    "\n",
    "- 데이터 출처 : https://www.kaggle.com/competitions/titanic/data"
   ]
  },
  {
   "cell_type": "code",
   "execution_count": 1,
   "id": "973615dd",
   "metadata": {},
   "outputs": [
    {
     "name": "stderr",
     "output_type": "stream",
     "text": [
      "24/12/12 15:36:43 WARN NativeCodeLoader: Unable to load native-hadoop library for your platform... using builtin-java classes where applicable\n",
      "Using Spark's default log4j profile: org/apache/spark/log4j-defaults.properties\n",
      "Setting default log level to \"WARN\".\n",
      "To adjust logging level use sc.setLogLevel(newLevel). For SparkR, use setLogLevel(newLevel).\n"
     ]
    },
    {
     "data": {
      "text/html": [
       "\n",
       "            <div>\n",
       "                <p><b>SparkSession - in-memory</b></p>\n",
       "                \n",
       "        <div>\n",
       "            <p><b>SparkContext</b></p>\n",
       "\n",
       "            <p><a href=\"http://ip-172-31-2-110.ap-northeast-3.compute.internal:4040\">Spark UI</a></p>\n",
       "\n",
       "            <dl>\n",
       "              <dt>Version</dt>\n",
       "                <dd><code>v3.1.2</code></dd>\n",
       "              <dt>Master</dt>\n",
       "                <dd><code>local[*]</code></dd>\n",
       "              <dt>AppName</dt>\n",
       "                <dd><code>241212_01_MLlib_classification</code></dd>\n",
       "            </dl>\n",
       "        </div>\n",
       "        \n",
       "            </div>\n",
       "        "
      ],
      "text/plain": [
       "<pyspark.sql.session.SparkSession at 0x7fa3611e3610>"
      ]
     },
     "execution_count": 1,
     "metadata": {},
     "output_type": "execute_result"
    }
   ],
   "source": [
    "from pyspark.sql import SparkSession\n",
    "spark = SparkSession.builder.appName(\"241212_01_MLlib_classification\").getOrCreate()\n",
    "spark"
   ]
  },
  {
   "cell_type": "markdown",
   "id": "e3d96914",
   "metadata": {},
   "source": [
    "# Data Load"
   ]
  },
  {
   "cell_type": "code",
   "execution_count": 2,
   "id": "1dd21723",
   "metadata": {},
   "outputs": [
    {
     "name": "stderr",
     "output_type": "stream",
     "text": [
      "\r",
      "[Stage 0:>                                                          (0 + 1) / 1]\r",
      "\r",
      "                                                                                \r"
     ]
    }
   ],
   "source": [
    "df = spark.read.format(\"csv\")\\\n",
    "    .option(\"header\",'true')\\\n",
    "    .option('inferSchema', 'true')\\\n",
    "    .load(\"data/titanic.csv\")"
   ]
  },
  {
   "cell_type": "code",
   "execution_count": 3,
   "id": "c754a708",
   "metadata": {
    "scrolled": true
   },
   "outputs": [
    {
     "name": "stdout",
     "output_type": "stream",
     "text": [
      "+--------+------+------+----+-----+-----+-------+-----------+\n",
      "|survived|pclass|   sex| age|sibsp|parch|   fare|embark_town|\n",
      "+--------+------+------+----+-----+-----+-------+-----------+\n",
      "|       0|     3|  male|22.0|    1|    0|   7.25|Southampton|\n",
      "|       1|     1|female|38.0|    1|    0|71.2833|  Cherbourg|\n",
      "|       1|     3|female|26.0|    0|    0|  7.925|Southampton|\n",
      "|       1|     1|female|35.0|    1|    0|   53.1|Southampton|\n",
      "|       0|     3|  male|35.0|    0|    0|   8.05|Southampton|\n",
      "|       0|     3|  male|null|    0|    0| 8.4583| Queenstown|\n",
      "|       0|     1|  male|54.0|    0|    0|51.8625|Southampton|\n",
      "|       0|     3|  male| 2.0|    3|    1| 21.075|Southampton|\n",
      "|       1|     3|female|27.0|    0|    2|11.1333|Southampton|\n",
      "|       1|     2|female|14.0|    1|    0|30.0708|  Cherbourg|\n",
      "|       1|     3|female| 4.0|    1|    1|   16.7|Southampton|\n",
      "|       1|     1|female|58.0|    0|    0|  26.55|Southampton|\n",
      "|       0|     3|  male|20.0|    0|    0|   8.05|Southampton|\n",
      "|       0|     3|  male|39.0|    1|    5| 31.275|Southampton|\n",
      "|       0|     3|female|14.0|    0|    0| 7.8542|Southampton|\n",
      "|       1|     2|female|55.0|    0|    0|   16.0|Southampton|\n",
      "|       0|     3|  male| 2.0|    4|    1| 29.125| Queenstown|\n",
      "|       1|     2|  male|null|    0|    0|   13.0|Southampton|\n",
      "|       0|     3|female|31.0|    1|    0|   18.0|Southampton|\n",
      "|       1|     3|female|null|    0|    0|  7.225|  Cherbourg|\n",
      "+--------+------+------+----+-----+-----+-------+-----------+\n",
      "only showing top 20 rows\n",
      "\n"
     ]
    }
   ],
   "source": [
    "df.show()"
   ]
  },
  {
   "cell_type": "code",
   "execution_count": 4,
   "id": "39f25a5d",
   "metadata": {},
   "outputs": [
    {
     "name": "stdout",
     "output_type": "stream",
     "text": [
      "root\n",
      " |-- survived: integer (nullable = true)\n",
      " |-- pclass: integer (nullable = true)\n",
      " |-- sex: string (nullable = true)\n",
      " |-- age: double (nullable = true)\n",
      " |-- sibsp: integer (nullable = true)\n",
      " |-- parch: integer (nullable = true)\n",
      " |-- fare: double (nullable = true)\n",
      " |-- embark_town: string (nullable = true)\n",
      "\n"
     ]
    }
   ],
   "source": [
    "df.printSchema()"
   ]
  },
  {
   "cell_type": "markdown",
   "id": "d6b2acd1",
   "metadata": {},
   "source": [
    "# Missing Value"
   ]
  },
  {
   "cell_type": "code",
   "execution_count": 5,
   "id": "4a0459ad",
   "metadata": {},
   "outputs": [
    {
     "name": "stdout",
     "output_type": "stream",
     "text": [
      "+--------+------+---+---+-----+-----+----+-----------+\n",
      "|survived|pclass|sex|age|sibsp|parch|fare|embark_town|\n",
      "+--------+------+---+---+-----+-----+----+-----------+\n",
      "|       0|     0|  0|177|    0|    0|   0|          2|\n",
      "+--------+------+---+---+-----+-----+----+-----------+\n",
      "\n"
     ]
    }
   ],
   "source": [
    "from pyspark.sql.functions import col, sum, isnan, when\n",
    "\n",
    "# 결측치 제거\n",
    "\n",
    "null_counts = df.select(\n",
    "    [\n",
    "    sum(when(col(c).isNull() | isnan(c),1).otherwise(0)).alias(c) for c in df.columns\n",
    "    ]\n",
    ")\n",
    "\n",
    "null_counts.show()"
   ]
  },
  {
   "cell_type": "markdown",
   "id": "25d96e9c",
   "metadata": {},
   "source": [
    "# Feature Selection"
   ]
  },
  {
   "cell_type": "code",
   "execution_count": 6,
   "id": "83c71cee",
   "metadata": {},
   "outputs": [
    {
     "name": "stdout",
     "output_type": "stream",
     "text": [
      "+--------+------+------+----+-----+-----+-------+\n",
      "|survived|pclass|   sex| age|sibsp|parch|   fare|\n",
      "+--------+------+------+----+-----+-----+-------+\n",
      "|       0|     3|  male|22.0|    1|    0|   7.25|\n",
      "|       1|     1|female|38.0|    1|    0|71.2833|\n",
      "|       1|     3|female|26.0|    0|    0|  7.925|\n",
      "|       1|     1|female|35.0|    1|    0|   53.1|\n",
      "|       0|     3|  male|35.0|    0|    0|   8.05|\n",
      "|       0|     3|  male|null|    0|    0| 8.4583|\n",
      "|       0|     1|  male|54.0|    0|    0|51.8625|\n",
      "|       0|     3|  male| 2.0|    3|    1| 21.075|\n",
      "|       1|     3|female|27.0|    0|    2|11.1333|\n",
      "|       1|     2|female|14.0|    1|    0|30.0708|\n",
      "|       1|     3|female| 4.0|    1|    1|   16.7|\n",
      "|       1|     1|female|58.0|    0|    0|  26.55|\n",
      "|       0|     3|  male|20.0|    0|    0|   8.05|\n",
      "|       0|     3|  male|39.0|    1|    5| 31.275|\n",
      "|       0|     3|female|14.0|    0|    0| 7.8542|\n",
      "|       1|     2|female|55.0|    0|    0|   16.0|\n",
      "|       0|     3|  male| 2.0|    4|    1| 29.125|\n",
      "|       1|     2|  male|null|    0|    0|   13.0|\n",
      "|       0|     3|female|31.0|    1|    0|   18.0|\n",
      "|       1|     3|female|null|    0|    0|  7.225|\n",
      "+--------+------+------+----+-----+-----+-------+\n",
      "only showing top 20 rows\n",
      "\n"
     ]
    }
   ],
   "source": [
    "# feature - ?? , target - survived \n",
    "data = df.select(\"survived\", \"pclass\",\"sex\",\"age\",\"sibsp\",\"parch\",\"fare\")\n",
    "data.show()"
   ]
  },
  {
   "cell_type": "code",
   "execution_count": 12,
   "id": "8c5b8459",
   "metadata": {},
   "outputs": [
    {
     "data": {
      "text/plain": [
       "29.699117647058763"
      ]
     },
     "execution_count": 12,
     "metadata": {},
     "output_type": "execute_result"
    }
   ],
   "source": [
    "# 평균값으로 대체 \n",
    "from pyspark.sql.functions import avg  # avg 함수를 임포트\n",
    "\n",
    "#mean_age = data.select(\"age\").agg({\"age\":\"mean\"}).collect()[0][0]\n",
    "mean_age = data.select(avg(\"age\")).collect()[0][0] #- 같은 값 나옴\n",
    "mean_age"
   ]
  },
  {
   "cell_type": "code",
   "execution_count": 13,
   "id": "0394a47e",
   "metadata": {},
   "outputs": [
    {
     "name": "stdout",
     "output_type": "stream",
     "text": [
      "+--------+------+------+-----------------+-----+-----+-------+\n",
      "|survived|pclass|   sex|              age|sibsp|parch|   fare|\n",
      "+--------+------+------+-----------------+-----+-----+-------+\n",
      "|       0|     3|  male|             22.0|    1|    0|   7.25|\n",
      "|       1|     1|female|             38.0|    1|    0|71.2833|\n",
      "|       1|     3|female|             26.0|    0|    0|  7.925|\n",
      "|       1|     1|female|             35.0|    1|    0|   53.1|\n",
      "|       0|     3|  male|             35.0|    0|    0|   8.05|\n",
      "|       0|     3|  male|29.69911764705882|    0|    0| 8.4583|\n",
      "|       0|     1|  male|             54.0|    0|    0|51.8625|\n",
      "|       0|     3|  male|              2.0|    3|    1| 21.075|\n",
      "|       1|     3|female|             27.0|    0|    2|11.1333|\n",
      "|       1|     2|female|             14.0|    1|    0|30.0708|\n",
      "|       1|     3|female|              4.0|    1|    1|   16.7|\n",
      "|       1|     1|female|             58.0|    0|    0|  26.55|\n",
      "|       0|     3|  male|             20.0|    0|    0|   8.05|\n",
      "|       0|     3|  male|             39.0|    1|    5| 31.275|\n",
      "|       0|     3|female|             14.0|    0|    0| 7.8542|\n",
      "|       1|     2|female|             55.0|    0|    0|   16.0|\n",
      "|       0|     3|  male|              2.0|    4|    1| 29.125|\n",
      "|       1|     2|  male|29.69911764705882|    0|    0|   13.0|\n",
      "|       0|     3|female|             31.0|    1|    0|   18.0|\n",
      "|       1|     3|female|29.69911764705882|    0|    0|  7.225|\n",
      "+--------+------+------+-----------------+-----+-----+-------+\n",
      "only showing top 20 rows\n",
      "\n"
     ]
    }
   ],
   "source": [
    "data = data.fillna({\"age\":mean_age})\n",
    "data.show()"
   ]
  },
  {
   "cell_type": "markdown",
   "id": "8e23aa75",
   "metadata": {},
   "source": [
    "# Encoding\n",
    "1. category type -> numeric\n",
    "- SpringIndexer()"
   ]
  },
  {
   "cell_type": "code",
   "execution_count": 9,
   "id": "102449ba",
   "metadata": {},
   "outputs": [
    {
     "name": "stdout",
     "output_type": "stream",
     "text": [
      "+--------+------+------+----+-----+-----+-------+--------+\n",
      "|survived|pclass|   sex| age|sibsp|parch|   fare|SexIndex|\n",
      "+--------+------+------+----+-----+-----+-------+--------+\n",
      "|       0|     3|  male|22.0|    1|    0|   7.25|     0.0|\n",
      "|       1|     1|female|38.0|    1|    0|71.2833|     1.0|\n",
      "|       1|     3|female|26.0|    0|    0|  7.925|     1.0|\n",
      "|       1|     1|female|35.0|    1|    0|   53.1|     1.0|\n",
      "|       0|     3|  male|35.0|    0|    0|   8.05|     0.0|\n",
      "+--------+------+------+----+-----+-----+-------+--------+\n",
      "only showing top 5 rows\n",
      "\n"
     ]
    }
   ],
   "source": [
    "from pyspark.ml.feature import StringIndexer, VectorAssembler\n",
    "\n",
    "indexer = StringIndexer(inputCol=\"sex\", outputCol=\"SexIndex\")\n",
    "data = indexer.fit(data).transform(data)\n",
    "data.show(5)"
   ]
  },
  {
   "cell_type": "code",
   "execution_count": 10,
   "id": "41b57087",
   "metadata": {},
   "outputs": [
    {
     "name": "stdout",
     "output_type": "stream",
     "text": [
      "root\n",
      " |-- survived: integer (nullable = true)\n",
      " |-- pclass: integer (nullable = true)\n",
      " |-- sex: string (nullable = true)\n",
      " |-- age: double (nullable = false)\n",
      " |-- sibsp: integer (nullable = true)\n",
      " |-- parch: integer (nullable = true)\n",
      " |-- fare: double (nullable = true)\n",
      " |-- SexIndex: double (nullable = false)\n",
      "\n"
     ]
    }
   ],
   "source": [
    "data.printSchema()"
   ]
  },
  {
   "cell_type": "markdown",
   "id": "4fe1d34b",
   "metadata": {},
   "source": [
    "# Feature Vector"
   ]
  },
  {
   "cell_type": "code",
   "execution_count": 14,
   "id": "21db4ded",
   "metadata": {},
   "outputs": [
    {
     "data": {
      "text/plain": [
       "DataFrame[survived: int, pclass: int, sex: string, age: double, sibsp: int, parch: int, fare: double, SexIndex: double, feature: vector, features: vector]"
      ]
     },
     "execution_count": 14,
     "metadata": {},
     "output_type": "execute_result"
    }
   ],
   "source": [
    "# target 을 제외한 학습을 위한 피처를 어셈블 한다. \n",
    "assembler = VectorAssembler(\n",
    "    inputCols=[\"pclass\",\"SexIndex\",\"age\",\"sibsp\",\"parch\",\"fare\"],\n",
    "    outputCol=\"features\"\n",
    ")\n",
    "data = assembler.transform(data)\n",
    "data"
   ]
  },
  {
   "cell_type": "code",
   "execution_count": 28,
   "id": "d219655c",
   "metadata": {},
   "outputs": [
    {
     "name": "stdout",
     "output_type": "stream",
     "text": [
      "+--------+--------------------+\n",
      "|survived|            features|\n",
      "+--------+--------------------+\n",
      "|       0|[3.0,0.0,22.0,1.0...|\n",
      "|       1|[1.0,1.0,38.0,1.0...|\n",
      "|       1|[3.0,1.0,26.0,0.0...|\n",
      "|       1|[1.0,1.0,35.0,1.0...|\n",
      "|       0|[3.0,0.0,35.0,0.0...|\n",
      "+--------+--------------------+\n",
      "only showing top 5 rows\n",
      "\n"
     ]
    }
   ],
   "source": [
    "#지도학습, 분류모델을 학습시키기 위한 데이터\n",
    "data.select(\"survived\", \"features\").show(5)"
   ]
  },
  {
   "cell_type": "markdown",
   "id": "933d3dbb",
   "metadata": {},
   "source": [
    "# ML 모델 : 데이터 학습 > 평가 > 모델 완성"
   ]
  },
  {
   "cell_type": "markdown",
   "id": "455366e8",
   "metadata": {},
   "source": [
    "# dataset 분할"
   ]
  },
  {
   "cell_type": "code",
   "execution_count": 29,
   "id": "cc694310",
   "metadata": {},
   "outputs": [],
   "source": [
    "train_data, test_data = data.randomSplit([0.8, 0.2], seed=42 ) # 리턴하는 값 목록1, 목록2 "
   ]
  },
  {
   "cell_type": "code",
   "execution_count": 33,
   "id": "8ec70c3c",
   "metadata": {},
   "outputs": [
    {
     "name": "stdout",
     "output_type": "stream",
     "text": [
      "+--------+------+------+----+-----+-----+--------+--------+--------------------+--------------------+\n",
      "|survived|pclass|   sex| age|sibsp|parch|    fare|SexIndex|             feature|            features|\n",
      "+--------+------+------+----+-----+-----+--------+--------+--------------------+--------------------+\n",
      "|       0|     1|female| 2.0|    1|    2|  151.55|     1.0|[1.0,1.0,2.0,1.0,...|[1.0,1.0,2.0,1.0,...|\n",
      "|       0|     1|female|25.0|    1|    2|  151.55|     1.0|[1.0,1.0,25.0,1.0...|[1.0,1.0,25.0,1.0...|\n",
      "|       0|     1|  male|18.0|    1|    0|   108.9|     0.0|[1.0,0.0,18.0,1.0...|[1.0,0.0,18.0,1.0...|\n",
      "|       0|     1|  male|19.0|    1|    0|    53.1|     0.0|[1.0,0.0,19.0,1.0...|[1.0,0.0,19.0,1.0...|\n",
      "|       0|     1|  male|19.0|    3|    2|   263.0|     0.0|[1.0,0.0,19.0,3.0...|[1.0,0.0,19.0,3.0...|\n",
      "|       0|     1|  male|22.0|    0|    0|135.6333|     0.0|[1.0,0.0,22.0,0.0...|[1.0,0.0,22.0,0.0...|\n",
      "|       0|     1|  male|24.0|    0|    1|247.5208|     0.0|[1.0,0.0,24.0,0.0...|[1.0,0.0,24.0,0.0...|\n",
      "|       0|     1|  male|27.0|    0|    2|   211.5|     0.0|[1.0,0.0,27.0,0.0...|[1.0,0.0,27.0,0.0...|\n",
      "|       0|     1|  male|28.0|    0|    0|    47.1|     0.0|[1.0,0.0,28.0,0.0...|[1.0,0.0,28.0,0.0...|\n",
      "|       0|     1|  male|28.0|    1|    0| 82.1708|     0.0|[1.0,0.0,28.0,1.0...|[1.0,0.0,28.0,1.0...|\n",
      "+--------+------+------+----+-----+-----+--------+--------+--------------------+--------------------+\n",
      "only showing top 10 rows\n",
      "\n",
      "+--------+------+------+-----------------+-----+-----+--------+--------+--------------------+--------------------+\n",
      "|survived|pclass|   sex|              age|sibsp|parch|    fare|SexIndex|             feature|            features|\n",
      "+--------+------+------+-----------------+-----+-----+--------+--------+--------------------+--------------------+\n",
      "|       0|     1|female|             50.0|    0|    0| 28.7125|     1.0|[1.0,1.0,50.0,0.0...|[1.0,1.0,50.0,0.0...|\n",
      "|       0|     1|  male|             21.0|    0|    1| 77.2875|     0.0|[1.0,0.0,21.0,0.0...|[1.0,0.0,21.0,0.0...|\n",
      "|       0|     1|  male|             24.0|    0|    0|    79.2|     0.0|[1.0,0.0,24.0,0.0...|[1.0,0.0,24.0,0.0...|\n",
      "|       0|     1|  male|             29.0|    0|    0|    30.0|     0.0|[1.0,0.0,29.0,0.0...|[1.0,0.0,29.0,0.0...|\n",
      "|       0|     1|  male|29.69911764705882|    0|    0|   26.55|     0.0|[1.0,0.0,29.69911...|[1.0,0.0,29.69911...|\n",
      "|       0|     1|  male|29.69911764705882|    0|    0|    31.0|     0.0|[1.0,0.0,29.69911...|[1.0,0.0,29.69911...|\n",
      "|       0|     1|  male|29.69911764705882|    0|    0|221.7792|     0.0|[1.0,0.0,29.69911...|[1.0,0.0,29.69911...|\n",
      "|       0|     1|  male|             36.0|    0|    0|  40.125|     0.0|[1.0,0.0,36.0,0.0...|[1.0,0.0,36.0,0.0...|\n",
      "|       0|     1|  male|             44.0|    2|    0|    90.0|     0.0|[1.0,0.0,44.0,2.0...|[1.0,0.0,44.0,2.0...|\n",
      "|       0|     1|  male|             45.0|    0|    0|   26.55|     0.0|[1.0,0.0,45.0,0.0...|[1.0,0.0,45.0,0.0...|\n",
      "+--------+------+------+-----------------+-----+-----+--------+--------+--------------------+--------------------+\n",
      "only showing top 10 rows\n",
      "\n"
     ]
    },
    {
     "data": {
      "text/plain": [
       "(None, None)"
      ]
     },
     "execution_count": 33,
     "metadata": {},
     "output_type": "execute_result"
    }
   ],
   "source": [
    "train_data.show(10), test_data.show(10)"
   ]
  },
  {
   "cell_type": "markdown",
   "id": "1843ae93",
   "metadata": {},
   "source": [
    "# 분류 예측 model 생성 - 로지스틱 회귀"
   ]
  },
  {
   "cell_type": "code",
   "execution_count": 86,
   "id": "5545c166",
   "metadata": {},
   "outputs": [],
   "source": [
    "from pyspark.ml.classification import LogisticRegression"
   ]
  },
  {
   "cell_type": "code",
   "execution_count": 87,
   "id": "50214e7f",
   "metadata": {},
   "outputs": [],
   "source": [
    "# 로지스틱 회귀 모델 생성\n",
    "\n",
    "lr = LogisticRegression(featuresCol=\"features\", labelCol=\"survived\")"
   ]
  },
  {
   "cell_type": "code",
   "execution_count": 88,
   "id": "2f84f2e5",
   "metadata": {},
   "outputs": [],
   "source": [
    "# 모델 학습\n",
    "lr_model = lr.fit(train_data) #80% data 를 이용해서 y값을 결정할 수 있도록 매개 변수를 확정"
   ]
  },
  {
   "cell_type": "code",
   "execution_count": 103,
   "id": "3bf5a100",
   "metadata": {},
   "outputs": [
    {
     "name": "stdout",
     "output_type": "stream",
     "text": [
      "+--------+------+------+-----------------+-----+-----+-------+--------+--------------------+--------------------+--------------------+--------------------+----------+\n",
      "|survived|pclass|   sex|              age|sibsp|parch|   fare|SexIndex|             feature|            features|       rawPrediction|         probability|prediction|\n",
      "+--------+------+------+-----------------+-----+-----+-------+--------+--------------------+--------------------+--------------------+--------------------+----------+\n",
      "|       0|     1|female|             50.0|    0|    0|28.7125|     1.0|[1.0,1.0,50.0,0.0...|[1.0,1.0,50.0,0.0...|[-1.9520246347246...|[0.12433276014445...|       1.0|\n",
      "|       0|     1|  male|             21.0|    0|    1|77.2875|     0.0|[1.0,0.0,21.0,0.0...|[1.0,0.0,21.0,0.0...|[-0.5063684917057...|[0.37604522093222...|       1.0|\n",
      "|       0|     1|  male|             24.0|    0|    0|   79.2|     0.0|[1.0,0.0,24.0,0.0...|[1.0,0.0,24.0,0.0...|[-0.5000163743656...|[0.37753682076914...|       1.0|\n",
      "|       0|     1|  male|             29.0|    0|    0|   30.0|     0.0|[1.0,0.0,29.0,0.0...|[1.0,0.0,29.0,0.0...|[-0.1615623337462...|[0.45969704539401...|       1.0|\n",
      "|       0|     1|  male|29.69911764705882|    0|    0|  26.55|     0.0|[1.0,0.0,29.69911...|[1.0,0.0,29.69911...|[-0.1231865060676...|[0.46924225915865...|       1.0|\n",
      "+--------+------+------+-----------------+-----+-----+-------+--------+--------------------+--------------------+--------------------+--------------------+----------+\n",
      "only showing top 5 rows\n",
      "\n"
     ]
    }
   ],
   "source": [
    "# 모델 시험 = 테스트 데이터 > 결과 확인 - 데이털에 답이 들어 있다 > 모델이 맞춘 y값과 실제 데이터에 들어간 값을 비교하면 알 수 있다\n",
    "predictions = lr_model.transform(test_data)\n",
    "predictions.show(5)"
   ]
  },
  {
   "cell_type": "code",
   "execution_count": 104,
   "id": "3d203671",
   "metadata": {},
   "outputs": [
    {
     "name": "stdout",
     "output_type": "stream",
     "text": [
      "+--------------------+--------------------+--------------------+--------------------+----------+--------+\n",
      "|             feature|            features|       rawPrediction|         probability|prediction|survived|\n",
      "+--------------------+--------------------+--------------------+--------------------+----------+--------+\n",
      "|[1.0,1.0,50.0,0.0...|[1.0,1.0,50.0,0.0...|[-1.9520246347246...|[0.12433276014445...|       1.0|       0|\n",
      "|[1.0,0.0,21.0,0.0...|[1.0,0.0,21.0,0.0...|[-0.5063684917057...|[0.37604522093222...|       1.0|       0|\n",
      "|[1.0,0.0,24.0,0.0...|[1.0,0.0,24.0,0.0...|[-0.5000163743656...|[0.37753682076914...|       1.0|       0|\n",
      "|[1.0,0.0,29.0,0.0...|[1.0,0.0,29.0,0.0...|[-0.1615623337462...|[0.45969704539401...|       1.0|       0|\n",
      "|[1.0,0.0,29.69911...|[1.0,0.0,29.69911...|[-0.1231865060676...|[0.46924225915865...|       1.0|       0|\n",
      "+--------------------+--------------------+--------------------+--------------------+----------+--------+\n",
      "only showing top 5 rows\n",
      "\n"
     ]
    }
   ],
   "source": [
    "predictions.select(\"feature\",\"features\",\"rawPrediction\",\"probability\",\"prediction\",\"survived\").show(5)"
   ]
  },
  {
   "cell_type": "code",
   "execution_count": 91,
   "id": "836b16df",
   "metadata": {},
   "outputs": [
    {
     "data": {
      "text/plain": [
       "[Row(features=DenseVector([3.0, 0.0, 29.6991, 0.0, 0.0, 56.4958]), prediction=0.0, survived=1),\n",
       " Row(features=DenseVector([3.0, 0.0, 29.6991, 2.0, 0.0, 23.25]), prediction=0.0, survived=1),\n",
       " Row(features=DenseVector([3.0, 0.0, 31.0, 0.0, 0.0, 7.925]), prediction=0.0, survived=1),\n",
       " Row(features=DenseVector([3.0, 0.0, 32.0, 0.0, 0.0, 56.4958]), prediction=0.0, survived=1),\n",
       " Row(features=DenseVector([3.0, 0.0, 39.0, 0.0, 0.0, 7.925]), prediction=0.0, survived=1)]"
      ]
     },
     "execution_count": 91,
     "metadata": {},
     "output_type": "execute_result"
    }
   ],
   "source": [
    "predictions.select(\"features\",\"prediction\",\"survived\").tail(5)"
   ]
  },
  {
   "cell_type": "markdown",
   "id": "1c3649e4",
   "metadata": {},
   "source": [
    "# 정답 개수 확인 \n",
    "- prediction 과 survived 같은지 아닌지 체크 "
   ]
  },
  {
   "cell_type": "code",
   "execution_count": 92,
   "id": "29b54132",
   "metadata": {},
   "outputs": [],
   "source": [
    "from pyspark.sql.types import IntegerType\n",
    "from pyspark.sql.functions import expr"
   ]
  },
  {
   "cell_type": "code",
   "execution_count": 99,
   "id": "5a40b854",
   "metadata": {},
   "outputs": [],
   "source": [
    "predictions = predictions.withColumn(\"survived\", col(\"survived\").cast(IntegerType()))\n",
    "predictions = predictions.withColumn(\"prediction\", col(\"survived\").cast(IntegerType()))"
   ]
  },
  {
   "cell_type": "code",
   "execution_count": 106,
   "id": "401eb87a",
   "metadata": {},
   "outputs": [
    {
     "data": {
      "text/plain": [
       "28"
      ]
     },
     "execution_count": 106,
     "metadata": {},
     "output_type": "execute_result"
    }
   ],
   "source": [
    "# correct column 추가 \n",
    "\n",
    "compare = predictions.withColumn(\"correct\", expr(\"case when survived=prediction then 1 else 0 end\"))\n",
    "compare.where(\"correct=0\").count() #틀린 개수 확인"
   ]
  },
  {
   "cell_type": "code",
   "execution_count": 107,
   "id": "c6018e06",
   "metadata": {},
   "outputs": [
    {
     "data": {
      "text/plain": [
       "[Row(features=DenseVector([3.0, 0.0, 29.6991, 0.0, 0.0, 56.4958]), prediction=0.0, survived=1),\n",
       " Row(features=DenseVector([3.0, 0.0, 29.6991, 2.0, 0.0, 23.25]), prediction=0.0, survived=1),\n",
       " Row(features=DenseVector([3.0, 0.0, 31.0, 0.0, 0.0, 7.925]), prediction=0.0, survived=1),\n",
       " Row(features=DenseVector([3.0, 0.0, 32.0, 0.0, 0.0, 56.4958]), prediction=0.0, survived=1),\n",
       " Row(features=DenseVector([3.0, 0.0, 39.0, 0.0, 0.0, 7.925]), prediction=0.0, survived=1)]"
      ]
     },
     "execution_count": 107,
     "metadata": {},
     "output_type": "execute_result"
    }
   ],
   "source": [
    "predictions.select(\"features\",\"prediction\",\"survived\").tail(5)"
   ]
  },
  {
   "cell_type": "markdown",
   "id": "cf54f963",
   "metadata": {},
   "source": [
    "# 정확도 계산 > 모델 점수 "
   ]
  },
  {
   "cell_type": "code",
   "execution_count": 108,
   "id": "33dc15d1",
   "metadata": {},
   "outputs": [
    {
     "data": {
      "text/plain": [
       "0.8068965517241379"
      ]
     },
     "execution_count": 108,
     "metadata": {},
     "output_type": "execute_result"
    }
   ],
   "source": [
    "accu = compare.selectExpr(\"avg(correct) as accuracy\").collect()[0]['accuracy']\n",
    "accu"
   ]
  },
  {
   "cell_type": "markdown",
   "id": "ed418b96",
   "metadata": {},
   "source": [
    "# 평가기 evaluator "
   ]
  },
  {
   "cell_type": "code",
   "execution_count": 109,
   "id": "10ae937b",
   "metadata": {},
   "outputs": [],
   "source": [
    "from pyspark.ml.evaluation import BinaryClassificationEvaluator"
   ]
  },
  {
   "cell_type": "code",
   "execution_count": 110,
   "id": "82d4cdd1",
   "metadata": {},
   "outputs": [
    {
     "data": {
      "text/plain": [
       "BinaryClassificationEvaluator_5c462c97ebc5"
      ]
     },
     "execution_count": 110,
     "metadata": {},
     "output_type": "execute_result"
    }
   ],
   "source": [
    "# 모델별로 평가지표, 매트릭\n",
    "# 분류모델의 평가지표 중에서 AUC 계산한다 \n",
    "\n",
    "evaluator = BinaryClassificationEvaluator(labelCol=\"survived\",rawPredictionCol=\"rawPrediction\", metricName=\"areaUnderROC\")\n",
    "evaluator"
   ]
  },
  {
   "cell_type": "code",
   "execution_count": 111,
   "id": "7aeebd65",
   "metadata": {},
   "outputs": [
    {
     "data": {
      "text/plain": [
       "0.8664129586260734"
      ]
     },
     "execution_count": 111,
     "metadata": {},
     "output_type": "execute_result"
    }
   ],
   "source": [
    "auc = evaluator.evaluate(predictions)\n",
    "auc"
   ]
  },
  {
   "cell_type": "code",
   "execution_count": 112,
   "id": "5ceed908",
   "metadata": {},
   "outputs": [],
   "source": [
    "spark.stop()"
   ]
  }
 ],
 "metadata": {
  "kernelspec": {
   "display_name": "Spark_start",
   "language": "python",
   "name": "spark_start"
  },
  "language_info": {
   "codemirror_mode": {
    "name": "ipython",
    "version": 3
   },
   "file_extension": ".py",
   "mimetype": "text/x-python",
   "name": "python",
   "nbconvert_exporter": "python",
   "pygments_lexer": "ipython3",
   "version": "3.8.20"
  }
 },
 "nbformat": 4,
 "nbformat_minor": 5
}
