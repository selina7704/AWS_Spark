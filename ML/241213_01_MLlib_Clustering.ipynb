{
 "cells": [
  {
   "cell_type": "markdown",
   "id": "70da9ff3",
   "metadata": {},
   "source": [
    "# MLlib - Clustering - KMeans \n",
    "- 데이터 출처 : "
   ]
  },
  {
   "cell_type": "code",
   "execution_count": 3,
   "id": "91445ff2",
   "metadata": {},
   "outputs": [
    {
     "data": {
      "text/html": [
       "\n",
       "            <div>\n",
       "                <p><b>SparkSession - in-memory</b></p>\n",
       "                \n",
       "        <div>\n",
       "            <p><b>SparkContext</b></p>\n",
       "\n",
       "            <p><a href=\"http://ip-172-31-2-110.ap-northeast-3.compute.internal:4041\">Spark UI</a></p>\n",
       "\n",
       "            <dl>\n",
       "              <dt>Version</dt>\n",
       "                <dd><code>v3.1.2</code></dd>\n",
       "              <dt>Master</dt>\n",
       "                <dd><code>local[*]</code></dd>\n",
       "              <dt>AppName</dt>\n",
       "                <dd><code>20241213_01_MLlib</code></dd>\n",
       "            </dl>\n",
       "        </div>\n",
       "        \n",
       "            </div>\n",
       "        "
      ],
      "text/plain": [
       "<pyspark.sql.session.SparkSession at 0x7fd9841e38b0>"
      ]
     },
     "execution_count": 3,
     "metadata": {},
     "output_type": "execute_result"
    }
   ],
   "source": [
    "from pyspark.sql import SparkSession\n",
    "spark= SparkSession.builder.appName(\"20241213_01_MLlib\").getOrCreate()\n",
    "spark"
   ]
  },
  {
   "cell_type": "code",
   "execution_count": 54,
   "id": "ad1f0970",
   "metadata": {},
   "outputs": [],
   "source": [
    "# 데이터 생성\n",
    "data = [\n",
    "    (0, 0, 4.0),  # user 0 rated item 0 with 4.0\n",
    "    (0, 1, 2.0),\n",
    "    (1, 1, 3.0),\n",
    "    (1, 2, 1.0),\n",
    "    (2, 0, 5.0),\n",
    "    (2, 2, 4.0),\n",
    "    (3, 0, 4.0), \n",
    "    (3, 3, 2.0),\n",
    "    (4, 1, 3.0),\n",
    "    (4, 2, 1.0),\n",
    "    (5, 2, 5.0),\n",
    "    (5, 3, 4.0)\n",
    "]\n",
    "\n",
    "columns = [\"user_id\", \"item_id\",\"rating\"]"
   ]
  },
  {
   "cell_type": "code",
   "execution_count": 55,
   "id": "5955244d",
   "metadata": {},
   "outputs": [
    {
     "name": "stdout",
     "output_type": "stream",
     "text": [
      "+-------+-------+------+\n",
      "|user_id|item_id|rating|\n",
      "+-------+-------+------+\n",
      "|      0|      0|   4.0|\n",
      "|      0|      1|   2.0|\n",
      "|      1|      1|   3.0|\n",
      "|      1|      2|   1.0|\n",
      "|      2|      0|   5.0|\n",
      "|      2|      2|   4.0|\n",
      "|      3|      0|   4.0|\n",
      "|      3|      3|   2.0|\n",
      "|      4|      1|   3.0|\n",
      "|      4|      2|   1.0|\n",
      "|      5|      2|   5.0|\n",
      "|      5|      3|   4.0|\n",
      "+-------+-------+------+\n",
      "\n"
     ]
    }
   ],
   "source": [
    "rating_df = spark.createDataFrame(data,columns)\n",
    "rating_df.show()"
   ]
  },
  {
   "cell_type": "code",
   "execution_count": 56,
   "id": "8c4fac3c",
   "metadata": {},
   "outputs": [],
   "source": [
    "# user, item -rating 정보들 >> 사용자 그룹을 만든다 > 모델 > 예측 결과 - 그룹\n"
   ]
  },
  {
   "cell_type": "code",
   "execution_count": 57,
   "id": "abacf094",
   "metadata": {},
   "outputs": [],
   "source": [
    "# 피처선택, 전처리 > 모델 학습 > 예측 "
   ]
  },
  {
   "cell_type": "code",
   "execution_count": 58,
   "id": "8b56c760",
   "metadata": {},
   "outputs": [],
   "source": [
    "user_item_matrix = rating_df.groupby(\"user_id\").pivot(\"item_id\").avg(\"rating\").fillna(0)"
   ]
  },
  {
   "cell_type": "code",
   "execution_count": 59,
   "id": "457a8b21",
   "metadata": {},
   "outputs": [
    {
     "name": "stderr",
     "output_type": "stream",
     "text": [
      "\r",
      "[Stage 221:===========================================>         (163 + 2) / 200]\r",
      "\r",
      "                                                                                \r"
     ]
    },
    {
     "name": "stdout",
     "output_type": "stream",
     "text": [
      "+-------+---+---+---+---+\n",
      "|user_id|  0|  1|  2|  3|\n",
      "+-------+---+---+---+---+\n",
      "|      0|4.0|2.0|0.0|0.0|\n",
      "|      5|0.0|0.0|5.0|4.0|\n",
      "|      1|0.0|3.0|1.0|0.0|\n",
      "|      3|4.0|0.0|0.0|2.0|\n",
      "|      2|5.0|0.0|4.0|0.0|\n",
      "|      4|0.0|3.0|1.0|0.0|\n",
      "+-------+---+---+---+---+\n",
      "\n"
     ]
    }
   ],
   "source": [
    "user_item_matrix.show()"
   ]
  },
  {
   "cell_type": "markdown",
   "id": "6d82e406",
   "metadata": {},
   "source": [
    "# 피처 백처"
   ]
  },
  {
   "cell_type": "code",
   "execution_count": 60,
   "id": "73c222bc",
   "metadata": {},
   "outputs": [],
   "source": [
    "from pyspark.ml.feature import VectorAssembler"
   ]
  },
  {
   "cell_type": "code",
   "execution_count": 61,
   "id": "87176791",
   "metadata": {},
   "outputs": [],
   "source": [
    "assembler = VectorAssembler(inputCols=[\"0\",\"1\",\"2\"], outputCol=\"features\")"
   ]
  },
  {
   "cell_type": "code",
   "execution_count": 62,
   "id": "b1eaaa5e",
   "metadata": {},
   "outputs": [
    {
     "name": "stderr",
     "output_type": "stream",
     "text": [
      "\r",
      "[Stage 236:==========================================>          (161 + 2) / 200]\r",
      "\r",
      "                                                                                \r"
     ]
    },
    {
     "name": "stdout",
     "output_type": "stream",
     "text": [
      "+-------+---+---+---+---+-------------+\n",
      "|user_id|  0|  1|  2|  3|     features|\n",
      "+-------+---+---+---+---+-------------+\n",
      "|      0|4.0|2.0|0.0|0.0|[4.0,2.0,0.0]|\n",
      "|      5|0.0|0.0|5.0|4.0|[0.0,0.0,5.0]|\n",
      "|      1|0.0|3.0|1.0|0.0|[0.0,3.0,1.0]|\n",
      "|      3|4.0|0.0|0.0|2.0|[4.0,0.0,0.0]|\n",
      "|      2|5.0|0.0|4.0|0.0|[5.0,0.0,4.0]|\n",
      "|      4|0.0|3.0|1.0|0.0|[0.0,3.0,1.0]|\n",
      "+-------+---+---+---+---+-------------+\n",
      "\n"
     ]
    }
   ],
   "source": [
    "user_features = assembler.transform(user_item_matrix)\n",
    "user_features.show()"
   ]
  },
  {
   "cell_type": "markdown",
   "id": "2323af8b",
   "metadata": {},
   "source": [
    "# 모델 생성 > 학습"
   ]
  },
  {
   "cell_type": "code",
   "execution_count": 63,
   "id": "3cae45ad",
   "metadata": {},
   "outputs": [
    {
     "data": {
      "text/plain": [
       "KMeans_585f82c8dd70"
      ]
     },
     "execution_count": 63,
     "metadata": {},
     "output_type": "execute_result"
    }
   ],
   "source": [
    "from pyspark.ml.clustering import KMeans\n",
    "\n",
    "# 모델 생성\n",
    "kmeans = KMeans(k=2, seed=1, featuresCol=\"features\", predictionCol=\"cluster\")\n",
    "kmeans"
   ]
  },
  {
   "cell_type": "code",
   "execution_count": 64,
   "id": "c5bbd0c4",
   "metadata": {},
   "outputs": [
    {
     "name": "stderr",
     "output_type": "stream",
     "text": [
      "                                                                                \r"
     ]
    },
    {
     "data": {
      "text/plain": [
       "KMeansModel: uid=KMeans_585f82c8dd70, k=2, distanceMeasure=euclidean, numFeatures=3"
      ]
     },
     "execution_count": 64,
     "metadata": {},
     "output_type": "execute_result"
    }
   ],
   "source": [
    "#모델 학습 \n",
    "model = kmeans.fit(user_features)\n",
    "model"
   ]
  },
  {
   "cell_type": "code",
   "execution_count": 65,
   "id": "fb75a93f",
   "metadata": {
    "scrolled": true
   },
   "outputs": [
    {
     "name": "stderr",
     "output_type": "stream",
     "text": [
      "\r",
      "[Stage 281:======================================>              (147 + 2) / 200]\r"
     ]
    },
    {
     "name": "stdout",
     "output_type": "stream",
     "text": [
      "+-------+---+---+---+---+-------------+-------+\n",
      "|user_id|  0|  1|  2|  3|     features|cluster|\n",
      "+-------+---+---+---+---+-------------+-------+\n",
      "|      0|4.0|2.0|0.0|0.0|[4.0,2.0,0.0]|      0|\n",
      "|      1|0.0|3.0|1.0|0.0|[0.0,3.0,1.0]|      1|\n",
      "|      2|5.0|0.0|4.0|0.0|[5.0,0.0,4.0]|      0|\n",
      "|      3|4.0|0.0|0.0|2.0|[4.0,0.0,0.0]|      0|\n",
      "|      4|0.0|3.0|1.0|0.0|[0.0,3.0,1.0]|      1|\n",
      "|      5|0.0|0.0|5.0|4.0|[0.0,0.0,5.0]|      1|\n",
      "+-------+---+---+---+---+-------------+-------+\n",
      "\n"
     ]
    },
    {
     "name": "stderr",
     "output_type": "stream",
     "text": [
      "\r",
      "                                                                                \r"
     ]
    }
   ],
   "source": [
    "# 모델을 이용한 예측\n",
    "clusters = model.transform(user_features)\n",
    "clusters.orderBy(\"user_id\").show()"
   ]
  },
  {
   "cell_type": "code",
   "execution_count": 66,
   "id": "2462f086",
   "metadata": {},
   "outputs": [],
   "source": [
    "## 사용자 그룹화 : 유사한 취향의 사용자끼리 그룹으로 묶어두는 것\n",
    "## 아이템 그룹화 : 아이템 간의 군집화를 통해 사용자에게 추천해 줄 수 있음"
   ]
  },
  {
   "cell_type": "code",
   "execution_count": 67,
   "id": "186c1224",
   "metadata": {},
   "outputs": [],
   "source": [
    "spark.stop()"
   ]
  }
 ],
 "metadata": {
  "kernelspec": {
   "display_name": "Spark_start",
   "language": "python",
   "name": "spark_start"
  },
  "language_info": {
   "codemirror_mode": {
    "name": "ipython",
    "version": 3
   },
   "file_extension": ".py",
   "mimetype": "text/x-python",
   "name": "python",
   "nbconvert_exporter": "python",
   "pygments_lexer": "ipython3",
   "version": "3.8.20"
  }
 },
 "nbformat": 4,
 "nbformat_minor": 5
}
