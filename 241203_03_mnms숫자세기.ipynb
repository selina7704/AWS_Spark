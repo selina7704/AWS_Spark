{
 "cells": [
  {
   "cell_type": "markdown",
   "id": "b53aa141",
   "metadata": {},
   "source": [
    "1. 데이터 RDD 생성 map()\n",
    "2. collect()\n",
    "3. blue mnms만 꺼내기\n",
    "4. 전체 합계 구하기\n",
    "5. 도시별 합계 구하기"
   ]
  },
  {
   "cell_type": "code",
   "execution_count": 1,
   "id": "c6923a6c",
   "metadata": {},
   "outputs": [],
   "source": [
    "import sys\n",
    "from pyspark import SparkConf, SparkContext\n",
    "from pyspark.sql import SparkSession\n",
    "import os"
   ]
  },
  {
   "cell_type": "code",
   "execution_count": 3,
   "id": "69069957",
   "metadata": {},
   "outputs": [
    {
     "name": "stderr",
     "output_type": "stream",
     "text": [
      "24/12/06 18:00:10 WARN NativeCodeLoader: Unable to load native-hadoop library for your platform... using builtin-java classes where applicable\n",
      "Using Spark's default log4j profile: org/apache/spark/log4j-defaults.properties\n",
      "Setting default log level to \"WARN\".\n",
      "To adjust logging level use sc.setLogLevel(newLevel). For SparkR, use setLogLevel(newLevel).\n"
     ]
    }
   ],
   "source": [
    "conf = SparkConf().setMaster(\"local[*]\").setAppName(\"mnm-rdd-counts\")\n",
    "\n",
    "# SparkContext 생성\n",
    "sc = SparkContext(conf=conf)"
   ]
  },
  {
   "cell_type": "code",
   "execution_count": 4,
   "id": "a33e1795",
   "metadata": {},
   "outputs": [],
   "source": [
    "directory = os.path.join(os.getcwd(), \"data\")  # 현재 디렉토리의 data 폴더\n",
    "filename  = \"mnm_dataset.csv\"\n",
    "file_path = os.path.join(directory, filename)\n",
    "lines = sc.textFile(\"file:///\" + file_path.replace(\"\\\\\", \"/\"))"
   ]
  },
  {
   "cell_type": "code",
   "execution_count": 5,
   "id": "5d8b51c8",
   "metadata": {},
   "outputs": [
    {
     "name": "stderr",
     "output_type": "stream",
     "text": [
      "                                                                                \r"
     ]
    },
    {
     "data": {
      "text/plain": [
       "['State,Color,Count', 'TX,Red,20', 'NV,Blue,66', 'CO,Blue,79', 'OR,Blue,71']"
      ]
     },
     "execution_count": 5,
     "metadata": {},
     "output_type": "execute_result"
    }
   ],
   "source": [
    "lines.take(5)"
   ]
  },
  {
   "cell_type": "code",
   "execution_count": 11,
   "id": "8b08268a",
   "metadata": {},
   "outputs": [
    {
     "name": "stdout",
     "output_type": "stream",
     "text": [
      "State,Color,Count\n"
     ]
    },
    {
     "data": {
      "text/plain": [
       "['TX,Red,20', 'NV,Blue,66', 'CO,Blue,79', 'OR,Blue,71', 'WA,Yellow,93']"
      ]
     },
     "execution_count": 11,
     "metadata": {},
     "output_type": "execute_result"
    }
   ],
   "source": [
    "#header 추출\n",
    "header = lines.first()\n",
    "data = lines.filter(lambda row: row != header)\n",
    "print(header)\n",
    "data.take(5)"
   ]
  },
  {
   "cell_type": "code",
   "execution_count": 13,
   "id": "27ef6814",
   "metadata": {},
   "outputs": [
    {
     "data": {
      "text/plain": [
       "[['TX', 'Red', '20'],\n",
       " ['NV', 'Blue', '66'],\n",
       " ['CO', 'Blue', '79'],\n",
       " ['OR', 'Blue', '71'],\n",
       " ['WA', 'Yellow', '93']]"
      ]
     },
     "execution_count": 13,
     "metadata": {},
     "output_type": "execute_result"
    }
   ],
   "source": [
    "mnms_data = data.map(lambda row: row.split(\",\"))\n",
    "mnms_data.take(5)"
   ]
  },
  {
   "cell_type": "code",
   "execution_count": 14,
   "id": "4557caae",
   "metadata": {},
   "outputs": [
    {
     "data": {
      "text/plain": [
       "[['TX', 'Red', '20'], ['NV', 'Blue', '66'], ['CO', 'Blue', '79']]"
      ]
     },
     "execution_count": 14,
     "metadata": {},
     "output_type": "execute_result"
    }
   ],
   "source": [
    "mnms_data.collect()[:3]"
   ]
  },
  {
   "cell_type": "code",
   "execution_count": 18,
   "id": "5e27056c",
   "metadata": {},
   "outputs": [
    {
     "data": {
      "text/plain": [
       "[['NV', 'Blue', '66'],\n",
       " ['CO', 'Blue', '79'],\n",
       " ['OR', 'Blue', '71'],\n",
       " ['WY', 'Blue', '16'],\n",
       " ['AZ', 'Blue', '75']]"
      ]
     },
     "execution_count": 18,
     "metadata": {},
     "output_type": "execute_result"
    }
   ],
   "source": [
    "#블루 컬러 구하기\n",
    "blue_data = mnms_data.filter(lambda row: row[1]==\"Blue\")\n",
    "blue_data.take(5)"
   ]
  },
  {
   "cell_type": "code",
   "execution_count": null,
   "id": "1fcba9cb",
   "metadata": {},
   "outputs": [],
   "source": [
    "#총 합계"
   ]
  },
  {
   "cell_type": "code",
   "execution_count": 20,
   "id": "2535d72d",
   "metadata": {},
   "outputs": [
    {
     "name": "stdout",
     "output_type": "stream",
     "text": [
      "Total Count: 902516\n"
     ]
    }
   ],
   "source": [
    "count_sum = blue_data.map(lambda row: int(row[2])).sum()\n",
    "print(f\"Total Count: {count_sum}\")"
   ]
  },
  {
   "cell_type": "code",
   "execution_count": 21,
   "id": "bdddce58",
   "metadata": {},
   "outputs": [
    {
     "name": "stderr",
     "output_type": "stream",
     "text": [
      "\r",
      "[Stage 13:>                                                         (0 + 2) / 2]\r"
     ]
    },
    {
     "name": "stdout",
     "output_type": "stream",
     "text": [
      "[('CO', 93412), ('WY', 91002), ('CA', 89123), ('TX', 88466), ('NM', 90150), ('NV', 90003), ('OR', 90526), ('AZ', 89971), ('UT', 89977), ('WA', 89886)]\n"
     ]
    },
    {
     "name": "stderr",
     "output_type": "stream",
     "text": [
      "\r",
      "                                                                                \r"
     ]
    }
   ],
   "source": [
    "#도시별 합계\n",
    "city_rdd = blue_data.map(lambda row: (row[0], int(row[2])))\n",
    "city_total_data = city_rdd.reduceByKey(lambda a,b: a+b)\n",
    "print(city_total_data.collect())"
   ]
  },
  {
   "cell_type": "code",
   "execution_count": 23,
   "id": "852c101e",
   "metadata": {},
   "outputs": [],
   "source": [
    "sc.stop()"
   ]
  }
 ],
 "metadata": {
  "kernelspec": {
   "display_name": "Spark_start",
   "language": "python",
   "name": "spark_start"
  },
  "language_info": {
   "codemirror_mode": {
    "name": "ipython",
    "version": 3
   },
   "file_extension": ".py",
   "mimetype": "text/x-python",
   "name": "python",
   "nbconvert_exporter": "python",
   "pygments_lexer": "ipython3",
   "version": "3.8.20"
  }
 },
 "nbformat": 4,
 "nbformat_minor": 5
}
