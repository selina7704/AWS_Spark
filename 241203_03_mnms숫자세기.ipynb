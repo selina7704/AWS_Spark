{
 "cells": [
  {
   "cell_type": "markdown",
   "id": "b53aa141",
   "metadata": {},
   "source": [
    "1. 데이터 RDD 생성 map()\n",
    "2. collect()\n",
    "3. blue mnms만 꺼내기\n",
    "4. 전체 합계 구하기\n",
    "5. 도시별 합계 구하기"
   ]
  },
  {
   "cell_type": "code",
   "execution_count": null,
   "id": "c6923a6c",
   "metadata": {},
   "outputs": [],
   "source": [
    "import sys\n",
    "from pyspark import SparkConf, SparkContext\n",
    "from pyspark.sql import SparkSession\n",
    "import os\n"
   ]
  },
  {
   "cell_type": "code",
   "execution_count": null,
   "id": "69069957",
   "metadata": {},
   "outputs": [],
   "source": [
    "conf = SparkConf().setMaster(\"local[*]\").setAppName(\"mnm-rdd-counts\")\n",
    "\n",
    "# SparkContext 생성\n",
    "sc = SparkContext(conf=conf)"
   ]
  },
  {
   "cell_type": "code",
   "execution_count": null,
   "id": "a33e1795",
   "metadata": {},
   "outputs": [],
   "source": [
    "directory = os.path.join(os.getcwd(), \"data\")  # 현재 디렉토리의 data 폴더\n",
    "filename  = \"mnm_dataset.csv\"\n",
    "file_path = os.path.join(directory, filename)\n",
    "lines = sc.textFile(\"file:///\" + file_path.replace(\"\\\\\", \"/\"))"
   ]
  },
  {
   "cell_type": "code",
   "execution_count": null,
   "id": "5d8b51c8",
   "metadata": {},
   "outputs": [],
   "source": [
    "lines.take(5)"
   ]
  },
  {
   "cell_type": "code",
   "execution_count": null,
   "id": "8b08268a",
   "metadata": {},
   "outputs": [],
   "source": [
    "header = lines.first()"
   ]
  },
  {
   "cell_type": "code",
   "execution_count": null,
   "id": "0581ce75",
   "metadata": {},
   "outputs": [],
   "source": [
    "datas = lines.filter(lambda row: row != header)"
   ]
  },
  {
   "cell_type": "code",
   "execution_count": null,
   "id": "27ef6814",
   "metadata": {},
   "outputs": [],
   "source": [
    "mnms_datas = datas.map(lambda row: row.split(\",\"))"
   ]
  },
  {
   "cell_type": "code",
   "execution_count": null,
   "id": "4557caae",
   "metadata": {},
   "outputs": [],
   "source": [
    "mnms_datas.collect()[:3]"
   ]
  },
  {
   "cell_type": "code",
   "execution_count": 1,
   "id": "5e27056c",
   "metadata": {},
   "outputs": [
    {
     "ename": "NameError",
     "evalue": "name 'mnms_datas' is not defined",
     "output_type": "error",
     "traceback": [
      "\u001b[0;31m---------------------------------------------------------------------------\u001b[0m",
      "\u001b[0;31mNameError\u001b[0m                                 Traceback (most recent call last)",
      "Cell \u001b[0;32mIn[1], line 1\u001b[0m\n\u001b[0;32m----> 1\u001b[0m blue_data \u001b[38;5;241m=\u001b[39m \u001b[43mmnms_datas\u001b[49m\u001b[38;5;241m.\u001b[39mfilter(\u001b[38;5;28;01mlambda\u001b[39;00m row: row[\u001b[38;5;241m1\u001b[39m]\u001b[38;5;241m==\u001b[39m\u001b[38;5;124m\"\u001b[39m\u001b[38;5;124mBlue\u001b[39m\u001b[38;5;124m\"\u001b[39m)\n\u001b[1;32m      2\u001b[0m blue_data\u001b[38;5;241m.\u001b[39mcollect()\n",
      "\u001b[0;31mNameError\u001b[0m: name 'mnms_datas' is not defined"
     ]
    }
   ],
   "source": [
    "#블루 컬러 구하기\n",
    "blue_data = mnms_datas.filter(lambda row: row[1]==\"Blue\")\n",
    "blue_data.collect()"
   ]
  },
  {
   "cell_type": "code",
   "execution_count": null,
   "id": "1fcba9cb",
   "metadata": {},
   "outputs": [],
   "source": [
    "#총 합계"
   ]
  },
  {
   "cell_type": "code",
   "execution_count": null,
   "id": "2535d72d",
   "metadata": {},
   "outputs": [],
   "source": [
    "count_sum = mnms_datas.map(lambda row: int(row[2])).sum()\n",
    "print(f\"Total Count: {count_sum}\")"
   ]
  },
  {
   "cell_type": "code",
   "execution_count": null,
   "id": "bdddce58",
   "metadata": {},
   "outputs": [],
   "source": [
    "#도시별 합계\n",
    "city_rdd = mnms_datas.map(lambda row: (row[0], int(row[2])))\n",
    "city_total_data = city_rdd.reduceByKey(lambda a,b: a+b)\n",
    "print(city_total_data.collect())"
   ]
  },
  {
   "cell_type": "code",
   "execution_count": null,
   "id": "852c101e",
   "metadata": {},
   "outputs": [],
   "source": [
    "spark.stop()"
   ]
  },
  {
   "cell_type": "code",
   "execution_count": null,
   "id": "48d4cb74",
   "metadata": {},
   "outputs": [],
   "source": []
  },
  {
   "cell_type": "code",
   "execution_count": null,
   "id": "c8647297",
   "metadata": {},
   "outputs": [],
   "source": []
  },
  {
   "cell_type": "code",
   "execution_count": null,
   "id": "57ecf785",
   "metadata": {},
   "outputs": [],
   "source": []
  }
 ],
 "metadata": {
  "kernelspec": {
   "display_name": "Spark_start",
   "language": "python",
   "name": "spark_start"
  },
  "language_info": {
   "codemirror_mode": {
    "name": "ipython",
    "version": 3
   },
   "file_extension": ".py",
   "mimetype": "text/x-python",
   "name": "python",
   "nbconvert_exporter": "python",
   "pygments_lexer": "ipython3",
   "version": "3.8.20"
  }
 },
 "nbformat": 4,
 "nbformat_minor": 5
}
