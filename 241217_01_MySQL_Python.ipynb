{
 "cells": [
  {
   "cell_type": "code",
   "execution_count": 1,
   "id": "62335f0d",
   "metadata": {},
   "outputs": [],
   "source": [
    "host_ip = \"13.208.158.13\" #Localhost, EIP\n",
    "user_id = \"spark_user\"\n",
    "user_password = \"1234\""
   ]
  },
  {
   "cell_type": "code",
   "execution_count": 3,
   "id": "8549360b",
   "metadata": {},
   "outputs": [],
   "source": [
    "import os\n",
    "os.environ[\"PYSPARK_SUBMIT_ARGS\"] = \"--jars /usr/local/lib/mysql-connector-java-5.1.49-bin.jar pyspark-shell\""
   ]
  },
  {
   "cell_type": "code",
   "execution_count": 6,
   "id": "d71a4dba",
   "metadata": {},
   "outputs": [
    {
     "name": "stderr",
     "output_type": "stream",
     "text": [
      "24/12/17 13:32:45 WARN NativeCodeLoader: Unable to load native-hadoop library for your platform... using builtin-java classes where applicable\n",
      "Using Spark's default log4j profile: org/apache/spark/log4j-defaults.properties\n",
      "Setting default log level to \"WARN\".\n",
      "To adjust logging level use sc.setLogLevel(newLevel). For SparkR, use setLogLevel(newLevel).\n"
     ]
    }
   ],
   "source": [
    "from pyspark.sql import SparkSession\n",
    "spark = SparkSession.builder.appName(\"mysqlconnect\").getOrCreate()"
   ]
  },
  {
   "cell_type": "code",
   "execution_count": 9,
   "id": "6c3ca9ae",
   "metadata": {},
   "outputs": [
    {
     "name": "stderr",
     "output_type": "stream",
     "text": [
      "Tue Dec 17 13:33:43 KST 2024 WARN: Establishing SSL connection without server's identity verification is not recommended. According to MySQL 5.5.45+, 5.6.26+ and 5.7.6+ requirements SSL connection must be established by default if explicit option isn't set. For compliance with existing applications not using SSL the verifyServerCertificate property is set to 'false'. You need either to explicitly disable SSL by setting useSSL=false, or set useSSL=true and provide truststore for server certificate verification.\n"
     ]
    }
   ],
   "source": [
    "mysql_url = f\"jdbc:mysql://{host_ip}:3306/my_db\""
   ]
  },
  {
   "cell_type": "code",
   "execution_count": 29,
   "id": "c5ebed38",
   "metadata": {},
   "outputs": [
    {
     "name": "stdout",
     "output_type": "stream",
     "text": [
      "+------+----------+--------+\n",
      "|DEPTNO|     DNAME|     LOC|\n",
      "+------+----------+--------+\n",
      "|    10|ACCOUNTING|NEW YORK|\n",
      "|    20|  RESEARCH|  DALLAS|\n",
      "|    30|     SALES| CHICAGO|\n",
      "|    40|OPERATIONS|  BOSTON|\n",
      "+------+----------+--------+\n",
      "\n"
     ]
    },
    {
     "name": "stderr",
     "output_type": "stream",
     "text": [
      "Tue Dec 17 13:48:49 KST 2024 WARN: Establishing SSL connection without server's identity verification is not recommended. According to MySQL 5.5.45+, 5.6.26+ and 5.7.6+ requirements SSL connection must be established by default if explicit option isn't set. For compliance with existing applications not using SSL the verifyServerCertificate property is set to 'false'. You need either to explicitly disable SSL by setting useSSL=false, or set useSSL=true and provide truststore for server certificate verification.\n",
      "Tue Dec 17 13:48:49 KST 2024 WARN: Establishing SSL connection without server's identity verification is not recommended. According to MySQL 5.5.45+, 5.6.26+ and 5.7.6+ requirements SSL connection must be established by default if explicit option isn't set. For compliance with existing applications not using SSL the verifyServerCertificate property is set to 'false'. You need either to explicitly disable SSL by setting useSSL=false, or set useSSL=true and provide truststore for server certificate verification.\n"
     ]
    }
   ],
   "source": [
    "#DEPT\n",
    "dept_df = spark.read.format(\"jdbc\").options(\n",
    "    url = mysql_url,\n",
    "    driver = \"com.mysql.jdbc.Driver\",\n",
    "    dbtable = \"DEPT\",\n",
    "    user= user_id,\n",
    "    password = user_password,\n",
    ").load()\n",
    "\n",
    "dept_df.show()"
   ]
  },
  {
   "cell_type": "code",
   "execution_count": 30,
   "id": "af4eabe8",
   "metadata": {},
   "outputs": [
    {
     "name": "stdout",
     "output_type": "stream",
     "text": [
      "+------+----------+--------+\n",
      "|DEPTNO|     DNAME|     LOC|\n",
      "+------+----------+--------+\n",
      "|    10|ACCOUNTING|NEW YORK|\n",
      "|    20|  RESEARCH|  DALLAS|\n",
      "|    30|     SALES| CHICAGO|\n",
      "|    40|OPERATIONS|  BOSTON|\n",
      "+------+----------+--------+\n",
      "\n"
     ]
    },
    {
     "name": "stderr",
     "output_type": "stream",
     "text": [
      "Tue Dec 17 13:48:51 KST 2024 WARN: Establishing SSL connection without server's identity verification is not recommended. According to MySQL 5.5.45+, 5.6.26+ and 5.7.6+ requirements SSL connection must be established by default if explicit option isn't set. For compliance with existing applications not using SSL the verifyServerCertificate property is set to 'false'. You need either to explicitly disable SSL by setting useSSL=false, or set useSSL=true and provide truststore for server certificate verification.\n"
     ]
    }
   ],
   "source": [
    "#DEPT- sql()\n",
    "dept_df.createOrReplaceTempView(\"dept_view\")\n",
    "query = \"\"\"\n",
    "select *\n",
    "from dept_view\n",
    "\"\"\"\n",
    "spark.sql(query).show()"
   ]
  },
  {
   "cell_type": "code",
   "execution_count": 25,
   "id": "f17ec388",
   "metadata": {},
   "outputs": [
    {
     "name": "stderr",
     "output_type": "stream",
     "text": [
      "Tue Dec 17 13:46:55 KST 2024 WARN: Establishing SSL connection without server's identity verification is not recommended. According to MySQL 5.5.45+, 5.6.26+ and 5.7.6+ requirements SSL connection must be established by default if explicit option isn't set. For compliance with existing applications not using SSL the verifyServerCertificate property is set to 'false'. You need either to explicitly disable SSL by setting useSSL=false, or set useSSL=true and provide truststore for server certificate verification.\n",
      "Tue Dec 17 13:46:56 KST 2024 WARN: Establishing SSL connection without server's identity verification is not recommended. According to MySQL 5.5.45+, 5.6.26+ and 5.7.6+ requirements SSL connection must be established by default if explicit option isn't set. For compliance with existing applications not using SSL the verifyServerCertificate property is set to 'false'. You need either to explicitly disable SSL by setting useSSL=false, or set useSSL=true and provide truststore for server certificate verification.\n"
     ]
    },
    {
     "name": "stdout",
     "output_type": "stream",
     "text": [
      "+-----+------+---------+----+----------+-------+-------+------+\n",
      "|EMPNO| ENAME|      JOB| MGR|  HIREDATE|    SAL|   COMM|DEPTNO|\n",
      "+-----+------+---------+----+----------+-------+-------+------+\n",
      "| 7369| SMITH|    CLERK|7902|1980-12-17| 800.00|   null|    20|\n",
      "| 7499| ALLEN| SALESMAN|7698|1981-02-20|1600.00| 300.00|    30|\n",
      "| 7521|  WARD| SALESMAN|7698|1981-02-22|1250.00| 500.00|    30|\n",
      "| 7566| JONES|  MANAGER|7839|1981-04-02|2975.00|   null|    20|\n",
      "| 7654|MARTIN| SALESMAN|7698|1981-09-28|1250.00|1400.00|    30|\n",
      "| 7698| BLAKE|  MANAGER|7839|1981-05-01|2850.00|   null|    30|\n",
      "| 7782| CLARK|  MANAGER|7839|1981-06-09|2450.00|   null|    10|\n",
      "| 7788| SCOTT|  ANALYST|7566|1982-12-09|3000.00|   null|    20|\n",
      "| 7839|  KING|PRESIDENT|null|1981-11-17|5000.00|   null|    10|\n",
      "| 7844|TURNER| SALESMAN|7698|1981-09-08|1500.00|   null|    30|\n",
      "| 7876| ADAMS|    CLERK|7788|1983-01-12|1100.00|   null|    20|\n",
      "| 7900| JAMES|    CLERK|7698|1981-12-03| 950.00|   null|    30|\n",
      "| 7902|  FORD|  ANALYST|7566|1981-12-03|3000.00|   null|    20|\n",
      "| 7934|MILLER|    CLERK|7782|1982-01-23|1300.00|   null|    10|\n",
      "+-----+------+---------+----+----------+-------+-------+------+\n",
      "\n"
     ]
    }
   ],
   "source": [
    "# EMP\n",
    "emp_df = spark.read.format(\"jdbc\").options(\n",
    "    url = mysql_url,\n",
    "    driver = \"com.mysql.jdbc.Driver\",\n",
    "    dbtable = \"EMP\",\n",
    "    user= user_id,\n",
    "    password = user_password,\n",
    ").load()\n",
    "\n",
    "emp_df.show()"
   ]
  },
  {
   "cell_type": "code",
   "execution_count": 28,
   "id": "0d4b601d",
   "metadata": {},
   "outputs": [
    {
     "name": "stdout",
     "output_type": "stream",
     "text": [
      "+-----+------+---------+----+----------+-------+-------+------+\n",
      "|EMPNO| ENAME|      JOB| MGR|  HIREDATE|    SAL|   COMM|DEPTNO|\n",
      "+-----+------+---------+----+----------+-------+-------+------+\n",
      "| 7369| SMITH|    CLERK|7902|1980-12-17| 800.00|   null|    20|\n",
      "| 7499| ALLEN| SALESMAN|7698|1981-02-20|1600.00| 300.00|    30|\n",
      "| 7521|  WARD| SALESMAN|7698|1981-02-22|1250.00| 500.00|    30|\n",
      "| 7566| JONES|  MANAGER|7839|1981-04-02|2975.00|   null|    20|\n",
      "| 7654|MARTIN| SALESMAN|7698|1981-09-28|1250.00|1400.00|    30|\n",
      "| 7698| BLAKE|  MANAGER|7839|1981-05-01|2850.00|   null|    30|\n",
      "| 7782| CLARK|  MANAGER|7839|1981-06-09|2450.00|   null|    10|\n",
      "| 7788| SCOTT|  ANALYST|7566|1982-12-09|3000.00|   null|    20|\n",
      "| 7839|  KING|PRESIDENT|null|1981-11-17|5000.00|   null|    10|\n",
      "| 7844|TURNER| SALESMAN|7698|1981-09-08|1500.00|   null|    30|\n",
      "| 7876| ADAMS|    CLERK|7788|1983-01-12|1100.00|   null|    20|\n",
      "| 7900| JAMES|    CLERK|7698|1981-12-03| 950.00|   null|    30|\n",
      "| 7902|  FORD|  ANALYST|7566|1981-12-03|3000.00|   null|    20|\n",
      "| 7934|MILLER|    CLERK|7782|1982-01-23|1300.00|   null|    10|\n",
      "+-----+------+---------+----+----------+-------+-------+------+\n",
      "\n"
     ]
    },
    {
     "name": "stderr",
     "output_type": "stream",
     "text": [
      "Tue Dec 17 13:48:10 KST 2024 WARN: Establishing SSL connection without server's identity verification is not recommended. According to MySQL 5.5.45+, 5.6.26+ and 5.7.6+ requirements SSL connection must be established by default if explicit option isn't set. For compliance with existing applications not using SSL the verifyServerCertificate property is set to 'false'. You need either to explicitly disable SSL by setting useSSL=false, or set useSSL=true and provide truststore for server certificate verification.\n"
     ]
    }
   ],
   "source": [
    "#EMP - sql()\n",
    "emp_df.createOrReplaceTempView(\"emp_view\")\n",
    "emp_query = \"select * from emp_view\"\n",
    "\n",
    "spark.sql(emp_query).show()"
   ]
  },
  {
   "cell_type": "code",
   "execution_count": 17,
   "id": "73de8a84",
   "metadata": {},
   "outputs": [
    {
     "name": "stdout",
     "output_type": "stream",
     "text": [
      "+-----+-----+-----+\n",
      "|grade|losal|hisal|\n",
      "+-----+-----+-----+\n",
      "|    1|  700| 1200|\n",
      "|    2| 1201| 1400|\n",
      "|    3| 1401| 2000|\n",
      "|    4| 2001| 3000|\n",
      "|    5| 3001| 9999|\n",
      "+-----+-----+-----+\n",
      "\n"
     ]
    },
    {
     "name": "stderr",
     "output_type": "stream",
     "text": [
      "Tue Dec 17 13:39:14 KST 2024 WARN: Establishing SSL connection without server's identity verification is not recommended. According to MySQL 5.5.45+, 5.6.26+ and 5.7.6+ requirements SSL connection must be established by default if explicit option isn't set. For compliance with existing applications not using SSL the verifyServerCertificate property is set to 'false'. You need either to explicitly disable SSL by setting useSSL=false, or set useSSL=true and provide truststore for server certificate verification.\n",
      "Tue Dec 17 13:39:14 KST 2024 WARN: Establishing SSL connection without server's identity verification is not recommended. According to MySQL 5.5.45+, 5.6.26+ and 5.7.6+ requirements SSL connection must be established by default if explicit option isn't set. For compliance with existing applications not using SSL the verifyServerCertificate property is set to 'false'. You need either to explicitly disable SSL by setting useSSL=false, or set useSSL=true and provide truststore for server certificate verification.\n"
     ]
    }
   ],
   "source": [
    "# salgrade\n",
    "salgrade_df = spark.read.format(\"jdbc\").options(\n",
    "    url = mysql_url,\n",
    "    driver = \"com.mysql.jdbc.Driver\",\n",
    "    dbtable = \"salgrade\",\n",
    "    user= user_id,\n",
    "    password = user_password,\n",
    ").load()\n",
    "\n",
    "salgrade_df.show()"
   ]
  },
  {
   "cell_type": "code",
   "execution_count": 31,
   "id": "f49c7bd5",
   "metadata": {},
   "outputs": [
    {
     "name": "stdout",
     "output_type": "stream",
     "text": [
      "+-----+-----+-----+\n",
      "|grade|losal|hisal|\n",
      "+-----+-----+-----+\n",
      "|    1|  700| 1200|\n",
      "|    2| 1201| 1400|\n",
      "|    3| 1401| 2000|\n",
      "|    4| 2001| 3000|\n",
      "|    5| 3001| 9999|\n",
      "+-----+-----+-----+\n",
      "\n"
     ]
    },
    {
     "name": "stderr",
     "output_type": "stream",
     "text": [
      "Tue Dec 17 13:50:06 KST 2024 WARN: Establishing SSL connection without server's identity verification is not recommended. According to MySQL 5.5.45+, 5.6.26+ and 5.7.6+ requirements SSL connection must be established by default if explicit option isn't set. For compliance with existing applications not using SSL the verifyServerCertificate property is set to 'false'. You need either to explicitly disable SSL by setting useSSL=false, or set useSSL=true and provide truststore for server certificate verification.\n"
     ]
    }
   ],
   "source": [
    "#salgrade - sql()\n",
    "salgrade_df.createOrReplaceTempView(\"salgrade_view\")\n",
    "salgrade_query = \"select * from salgrade_view\"\n",
    "spark.sql(salgrade_query).show()"
   ]
  },
  {
   "cell_type": "markdown",
   "id": "c5980cc9",
   "metadata": {},
   "source": [
    "# 한번에 하는 법"
   ]
  },
  {
   "cell_type": "code",
   "execution_count": 38,
   "id": "10b0406a",
   "metadata": {},
   "outputs": [
    {
     "name": "stderr",
     "output_type": "stream",
     "text": [
      "Tue Dec 17 13:56:56 KST 2024 WARN: Establishing SSL connection without server's identity verification is not recommended. According to MySQL 5.5.45+, 5.6.26+ and 5.7.6+ requirements SSL connection must be established by default if explicit option isn't set. For compliance with existing applications not using SSL the verifyServerCertificate property is set to 'false'. You need either to explicitly disable SSL by setting useSSL=false, or set useSSL=true and provide truststore for server certificate verification.\n",
      "Tue Dec 17 13:56:56 KST 2024 WARN: Establishing SSL connection without server's identity verification is not recommended. According to MySQL 5.5.45+, 5.6.26+ and 5.7.6+ requirements SSL connection must be established by default if explicit option isn't set. For compliance with existing applications not using SSL the verifyServerCertificate property is set to 'false'. You need either to explicitly disable SSL by setting useSSL=false, or set useSSL=true and provide truststore for server certificate verification.\n",
      "Tue Dec 17 13:56:56 KST 2024 WARN: Establishing SSL connection without server's identity verification is not recommended. According to MySQL 5.5.45+, 5.6.26+ and 5.7.6+ requirements SSL connection must be established by default if explicit option isn't set. For compliance with existing applications not using SSL the verifyServerCertificate property is set to 'false'. You need either to explicitly disable SSL by setting useSSL=false, or set useSSL=true and provide truststore for server certificate verification.\n",
      "Tue Dec 17 13:56:57 KST 2024 WARN: Establishing SSL connection without server's identity verification is not recommended. According to MySQL 5.5.45+, 5.6.26+ and 5.7.6+ requirements SSL connection must be established by default if explicit option isn't set. For compliance with existing applications not using SSL the verifyServerCertificate property is set to 'false'. You need either to explicitly disable SSL by setting useSSL=false, or set useSSL=true and provide truststore for server certificate verification.\n"
     ]
    },
    {
     "name": "stdout",
     "output_type": "stream",
     "text": [
      " =====DEPT====\n",
      "+------+----------+--------+\n",
      "|DEPTNO|     DNAME|     LOC|\n",
      "+------+----------+--------+\n",
      "|    10|ACCOUNTING|NEW YORK|\n",
      "|    20|  RESEARCH|  DALLAS|\n",
      "|    30|     SALES| CHICAGO|\n",
      "|    40|OPERATIONS|  BOSTON|\n",
      "+------+----------+--------+\n",
      "\n",
      " =====EMP====\n",
      "+-----+------+---------+----+----------+-------+-------+------+\n",
      "|EMPNO| ENAME|      JOB| MGR|  HIREDATE|    SAL|   COMM|DEPTNO|\n",
      "+-----+------+---------+----+----------+-------+-------+------+\n",
      "| 7369| SMITH|    CLERK|7902|1980-12-17| 800.00|   null|    20|\n",
      "| 7499| ALLEN| SALESMAN|7698|1981-02-20|1600.00| 300.00|    30|\n",
      "| 7521|  WARD| SALESMAN|7698|1981-02-22|1250.00| 500.00|    30|\n",
      "| 7566| JONES|  MANAGER|7839|1981-04-02|2975.00|   null|    20|\n",
      "| 7654|MARTIN| SALESMAN|7698|1981-09-28|1250.00|1400.00|    30|\n",
      "| 7698| BLAKE|  MANAGER|7839|1981-05-01|2850.00|   null|    30|\n",
      "| 7782| CLARK|  MANAGER|7839|1981-06-09|2450.00|   null|    10|\n",
      "| 7788| SCOTT|  ANALYST|7566|1982-12-09|3000.00|   null|    20|\n",
      "| 7839|  KING|PRESIDENT|null|1981-11-17|5000.00|   null|    10|\n",
      "| 7844|TURNER| SALESMAN|7698|1981-09-08|1500.00|   null|    30|\n",
      "| 7876| ADAMS|    CLERK|7788|1983-01-12|1100.00|   null|    20|\n",
      "| 7900| JAMES|    CLERK|7698|1981-12-03| 950.00|   null|    30|\n",
      "| 7902|  FORD|  ANALYST|7566|1981-12-03|3000.00|   null|    20|\n",
      "| 7934|MILLER|    CLERK|7782|1982-01-23|1300.00|   null|    10|\n",
      "+-----+------+---------+----+----------+-------+-------+------+\n",
      "\n",
      " =====salgrade====\n",
      "+-----+-----+-----+\n",
      "|grade|losal|hisal|\n",
      "+-----+-----+-----+\n",
      "|    1|  700| 1200|\n",
      "|    2| 1201| 1400|\n",
      "|    3| 1401| 2000|\n",
      "|    4| 2001| 3000|\n",
      "|    5| 3001| 9999|\n",
      "+-----+-----+-----+\n",
      "\n"
     ]
    },
    {
     "name": "stderr",
     "output_type": "stream",
     "text": [
      "Tue Dec 17 13:56:57 KST 2024 WARN: Establishing SSL connection without server's identity verification is not recommended. According to MySQL 5.5.45+, 5.6.26+ and 5.7.6+ requirements SSL connection must be established by default if explicit option isn't set. For compliance with existing applications not using SSL the verifyServerCertificate property is set to 'false'. You need either to explicitly disable SSL by setting useSSL=false, or set useSSL=true and provide truststore for server certificate verification.\n",
      "Tue Dec 17 13:56:57 KST 2024 WARN: Establishing SSL connection without server's identity verification is not recommended. According to MySQL 5.5.45+, 5.6.26+ and 5.7.6+ requirements SSL connection must be established by default if explicit option isn't set. For compliance with existing applications not using SSL the verifyServerCertificate property is set to 'false'. You need either to explicitly disable SSL by setting useSSL=false, or set useSSL=true and provide truststore for server certificate verification.\n"
     ]
    }
   ],
   "source": [
    "tables = [\"DEPT\", \"EMP\", \"salgrade\"]\n",
    "\n",
    "dfs = {table: spark.read.format(\"jdbc\").options(\n",
    "    url = mysql_url,\n",
    "    driver = \"com.mysql.jdbc.Driver\",\n",
    "    dbtable = table,\n",
    "    user= user_id,\n",
    "    password = user_password,\n",
    ").load() for table in tables}\n",
    "\n",
    "for table, df in dfs.items():\n",
    "    print(f\" ====={table}====\")\n",
    "    df.show()"
   ]
  },
  {
   "cell_type": "code",
   "execution_count": 47,
   "id": "d28efd57",
   "metadata": {},
   "outputs": [
    {
     "name": "stderr",
     "output_type": "stream",
     "text": [
      "Tue Dec 17 13:59:38 KST 2024 WARN: Establishing SSL connection without server's identity verification is not recommended. According to MySQL 5.5.45+, 5.6.26+ and 5.7.6+ requirements SSL connection must be established by default if explicit option isn't set. For compliance with existing applications not using SSL the verifyServerCertificate property is set to 'false'. You need either to explicitly disable SSL by setting useSSL=false, or set useSSL=true and provide truststore for server certificate verification.\n",
      "Tue Dec 17 13:59:39 KST 2024 WARN: Establishing SSL connection without server's identity verification is not recommended. According to MySQL 5.5.45+, 5.6.26+ and 5.7.6+ requirements SSL connection must be established by default if explicit option isn't set. For compliance with existing applications not using SSL the verifyServerCertificate property is set to 'false'. You need either to explicitly disable SSL by setting useSSL=false, or set useSSL=true and provide truststore for server certificate verification.\n"
     ]
    },
    {
     "name": "stdout",
     "output_type": "stream",
     "text": [
      "+------+----------+--------+\n",
      "|DEPTNO|     DNAME|     LOC|\n",
      "+------+----------+--------+\n",
      "|    10|ACCOUNTING|NEW YORK|\n",
      "|    20|  RESEARCH|  DALLAS|\n",
      "|    30|     SALES| CHICAGO|\n",
      "|    40|OPERATIONS|  BOSTON|\n",
      "+------+----------+--------+\n",
      "\n",
      "+-----+------+---------+----+----------+-------+-------+------+\n",
      "|EMPNO| ENAME|      JOB| MGR|  HIREDATE|    SAL|   COMM|DEPTNO|\n",
      "+-----+------+---------+----+----------+-------+-------+------+\n",
      "| 7369| SMITH|    CLERK|7902|1980-12-17| 800.00|   null|    20|\n",
      "| 7499| ALLEN| SALESMAN|7698|1981-02-20|1600.00| 300.00|    30|\n",
      "| 7521|  WARD| SALESMAN|7698|1981-02-22|1250.00| 500.00|    30|\n",
      "| 7566| JONES|  MANAGER|7839|1981-04-02|2975.00|   null|    20|\n",
      "| 7654|MARTIN| SALESMAN|7698|1981-09-28|1250.00|1400.00|    30|\n",
      "| 7698| BLAKE|  MANAGER|7839|1981-05-01|2850.00|   null|    30|\n",
      "| 7782| CLARK|  MANAGER|7839|1981-06-09|2450.00|   null|    10|\n",
      "| 7788| SCOTT|  ANALYST|7566|1982-12-09|3000.00|   null|    20|\n",
      "| 7839|  KING|PRESIDENT|null|1981-11-17|5000.00|   null|    10|\n",
      "| 7844|TURNER| SALESMAN|7698|1981-09-08|1500.00|   null|    30|\n",
      "| 7876| ADAMS|    CLERK|7788|1983-01-12|1100.00|   null|    20|\n",
      "| 7900| JAMES|    CLERK|7698|1981-12-03| 950.00|   null|    30|\n",
      "| 7902|  FORD|  ANALYST|7566|1981-12-03|3000.00|   null|    20|\n",
      "| 7934|MILLER|    CLERK|7782|1982-01-23|1300.00|   null|    10|\n",
      "+-----+------+---------+----+----------+-------+-------+------+\n",
      "\n",
      "+-----+-----+-----+\n",
      "|grade|losal|hisal|\n",
      "+-----+-----+-----+\n",
      "|    1|  700| 1200|\n",
      "|    2| 1201| 1400|\n",
      "|    3| 1401| 2000|\n",
      "|    4| 2001| 3000|\n",
      "|    5| 3001| 9999|\n",
      "+-----+-----+-----+\n",
      "\n"
     ]
    },
    {
     "name": "stderr",
     "output_type": "stream",
     "text": [
      "Tue Dec 17 13:59:39 KST 2024 WARN: Establishing SSL connection without server's identity verification is not recommended. According to MySQL 5.5.45+, 5.6.26+ and 5.7.6+ requirements SSL connection must be established by default if explicit option isn't set. For compliance with existing applications not using SSL the verifyServerCertificate property is set to 'false'. You need either to explicitly disable SSL by setting useSSL=false, or set useSSL=true and provide truststore for server certificate verification.\n"
     ]
    }
   ],
   "source": [
    "#SQL \n",
    "for table, df in dfs.items():\n",
    "    df.createOrReplaceTempView(f\"{table.lower()}_view1\")\n",
    "\n",
    "spark.sql(\"SELECT * FROM DEPT_view1\").show()\n",
    "spark.sql(\"SELECT * FROM EMP_view1\").show()\n",
    "spark.sql(\"SELECT * FROM salgrade_view1\").show()"
   ]
  },
  {
   "cell_type": "code",
   "execution_count": 5,
   "id": "f628fbe0",
   "metadata": {},
   "outputs": [],
   "source": [
    "# 연결 종료\n",
    "spark.stop()"
   ]
  }
 ],
 "metadata": {
  "kernelspec": {
   "display_name": "Spark_start",
   "language": "python",
   "name": "spark_start"
  },
  "language_info": {
   "codemirror_mode": {
    "name": "ipython",
    "version": 3
   },
   "file_extension": ".py",
   "mimetype": "text/x-python",
   "name": "python",
   "nbconvert_exporter": "python",
   "pygments_lexer": "ipython3",
   "version": "3.8.20"
  }
 },
 "nbformat": 4,
 "nbformat_minor": 5
}
