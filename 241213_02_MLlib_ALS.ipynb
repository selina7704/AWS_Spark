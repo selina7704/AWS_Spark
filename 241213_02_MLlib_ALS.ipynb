{
 "cells": [
  {
   "cell_type": "markdown",
   "id": "4ff1442a",
   "metadata": {},
   "source": [
    "# 잠재요인기반 추천 시스템 ALS 모델 만들기\n",
    "\n",
    "1. 필요한 라이브러리 불러오기 \n",
    "2. 데이터 준비하기 \n",
    "    - 데이터 파일 불러오기\n",
    "    - 데이터 전처리\n",
    "3. 데이터 분할\n",
    "4. ALS 모델 생성 및 설정\n",
    "5. 모델 학습\n",
    "6. 추천 및 평가\n",
    "7. 영화 추천"
   ]
  },
  {
   "cell_type": "code",
   "execution_count": 1,
   "id": "f4021ce5",
   "metadata": {},
   "outputs": [
    {
     "name": "stderr",
     "output_type": "stream",
     "text": [
      "24/12/13 15:33:07 WARN NativeCodeLoader: Unable to load native-hadoop library for your platform... using builtin-java classes where applicable\n",
      "Using Spark's default log4j profile: org/apache/spark/log4j-defaults.properties\n",
      "Setting default log level to \"WARN\".\n",
      "To adjust logging level use sc.setLogLevel(newLevel). For SparkR, use setLogLevel(newLevel).\n",
      "24/12/13 15:33:08 WARN Utils: Service 'SparkUI' could not bind on port 4040. Attempting port 4041.\n"
     ]
    },
    {
     "data": {
      "text/html": [
       "\n",
       "            <div>\n",
       "                <p><b>SparkSession - in-memory</b></p>\n",
       "                \n",
       "        <div>\n",
       "            <p><b>SparkContext</b></p>\n",
       "\n",
       "            <p><a href=\"http://ip-172-31-2-110.ap-northeast-3.compute.internal:4041\">Spark UI</a></p>\n",
       "\n",
       "            <dl>\n",
       "              <dt>Version</dt>\n",
       "                <dd><code>v3.1.2</code></dd>\n",
       "              <dt>Master</dt>\n",
       "                <dd><code>local[*]</code></dd>\n",
       "              <dt>AppName</dt>\n",
       "                <dd><code>20241213_01_MLlib_ALS</code></dd>\n",
       "            </dl>\n",
       "        </div>\n",
       "        \n",
       "            </div>\n",
       "        "
      ],
      "text/plain": [
       "<pyspark.sql.session.SparkSession at 0x7f63d51fb940>"
      ]
     },
     "execution_count": 1,
     "metadata": {},
     "output_type": "execute_result"
    }
   ],
   "source": [
    "from pyspark.sql import SparkSession\n",
    "\n",
    "MAX_MEMORY = \"5g\"\n",
    "spark= SparkSession.builder.appName(\"20241213_01_MLlib_ALS\")\\\n",
    "                    .config(\"spark.executor.momory\", \"MAX_MEMORY\")\\\n",
    "                    .config(\"spark.driver.momory\", \"MAX_MEMORY\")\\\n",
    "                    .getOrCreate()\n",
    "spark"
   ]
  },
  {
   "cell_type": "code",
   "execution_count": 2,
   "id": "35996b18",
   "metadata": {},
   "outputs": [
    {
     "name": "stderr",
     "output_type": "stream",
     "text": [
      "                                                                                \r"
     ]
    }
   ],
   "source": [
    "rating_df = spark.read.format(\"csv\")\\\n",
    "    .option(\"header\",'true')\\\n",
    "    .option('inferSchema', 'true')\\\n",
    "    .load(\"data/ratings.csv\")\n",
    "\n",
    "movie_df = spark.read.format(\"csv\")\\\n",
    "    .option(\"header\",'true')\\\n",
    "    .option('inferSchema', 'true')\\\n",
    "    .load(\"data/movies.csv\")"
   ]
  },
  {
   "cell_type": "code",
   "execution_count": 3,
   "id": "ff88912c",
   "metadata": {},
   "outputs": [
    {
     "name": "stdout",
     "output_type": "stream",
     "text": [
      "root\n",
      " |-- userId: integer (nullable = true)\n",
      " |-- movieId: integer (nullable = true)\n",
      " |-- rating: double (nullable = true)\n",
      " |-- timestamp: integer (nullable = true)\n",
      "\n",
      "root\n",
      " |-- movieId: integer (nullable = true)\n",
      " |-- title: string (nullable = true)\n",
      " |-- genres: string (nullable = true)\n",
      "\n"
     ]
    }
   ],
   "source": [
    "rating_df.printSchema()\n",
    "movie_df.printSchema()"
   ]
  },
  {
   "cell_type": "code",
   "execution_count": 4,
   "id": "86c4095f",
   "metadata": {},
   "outputs": [
    {
     "name": "stdout",
     "output_type": "stream",
     "text": [
      "+------+-------+------+----------+\n",
      "|userId|movieId|rating| timestamp|\n",
      "+------+-------+------+----------+\n",
      "|     1|    296|   5.0|1147880044|\n",
      "|     1|    306|   3.5|1147868817|\n",
      "|     1|    307|   5.0|1147868828|\n",
      "|     1|    665|   5.0|1147878820|\n",
      "|     1|    899|   3.5|1147868510|\n",
      "+------+-------+------+----------+\n",
      "only showing top 5 rows\n",
      "\n",
      "+-------+--------------------+--------------------+\n",
      "|movieId|               title|              genres|\n",
      "+-------+--------------------+--------------------+\n",
      "|      1|    Toy Story (1995)|Adventure|Animati...|\n",
      "|      2|      Jumanji (1995)|Adventure|Childre...|\n",
      "|      3|Grumpier Old Men ...|      Comedy|Romance|\n",
      "|      4|Waiting to Exhale...|Comedy|Drama|Romance|\n",
      "|      5|Father of the Bri...|              Comedy|\n",
      "+-------+--------------------+--------------------+\n",
      "only showing top 5 rows\n",
      "\n"
     ]
    }
   ],
   "source": [
    "rating_df.show(5)\n",
    "movie_df.show(5)"
   ]
  },
  {
   "cell_type": "markdown",
   "id": "cbfbc6b2",
   "metadata": {},
   "source": [
    "# 전처리 \n",
    "\n",
    "- timestamp 제거"
   ]
  },
  {
   "cell_type": "code",
   "execution_count": 5,
   "id": "75237df8",
   "metadata": {},
   "outputs": [
    {
     "name": "stdout",
     "output_type": "stream",
     "text": [
      "+------+-------+------+\n",
      "|userId|movieId|rating|\n",
      "+------+-------+------+\n",
      "|     1|    296|   5.0|\n",
      "|     1|    306|   3.5|\n",
      "|     1|    307|   5.0|\n",
      "|     1|    665|   5.0|\n",
      "|     1|    899|   3.5|\n",
      "|     1|   1088|   4.0|\n",
      "|     1|   1175|   3.5|\n",
      "|     1|   1217|   3.5|\n",
      "|     1|   1237|   5.0|\n",
      "|     1|   1250|   4.0|\n",
      "|     1|   1260|   3.5|\n",
      "|     1|   1653|   4.0|\n",
      "|     1|   2011|   2.5|\n",
      "|     1|   2012|   2.5|\n",
      "|     1|   2068|   2.5|\n",
      "|     1|   2161|   3.5|\n",
      "|     1|   2351|   4.5|\n",
      "|     1|   2573|   4.0|\n",
      "|     1|   2632|   5.0|\n",
      "|     1|   2692|   5.0|\n",
      "+------+-------+------+\n",
      "only showing top 20 rows\n",
      "\n"
     ]
    }
   ],
   "source": [
    "rating_df = rating_df.select([\"userId\", \"movieId\", \"rating\"])\n",
    "rating_df.show()"
   ]
  },
  {
   "cell_type": "markdown",
   "id": "14c56e86",
   "metadata": {},
   "source": [
    "# 데이터 세트 분할"
   ]
  },
  {
   "cell_type": "code",
   "execution_count": 6,
   "id": "a11d6295",
   "metadata": {},
   "outputs": [],
   "source": [
    "train_ratio = 0.8\n",
    "test_ratio = 0.2\n",
    "\n",
    "train_df, test_df = rating_df.randomSplit([train_ratio, test_ratio],seed=42)"
   ]
  },
  {
   "cell_type": "markdown",
   "id": "856f94ec",
   "metadata": {},
   "source": [
    "# ALS 모델 객체 생성"
   ]
  },
  {
   "cell_type": "code",
   "execution_count": 7,
   "id": "68ecccf4",
   "metadata": {},
   "outputs": [],
   "source": [
    "from pyspark.ml.recommendation import ALS\n",
    "\n",
    "# ALS 모델 생성\n",
    "als = ALS(\n",
    "    maxIter=5,\n",
    "    regParam=0.1,\n",
    "    userCol=\"userId\",\n",
    "    itemCol=\"movieId\",\n",
    "    ratingCol=\"rating\",\n",
    "    coldStartStrategy='drop' # 결측값 방지\n",
    ")"
   ]
  },
  {
   "cell_type": "code",
   "execution_count": 8,
   "id": "ffbc7b56",
   "metadata": {},
   "outputs": [
    {
     "name": "stderr",
     "output_type": "stream",
     "text": [
      "24/12/13 15:34:46 WARN BLAS: Failed to load implementation from: com.github.fommil.netlib.NativeSystemBLAS\n",
      "24/12/13 15:34:46 WARN BLAS: Failed to load implementation from: com.github.fommil.netlib.NativeRefBLAS\n",
      "24/12/13 15:34:48 WARN LAPACK: Failed to load implementation from: com.github.fommil.netlib.NativeSystemLAPACK\n",
      "24/12/13 15:34:48 WARN LAPACK: Failed to load implementation from: com.github.fommil.netlib.NativeRefLAPACK\n",
      "                                                                                \r"
     ]
    },
    {
     "data": {
      "text/plain": [
       "ALSModel: uid=ALS_9d594524b2b4, rank=10"
      ]
     },
     "execution_count": 8,
     "metadata": {},
     "output_type": "execute_result"
    }
   ],
   "source": [
    "# 학습\n",
    "als_model = als.fit(train_df)\n",
    "als_model"
   ]
  },
  {
   "cell_type": "markdown",
   "id": "5b51ba40",
   "metadata": {},
   "source": [
    "# 예측 확인"
   ]
  },
  {
   "cell_type": "code",
   "execution_count": 9,
   "id": "c0f27f2e",
   "metadata": {},
   "outputs": [
    {
     "name": "stderr",
     "output_type": "stream",
     "text": [
      "                                                                                \r"
     ]
    },
    {
     "name": "stdout",
     "output_type": "stream",
     "text": [
      "+------+-------+------+----------+\n",
      "|userId|movieId|rating|prediction|\n",
      "+------+-------+------+----------+\n",
      "| 26480|    148|   2.0| 2.0360024|\n",
      "|151614|    148|   1.0| 2.7519841|\n",
      "| 28229|    148|   1.0|  2.471971|\n",
      "|  6491|    148|   4.0| 2.5011795|\n",
      "| 14831|    148|   3.0|  2.757146|\n",
      "|145182|    148|   3.0| 2.5851796|\n",
      "| 69123|    148|   4.5| 2.4459808|\n",
      "|104825|    148|   4.0| 3.0652335|\n",
      "| 41703|    148|   2.0| 2.9181533|\n",
      "| 29213|    148|   5.0| 2.5555177|\n",
      "| 75209|    148|   2.0| 2.6499124|\n",
      "|115912|    148|   3.0| 2.5922348|\n",
      "|118261|    148|   3.0| 3.0580463|\n",
      "|138552|    148|   4.0| 3.4104571|\n",
      "| 70733|    148|   1.0| 2.9010627|\n",
      "|115095|    148|   4.0| 3.4735572|\n",
      "|  7223|    148|   3.0| 2.5110245|\n",
      "| 65981|    148|   3.5| 2.9380302|\n",
      "| 74794|    148|   3.0| 2.5544858|\n",
      "| 33145|    148|   5.0| 2.9508266|\n",
      "+------+-------+------+----------+\n",
      "only showing top 20 rows\n",
      "\n"
     ]
    }
   ],
   "source": [
    "#userid와 movieid 를 가지고 rating 예측\n",
    "predictions = als_model.transform(test_df)\n",
    "predictions.show()"
   ]
  },
  {
   "cell_type": "code",
   "execution_count": 10,
   "id": "af2a3981",
   "metadata": {},
   "outputs": [
    {
     "name": "stderr",
     "output_type": "stream",
     "text": [
      "                                                                                \r"
     ]
    },
    {
     "name": "stdout",
     "output_type": "stream",
     "text": [
      "+-------+------------------+------------------+\n",
      "|summary|            rating|        prediction|\n",
      "+-------+------------------+------------------+\n",
      "|  count|           4998109|           4998109|\n",
      "|   mean|3.5341648211353536| 3.421954467241195|\n",
      "| stddev|1.0609230261741123|0.6440288205455679|\n",
      "|    min|               0.5|        -0.9586964|\n",
      "|    max|               5.0|          6.440156|\n",
      "+-------+------------------+------------------+\n",
      "\n"
     ]
    }
   ],
   "source": [
    "predictions.select(\"rating\",\"prediction\").describe().show()"
   ]
  },
  {
   "cell_type": "markdown",
   "id": "71166990",
   "metadata": {},
   "source": [
    "# ALS 모델의 하이퍼파라미터 조정\n",
    "\n",
    "- coldStartStrategy = \"drop\" > 예측에 충분한지 않은 컬럼의 데이터의 경우 \"drop\"\n",
    "\n",
    "학습한 모델의 속성을 변경 > 다시 예측을 한 경우에도 조정이 안됨 > 학습부터 다시 실행"
   ]
  },
  {
   "cell_type": "code",
   "execution_count": 11,
   "id": "4e58b31f",
   "metadata": {},
   "outputs": [
    {
     "data": {
      "text/plain": [
       "ALS_9d594524b2b4"
      ]
     },
     "execution_count": 11,
     "metadata": {},
     "output_type": "execute_result"
    }
   ],
   "source": [
    "als.setColdStartStrategy(\"drop\")"
   ]
  },
  {
   "cell_type": "code",
   "execution_count": 12,
   "id": "5e6ea9fb",
   "metadata": {},
   "outputs": [
    {
     "name": "stderr",
     "output_type": "stream",
     "text": [
      "[Stage 94:=====================================================>(198 + 2) / 200]\r"
     ]
    },
    {
     "name": "stdout",
     "output_type": "stream",
     "text": [
      "+------+-------+------+----------+\n",
      "|userId|movieId|rating|prediction|\n",
      "+------+-------+------+----------+\n",
      "| 26480|    148|   2.0| 2.0360024|\n",
      "|151614|    148|   1.0| 2.7519841|\n",
      "| 28229|    148|   1.0|  2.471971|\n",
      "|  6491|    148|   4.0| 2.5011795|\n",
      "| 14831|    148|   3.0|  2.757146|\n",
      "+------+-------+------+----------+\n",
      "only showing top 5 rows\n",
      "\n"
     ]
    },
    {
     "name": "stderr",
     "output_type": "stream",
     "text": [
      "\r",
      "                                                                                \r"
     ]
    }
   ],
   "source": [
    "#userid와 movieid 를 가지고 rating 예측\n",
    "predictions = als_model.transform(test_df)\n",
    "predictions.show(5)"
   ]
  },
  {
   "cell_type": "code",
   "execution_count": 13,
   "id": "0ebf0fc9",
   "metadata": {},
   "outputs": [
    {
     "name": "stderr",
     "output_type": "stream",
     "text": [
      "[Stage 113:===================================================> (194 + 2) / 200]\r"
     ]
    },
    {
     "name": "stdout",
     "output_type": "stream",
     "text": [
      "+-------+------------------+------------------+\n",
      "|summary|            rating|        prediction|\n",
      "+-------+------------------+------------------+\n",
      "|  count|           4998109|           4998109|\n",
      "|   mean|3.5341648211353536| 3.421954467241195|\n",
      "| stddev|1.0609230261741123|0.6440288205455679|\n",
      "|    min|               0.5|        -0.9586964|\n",
      "|    max|               5.0|          6.440156|\n",
      "+-------+------------------+------------------+\n",
      "\n"
     ]
    },
    {
     "name": "stderr",
     "output_type": "stream",
     "text": [
      "\r",
      "[Stage 113:====================================================>(199 + 1) / 200]\r",
      "\r",
      "                                                                                \r"
     ]
    }
   ],
   "source": [
    "predictions.select(\"rating\", \"prediction\").describe().show()"
   ]
  },
  {
   "cell_type": "markdown",
   "id": "7301316c",
   "metadata": {},
   "source": [
    "# 평가\n",
    "\n",
    "- RMSE 측정"
   ]
  },
  {
   "cell_type": "code",
   "execution_count": 14,
   "id": "e6d05a83",
   "metadata": {},
   "outputs": [],
   "source": [
    "from pyspark.ml.evaluation import RegressionEvaluator\n",
    "\n",
    "evaluator = RegressionEvaluator(metricName=\"rmse\", labelCol=\"rating\", predictionCol=\"prediction\")"
   ]
  },
  {
   "cell_type": "code",
   "execution_count": 16,
   "id": "43a8b06c",
   "metadata": {},
   "outputs": [
    {
     "name": "stderr",
     "output_type": "stream",
     "text": [
      "                                                                                \r"
     ]
    },
    {
     "data": {
      "text/plain": [
       "0.8111499858106095"
      ]
     },
     "execution_count": 16,
     "metadata": {},
     "output_type": "execute_result"
    }
   ],
   "source": [
    "rmse = evaluator.evaluate(predictions)\n",
    "rmse"
   ]
  },
  {
   "cell_type": "markdown",
   "id": "fd63da75",
   "metadata": {},
   "source": [
    "# 활용 - 추천 생성\n",
    "\n",
    "1. 사용자id 를 넣으면 추천목록 추천 \n",
    "2. 영화id 를 넣으면 사용자목록 추천"
   ]
  },
  {
   "cell_type": "code",
   "execution_count": 41,
   "id": "ac16e2c2",
   "metadata": {},
   "outputs": [
    {
     "name": "stderr",
     "output_type": "stream",
     "text": [
      "[Stage 256:============>                                         (23 + 2) / 100]\n",
      "KeyboardInterrupt\n",
      "\n"
     ]
    }
   ],
   "source": [
    "recommendForAllUsers = als_model.recommendForAllUsers(3) # item별로 추천할 영화 3명 추출\n",
    "recommendForAllUsers.show()"
   ]
  },
  {
   "cell_type": "code",
   "execution_count": null,
   "id": "57e93ff1",
   "metadata": {},
   "outputs": [],
   "source": [
    "recommendForAllItems = als_model.recommendForAllItems(3) # item별로 추천할 유저 3명 추출\n",
    "recommendForAllItems.show()"
   ]
  },
  {
   "cell_type": "code",
   "execution_count": 24,
   "id": "6ac34d7b",
   "metadata": {},
   "outputs": [
    {
     "name": "stdout",
     "output_type": "stream",
     "text": [
      "+------+\n",
      "|userId|\n",
      "+------+\n",
      "|    65|\n",
      "|    78|\n",
      "|    81|\n",
      "+------+\n",
      "\n"
     ]
    }
   ],
   "source": [
    "from pyspark.sql.types import IntegerType\n",
    "\n",
    "user_list = [65,78,81] # 추천을 생성할 사용자 목록 정의 (사용자 ID 리스트)\n",
    "user_df = spark.createDataFrame(user_list, IntegerType()).toDF(\"userId\") # 사용자 ID 리스트를 데이터프레임으로 변환\n",
    "user_df.show()"
   ]
  },
  {
   "cell_type": "code",
   "execution_count": 43,
   "id": "dc62c9a7",
   "metadata": {},
   "outputs": [
    {
     "name": "stderr",
     "output_type": "stream",
     "text": [
      "                                                                                \r"
     ]
    },
    {
     "name": "stdout",
     "output_type": "stream",
     "text": [
      "+------+--------------------+\n",
      "|userId|     recommendations|\n",
      "+------+--------------------+\n",
      "|    65|[{194434, 6.72186...|\n",
      "|    78|[{194434, 7.17550...|\n",
      "|    81|[{174805, 4.71085...|\n",
      "+------+--------------------+\n",
      "\n"
     ]
    }
   ],
   "source": [
    "# ALS 모델을 이용해 지정된 사용자(user_list)에게 4개의 영화 추천 생성\n",
    "user_recommend_movies = als_model.recommendForUserSubset(user_df,4)\n",
    "user_recommend_movies.show()"
   ]
  },
  {
   "cell_type": "code",
   "execution_count": 42,
   "id": "4bbbd596",
   "metadata": {},
   "outputs": [
    {
     "name": "stdout",
     "output_type": "stream",
     "text": [
      "+-------+--------------------+--------------------+\n",
      "|movieId|               title|              genres|\n",
      "+-------+--------------------+--------------------+\n",
      "|      1|    Toy Story (1995)|Adventure|Animati...|\n",
      "|      2|      Jumanji (1995)|Adventure|Childre...|\n",
      "|      3|Grumpier Old Men ...|      Comedy|Romance|\n",
      "+-------+--------------------+--------------------+\n",
      "only showing top 3 rows\n",
      "\n"
     ]
    }
   ],
   "source": [
    "# movie_list load\n",
    "movie_df.show(3)"
   ]
  },
  {
   "cell_type": "code",
   "execution_count": 44,
   "id": "b2d5086e",
   "metadata": {},
   "outputs": [
    {
     "name": "stderr",
     "output_type": "stream",
     "text": [
      "                                                                                \r"
     ]
    },
    {
     "data": {
      "text/plain": [
       "[Row(movieId=194434, rating=6.721865177154541),\n",
       " Row(movieId=192261, rating=6.6192827224731445),\n",
       " Row(movieId=202231, rating=6.507192134857178),\n",
       " Row(movieId=205277, rating=6.279325008392334)]"
      ]
     },
     "execution_count": 44,
     "metadata": {},
     "output_type": "execute_result"
    }
   ],
   "source": [
    "# 65번 사용자의 추천 영화 목록 추출\n",
    "# `recommendations` 컬럼에 추천 영화 ID와 예상 평점이 리스트 형태로 저장됨\n",
    "movie_list = user_recommend_movies.collect()[0].recommendations\n",
    "movie_list"
   ]
  },
  {
   "cell_type": "code",
   "execution_count": 45,
   "id": "97868249",
   "metadata": {},
   "outputs": [
    {
     "name": "stdout",
     "output_type": "stream",
     "text": [
      "+-------+------------------+\n",
      "|movieId|            rating|\n",
      "+-------+------------------+\n",
      "| 194434| 6.721865177154541|\n",
      "| 192261|6.6192827224731445|\n",
      "| 202231| 6.507192134857178|\n",
      "| 205277| 6.279325008392334|\n",
      "+-------+------------------+\n",
      "\n"
     ]
    }
   ],
   "source": [
    "# 추천 영화 목록을 DataFrame으로 변환 (movieId와 rating 정보 포함)\n",
    "rec_df = spark.createDataFrame(movie_list)\n",
    "rec_df.show()"
   ]
  },
  {
   "cell_type": "code",
   "execution_count": 46,
   "id": "50e8e505",
   "metadata": {},
   "outputs": [],
   "source": [
    "# 영화정보와 추천 영화 목록을 조인 # 추천 영화 목록(rec_df)을 임시 뷰로 등록\n",
    "rec_df.createOrReplaceTempView('recommend')\n",
    "movie_df.createOrReplaceTempView('movies')"
   ]
  },
  {
   "cell_type": "code",
   "execution_count": 36,
   "id": "66b677a4",
   "metadata": {},
   "outputs": [],
   "source": [
    "# SQL 쿼리를 작성하여 영화 정보와 추천 영화 목록을 조인\n",
    "query = '''\n",
    "SELECT *\n",
    "FROM movies JOIN recommend ON movies.movieId = recommend.movieId\n",
    "ORDER BY rating DESC\n",
    "'''"
   ]
  },
  {
   "cell_type": "code",
   "execution_count": 37,
   "id": "693f4527",
   "metadata": {
    "scrolled": true
   },
   "outputs": [
    {
     "name": "stdout",
     "output_type": "stream",
     "text": [
      "+-------+--------------------+------------------+-------+------------------+\n",
      "|movieId|               title|            genres|movieId|            rating|\n",
      "+-------+--------------------+------------------+-------+------------------+\n",
      "| 194434|   Adrenaline (1990)|(no genres listed)| 194434| 6.721865177154541|\n",
      "| 192261|Don't Laugh at My...|      Comedy|Drama| 192261|6.6192827224731445|\n",
      "| 202231|       Foster (2018)|       Documentary| 202231| 6.507192134857178|\n",
      "+-------+--------------------+------------------+-------+------------------+\n",
      "\n"
     ]
    }
   ],
   "source": [
    "recommend_movies = spark.sql(query) # SQL 쿼리를 실행하여 최종 추천 영화 목록 생성\n",
    "recommend_movies.show() # 추천 영화 목록을 출력"
   ]
  },
  {
   "cell_type": "code",
   "execution_count": 47,
   "id": "ab94948b",
   "metadata": {},
   "outputs": [],
   "source": [
    "spark.stop()"
   ]
  }
 ],
 "metadata": {
  "kernelspec": {
   "display_name": "Spark_start",
   "language": "python",
   "name": "spark_start"
  },
  "language_info": {
   "codemirror_mode": {
    "name": "ipython",
    "version": 3
   },
   "file_extension": ".py",
   "mimetype": "text/x-python",
   "name": "python",
   "nbconvert_exporter": "python",
   "pygments_lexer": "ipython3",
   "version": "3.8.20"
  }
 },
 "nbformat": 4,
 "nbformat_minor": 5
}
