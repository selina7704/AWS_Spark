{
 "cells": [
  {
   "cell_type": "markdown",
   "id": "ada7cdbf",
   "metadata": {},
   "source": [
    "# 소방서 콜 데이터 분석 보고서 <br> (Fire Station Call Data Analysis Report)\n"
   ]
  },
  {
   "cell_type": "code",
   "execution_count": 1,
   "id": "dfacd64a",
   "metadata": {},
   "outputs": [
    {
     "name": "stderr",
     "output_type": "stream",
     "text": [
      "24/12/10 09:16:51 WARN NativeCodeLoader: Unable to load native-hadoop library for your platform... using builtin-java classes where applicable\n",
      "Using Spark's default log4j profile: org/apache/spark/log4j-defaults.properties\n",
      "Setting default log level to \"WARN\".\n",
      "To adjust logging level use sc.setLogLevel(newLevel). For SparkR, use setLogLevel(newLevel).\n"
     ]
    },
    {
     "data": {
      "text/html": [
       "\n",
       "            <div>\n",
       "                <p><b>SparkSession - in-memory</b></p>\n",
       "                \n",
       "        <div>\n",
       "            <p><b>SparkContext</b></p>\n",
       "\n",
       "            <p><a href=\"http://ip-172-31-2-110.ap-northeast-3.compute.internal:4040\">Spark UI</a></p>\n",
       "\n",
       "            <dl>\n",
       "              <dt>Version</dt>\n",
       "                <dd><code>v3.1.2</code></dd>\n",
       "              <dt>Master</dt>\n",
       "                <dd><code>local[*]</code></dd>\n",
       "              <dt>AppName</dt>\n",
       "                <dd><code>241206_03_sf_fire_calls_App</code></dd>\n",
       "            </dl>\n",
       "        </div>\n",
       "        \n",
       "            </div>\n",
       "        "
      ],
      "text/plain": [
       "<pyspark.sql.session.SparkSession at 0x7f0b2db6e610>"
      ]
     },
     "execution_count": 1,
     "metadata": {},
     "output_type": "execute_result"
    }
   ],
   "source": [
    "#singleton pattern object builder\n",
    "from pyspark.sql import SparkSession\n",
    "spark = SparkSession.builder.appName(\"241206_03_sf_fire_calls_App\").getOrCreate()\n",
    "spark"
   ]
  },
  {
   "cell_type": "code",
   "execution_count": 2,
   "id": "567f67bf",
   "metadata": {},
   "outputs": [
    {
     "name": "stderr",
     "output_type": "stream",
     "text": [
      "                                                                                \r"
     ]
    }
   ],
   "source": [
    "df = spark.read.format(\"csv\")\\\n",
    "    .option(\"header\",'true')\\\n",
    "    .option('inferSchema', 'true')\\\n",
    "    .load(\"data/sf-fire-calls.csv\")"
   ]
  },
  {
   "cell_type": "code",
   "execution_count": 77,
   "id": "7fb4b34e",
   "metadata": {},
   "outputs": [],
   "source": [
    "from pyspark.sql.functions import *\n",
    "from pyspark.sql.types import *\n",
    "from pyspark.sql.window import Window\n",
    "from pyspark.ml.feature import *"
   ]
  },
  {
   "cell_type": "markdown",
   "id": "8c6d98fc",
   "metadata": {},
   "source": [
    "# 데이터 자료 조사"
   ]
  },
  {
   "cell_type": "code",
   "execution_count": 4,
   "id": "5c939960",
   "metadata": {},
   "outputs": [
    {
     "data": {
      "text/plain": [
       "175296"
      ]
     },
     "execution_count": 4,
     "metadata": {},
     "output_type": "execute_result"
    }
   ],
   "source": [
    "df.count()"
   ]
  },
  {
   "cell_type": "code",
   "execution_count": 5,
   "id": "141c1a98",
   "metadata": {},
   "outputs": [
    {
     "name": "stdout",
     "output_type": "stream",
     "text": [
      "root\n",
      " |-- CallNumber: integer (nullable = true)\n",
      " |-- UnitID: string (nullable = true)\n",
      " |-- IncidentNumber: integer (nullable = true)\n",
      " |-- CallType: string (nullable = true)\n",
      " |-- CallDate: string (nullable = true)\n",
      " |-- WatchDate: string (nullable = true)\n",
      " |-- CallFinalDisposition: string (nullable = true)\n",
      " |-- AvailableDtTm: string (nullable = true)\n",
      " |-- Address: string (nullable = true)\n",
      " |-- City: string (nullable = true)\n",
      " |-- Zipcode: integer (nullable = true)\n",
      " |-- Battalion: string (nullable = true)\n",
      " |-- StationArea: string (nullable = true)\n",
      " |-- Box: string (nullable = true)\n",
      " |-- OriginalPriority: string (nullable = true)\n",
      " |-- Priority: string (nullable = true)\n",
      " |-- FinalPriority: integer (nullable = true)\n",
      " |-- ALSUnit: boolean (nullable = true)\n",
      " |-- CallTypeGroup: string (nullable = true)\n",
      " |-- NumAlarms: integer (nullable = true)\n",
      " |-- UnitType: string (nullable = true)\n",
      " |-- UnitSequenceInCallDispatch: integer (nullable = true)\n",
      " |-- FirePreventionDistrict: string (nullable = true)\n",
      " |-- SupervisorDistrict: string (nullable = true)\n",
      " |-- Neighborhood: string (nullable = true)\n",
      " |-- Location: string (nullable = true)\n",
      " |-- RowID: string (nullable = true)\n",
      " |-- Delay: double (nullable = true)\n",
      "\n"
     ]
    }
   ],
   "source": [
    "df.printSchema()"
   ]
  },
  {
   "cell_type": "code",
   "execution_count": 6,
   "id": "b0ea3b8a",
   "metadata": {},
   "outputs": [
    {
     "name": "stderr",
     "output_type": "stream",
     "text": [
      "24/12/10 09:17:02 WARN package: Truncated the string representation of a plan since it was too large. This behavior can be adjusted by setting 'spark.sql.debug.maxToStringFields'.\n"
     ]
    },
    {
     "name": "stdout",
     "output_type": "stream",
     "text": [
      "+----------+------+--------------+----------------+----------+----------+--------------------+--------------------+--------------------+----+-------+---------+-----------+----+----------------+--------+-------------+-------+-------------+---------+--------+--------------------------+----------------------+------------------+--------------------+--------------------+-------------+---------+\n",
      "|CallNumber|UnitID|IncidentNumber|        CallType|  CallDate| WatchDate|CallFinalDisposition|       AvailableDtTm|             Address|City|Zipcode|Battalion|StationArea| Box|OriginalPriority|Priority|FinalPriority|ALSUnit|CallTypeGroup|NumAlarms|UnitType|UnitSequenceInCallDispatch|FirePreventionDistrict|SupervisorDistrict|        Neighborhood|            Location|        RowID|    Delay|\n",
      "+----------+------+--------------+----------------+----------+----------+--------------------+--------------------+--------------------+----+-------+---------+-----------+----+----------------+--------+-------------+-------+-------------+---------+--------+--------------------------+----------------------+------------------+--------------------+--------------------+-------------+---------+\n",
      "|  20110016|   T13|       2003235|  Structure Fire|01/11/2002|01/10/2002|               Other|01/11/2002 01:51:...|2000 Block of CAL...|  SF|  94109|      B04|         38|3362|               3|       3|            3|  false|         null|        1|   TRUCK|                         2|                     4|                 5|     Pacific Heights|(37.7895840679362...|020110016-T13|     2.95|\n",
      "|  20110022|   M17|       2003241|Medical Incident|01/11/2002|01/10/2002|               Other|01/11/2002 03:01:...|0 Block of SILVER...|  SF|  94124|      B10|         42|6495|               3|       3|            3|   true|         null|        1|   MEDIC|                         1|                    10|                10|Bayview Hunters P...|(37.7337623673897...|020110022-M17|      4.7|\n",
      "|  20110023|   M41|       2003242|Medical Incident|01/11/2002|01/10/2002|               Other|01/11/2002 02:39:...|MARKET ST/MCALLIS...|  SF|  94102|      B03|         01|1455|               3|       3|            3|   true|         null|        1|   MEDIC|                         2|                     3|                 6|          Tenderloin|(37.7811772186856...|020110023-M41|2.4333334|\n",
      "|  20110032|   E11|       2003250|    Vehicle Fire|01/11/2002|01/10/2002|               Other|01/11/2002 04:16:...|APPLETON AV/MISSI...|  SF|  94110|      B06|         32|5626|               3|       3|            3|  false|         null|        1|  ENGINE|                         1|                     6|                 9|      Bernal Heights|(37.7388432849018...|020110032-E11|      1.5|\n",
      "|  20110043|   B04|       2003259|          Alarms|01/11/2002|01/10/2002|               Other|01/11/2002 06:01:...|1400 Block of SUT...|  SF|  94109|      B04|         03|3223|               3|       3|            3|  false|         null|        1|   CHIEF|                         2|                     4|                 2|    Western Addition|(37.7872890372638...|020110043-B04|3.4833333|\n",
      "+----------+------+--------------+----------------+----------+----------+--------------------+--------------------+--------------------+----+-------+---------+-----------+----+----------------+--------+-------------+-------+-------------+---------+--------+--------------------------+----------------------+------------------+--------------------+--------------------+-------------+---------+\n",
      "only showing top 5 rows\n",
      "\n"
     ]
    }
   ],
   "source": [
    "df.show(5)"
   ]
  },
  {
   "cell_type": "code",
   "execution_count": null,
   "id": "df05a35a",
   "metadata": {},
   "outputs": [],
   "source": [
    "## 각 카테고리 분석\n",
    "\n",
    "root\n",
    " |-- CallNumber: integer (nullable = true) 각 호출에 대한 고유 식별자\n",
    " |-- UnitID: string (nullable = true) 호출에 응답한 유닛의 식별자\n",
    " |-- IncidentNumber: integer (nullable = true) 사건에 대한 고유 식별자\n",
    " |-- CallType: string (nullable = true) 호출 유형 (예: 화재, 응급의료 등)\n",
    " |-- CallDate: string (nullable = true) 호출이 발생한 날짜 (호출이 접수된 날짜를 기록)\n",
    " |-- WatchDate: string (nullable = true) 호출이 실제로 발송된 날짜\n",
    " |-- CallFinalDisposition: string (nullable = true) 호출의 최종 처리 결과 (예: 처리 완료, 취소 등)\n",
    " |-- AvailableDtTm: string (nullable = true) 유닛이 다음 호출을 받을 수 있는 시간\n",
    " |-- Address: string (nullable = true) 호출과 관련된 사건의 주소\n",
    " |-- City: string (nullable = true) 사건이 발생한 도시\n",
    " |-- Zipcode: integer (nullable = true) 사건이 발생한 지역의 우편번호\n",
    " |-- Battalion: string (nullable = true) 호출에 응답한 소방서의 배타리온(지역 구역)\n",
    " |-- StationArea: string (nullable = true) 호출에 응답한 소방서의 지역\n",
    " |-- Box: string (nullable = true) 호출에 대한 구체적인 지역 번호 또는 상자 번호\n",
    " |-- OriginalPriority: string (nullable = true) 호출에 처음 부여된 우선순위\n",
    " |-- Priority: string (nullable = true) 호출에 부여된 최종 우선순위\n",
    " |-- FinalPriority: integer (nullable = true) 호출의 최종 우선순위의 숫자 표현\n",
    " |-- ALSUnit: boolean (nullable = true) 고급 생명 지원(ALS) 유닛이 호출에 응답했는지 여부\n",
    " |-- CallTypeGroup: string (nullable = true) 호출 유형의 범주 \n",
    " |-- NumAlarms: integer (nullable = true) 사건에 대한 알람 수\n",
    " |-- UnitType: string (nullable = true) 호출에 응답한 유닛의 종류\n",
    " |-- UnitSequenceInCallDispatch: integer (nullable = true) 호출에 배정된 유닛의 순서\n",
    " |-- FirePreventionDistrict: string (nullable = true) 사건이 발생한 소방 예방 구역\n",
    " |-- SupervisorDistrict: string (nullable = true) 사건 발생지의 감독 구역\n",
    " |-- Neighborhood: string (nullable = true) 사건이 발생한 지역의 동네\n",
    " |-- Location: string (nullable = true) 사건이 발생한 위치에 대한 설명\n",
    " |-- RowID: string (nullable = true)데이터셋 내에서 각 행의 고유 식별자\n",
    " |-- Delay: double (nullable = true) 유닛이 발송되기까지의 지연 시간"
   ]
  },
  {
   "cell_type": "markdown",
   "id": "56022588",
   "metadata": {},
   "source": [
    "# 데이터 살펴보기 "
   ]
  },
  {
   "cell_type": "code",
   "execution_count": 7,
   "id": "d507d509",
   "metadata": {},
   "outputs": [
    {
     "name": "stderr",
     "output_type": "stream",
     "text": [
      "                                                                                \r"
     ]
    },
    {
     "data": {
      "text/plain": [
       "61502"
      ]
     },
     "execution_count": 7,
     "metadata": {},
     "output_type": "execute_result"
    }
   ],
   "source": [
    "few_fired_df = (\n",
    "    df.select(\"IncidentNumber\", \"AvailableDtTm\", \"CallType\")\\\n",
    "        .where(col(\"CallType\")!= \"Medical Incident\")\n",
    ")\n",
    "few_fired_df.count()"
   ]
  },
  {
   "cell_type": "code",
   "execution_count": 11,
   "id": "bb412363",
   "metadata": {},
   "outputs": [
    {
     "name": "stderr",
     "output_type": "stream",
     "text": [
      "[Stage 8:===============================================>       (174 + 2) / 200]\r"
     ]
    },
    {
     "name": "stdout",
     "output_type": "stream",
     "text": [
      "+----------------+\n",
      "|DistinctCallType|\n",
      "+----------------+\n",
      "|              30|\n",
      "+----------------+\n",
      "\n"
     ]
    },
    {
     "name": "stderr",
     "output_type": "stream",
     "text": [
      "\r",
      "                                                                                \r"
     ]
    }
   ],
   "source": [
    "# 화재 신고로 기록된 CallTyple 종류가 몇 가지 인지 알아보기\n",
    "df.select(\"CallType\")\\\n",
    "    .where(col(\"CallType\").isNotNull())\\\n",
    "    .agg(countDistinct(\"CallType\").alias(\"DistinctCallType\"))\\\n",
    "    .show()  # 결과를 출력"
   ]
  },
  {
   "cell_type": "code",
   "execution_count": 12,
   "id": "fe9b2601",
   "metadata": {},
   "outputs": [
    {
     "name": "stdout",
     "output_type": "stream",
     "text": [
      "+--------------------+\n",
      "|            CallType|\n",
      "+--------------------+\n",
      "|Elevator / Escala...|\n",
      "|         Marine Fire|\n",
      "|  Aircraft Emergency|\n",
      "|Confined Space / ...|\n",
      "|      Administrative|\n",
      "|              Alarms|\n",
      "|Odor (Strange / U...|\n",
      "|Citizen Assist / ...|\n",
      "|              HazMat|\n",
      "|Watercraft in Dis...|\n",
      "+--------------------+\n",
      "only showing top 10 rows\n",
      "\n"
     ]
    }
   ],
   "source": [
    "df.select(\"CallType\")\\\n",
    "    .where(col(\"CallType\").isNotNull())\\\n",
    "    .distinct()\\\n",
    "    .show(10)"
   ]
  },
  {
   "cell_type": "code",
   "execution_count": null,
   "id": "b88fb835",
   "metadata": {},
   "outputs": [],
   "source": []
  },
  {
   "cell_type": "code",
   "execution_count": 22,
   "id": "0fc09db4",
   "metadata": {},
   "outputs": [
    {
     "name": "stderr",
     "output_type": "stream",
     "text": [
      "\r",
      "[Stage 28:================================>                     (120 + 2) / 200]\r",
      "\r",
      "[Stage 28:=================================================>    (183 + 2) / 200]\r"
     ]
    },
    {
     "name": "stdout",
     "output_type": "stream",
     "text": [
      "+--------------------+------+\n",
      "|            CallType| count|\n",
      "+--------------------+------+\n",
      "|    Medical Incident|113794|\n",
      "|      Structure Fire| 23319|\n",
      "|              Alarms| 19406|\n",
      "|   Traffic Collision|  7013|\n",
      "|Citizen Assist / ...|  2524|\n",
      "|               Other|  2166|\n",
      "|        Outside Fire|  2094|\n",
      "|        Vehicle Fire|   854|\n",
      "|Gas Leak (Natural...|   764|\n",
      "|        Water Rescue|   755|\n",
      "+--------------------+------+\n",
      "only showing top 10 rows\n",
      "\n"
     ]
    },
    {
     "name": "stderr",
     "output_type": "stream",
     "text": [
      "\r",
      "                                                                                \r"
     ]
    }
   ],
   "source": [
    "# 가장 흔한 형태의 신고 알아보기 - 교재\n",
    "\n",
    "call_counts = df.select(\"CallType\") \\\n",
    "    .where(col(\"CallType\").isNotNull()) \\\n",
    "    .groupBy(\"CallType\") \\\n",
    "    .count() \\\n",
    "    .orderBy(desc(\"count\")) \\\n",
    "\n",
    "call_counts.show(10)"
   ]
  },
  {
   "cell_type": "markdown",
   "id": "72ae6181",
   "metadata": {},
   "source": [
    "# 실전 문제 (pg.71)"
   ]
  },
  {
   "cell_type": "markdown",
   "id": "2a9cc404",
   "metadata": {},
   "source": [
    "### Q1. 2018년에 왔던 신고 전화들의 모든 유형은 어떤 것이었는가?"
   ]
  },
  {
   "cell_type": "code",
   "execution_count": 26,
   "id": "ca5879e6",
   "metadata": {},
   "outputs": [
    {
     "name": "stdout",
     "output_type": "stream",
     "text": [
      "+----------+----+-----+\n",
      "|  CallDate|Year|Month|\n",
      "+----------+----+-----+\n",
      "|01/19/2018|2018|    1|\n",
      "|01/19/2018|2018|    1|\n",
      "|01/19/2018|2018|    1|\n",
      "|01/19/2018|2018|    1|\n",
      "|01/19/2018|2018|    1|\n",
      "|01/19/2018|2018|    1|\n",
      "|01/19/2018|2018|    1|\n",
      "|01/19/2018|2018|    1|\n",
      "|01/19/2018|2018|    1|\n",
      "|01/19/2018|2018|    1|\n",
      "+----------+----+-----+\n",
      "only showing top 10 rows\n",
      "\n"
     ]
    }
   ],
   "source": [
    "#CallDate의 Year 와 Momth 따로 컬럼 생성\n",
    "df = df.withColumn(\"Year\", year(to_date(\"CallDate\", \"MM/dd/yyyy\")))\\\n",
    "                        .withColumn(\"Month\", month(to_date(\"CallDate\", \"MM/dd/yyyy\")))\n",
    "\n",
    "# 2018년도만 추출\n",
    "df_2018_filtered = df.filter(col(\"Year\") == 2018)\n",
    "df_2018_filtered.select(\"CallDate\", \"Year\", \"Month\").show(10)"
   ]
  },
  {
   "cell_type": "code",
   "execution_count": 131,
   "id": "223ed098",
   "metadata": {},
   "outputs": [
    {
     "name": "stdout",
     "output_type": "stream",
     "text": [
      "+----+--------------------+\n",
      "|Year|            CallType|\n",
      "+----+--------------------+\n",
      "|2018|      Structure Fire|\n",
      "|2018|    Medical Incident|\n",
      "|2018|              HazMat|\n",
      "|2018|Gas Leak (Natural...|\n",
      "|2018|Citizen Assist / ...|\n",
      "|2018|          Fuel Spill|\n",
      "|2018|        Water Rescue|\n",
      "|2018|              Alarms|\n",
      "|2018|       Assist Police|\n",
      "|2018|   Traffic Collision|\n",
      "|2018|Train / Rail Inci...|\n",
      "|2018|               Other|\n",
      "|2018|Odor (Strange / U...|\n",
      "|2018|   Electrical Hazard|\n",
      "|2018|Elevator / Escala...|\n",
      "|2018|           Explosion|\n",
      "|2018|        Outside Fire|\n",
      "|2018|Smoke Investigati...|\n",
      "|2018|        Vehicle Fire|\n",
      "|2018|  Suspicious Package|\n",
      "+----+--------------------+\n",
      "\n"
     ]
    }
   ],
   "source": [
    "# 2018년에 왔던 신고 전화들의 모든 유형\n",
    "\n",
    "df_2018_filtered.select(\"Year\", \"CallType\") \\\n",
    "                .filter(col(\"CallType\").isNotNull()) \\\n",
    "                .distinct() \\\n",
    "                .show()"
   ]
  },
  {
   "cell_type": "markdown",
   "id": "c9ef3fb5",
   "metadata": {},
   "source": [
    "### Q2. 2018년에 신고 전화가 가장 많았던 달은 언제인가?"
   ]
  },
  {
   "cell_type": "code",
   "execution_count": 37,
   "id": "3da1bb38",
   "metadata": {},
   "outputs": [
    {
     "name": "stdout",
     "output_type": "stream",
     "text": [
      "+----+-----+----------+\n",
      "|Year|Month|Call_Count|\n",
      "+----+-----+----------+\n",
      "|2018|   10|      1068|\n",
      "|2018|    5|      1047|\n",
      "|2018|    3|      1029|\n",
      "|2018|    8|      1021|\n",
      "|2018|    1|      1007|\n",
      "|2018|    7|       974|\n",
      "|2018|    6|       974|\n",
      "|2018|    9|       951|\n",
      "|2018|    4|       947|\n",
      "|2018|    2|       919|\n",
      "|2018|   11|       199|\n",
      "+----+-----+----------+\n",
      "\n"
     ]
    },
    {
     "name": "stderr",
     "output_type": "stream",
     "text": [
      "\r",
      "[Stage 45:=============================================>        (169 + 2) / 200]\r",
      "\r",
      "                                                                                \r"
     ]
    }
   ],
   "source": [
    "most_calls_month_2018 = df_2018_filtered.groupBy(\"Year\",\"Month\")\\\n",
    "                                        .agg(count(\"*\")\\\n",
    "                                        .alias(\"Call_Count\"))\\\n",
    "                                        .orderBy(desc(\"Call_Count\"))\n",
    "\n",
    "most_calls_month_2018.show()"
   ]
  },
  {
   "cell_type": "markdown",
   "id": "e9854887",
   "metadata": {},
   "source": [
    "### Q3. 2018년에 가장 많은 신고가 들어온 샌프란시스코 지역은 어디인가?"
   ]
  },
  {
   "cell_type": "code",
   "execution_count": 62,
   "id": "3246ffaa",
   "metadata": {},
   "outputs": [
    {
     "name": "stdout",
     "output_type": "stream",
     "text": [
      "+--------------------+-----+\n",
      "|        Neighborhood|count|\n",
      "+--------------------+-----+\n",
      "|          Tenderloin| 1393|\n",
      "|     South of Market| 1052|\n",
      "|             Mission|  911|\n",
      "|Financial Distric...|  764|\n",
      "|Bayview Hunters P...|  513|\n",
      "+--------------------+-----+\n",
      "only showing top 5 rows\n",
      "\n"
     ]
    },
    {
     "name": "stderr",
     "output_type": "stream",
     "text": [
      "\r",
      "[Stage 133:=============================================>       (172 + 2) / 200]\r",
      "\r",
      "                                                                                \r"
     ]
    }
   ],
   "source": [
    "# 1. 2018년도 지역 필터링 \n",
    "year2018_city_filtered = df_2018_filtered.filter(\n",
    "    (col(\"City\") == \"San Francisco\") | (col(\"City\") == \"SF\"))\n",
    "\n",
    "# 2. 신고 건수 카운트 \n",
    "neighborhood_counts = year2018_city_filtered.groupBy(\"Neighborhood\") \\\n",
    "                                            .count() \\\n",
    "                                            .orderBy(desc(\"count\"))\n",
    "\n",
    "neighborhood_counts.show(5)"
   ]
  },
  {
   "cell_type": "markdown",
   "id": "b97f8f01",
   "metadata": {},
   "source": [
    "### Q4. 2018년에 가장 응답 시간이 늦었던 지역은 어디인가?"
   ]
  },
  {
   "cell_type": "code",
   "execution_count": 72,
   "id": "040789ce",
   "metadata": {},
   "outputs": [
    {
     "name": "stderr",
     "output_type": "stream",
     "text": [
      "\r",
      "[Stage 138:============================>                            (1 + 1) / 2]\r"
     ]
    },
    {
     "name": "stdout",
     "output_type": "stream",
     "text": [
      "+--------------------+---------+\n",
      "|        Neighborhood|avg_delay|\n",
      "+--------------------+---------+\n",
      "|           Chinatown|     6.19|\n",
      "|            Presidio|     5.83|\n",
      "|     Treasure Island|     5.45|\n",
      "|        McLaren Park|     4.74|\n",
      "|Bayview Hunters P...|     4.62|\n",
      "+--------------------+---------+\n",
      "only showing top 5 rows\n",
      "\n"
     ]
    },
    {
     "name": "stderr",
     "output_type": "stream",
     "text": [
      "\r",
      "                                                                                \r"
     ]
    }
   ],
   "source": [
    "neighborhood_delay = df_2018_filtered.groupBy(\"Neighborhood\")\\\n",
    "                                        .agg(round(avg(\"Delay\"),2).alias(\"avg_delay\"))\\\n",
    "                                        .orderBy(desc(\"avg_delay\"))\n",
    "neighborhood_delay.show(5)"
   ]
  },
  {
   "cell_type": "markdown",
   "id": "3d01a2db",
   "metadata": {},
   "source": [
    "### Q5. 2018년에 어떤 주에서 신고가 제일 많았는가?"
   ]
  },
  {
   "cell_type": "code",
   "execution_count": 54,
   "id": "469ac5c2",
   "metadata": {},
   "outputs": [
    {
     "name": "stdout",
     "output_type": "stream",
     "text": [
      "+-------+-----+\n",
      "|Zipcode|count|\n",
      "+-------+-----+\n",
      "|  94103| 1312|\n",
      "|  94102| 1305|\n",
      "|  94109|  865|\n",
      "|  94110|  854|\n",
      "|  94124|  508|\n",
      "+-------+-----+\n",
      "only showing top 5 rows\n",
      "\n"
     ]
    }
   ],
   "source": [
    "# 1. zipcode 가 몇개인지 확인 - State가 없어서 Zipcode 로 추론 \n",
    "distinct_zipcodes = df_2018_filtered.select(\"Zipcode\").distinct().count() # 28 Zipcodes\n",
    "\n",
    "zipcode_counts = df_2018_filtered.groupBy(\"Zipcode\").count().orderBy('count', ascending=False)\n",
    "zipcode_counts.show(5)"
   ]
  },
  {
   "cell_type": "code",
   "execution_count": 56,
   "id": "f4641377",
   "metadata": {},
   "outputs": [
    {
     "name": "stderr",
     "output_type": "stream",
     "text": [
      "24/12/10 10:30:29 WARN WindowExec: No Partition Defined for Window operation! Moving all data to a single partition, this can cause serious performance degradation.\n"
     ]
    },
    {
     "name": "stdout",
     "output_type": "stream",
     "text": [
      "+-------+-----+------------+\n",
      "|Zipcode|count|zipcode_rank|\n",
      "+-------+-----+------------+\n",
      "|  94103| 1312|           1|\n",
      "|  94102| 1305|           2|\n",
      "|  94109|  865|           3|\n",
      "|  94110|  854|           4|\n",
      "|  94124|  508|           5|\n",
      "+-------+-----+------------+\n",
      "only showing top 5 rows\n",
      "\n"
     ]
    }
   ],
   "source": [
    "# Zipcode별 신고 건수 집계\n",
    "zipcode_count = df_2018_filtered.groupBy(\"Zipcode\").count()\n",
    "\n",
    "# 신고 건수를 기준으로 순위 매기기\n",
    "zipcode_window_spec = Window.orderBy(col(\"count\").desc())  # count 기준 내림차순 정렬\n",
    "ranked_zipcode = zipcode_count.withColumn(\"zipcode_rank\", row_number().over(zipcode_window_spec))\n",
    "\n",
    "# 결과 표시\n",
    "ranked_zipcode.select(\"Zipcode\", \"count\", \"zipcode_rank\").show(5)"
   ]
  },
  {
   "cell_type": "markdown",
   "id": "3304980c",
   "metadata": {},
   "source": [
    "### Q6. 지역, 우편번호, 신고 숫자 간에 상관관계가 있는가? "
   ]
  },
  {
   "cell_type": "code",
   "execution_count": 128,
   "id": "3270a568",
   "metadata": {},
   "outputs": [
    {
     "name": "stdout",
     "output_type": "stream",
     "text": [
      "+--------------------+-------+----------+\n",
      "|        Neighborhood|Zipcode|Call_count|\n",
      "+--------------------+-------+----------+\n",
      "|          Tenderloin|  94102|     17084|\n",
      "|     South of Market|  94103|     13762|\n",
      "|             Mission|  94110|     10444|\n",
      "|Bayview Hunters P...|  94124|      9150|\n",
      "|             Mission|  94103|      5445|\n",
      "|          Tenderloin|  94109|      5377|\n",
      "|Financial Distric...|  94105|      4235|\n",
      "|      Outer Richmond|  94121|      4121|\n",
      "|            Nob Hill|  94109|      3983|\n",
      "| Castro/Upper Market|  94114|      3946|\n",
      "+--------------------+-------+----------+\n",
      "only showing top 10 rows\n",
      "\n"
     ]
    }
   ],
   "source": [
    "# 지역, 우편번호, 신고 숫자 컬럼 생성\n",
    "corr_df = df.groupBy(\"Neighborhood\", \"Zipcode\")\\\n",
    "            .agg(count(\"*\").alias(\"Call_count\"))\\\n",
    "            .orderBy(desc(\"Call_count\"))\n",
    "\n",
    "corr_df.show(10)"
   ]
  },
  {
   "cell_type": "code",
   "execution_count": 129,
   "id": "fedf8f9e",
   "metadata": {},
   "outputs": [
    {
     "name": "stderr",
     "output_type": "stream",
     "text": [
      "\r",
      "[Stage 418:===================================================> (195 + 2) / 200]\r",
      "\r",
      "                                                                                \r"
     ]
    },
    {
     "name": "stdout",
     "output_type": "stream",
     "text": [
      "+--------------------+-------+----------+------------------+\n",
      "|        Neighborhood|Zipcode|Call_count|Neighborhood_index|\n",
      "+--------------------+-------+----------+------------------+\n",
      "|          Tenderloin|  94102|     17084|              25.0|\n",
      "|     South of Market|  94103|     13762|              12.0|\n",
      "|             Mission|  94110|     10444|              17.0|\n",
      "|Bayview Hunters P...|  94124|      9150|              14.0|\n",
      "|             Mission|  94103|      5445|              17.0|\n",
      "+--------------------+-------+----------+------------------+\n",
      "only showing top 5 rows\n",
      "\n",
      "DenseMatrix([[ 1.        ,  0.18690961,  0.08312182],\n",
      "             [ 0.18690961,  1.        , -0.20751415],\n",
      "             [ 0.08312182, -0.20751415,  1.        ]])\n"
     ]
    }
   ],
   "source": [
    "# 상관관계 분석을 위해 \"Neighborhood\" 수치형으로 나타내기 \n",
    "indexer = StringIndexer(inputCol=\"Neighborhood\", outputCol=\"Neighborhood_index\")\n",
    "df_indexed = indexer.fit(corr_df).transform(corr_df)\n",
    "df_indexed.show(5)\n",
    "\n",
    "# 3개의 컬럼 하나의 벡터로 결합\n",
    "assembler = VectorAssembler(inputCols=[\"Neighborhood_index\", \"Zipcode\", \"Call_count\"], outputCol=\"features\", handleInvalid=\"skip\")\n",
    "df_assembled = assembler.transform(df_indexed)\n",
    "\n",
    "# Corr()\n",
    "corr = Correlation.corr(df_assembled, \"features\", method=\"pearson\").head()[0]\n",
    "print(corr)"
   ]
  },
  {
   "cell_type": "code",
   "execution_count": 134,
   "id": "2b1e52aa",
   "metadata": {},
   "outputs": [
    {
     "data": {
      "image/png": "[encoded data removed]",
      "text/plain": [
       "<Figure size 500x500 with 2 Axes>"
      ]
     },
     "metadata": {},
     "output_type": "display_data"
    }
   ],
   "source": [
    "# 시각화\n",
    "\n",
    "# Pandas DataFrame으로 변환\n",
    "corr_array = corr.toArray()  # 상관행렬을 numpy 배열로 변환\n",
    "corr_df = pd.DataFrame(corr_array, columns=[\"Neighborhood\", \"Zipcode\", \"Call_count\"], \n",
    "                       index=[\"Neighborhood\", \"Zipcode\", \"Call_count\"])\n",
    "\n",
    "# 히트맵 시각화\n",
    "plt.figure(figsize=(5, 5))\n",
    "sns.heatmap(corr_df, annot=True, cmap=\"coolwarm\", fmt=\".2f\", cbar=True)\n",
    "plt.title(\"Correlation Matrix: Neighborhood, Zipcode, and Call_count\")\n",
    "plt.show()"
   ]
  },
  {
   "cell_type": "code",
   "execution_count": null,
   "id": "bdb576ef",
   "metadata": {},
   "outputs": [],
   "source": [
    "# 이 데이터를 어떻게 파케이 파일이나 SQL 테이블로 저장하고 다시 읽을 수 있는가? "
   ]
  },
  {
   "cell_type": "code",
   "execution_count": 135,
   "id": "792441ed",
   "metadata": {},
   "outputs": [],
   "source": [
    "spark.stop()"
   ]
  }
 ],
 "metadata": {
  "kernelspec": {
   "display_name": "Spark_start",
   "language": "python",
   "name": "spark_start"
  },
  "language_info": {
   "codemirror_mode": {
    "name": "ipython",
    "version": 3
   },
   "file_extension": ".py",
   "mimetype": "text/x-python",
   "name": "python",
   "nbconvert_exporter": "python",
   "pygments_lexer": "ipython3",
   "version": "3.8.20"
  }
 },
 "nbformat": 4,
 "nbformat_minor": 5
}
