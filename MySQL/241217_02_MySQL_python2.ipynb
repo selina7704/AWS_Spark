{
 "cells": [
  {
   "cell_type": "code",
   "execution_count": 1,
   "id": "71bb1097",
   "metadata": {},
   "outputs": [],
   "source": [
    "host_ip = \"13.208.158.13\"\n",
    "user_id = \"spark_user\"\n",
    "user_password = \"1234\""
   ]
  },
  {
   "cell_type": "code",
   "execution_count": 2,
   "id": "a79cd21f",
   "metadata": {},
   "outputs": [],
   "source": [
    "import mysql.connector\n",
    "\n",
    "# MySQL 연결 설정\n",
    "conn = mysql.connector.connect(\n",
    "    host=host_ip,      # 또는 EC2의 IP 주소\n",
    "    user= user_id,     # MySQL 사용자 이름\n",
    "    password= user_password,       # MySQL 사용자 비밀번호\n",
    "    database=\"my_db\"       # 연결할 데이터베이스 이름\n",
    ")"
   ]
  },
  {
   "cell_type": "code",
   "execution_count": 3,
   "id": "992f1aaf",
   "metadata": {},
   "outputs": [],
   "source": [
    "# 커서 생성\n",
    "cursor = conn.cursor()\n",
    "\n",
    "# SQL 쿼리 실행\n",
    "cursor.execute(\"SHOW TABLES;\")"
   ]
  },
  {
   "cell_type": "code",
   "execution_count": 4,
   "id": "295a5469",
   "metadata": {},
   "outputs": [
    {
     "name": "stdout",
     "output_type": "stream",
     "text": [
      "('DEPT',)\n",
      "('EMP',)\n",
      "('salgrade',)\n"
     ]
    }
   ],
   "source": [
    "# 결과 출력\n",
    "for table in cursor.fetchall():\n",
    "    print(table)"
   ]
  },
  {
   "cell_type": "code",
   "execution_count": 5,
   "id": "5df075ae",
   "metadata": {},
   "outputs": [],
   "source": [
    "# 연결 종료\n",
    "cursor.close()\n",
    "conn.close()"
   ]
  }
 ],
 "metadata": {
  "kernelspec": {
   "display_name": "Spark_start",
   "language": "python",
   "name": "spark_start"
  },
  "language_info": {
   "codemirror_mode": {
    "name": "ipython",
    "version": 3
   },
   "file_extension": ".py",
   "mimetype": "text/x-python",
   "name": "python",
   "nbconvert_exporter": "python",
   "pygments_lexer": "ipython3",
   "version": "3.8.20"
  }
 },
 "nbformat": 4,
 "nbformat_minor": 5
}
